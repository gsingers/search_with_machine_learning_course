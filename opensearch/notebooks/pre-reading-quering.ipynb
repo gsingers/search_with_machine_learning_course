{
 "cells": [
  {
   "cell_type": "code",
   "execution_count": 2,
   "metadata": {},
   "outputs": [],
   "source": [
    "import json\n",
    "from opensearchpy import OpenSearch\n",
    "from pprint import pprint\n",
    "\n",
    "host = 'localhost'\n",
    "\n",
    "host = 'localhost'\n",
    "port = 9200\n",
    "base_url = \"https://{}:{}/\".format(host, port)\n",
    "auth = ('admin', 'admin')  # For testing only. Don't store credentials in code.\n",
    "index_name = \"bbuy_products\"\n",
    "client = OpenSearch(\n",
    "    hosts=[{'host': host, 'port': port}],\n",
    "    http_compress=True,  # enables gzip compression for request bodies\n",
    "    http_auth=auth,\n",
    "    # client_cert = client_cert_path,\n",
    "    # client_key = client_key_path,\n",
    "    use_ssl=True,\n",
    "    verify_certs=False,\n",
    "    ssl_assert_hostname=False,\n",
    "    ssl_show_warn=False,\n",
    ")"
   ]
  },
  {
   "cell_type": "code",
   "execution_count": 37,
   "metadata": {},
   "outputs": [],
   "source": []
  },
  {
   "cell_type": "code",
   "execution_count": 3,
   "metadata": {},
   "outputs": [
    {
     "name": "stdout",
     "output_type": "stream",
     "text": [
      "{'searchml_ltr': {'mappings': {'properties': {'body': {'analyzer': 'english',\n",
      "                                                       'type': 'text'},\n",
      "                                              'category': {'ignore_above': 256,\n",
      "                                                           'type': 'keyword'},\n",
      "                                              'id': {'fields': {'keyword': {'ignore_above': 256,\n",
      "                                                                            'type': 'keyword'}},\n",
      "                                                     'type': 'text'},\n",
      "                                              'in_stock': {'type': 'boolean'},\n",
      "                                              'price': {'type': 'float'},\n",
      "                                              'title': {'analyzer': 'english',\n",
      "                                                        'type': 'text'}}}}}\n"
     ]
    }
   ],
   "source": [
    "pprint(client.indices.get_mapping('searchml_ltr'))"
   ]
  },
  {
   "cell_type": "code",
   "execution_count": 16,
   "metadata": {},
   "outputs": [
    {
     "name": "stdout",
     "output_type": "stream",
     "text": [
      "\n",
      "Creating index:\n",
      "{'acknowledged': True, 'shards_acknowledged': True, 'index': 'search_fun_revisited'}\n"
     ]
    }
   ],
   "source": [
    "index_name = 'search_fun_revisited'\n",
    "index_body = {\n",
    "  'settings': {\n",
    "    'index': {\n",
    "      'query':{\n",
    "          'default_field': \"body\"\n",
    "      }\n",
    "    }\n",
    "  }\n",
    "}\n",
    "\n",
    "response = client.indices.create(index_name, body=index_body)\n",
    "print('\\nCreating index:')\n",
    "print(response)"
   ]
  },
  {
   "cell_type": "code",
   "execution_count": 10,
   "metadata": {},
   "outputs": [
    {
     "data": {
      "text/plain": [
       "{'acknowledged': True, 'shards_acknowledged': True, 'index': 'search_fun_revisited_custom_mappings'}"
      ]
     },
     "execution_count": 10,
     "metadata": {},
     "output_type": "execute_result"
    }
   ],
   "source": [
    "index_name = 'search_fun_revisited_custom_mappings'\n",
    "index_body = {\n",
    "    'settings': {\n",
    "        'index': {\n",
    "            'query': {\n",
    "                'default_field': \"body\"\n",
    "            }\n",
    "        }\n",
    "    },\n",
    "    \"mappings\": {\n",
    "        \"properties\": {\n",
    "            \"title\": {\"type\": \"text\", \"analyzer\": \"english\"},\n",
    "            \"body\": {\"type\": \"text\", \"analyzer\": \"english\"},\n",
    "            \"in_stock\": {\"type\": \"boolean\"},\n",
    "            \"category\": {\"type\": \"keyword\", \"ignore_above\": \"256\"},\n",
    "            \"price\": {\"type\": \"float\"}\n",
    "        }\n",
    "    }\n",
    "}\n",
    "\n",
    "client.indices.delete(index_name, ignore_unavailable=True)\n",
    "client.indices.create(index_name, body=index_body)\n"
   ]
  },
  {
   "cell_type": "code",
   "execution_count": 17,
   "metadata": {},
   "outputs": [
    {
     "name": "stdout",
     "output_type": "stream",
     "text": [
      "Indexing doc_a\n",
      "\n",
      "\tResponse:\n",
      "{'_index': 'search_fun_revisited_custom_mappings', '_type': '_doc', '_id': 'doc_a', '_version': 2, 'result': 'updated', 'forced_refresh': True, '_shards': {'total': 2, 'successful': 1, 'failed': 0}, '_seq_no': 8, '_primary_term': 1}\n",
      "Indexing doc_b\n",
      "\n",
      "\tResponse:\n",
      "{'_index': 'search_fun_revisited_custom_mappings', '_type': '_doc', '_id': 'doc_b', '_version': 2, 'result': 'updated', 'forced_refresh': True, '_shards': {'total': 2, 'successful': 1, 'failed': 0}, '_seq_no': 9, '_primary_term': 1}\n",
      "Indexing doc_c\n",
      "\n",
      "\tResponse:\n",
      "{'_index': 'search_fun_revisited_custom_mappings', '_type': '_doc', '_id': 'doc_c', '_version': 2, 'result': 'updated', 'forced_refresh': True, '_shards': {'total': 2, 'successful': 1, 'failed': 0}, '_seq_no': 10, '_primary_term': 1}\n",
      "Indexing doc_d\n",
      "\n",
      "\tResponse:\n",
      "{'_index': 'search_fun_revisited_custom_mappings', '_type': '_doc', '_id': 'doc_d', '_version': 2, 'result': 'updated', 'forced_refresh': True, '_shards': {'total': 2, 'successful': 1, 'failed': 0}, '_seq_no': 11, '_primary_term': 1}\n",
      "Indexing doc_e\n",
      "\n",
      "\tResponse:\n",
      "{'_index': 'search_fun_revisited_custom_mappings', '_type': '_doc', '_id': 'doc_e', '_version': 2, 'result': 'updated', 'forced_refresh': True, '_shards': {'total': 2, 'successful': 1, 'failed': 0}, '_seq_no': 12, '_primary_term': 1}\n",
      "Indexing doc_f\n",
      "\n",
      "\tResponse:\n",
      "{'_index': 'search_fun_revisited_custom_mappings', '_type': '_doc', '_id': 'doc_f', '_version': 2, 'result': 'updated', 'forced_refresh': True, '_shards': {'total': 2, 'successful': 1, 'failed': 0}, '_seq_no': 13, '_primary_term': 1}\n",
      "Indexing doc_g\n",
      "\n",
      "\tResponse:\n",
      "{'_index': 'search_fun_revisited_custom_mappings', '_type': '_doc', '_id': 'doc_g', '_version': 2, 'result': 'updated', 'forced_refresh': True, '_shards': {'total': 2, 'successful': 1, 'failed': 0}, '_seq_no': 14, '_primary_term': 1}\n",
      "Indexing doc_h\n",
      "\n",
      "\tResponse:\n",
      "{'_index': 'search_fun_revisited_custom_mappings', '_type': '_doc', '_id': 'doc_h', '_version': 2, 'result': 'updated', 'forced_refresh': True, '_shards': {'total': 2, 'successful': 1, 'failed': 0}, '_seq_no': 15, '_primary_term': 1}\n",
      "Indexing doc_a\n",
      "\n",
      "\tResponse:\n",
      "{'_index': 'search_fun_revisited', '_type': '_doc', '_id': 'doc_a', '_version': 1, 'result': 'created', 'forced_refresh': True, '_shards': {'total': 2, 'successful': 1, 'failed': 0}, '_seq_no': 0, '_primary_term': 1}\n",
      "Indexing doc_b\n",
      "\n",
      "\tResponse:\n",
      "{'_index': 'search_fun_revisited', '_type': '_doc', '_id': 'doc_b', '_version': 1, 'result': 'created', 'forced_refresh': True, '_shards': {'total': 2, 'successful': 1, 'failed': 0}, '_seq_no': 1, '_primary_term': 1}\n",
      "Indexing doc_c\n",
      "\n",
      "\tResponse:\n",
      "{'_index': 'search_fun_revisited', '_type': '_doc', '_id': 'doc_c', '_version': 1, 'result': 'created', 'forced_refresh': True, '_shards': {'total': 2, 'successful': 1, 'failed': 0}, '_seq_no': 2, '_primary_term': 1}\n",
      "Indexing doc_d\n",
      "\n",
      "\tResponse:\n",
      "{'_index': 'search_fun_revisited', '_type': '_doc', '_id': 'doc_d', '_version': 1, 'result': 'created', 'forced_refresh': True, '_shards': {'total': 2, 'successful': 1, 'failed': 0}, '_seq_no': 3, '_primary_term': 1}\n",
      "Indexing doc_e\n",
      "\n",
      "\tResponse:\n",
      "{'_index': 'search_fun_revisited', '_type': '_doc', '_id': 'doc_e', '_version': 1, 'result': 'created', 'forced_refresh': True, '_shards': {'total': 2, 'successful': 1, 'failed': 0}, '_seq_no': 4, '_primary_term': 1}\n",
      "Indexing doc_f\n",
      "\n",
      "\tResponse:\n",
      "{'_index': 'search_fun_revisited', '_type': '_doc', '_id': 'doc_f', '_version': 1, 'result': 'created', 'forced_refresh': True, '_shards': {'total': 2, 'successful': 1, 'failed': 0}, '_seq_no': 5, '_primary_term': 1}\n",
      "Indexing doc_g\n",
      "\n",
      "\tResponse:\n",
      "{'_index': 'search_fun_revisited', '_type': '_doc', '_id': 'doc_g', '_version': 1, 'result': 'created', 'forced_refresh': True, '_shards': {'total': 2, 'successful': 1, 'failed': 0}, '_seq_no': 6, '_primary_term': 1}\n",
      "Indexing doc_h\n",
      "\n",
      "\tResponse:\n",
      "{'_index': 'search_fun_revisited', '_type': '_doc', '_id': 'doc_h', '_version': 1, 'result': 'created', 'forced_refresh': True, '_shards': {'total': 2, 'successful': 1, 'failed': 0}, '_seq_no': 7, '_primary_term': 1}\n"
     ]
    }
   ],
   "source": [
    "\n",
    "\n",
    "docs = [\n",
    "    {\n",
    "        \"id\": \"doc_a\",\n",
    "        \"title\": \"Fox and Hounds\",\n",
    "        \"body\": \"The quick red fox jumped over the lazy brown dogs.\",\n",
    "        \"price\": \"5.99\",\n",
    "        \"in_stock\": True,\n",
    "        \"category\": \"childrens\"},\n",
    "    {\n",
    "        \"id\": \"doc_b\",\n",
    "        \"title\": \"Fox wins championship\",\n",
    "        \"body\": \"Wearing all red, the Fox jumped out to a lead in the race over the Dog.\",\n",
    "        \"price\": \"15.13\",\n",
    "        \"in_stock\": True,\n",
    "        \"category\": \"sports\"},\n",
    "    {\n",
    "        \"id\": \"doc_c\",\n",
    "        \"title\": \"Lead Paint Removal\",\n",
    "        \"body\": \"All lead must be removed from the brown and red paint.\",\n",
    "        \"price\": \"150.21\",\n",
    "        \"in_stock\": False,\n",
    "        \"category\": \"instructional\"},\n",
    "    {\n",
    "        \"id\": \"doc_d\",\n",
    "        \"title\": \"The Three Little Pigs Revisited\",\n",
    "        \"price\": \"3.51\",\n",
    "        \"in_stock\": True,\n",
    "        \"body\": \"The big, bad wolf huffed and puffed and blew the house down. The end.\",\n",
    "        \"category\": \"childrens\"},\n",
    "    {\n",
    "        \"id\": \"doc_e\",\n",
    "        \"title\": \"Pigs in a Blanket and Other Recipes\",\n",
    "        \"price\": \"27.50\",\n",
    "        \"in_stock\": True,\n",
    "        \"body\": \"Pigs in a blanket aren't as cute as you would think given it's a food and not actual pigs wrapped in blankets.\",\n",
    "        \"category\": \"instructional\"},\n",
    "    {\n",
    "        \"id\": \"doc_f\",\n",
    "        \"title\": \"Dogs are the best\",\n",
    "        \"body\": \"Dogs beat cats every day of the week and twice on Sunday. A dog is always up for doing something.  Since there are so many dog breeds, there is a dog for everyone!\",\n",
    "        \"price\": \"50.99\",\n",
    "        \"in_stock\": True,\n",
    "        \"category\": \"childrens\"},\n",
    "    {\n",
    "        \"id\": \"doc_g\",\n",
    "        \"title\": \"Dog\",\n",
    "        \"body\": \"Dogs rule\",\n",
    "        \"price\": \"5.99\",\n",
    "        \"in_stock\": True,\n",
    "        \"category\": \"childrens\"},\n",
    "    {\n",
    "        \"id\": \"doc_h\",\n",
    "        \"title\": \"Dog: The bounty hunter: living in the red\",\n",
    "        \"body\": \"Dog is a bounty hunter who goes on pretend missions with his friends, one of whom is the Fox\",\n",
    "        \"price\": \"125.99\",\n",
    "        \"in_stock\": True,\n",
    "        \"category\": \"sports\"},\n",
    "]\n",
    "for doc in docs:\n",
    "    doc_id = doc[\"id\"]\n",
    "    print(\"Indexing {}\".format(doc_id))\n",
    "    response = client.index(\n",
    "        index='search_fun_revisited_custom_mappings',\n",
    "        body=doc,\n",
    "        id=doc_id,\n",
    "        refresh=True\n",
    "    )\n",
    "    print('\\n\\tResponse:')\n",
    "    print(response)\n",
    "    \n",
    "for doc in docs:\n",
    "    doc_id = doc[\"id\"]\n",
    "    print(\"Indexing {}\".format(doc_id))\n",
    "    response = client.index(\n",
    "        index='search_fun_revisited',\n",
    "        body=doc,\n",
    "        id=doc_id,\n",
    "        refresh=True\n",
    "    )\n",
    "    print('\\n\\tResponse:')\n",
    "    print(response)"
   ]
  },
  {
   "cell_type": "code",
   "execution_count": 20,
   "metadata": {},
   "outputs": [
    {
     "name": "stdout",
     "output_type": "stream",
     "text": [
      "{'_shards': {'failed': 0, 'skipped': 0, 'successful': 1, 'total': 1},\n",
      " 'hits': {'hits': [{'_id': 'doc_g',\n",
      "                    '_index': 'search_fun_revisited',\n",
      "                    '_score': 1.4700978,\n",
      "                    '_source': {'body': 'Dogs rule',\n",
      "                                'category': 'childrens',\n",
      "                                'id': 'doc_g',\n",
      "                                'in_stock': True,\n",
      "                                'price': '5.99',\n",
      "                                'title': 'Dog'},\n",
      "                    '_type': '_doc'},\n",
      "                   {'_id': 'doc_a',\n",
      "                    '_index': 'search_fun_revisited',\n",
      "                    '_score': 1.1129589,\n",
      "                    '_source': {'body': 'The quick red fox jumped over the '\n",
      "                                        'lazy brown dogs.',\n",
      "                                'category': 'childrens',\n",
      "                                'id': 'doc_a',\n",
      "                                'in_stock': True,\n",
      "                                'price': '5.99',\n",
      "                                'title': 'Fox and Hounds'},\n",
      "                    '_type': '_doc'},\n",
      "                   {'_id': 'doc_f',\n",
      "                    '_index': 'search_fun_revisited',\n",
      "                    '_score': 0.65528333,\n",
      "                    '_source': {'body': 'Dogs beat cats every day of the week '\n",
      "                                        'and twice on Sunday. A dog is always '\n",
      "                                        'up for doing something.  Since there '\n",
      "                                        'are so many dog breeds, there is a '\n",
      "                                        'dog for everyone!',\n",
      "                                'category': 'childrens',\n",
      "                                'id': 'doc_f',\n",
      "                                'in_stock': True,\n",
      "                                'price': '50.99',\n",
      "                                'title': 'Dogs are the best'},\n",
      "                    '_type': '_doc'}],\n",
      "          'max_score': 1.4700978,\n",
      "          'total': {'relation': 'eq', 'value': 3}},\n",
      " 'timed_out': False,\n",
      " 'took': 5}\n"
     ]
    }
   ],
   "source": [
    "#QUERING\n",
    "\n",
    "q = 'dogs'\n",
    "\n",
    "query = {\n",
    "  'size': 5,\n",
    "  'query': {\n",
    "    'multi_match': {\n",
    "      'query': q\n",
    "    }\n",
    "  }\n",
    "}\n",
    "\n",
    "pprint(client.search(\n",
    "    body = query,\n",
    "    index = 'search_fun_revisited'\n",
    "))\n",
    "\n"
   ]
  },
  {
   "cell_type": "code",
   "execution_count": 21,
   "metadata": {},
   "outputs": [
    {
     "name": "stdout",
     "output_type": "stream",
     "text": [
      "{'_shards': {'failed': 0, 'skipped': 0, 'successful': 1, 'total': 1},\n",
      " 'hits': {'hits': [{'_id': 'doc_g',\n",
      "                    '_index': 'search_fun_revisited_custom_mappings',\n",
      "                    '_score': 0.7342377,\n",
      "                    '_source': {'body': 'Dogs rule',\n",
      "                                'category': 'childrens',\n",
      "                                'id': 'doc_g',\n",
      "                                'in_stock': True,\n",
      "                                'price': '5.99',\n",
      "                                'title': 'Dog'},\n",
      "                    '_type': '_doc'},\n",
      "                   {'_id': 'doc_f',\n",
      "                    '_index': 'search_fun_revisited_custom_mappings',\n",
      "                    '_score': 0.7156082,\n",
      "                    '_source': {'body': 'Dogs beat cats every day of the week '\n",
      "                                        'and twice on Sunday. A dog is always '\n",
      "                                        'up for doing something.  Since there '\n",
      "                                        'are so many dog breeds, there is a '\n",
      "                                        'dog for everyone!',\n",
      "                                'category': 'childrens',\n",
      "                                'id': 'doc_f',\n",
      "                                'in_stock': True,\n",
      "                                'price': '50.99',\n",
      "                                'title': 'Dogs are the best'},\n",
      "                    '_type': '_doc'},\n",
      "                   {'_id': 'doc_a',\n",
      "                    '_index': 'search_fun_revisited_custom_mappings',\n",
      "                    '_score': 0.5410643,\n",
      "                    '_source': {'body': 'The quick red fox jumped over the '\n",
      "                                        'lazy brown dogs.',\n",
      "                                'category': 'childrens',\n",
      "                                'id': 'doc_a',\n",
      "                                'in_stock': True,\n",
      "                                'price': '5.99',\n",
      "                                'title': 'Fox and Hounds'},\n",
      "                    '_type': '_doc'},\n",
      "                   {'_id': 'doc_b',\n",
      "                    '_index': 'search_fun_revisited_custom_mappings',\n",
      "                    '_score': 0.49743986,\n",
      "                    '_source': {'body': 'Wearing all red, the Fox jumped out '\n",
      "                                        'to a lead in the race over the Dog.',\n",
      "                                'category': 'sports',\n",
      "                                'id': 'doc_b',\n",
      "                                'in_stock': True,\n",
      "                                'price': '15.13',\n",
      "                                'title': 'Fox wins championship'},\n",
      "                    '_type': '_doc'},\n",
      "                   {'_id': 'doc_h',\n",
      "                    '_index': 'search_fun_revisited_custom_mappings',\n",
      "                    '_score': 0.46032518,\n",
      "                    '_source': {'body': 'Dog is a bounty hunter who goes on '\n",
      "                                        'pretend missions with his friends, '\n",
      "                                        'one of whom is the Fox',\n",
      "                                'category': 'sports',\n",
      "                                'id': 'doc_h',\n",
      "                                'in_stock': True,\n",
      "                                'price': '125.99',\n",
      "                                'title': 'Dog: The bounty hunter: living in '\n",
      "                                         'the red'},\n",
      "                    '_type': '_doc'}],\n",
      "          'max_score': 0.7342377,\n",
      "          'total': {'relation': 'eq', 'value': 5}},\n",
      " 'timed_out': False,\n",
      " 'took': 6}\n"
     ]
    }
   ],
   "source": [
    "pprint(client.search(\n",
    "    body = query,\n",
    "    index = 'search_fun_revisited_custom_mappings'\n",
    "))"
   ]
  },
  {
   "cell_type": "code",
   "execution_count": 22,
   "metadata": {},
   "outputs": [
    {
     "data": {
      "text/plain": [
       "{'took': 8, 'timed_out': False, '_shards': {'total': 1, 'successful': 1, 'skipped': 0, 'failed': 0}, 'hits': {'total': {'value': 5, 'relation': 'eq'}, 'max_score': 2.5972693, 'hits': [{'_index': 'search_fun_revisited_custom_mappings', '_type': '_doc', '_id': 'doc_g', '_score': 2.5972693, '_source': {'id': 'doc_g', 'title': 'Dog', 'body': 'Dogs rule', 'price': '5.99', 'in_stock': True, 'category': 'childrens'}}, {'_index': 'search_fun_revisited_custom_mappings', '_type': '_doc', '_id': 'doc_f', '_score': 2.1871743, '_source': {'id': 'doc_f', 'title': 'Dogs are the best', 'body': 'Dogs beat cats every day of the week and twice on Sunday. A dog is always up for doing something.  Since there are so many dog breeds, there is a dog for everyone!', 'price': '50.99', 'in_stock': True, 'category': 'childrens'}}, {'_index': 'search_fun_revisited_custom_mappings', '_type': '_doc', '_id': 'doc_h', '_score': 1.484154, '_source': {'id': 'doc_h', 'title': 'Dog: The bounty hunter: living in the red', 'body': 'Dog is a bounty hunter who goes on pretend missions with his friends, one of whom is the Fox', 'price': '125.99', 'in_stock': True, 'category': 'sports'}}, {'_index': 'search_fun_revisited_custom_mappings', '_type': '_doc', '_id': 'doc_a', '_score': 0.5410643, '_source': {'id': 'doc_a', 'title': 'Fox and Hounds', 'body': 'The quick red fox jumped over the lazy brown dogs.', 'price': '5.99', 'in_stock': True, 'category': 'childrens'}}, {'_index': 'search_fun_revisited_custom_mappings', '_type': '_doc', '_id': 'doc_b', '_score': 0.49743986, '_source': {'id': 'doc_b', 'title': 'Fox wins championship', 'body': 'Wearing all red, the Fox jumped out to a lead in the race over the Dog.', 'price': '15.13', 'in_stock': True, 'category': 'sports'}}]}}"
      ]
     },
     "execution_count": 22,
     "metadata": {},
     "output_type": "execute_result"
    }
   ],
   "source": [
    "q = 'dogs'\n",
    "index_name = 'search_fun_revisited_custom_mappings'\n",
    "query = {\n",
    "  'size': 5,\n",
    "  'query': {\n",
    "    'multi_match': {\n",
    "      'query': q,\n",
    "      'fields': ['title^2', 'body']\n",
    "    }\n",
    "  }\n",
    "}\n",
    "\n",
    "client.search(\n",
    "    body = query,\n",
    "    index = index_names\n",
    ")\n",
    "\n",
    "#The field “title” is twice as important for matching in this query compared to body, thanks to the “^2” factor in the “fields” attribute. "
   ]
  },
  {
   "cell_type": "code",
   "execution_count": 23,
   "metadata": {},
   "outputs": [
    {
     "data": {
      "text/plain": [
       "{'took': 15, 'timed_out': False, '_shards': {'total': 1, 'successful': 1, 'skipped': 0, 'failed': 0}, 'hits': {'total': {'value': 0, 'relation': 'eq'}, 'max_score': None, 'hits': []}}"
      ]
     },
     "execution_count": 23,
     "metadata": {},
     "output_type": "execute_result"
    }
   ],
   "source": [
    "q = 'fox dog'\n",
    "query = {\n",
    "  'size': 5,\n",
    "  'query': {\n",
    "    'match_phrase': {\n",
    "      'body': {\"query\": q}\n",
    "    }\n",
    "  }\n",
    "}\n",
    "\n",
    "client.search(\n",
    "    body = query,\n",
    "    index = index_name\n",
    ")"
   ]
  },
  {
   "cell_type": "markdown",
   "metadata": {},
   "source": [
    "Notice that we didn’t return any results! This is due to phrase queries requiring that the tokens fox and dog occur next to each other. (👀 Recall our earlier discussion about capturing positional information? That’s how OpenSearch and Lucene know how to match phrase queries.) There are a number of approaches we can take to solving matching multiple terms in a query. For starters, we can use a boolean query (or one of it’s more advanced variants like “dis_max”) and simply look for documents that have both terms (equivalent to ANDing or ORing the two terms together) or we can execute what is called a “sloppy” phrase query:   \n",
    "\n",
    "This query says “find all documents where the terms “fox” and “dog” occur within 10 positions of each other.” Running this yields:"
   ]
  },
  {
   "cell_type": "code",
   "execution_count": 25,
   "metadata": {},
   "outputs": [
    {
     "data": {
      "text/plain": [
       "{'took': 8, 'timed_out': False, '_shards': {'total': 1, 'successful': 1, 'skipped': 0, 'failed': 0}, 'hits': {'total': {'value': 2, 'relation': 'eq'}, 'max_score': 0.45066714, 'hits': [{'_index': 'search_fun_revisited_custom_mappings', '_type': '_doc', '_id': 'doc_a', '_score': 0.45066714, '_source': {'id': 'doc_a', 'title': 'Fox and Hounds', 'body': 'The quick red fox jumped over the lazy brown dogs.', 'price': '5.99', 'in_stock': True, 'category': 'childrens'}}, {'_index': 'search_fun_revisited_custom_mappings', '_type': '_doc', '_id': 'doc_b', '_score': 0.22647524, '_source': {'id': 'doc_b', 'title': 'Fox wins championship', 'body': 'Wearing all red, the Fox jumped out to a lead in the race over the Dog.', 'price': '15.13', 'in_stock': True, 'category': 'sports'}}]}}"
      ]
     },
     "execution_count": 25,
     "metadata": {},
     "output_type": "execute_result"
    }
   ],
   "source": [
    "#try a phrase query with slop\n",
    "q = 'fox dog'\n",
    "query = {\n",
    "  'size': 5,\n",
    "  'query': {\n",
    "    'match_phrase': {\n",
    "      'body': {\"query\": q, \"slop\":10}\n",
    "    }\n",
    "  }\n",
    "}\n",
    "\n",
    "client.search(\n",
    "    body = query,\n",
    "    index = index_name\n",
    ")"
   ]
  },
  {
   "cell_type": "markdown",
   "metadata": {},
   "source": [
    "This type of phrase query is more expensive than a boolean AND, but it does have the benefit that the closer the terms in the phrase are to each other, the higher they will score."
   ]
  },
  {
   "cell_type": "markdown",
   "metadata": {},
   "source": [
    "Let’s do two more types of queries and then move on: filtering queries and function queries. Filter queries are non-scoring queries that reduce the result set by simply determining what documents match the filter query, and function queries use the values within a field as a scoring feature. Filter queries can be used to implement features like faceting or “search within a search”. Function queries allow us to do things like boost documents based on some external value like price, inventory or popularity. Let’s combine these two ideas into a single bigger query by finding all documents in our example set where the category is “childrens” and we boost by the price:"
   ]
  },
  {
   "cell_type": "code",
   "execution_count": 35,
   "metadata": {},
   "outputs": [
    {
     "data": {
      "text/plain": [
       "{'took': 3, 'timed_out': False, '_shards': {'total': 1, 'successful': 1, 'skipped': 0, 'failed': 0}, 'hits': {'total': {'value': 4, 'relation': 'eq'}, 'max_score': 50.99, 'hits': [{'_index': 'search_fun_revisited_custom_mappings', '_type': '_doc', '_id': 'doc_f', '_score': 50.99, '_source': {'id': 'doc_f', 'title': 'Dogs are the best', 'body': 'Dogs beat cats every day of the week and twice on Sunday. A dog is always up for doing something.  Since there are so many dog breeds, there is a dog for everyone!', 'price': '50.99', 'in_stock': True, 'category': 'childrens'}}, {'_index': 'search_fun_revisited_custom_mappings', '_type': '_doc', '_id': 'doc_a', '_score': 5.99, '_source': {'id': 'doc_a', 'title': 'Fox and Hounds', 'body': 'The quick red fox jumped over the lazy brown dogs.', 'price': '5.99', 'in_stock': True, 'category': 'childrens'}}, {'_index': 'search_fun_revisited_custom_mappings', '_type': '_doc', '_id': 'doc_g', '_score': 5.99, '_source': {'id': 'doc_g', 'title': 'Dog', 'body': 'Dogs rule', 'price': '5.99', 'in_stock': True, 'category': 'childrens'}}, {'_index': 'search_fun_revisited_custom_mappings', '_type': '_doc', '_id': 'doc_d', '_score': 3.51, '_source': {'id': 'doc_d', 'title': 'The Three Little Pigs Revisited', 'price': '3.51', 'in_stock': True, 'body': 'The big, bad wolf huffed and puffed and blew the house down. The end.', 'category': 'childrens'}}]}}"
      ]
     },
     "execution_count": 35,
     "metadata": {},
     "output_type": "execute_result"
    }
   ],
   "source": [
    "# try a match all query with a filter and a price factor\n",
    "query = {\n",
    "    'size': 5,\n",
    "    'query': {\n",
    "        \"function_score\": {\n",
    "            \"query\": {\n",
    "                \"bool\": {\n",
    "                    \"must\": [\n",
    "                        {\"match_all\": {}}\n",
    "                    ],\n",
    "                    \"filter\": [\n",
    "                        {\"term\": {\"category\": \"childrens\"}},\n",
    "                        {\"term\": {\"in_stock\":True}}\n",
    "                    ]\n",
    "                }\n",
    "            },\n",
    "            \"field_value_factor\": {\n",
    "                \"field\": \"price\",\n",
    "                \"missing\": 1\n",
    "            }\n",
    "        }\n",
    "    }\n",
    "}\n",
    "\n",
    "client.search(\n",
    "    body=query,\n",
    "    index=index_name\n",
    ")"
   ]
  },
  {
   "cell_type": "markdown",
   "metadata": {},
   "source": [
    "Notice in these results that the score is equivalent to the price! That’s because we issued a query where the only scoring factor was the function value score. Both the “match_all” and the filter query you see in the example here are what are called non-scoring queries. This is a very common pattern in search applications and often has very positive performance implications. Can you think of some use cases in your own application where it might come in handy? 🤔\n",
    "\n",
    "👀 Aside: If you only need a field for ranking, you might consider using the Rank Feature field and query for improved performance.\n",
    "\n",
    "Before we leave querying, take time to familiarize yourself with the many different query types you can issue to OpenSearch via the documentation. Also note one really important aspect of the Elastic query DSL: queries are composable in many places! That is, you can often build a more sophisticated query by adding and grouping different types of queries via things like the “bool” query. You can also mix and match many of the other query types like geo, shapes, spans, and terms!\n",
    "\n"
   ]
  },
  {
   "cell_type": "markdown",
   "metadata": {},
   "source": [
    "### Agregations"
   ]
  },
  {
   "cell_type": "markdown",
   "metadata": {},
   "source": [
    "Last, but not least, on our tour of OpenSearch is how to use aggregations. Let’s dive in by looking at a few types of aggregations (Elastic’s docs are, as usual, more complete) using our Python client.\n",
    "\n",
    "To start, let’s do some basic bucketing/counting of fields and their terms:"
   ]
  },
  {
   "cell_type": "code",
   "execution_count": 41,
   "metadata": {},
   "outputs": [
    {
     "name": "stdout",
     "output_type": "stream",
     "text": [
      "\n",
      "Search results:\n",
      "{\n",
      "    \"took\": 1,\n",
      "    \"timed_out\": false,\n",
      "    \"_shards\": {\n",
      "        \"total\": 1,\n",
      "        \"successful\": 1,\n",
      "        \"skipped\": 0,\n",
      "        \"failed\": 0\n",
      "    },\n",
      "    \"hits\": {\n",
      "        \"total\": {\n",
      "            \"value\": 8,\n",
      "            \"relation\": \"eq\"\n",
      "        },\n",
      "        \"max_score\": 1.0,\n",
      "        \"hits\": [\n",
      "            {\n",
      "                \"_index\": \"search_fun_revisited_custom_mappings\",\n",
      "                \"_type\": \"_doc\",\n",
      "                \"_id\": \"doc_a\",\n",
      "                \"_score\": 1.0,\n",
      "                \"_source\": {\n",
      "                    \"id\": \"doc_a\",\n",
      "                    \"title\": \"Fox and Hounds\",\n",
      "                    \"body\": \"The quick red fox jumped over the lazy brown dogs.\",\n",
      "                    \"price\": \"5.99\",\n",
      "                    \"in_stock\": true,\n",
      "                    \"category\": \"childrens\"\n",
      "                }\n",
      "            }\n",
      "        ]\n",
      "    }\n",
      "}\n"
     ]
    }
   ],
   "source": [
    "query = {\n",
    "    'size': 0,\n",
    "    'query': {\n",
    "        \"match_all\": {}\n",
    "    }\n",
    "}\n",
    "\n",
    "query = {\n",
    "    'size': 0,  # esto es para que no traiga ningun documento en la salida\n",
    "    'query': {\n",
    "        \"match_all\": {} #esto es para que agrupe sobre todos los docs\n",
    "    },\n",
    "    'aggs': {\n",
    "        \"category\": {\n",
    "            \"terms\": {\n",
    "                \"field\": \"category\",\n",
    "                \"size\": 10,\n",
    "                \"missing\": \"N/A\",\n",
    "                \"min_doc_count\": 0\n",
    "            }\n",
    "        }\n",
    "    }\n",
    "}\n",
    "\n",
    "\n",
    "response = client.search(\n",
    "    body=query,\n",
    "    index=index_name\n",
    ")\n",
    "print('\\nSearch results:')\n",
    "print(json.dumps(response, indent=4))\n"
   ]
  },
  {
   "cell_type": "markdown",
   "metadata": {},
   "source": [
    "In this example, you see a few things in action:\n",
    "\n",
    "We are executing a simple match_all query which means our aggregations will be calculated over all documents. We told OpenSearch not to return any hits (size=0). These two things together are a common pattern in aggregation-driven applications like dashboards.\n",
    "\n",
    "The “terms'' aggregation creates a bucket for each unique term in this field. In our case, there are only 3 unique terms, so this is an inexpensive calculation. Higher cardinality fields (e.g. an “author” field for an index of all books in the world”) will be more expensive to aggregate on.\n",
    "\n",
    "Even though we aren’t returning any hits, the query is still executed to generate a result set against which to calculate aggregations.\n",
    "\n",
    "We specified “missing” so we could find out how many documents don’t have a value set for this field. This is a great way to check data quality – specifically field coverage – on your content. In our examples, all documents have a category field filled in."
   ]
  },
  {
   "cell_type": "markdown",
   "metadata": {},
   "source": [
    "Terms aggregations are one of the main workhorses of many search websites, but there are many other types of aggregations that can be done. Take a moment to familiarize yourself with them via the Elastic documentation. Let’s finish our look at aggregations by working through how we might aggregate the “price” field.\n",
    "\n"
   ]
  },
  {
   "cell_type": "code",
   "execution_count": 42,
   "metadata": {},
   "outputs": [
    {
     "name": "stdout",
     "output_type": "stream",
     "text": [
      "\n",
      "Search results:\n",
      "{\n",
      "    \"took\": 10,\n",
      "    \"timed_out\": false,\n",
      "    \"_shards\": {\n",
      "        \"total\": 1,\n",
      "        \"successful\": 1,\n",
      "        \"skipped\": 0,\n",
      "        \"failed\": 0\n",
      "    },\n",
      "    \"hits\": {\n",
      "        \"total\": {\n",
      "            \"value\": 8,\n",
      "            \"relation\": \"eq\"\n",
      "        },\n",
      "        \"max_score\": null,\n",
      "        \"hits\": []\n",
      "    },\n",
      "    \"aggregations\": {\n",
      "        \"price\": {\n",
      "            \"doc_count_error_upper_bound\": 0,\n",
      "            \"sum_other_doc_count\": 0,\n",
      "            \"buckets\": [\n",
      "                {\n",
      "                    \"key\": 5.989999771118164,\n",
      "                    \"doc_count\": 2\n",
      "                },\n",
      "                {\n",
      "                    \"key\": 3.509999990463257,\n",
      "                    \"doc_count\": 1\n",
      "                },\n",
      "                {\n",
      "                    \"key\": 15.130000114440918,\n",
      "                    \"doc_count\": 1\n",
      "                },\n",
      "                {\n",
      "                    \"key\": 27.5,\n",
      "                    \"doc_count\": 1\n",
      "                },\n",
      "                {\n",
      "                    \"key\": 50.9900016784668,\n",
      "                    \"doc_count\": 1\n",
      "                },\n",
      "                {\n",
      "                    \"key\": 125.98999786376953,\n",
      "                    \"doc_count\": 1\n",
      "                },\n",
      "                {\n",
      "                    \"key\": 150.2100067138672,\n",
      "                    \"doc_count\": 1\n",
      "                }\n",
      "            ]\n",
      "        }\n",
      "    }\n",
      "}\n"
     ]
    }
   ],
   "source": [
    "query = {\n",
    "    'size': 0,\n",
    "    'query': {\n",
    "        \"match_all\": {}\n",
    "    },\n",
    "    'aggs': {\n",
    "        \"price\": {\n",
    "            \"terms\": {\n",
    "                \"field\": \"price\",\n",
    "                \"size\": 10,\n",
    "                \"min_doc_count\": 0\n",
    "            }\n",
    "        }\n",
    "    }\n",
    "}\n",
    "\n",
    "response = client.search(\n",
    "    body=query,\n",
    "    index=index_name\n",
    ")\n",
    "print('\\nSearch results:')\n",
    "print(json.dumps(response, indent=4))"
   ]
  },
  {
   "cell_type": "code",
   "execution_count": 43,
   "metadata": {},
   "outputs": [
    {
     "name": "stdout",
     "output_type": "stream",
     "text": [
      "\n",
      "Search results:\n",
      "{\n",
      "    \"took\": 6,\n",
      "    \"timed_out\": false,\n",
      "    \"_shards\": {\n",
      "        \"total\": 1,\n",
      "        \"successful\": 1,\n",
      "        \"skipped\": 0,\n",
      "        \"failed\": 0\n",
      "    },\n",
      "    \"hits\": {\n",
      "        \"total\": {\n",
      "            \"value\": 8,\n",
      "            \"relation\": \"eq\"\n",
      "        },\n",
      "        \"max_score\": null,\n",
      "        \"hits\": []\n",
      "    },\n",
      "    \"aggregations\": {\n",
      "        \"price\": {\n",
      "            \"buckets\": [\n",
      "                {\n",
      "                    \"key\": \"*-5.0\",\n",
      "                    \"to\": 5.0,\n",
      "                    \"doc_count\": 1\n",
      "                },\n",
      "                {\n",
      "                    \"key\": \"5.0-20.0\",\n",
      "                    \"from\": 5.0,\n",
      "                    \"to\": 20.0,\n",
      "                    \"doc_count\": 3\n",
      "                },\n",
      "                {\n",
      "                    \"key\": \"20.0-*\",\n",
      "                    \"from\": 20.0,\n",
      "                    \"doc_count\": 4\n",
      "                }\n",
      "            ]\n",
      "        }\n",
      "    }\n",
      "}\n"
     ]
    }
   ],
   "source": [
    "query = {\n",
    "    'size': 0,\n",
    "    'query': {\n",
    "        \"match_all\": {}\n",
    "    },\n",
    "    'aggs': {\n",
    "        \"price\": {\n",
    "            \"range\": {\n",
    "                \"field\": \"price\",\n",
    "                \"ranges\": [\n",
    "                    {\n",
    "                        \"to\": 5\n",
    "                    },\n",
    "                    {\n",
    "                        \"from\": 5,\n",
    "                        \"to\": 20\n",
    "                    },\n",
    "                    {\n",
    "                        \"from\": 20,\n",
    "                    }\n",
    "                ]\n",
    "            }\n",
    "        }\n",
    "    }\n",
    "}\n",
    "\n",
    "response = client.search(\n",
    "body = query,\n",
    "index = index_name\n",
    ")\n",
    "print('\\nSearch results:')\n",
    "print(json.dumps(response, indent=4))"
   ]
  },
  {
   "cell_type": "markdown",
   "metadata": {},
   "source": [
    "While we picked arbitrary sized ranges so that we could show different counts in the buckets, you can imagine this type of structure is more useful to users since it groups common price points together. (How might you implement a common ecommerce facet of “$”, “$$”, “$$$” and “$$$$” using ranges?) Notice, also, that for the lower range (less than 5) and the upper range (greater than 20), we left off, respectively, the “from” and the “to” attributes so as to include all prices below and above those values."
   ]
  },
  {
   "cell_type": "code",
   "execution_count": null,
   "metadata": {},
   "outputs": [],
   "source": []
  }
 ],
 "metadata": {
  "kernelspec": {
   "display_name": "Python 3.9.7 64-bit ('search_with_ml')",
   "language": "python",
   "name": "python3"
  },
  "language_info": {
   "codemirror_mode": {
    "name": "ipython",
    "version": 3
   },
   "file_extension": ".py",
   "mimetype": "text/x-python",
   "name": "python",
   "nbconvert_exporter": "python",
   "pygments_lexer": "ipython3",
   "version": "3.9.7"
  },
  "orig_nbformat": 4,
  "vscode": {
   "interpreter": {
    "hash": "67e596a8a2bf29352050fb333d24bd7b02bfe9fb96f64551bb2b9fad903a30a1"
   }
  }
 },
 "nbformat": 4,
 "nbformat_minor": 2
}
