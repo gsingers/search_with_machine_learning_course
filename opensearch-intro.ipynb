{
 "cells": [
  {
   "cell_type": "markdown",
   "id": "e8b983f4-fd4e-41c2-939d-5cfa68f4bb9e",
   "metadata": {},
   "source": [
    "\n",
    "Conclusion\n",
    "\n",
    "Add in some of your own “multi-fields” to index the content in different ways using the Field Mapping settings\n",
    "Index some different data types that we didn’t try out, such as latitude and longitude. How would you model searching what stores have what books in our data type?\n",
    "Try out some more sophisticated queries that combine several different query types, filters and aggregations."
   ]
  },
  {
   "cell_type": "code",
   "execution_count": 1,
   "id": "9b69f29b-2ca0-490b-96a9-4bc888a231dd",
   "metadata": {},
   "outputs": [],
   "source": [
    "#%pip install opensearch-py -Uqq\n",
    "# %pip install rich -Uqq"
   ]
  },
  {
   "cell_type": "code",
   "execution_count": 2,
   "id": "dbe82a61-64ef-4daa-b487-b8ee957aaeee",
   "metadata": {},
   "outputs": [],
   "source": [
    "from fastcore.net import *\n",
    "from fastcore.test import *\n",
    "from nbdev.showdoc import show_doc\n",
    "from rich import inspect as rinspect\n",
    "from rich import print as rprint"
   ]
  },
  {
   "cell_type": "code",
   "execution_count": 3,
   "id": "63e3e9f6-5365-477b-ad31-e2affba023f6",
   "metadata": {},
   "outputs": [
    {
     "data": {
      "text/plain": [
       "{'name': 'fedora',\n",
       " 'cluster_name': 'opensearch',\n",
       " 'cluster_uuid': 'QX9O66TzSZiJ8gNePiB63Q',\n",
       " 'version': {'distribution': 'opensearch',\n",
       "  'number': '1.2.4',\n",
       "  'build_type': 'tar',\n",
       "  'build_hash': 'e505b10357c03ae8d26d675172402f2f2144ef0f',\n",
       "  'build_date': '2022-01-14T03:38:06.881862Z',\n",
       "  'build_snapshot': False,\n",
       "  'lucene_version': '8.10.1',\n",
       "  'minimum_wire_compatibility_version': '6.8.0',\n",
       "  'minimum_index_compatibility_version': '6.0.0-beta1'},\n",
       " 'tagline': 'The OpenSearch Project: https://opensearch.org/'}"
      ]
     },
     "execution_count": 3,
     "metadata": {},
     "output_type": "execute_result"
    }
   ],
   "source": [
    "es='http://localhost:9200'\n",
    "\n",
    "urljson(es)"
   ]
  },
  {
   "cell_type": "code",
   "execution_count": 4,
   "id": "917ddfd6-ec9d-4070-989f-273ac748730f",
   "metadata": {},
   "outputs": [
    {
     "data": {
      "text/plain": [
       "{'cluster_name': 'opensearch',\n",
       " 'status': 'yellow',\n",
       " 'timed_out': False,\n",
       " 'number_of_nodes': 1,\n",
       " 'number_of_data_nodes': 1,\n",
       " 'discovered_master': True,\n",
       " 'active_primary_shards': 4,\n",
       " 'active_shards': 4,\n",
       " 'relocating_shards': 0,\n",
       " 'initializing_shards': 0,\n",
       " 'unassigned_shards': 3,\n",
       " 'delayed_unassigned_shards': 0,\n",
       " 'number_of_pending_tasks': 0,\n",
       " 'number_of_in_flight_fetch': 0,\n",
       " 'task_max_waiting_in_queue_millis': 0,\n",
       " 'active_shards_percent_as_number': 57.14285714285714}"
      ]
     },
     "execution_count": 4,
     "metadata": {},
     "output_type": "execute_result"
    }
   ],
   "source": [
    "urljson(f'{es}/_cluster/health')"
   ]
  },
  {
   "cell_type": "code",
   "execution_count": 5,
   "id": "50045666-69f1-4d35-ac89-a7e703ca6793",
   "metadata": {},
   "outputs": [],
   "source": [
    "from opensearchpy import *"
   ]
  },
  {
   "cell_type": "code",
   "execution_count": 6,
   "id": "e4f67916-854f-4281-8fe4-b723d54033ad",
   "metadata": {},
   "outputs": [],
   "source": [
    "host, port = 'localhost', 9200\n",
    "cli = OpenSearch([{'host': host, 'port': port}])"
   ]
  },
  {
   "cell_type": "code",
   "execution_count": 7,
   "id": "34fa9eae-d53f-44f0-a2cd-a285fbefb4f3",
   "metadata": {},
   "outputs": [
    {
     "data": {
      "text/html": [
       "<pre style=\"white-space:pre;overflow-x:auto;line-height:normal;font-family:Menlo,'DejaVu Sans Mono',consolas,'Courier New',monospace\"><span style=\"color: #000080; text-decoration-color: #000080\">╭─ </span><span style=\"color: #000080; text-decoration-color: #000080; font-weight: bold\">&lt;</span><span style=\"color: #ff00ff; text-decoration-color: #ff00ff; font-weight: bold\">bound</span><span style=\"color: #000000; text-decoration-color: #000000\"> method CatClient.health of &lt;opensearchpy.client.cat.CatClient object at </span><span style=\"color: #008080; text-decoration-color: #008080; font-weight: bold\">0x7f05897</span><span style=\"color: #000080; text-decoration-color: #000080\">─╮</span>\n",
       "<span style=\"color: #000080; text-decoration-color: #000080\">│</span> <span style=\"color: #00ffff; text-decoration-color: #00ffff; font-style: italic\">def </span><span style=\"color: #800000; text-decoration-color: #800000; font-weight: bold\">CatClient.health</span><span style=\"font-weight: bold\">(</span><span style=\"color: #808000; text-decoration-color: #808000\">params</span>=<span style=\"color: #800080; text-decoration-color: #800080; font-style: italic\">None</span>, <span style=\"color: #808000; text-decoration-color: #808000\">headers</span>=<span style=\"color: #800080; text-decoration-color: #800080; font-style: italic\">None</span><span style=\"font-weight: bold\">)</span>:                                          <span style=\"color: #000080; text-decoration-color: #000080\">│</span>\n",
       "<span style=\"color: #000080; text-decoration-color: #000080\">│</span>                                                                                           <span style=\"color: #000080; text-decoration-color: #000080\">│</span>\n",
       "<span style=\"color: #000080; text-decoration-color: #000080\">│</span> <span style=\"color: #008080; text-decoration-color: #008080\">Returns a concise representation of the cluster health.</span>                                   <span style=\"color: #000080; text-decoration-color: #000080\">│</span>\n",
       "<span style=\"color: #000080; text-decoration-color: #000080\">│</span>                                                                                           <span style=\"color: #000080; text-decoration-color: #000080\">│</span>\n",
       "<span style=\"color: #000080; text-decoration-color: #000080\">│</span> <span style=\"color: #008080; text-decoration-color: #008080; font-weight: bold\">28</span><span style=\"font-style: italic\"> attribute(s) not shown.</span> Run <span style=\"color: #800080; text-decoration-color: #800080; font-weight: bold\">inspect</span><span style=\"font-weight: bold\">(</span>inspect<span style=\"font-weight: bold\">)</span> for options.                              <span style=\"color: #000080; text-decoration-color: #000080\">│</span>\n",
       "<span style=\"color: #000080; text-decoration-color: #000080\">╰───────────────────────────────────────────────────────────────────────────────────────────╯</span>\n",
       "</pre>\n"
      ],
      "text/plain": [
       "\u001b[34m╭─\u001b[0m\u001b[34m \u001b[0m\u001b[1;34m<\u001b[0m\u001b[1;95mbound\u001b[0m\u001b[39m method CatClient.health of <opensearchpy.client.cat.CatClient object at \u001b[0m\u001b[1;36m0x7f05897\u001b[0m\u001b[34m─╮\u001b[0m\n",
       "\u001b[34m│\u001b[0m \u001b[3;96mdef \u001b[0m\u001b[1;31mCatClient.health\u001b[0m\u001b[1m(\u001b[0m\u001b[33mparams\u001b[0m=\u001b[3;35mNone\u001b[0m, \u001b[33mheaders\u001b[0m=\u001b[3;35mNone\u001b[0m\u001b[1m)\u001b[0m:                                          \u001b[34m│\u001b[0m\n",
       "\u001b[34m│\u001b[0m                                                                                           \u001b[34m│\u001b[0m\n",
       "\u001b[34m│\u001b[0m \u001b[36mReturns a concise representation of the cluster health.\u001b[0m                                   \u001b[34m│\u001b[0m\n",
       "\u001b[34m│\u001b[0m                                                                                           \u001b[34m│\u001b[0m\n",
       "\u001b[34m│\u001b[0m \u001b[1;36m28\u001b[0m\u001b[3m attribute(s) not shown.\u001b[0m Run \u001b[1;35minspect\u001b[0m\u001b[1m(\u001b[0minspect\u001b[1m)\u001b[0m for options.                              \u001b[34m│\u001b[0m\n",
       "\u001b[34m╰───────────────────────────────────────────────────────────────────────────────────────────╯\u001b[0m\n"
      ]
     },
     "metadata": {},
     "output_type": "display_data"
    }
   ],
   "source": [
    "rinspect(cli.cat.health)"
   ]
  },
  {
   "cell_type": "code",
   "execution_count": 8,
   "id": "f70087df-eec5-48f6-bb80-fcedbe6c9482",
   "metadata": {},
   "outputs": [
    {
     "data": {
      "text/html": [
       "<pre style=\"white-space:pre;overflow-x:auto;line-height:normal;font-family:Menlo,'DejaVu Sans Mono',consolas,'Courier New',monospace\"><span style=\"color: #000080; text-decoration-color: #000080\">╭─ </span><span style=\"color: #000080; text-decoration-color: #000080; font-weight: bold\">&lt;</span><span style=\"color: #ff00ff; text-decoration-color: #ff00ff; font-weight: bold\">bound</span><span style=\"color: #000000; text-decoration-color: #000000\"> method CatClient.indices of &lt;opensearchpy.client.cat.CatClient object at </span><span style=\"color: #008080; text-decoration-color: #008080; font-weight: bold\">0x7f0589</span><span style=\"color: #000080; text-decoration-color: #000080\">─╮</span>\n",
       "<span style=\"color: #000080; text-decoration-color: #000080\">│</span> <span style=\"color: #00ffff; text-decoration-color: #00ffff; font-style: italic\">def </span><span style=\"color: #800000; text-decoration-color: #800000; font-weight: bold\">CatClient.indices</span><span style=\"font-weight: bold\">(</span><span style=\"color: #808000; text-decoration-color: #808000\">index</span>=<span style=\"color: #800080; text-decoration-color: #800080; font-style: italic\">None</span>, <span style=\"color: #808000; text-decoration-color: #808000\">params</span>=<span style=\"color: #800080; text-decoration-color: #800080; font-style: italic\">None</span>, <span style=\"color: #808000; text-decoration-color: #808000\">headers</span>=<span style=\"color: #800080; text-decoration-color: #800080; font-style: italic\">None</span><span style=\"font-weight: bold\">)</span>:                             <span style=\"color: #000080; text-decoration-color: #000080\">│</span>\n",
       "<span style=\"color: #000080; text-decoration-color: #000080\">│</span>                                                                                           <span style=\"color: #000080; text-decoration-color: #000080\">│</span>\n",
       "<span style=\"color: #000080; text-decoration-color: #000080\">│</span> <span style=\"color: #008080; text-decoration-color: #008080\">Returns information about indices: number of primaries and replicas, document</span>             <span style=\"color: #000080; text-decoration-color: #000080\">│</span>\n",
       "<span style=\"color: #000080; text-decoration-color: #000080\">│</span> <span style=\"color: #008080; text-decoration-color: #008080\">counts, disk size, </span><span style=\"color: #808000; text-decoration-color: #808000\">...</span>                                                                    <span style=\"color: #000080; text-decoration-color: #000080\">│</span>\n",
       "<span style=\"color: #000080; text-decoration-color: #000080\">│</span>                                                                                           <span style=\"color: #000080; text-decoration-color: #000080\">│</span>\n",
       "<span style=\"color: #000080; text-decoration-color: #000080\">│</span> <span style=\"color: #008080; text-decoration-color: #008080; font-weight: bold\">28</span><span style=\"font-style: italic\"> attribute(s) not shown.</span> Run <span style=\"color: #800080; text-decoration-color: #800080; font-weight: bold\">inspect</span><span style=\"font-weight: bold\">(</span>inspect<span style=\"font-weight: bold\">)</span> for options.                              <span style=\"color: #000080; text-decoration-color: #000080\">│</span>\n",
       "<span style=\"color: #000080; text-decoration-color: #000080\">╰───────────────────────────────────────────────────────────────────────────────────────────╯</span>\n",
       "</pre>\n"
      ],
      "text/plain": [
       "\u001b[34m╭─\u001b[0m\u001b[34m \u001b[0m\u001b[1;34m<\u001b[0m\u001b[1;95mbound\u001b[0m\u001b[39m method CatClient.indices of <opensearchpy.client.cat.CatClient object at \u001b[0m\u001b[1;36m0x7f0589\u001b[0m\u001b[34m─╮\u001b[0m\n",
       "\u001b[34m│\u001b[0m \u001b[3;96mdef \u001b[0m\u001b[1;31mCatClient.indices\u001b[0m\u001b[1m(\u001b[0m\u001b[33mindex\u001b[0m=\u001b[3;35mNone\u001b[0m, \u001b[33mparams\u001b[0m=\u001b[3;35mNone\u001b[0m, \u001b[33mheaders\u001b[0m=\u001b[3;35mNone\u001b[0m\u001b[1m)\u001b[0m:                             \u001b[34m│\u001b[0m\n",
       "\u001b[34m│\u001b[0m                                                                                           \u001b[34m│\u001b[0m\n",
       "\u001b[34m│\u001b[0m \u001b[36mReturns information about indices: number of primaries and replicas, document\u001b[0m             \u001b[34m│\u001b[0m\n",
       "\u001b[34m│\u001b[0m \u001b[36mcounts, disk size, \u001b[0m\u001b[33m...\u001b[0m                                                                    \u001b[34m│\u001b[0m\n",
       "\u001b[34m│\u001b[0m                                                                                           \u001b[34m│\u001b[0m\n",
       "\u001b[34m│\u001b[0m \u001b[1;36m28\u001b[0m\u001b[3m attribute(s) not shown.\u001b[0m Run \u001b[1;35minspect\u001b[0m\u001b[1m(\u001b[0minspect\u001b[1m)\u001b[0m for options.                              \u001b[34m│\u001b[0m\n",
       "\u001b[34m╰───────────────────────────────────────────────────────────────────────────────────────────╯\u001b[0m\n"
      ]
     },
     "metadata": {},
     "output_type": "display_data"
    }
   ],
   "source": [
    "rinspect(cli.cat.indices)"
   ]
  },
  {
   "cell_type": "code",
   "execution_count": 9,
   "id": "6f9b2341-c1c5-49a0-a5ec-c2aadcb4ccb1",
   "metadata": {},
   "outputs": [
    {
     "data": {
      "text/plain": [
       "'1644757436 13:03:56 opensearch yellow 1 1 true 4 4 0 0 3 0 - 57.1%\\n'"
      ]
     },
     "execution_count": 9,
     "metadata": {},
     "output_type": "execute_result"
    }
   ],
   "source": [
    "cli.cat.health()"
   ]
  },
  {
   "cell_type": "code",
   "execution_count": 10,
   "id": "46ff5305-af42-4360-a4a8-bd878bce0122",
   "metadata": {},
   "outputs": [
    {
     "data": {
      "text/html": [
       "<pre style=\"white-space:pre;overflow-x:auto;line-height:normal;font-family:Menlo,'DejaVu Sans Mono',consolas,'Courier New',monospace\"><span style=\"color: #000080; text-decoration-color: #000080\">╭─ </span><span style=\"color: #000080; text-decoration-color: #000080; font-weight: bold\">&lt;</span><span style=\"color: #ff00ff; text-decoration-color: #ff00ff; font-weight: bold\">bound</span><span style=\"color: #000000; text-decoration-color: #000000\"> method CatClient.count of &lt;opensearchpy.client.cat.CatClient object at </span><span style=\"color: #008080; text-decoration-color: #008080; font-weight: bold\">0x7f05897e</span><span style=\"color: #000080; text-decoration-color: #000080\">─╮</span>\n",
       "<span style=\"color: #000080; text-decoration-color: #000080\">│</span> <span style=\"color: #00ffff; text-decoration-color: #00ffff; font-style: italic\">def </span><span style=\"color: #800000; text-decoration-color: #800000; font-weight: bold\">CatClient.count</span><span style=\"font-weight: bold\">(</span><span style=\"color: #808000; text-decoration-color: #808000\">index</span>=<span style=\"color: #800080; text-decoration-color: #800080; font-style: italic\">None</span>, <span style=\"color: #808000; text-decoration-color: #808000\">params</span>=<span style=\"color: #800080; text-decoration-color: #800080; font-style: italic\">None</span>, <span style=\"color: #808000; text-decoration-color: #808000\">headers</span>=<span style=\"color: #800080; text-decoration-color: #800080; font-style: italic\">None</span><span style=\"font-weight: bold\">)</span>:                               <span style=\"color: #000080; text-decoration-color: #000080\">│</span>\n",
       "<span style=\"color: #000080; text-decoration-color: #000080\">│</span>                                                                                           <span style=\"color: #000080; text-decoration-color: #000080\">│</span>\n",
       "<span style=\"color: #000080; text-decoration-color: #000080\">│</span> <span style=\"color: #008080; text-decoration-color: #008080\">Provides quick access to the document count of the entire cluster, or</span>                     <span style=\"color: #000080; text-decoration-color: #000080\">│</span>\n",
       "<span style=\"color: #000080; text-decoration-color: #000080\">│</span> <span style=\"color: #008080; text-decoration-color: #008080\">individual indices.</span>                                                                       <span style=\"color: #000080; text-decoration-color: #000080\">│</span>\n",
       "<span style=\"color: #000080; text-decoration-color: #000080\">│</span>                                                                                           <span style=\"color: #000080; text-decoration-color: #000080\">│</span>\n",
       "<span style=\"color: #000080; text-decoration-color: #000080\">│</span> <span style=\"color: #008080; text-decoration-color: #008080; font-weight: bold\">28</span><span style=\"font-style: italic\"> attribute(s) not shown.</span> Run <span style=\"color: #800080; text-decoration-color: #800080; font-weight: bold\">inspect</span><span style=\"font-weight: bold\">(</span>inspect<span style=\"font-weight: bold\">)</span> for options.                              <span style=\"color: #000080; text-decoration-color: #000080\">│</span>\n",
       "<span style=\"color: #000080; text-decoration-color: #000080\">╰───────────────────────────────────────────────────────────────────────────────────────────╯</span>\n",
       "</pre>\n"
      ],
      "text/plain": [
       "\u001b[34m╭─\u001b[0m\u001b[34m \u001b[0m\u001b[1;34m<\u001b[0m\u001b[1;95mbound\u001b[0m\u001b[39m method CatClient.count of <opensearchpy.client.cat.CatClient object at \u001b[0m\u001b[1;36m0x7f05897e\u001b[0m\u001b[34m─╮\u001b[0m\n",
       "\u001b[34m│\u001b[0m \u001b[3;96mdef \u001b[0m\u001b[1;31mCatClient.count\u001b[0m\u001b[1m(\u001b[0m\u001b[33mindex\u001b[0m=\u001b[3;35mNone\u001b[0m, \u001b[33mparams\u001b[0m=\u001b[3;35mNone\u001b[0m, \u001b[33mheaders\u001b[0m=\u001b[3;35mNone\u001b[0m\u001b[1m)\u001b[0m:                               \u001b[34m│\u001b[0m\n",
       "\u001b[34m│\u001b[0m                                                                                           \u001b[34m│\u001b[0m\n",
       "\u001b[34m│\u001b[0m \u001b[36mProvides quick access to the document count of the entire cluster, or\u001b[0m                     \u001b[34m│\u001b[0m\n",
       "\u001b[34m│\u001b[0m \u001b[36mindividual indices.\u001b[0m                                                                       \u001b[34m│\u001b[0m\n",
       "\u001b[34m│\u001b[0m                                                                                           \u001b[34m│\u001b[0m\n",
       "\u001b[34m│\u001b[0m \u001b[1;36m28\u001b[0m\u001b[3m attribute(s) not shown.\u001b[0m Run \u001b[1;35minspect\u001b[0m\u001b[1m(\u001b[0minspect\u001b[1m)\u001b[0m for options.                              \u001b[34m│\u001b[0m\n",
       "\u001b[34m╰───────────────────────────────────────────────────────────────────────────────────────────╯\u001b[0m\n"
      ]
     },
     "metadata": {},
     "output_type": "display_data"
    }
   ],
   "source": [
    "rinspect(cli.cat.count)"
   ]
  },
  {
   "cell_type": "code",
   "execution_count": 11,
   "id": "29d58c90-96f1-4b0e-b0ce-9af64aef0875",
   "metadata": {},
   "outputs": [],
   "source": [
    "# Create an index with non-default settings.\n",
    "\n",
    "index_name = 'searchml_revisited'\n",
    "index_body = {\n",
    "    'settings': {\n",
    "        'index': {\n",
    "            'query': {\n",
    "                'default_field': \"body\"\n",
    "            }\n",
    "        }\n",
    "    }\n",
    "}\n",
    "def _exists_index(index):\n",
    "    return cli.cat.indices(index, h='index').strip() == index\n",
    "\n",
    "if not _exists_index('searchml_revisited'):\n",
    "    cli.indices.create(index_name, body=index_body)"
   ]
  },
  {
   "cell_type": "code",
   "execution_count": 12,
   "id": "a5026eb2-11bd-43a2-9c6c-0d498f01da9f",
   "metadata": {},
   "outputs": [],
   "source": [
    "test_eq(cli.cat.indices('searchml_revisited', h='index').strip(), 'searchml_revisited')"
   ]
  },
  {
   "cell_type": "code",
   "execution_count": 13,
   "id": "1bed4cf7-7329-4832-b4dd-9a7175a6190c",
   "metadata": {},
   "outputs": [],
   "source": [
    "# Add our sample document to the index.\n",
    "docs = [\n",
    "    {\n",
    "        \"id\": \"doc_a\",\n",
    "        \"title\": \"Fox and Hounds\",\n",
    "        \"body\": \"The quick red fox jumped over the lazy brown dogs.\",\n",
    "        \"price\": \"5.99\",\n",
    "        \"in_stock\": True,\n",
    "        \"category\": \"childrens\"},\n",
    "    {\n",
    "        \"id\": \"doc_b\",\n",
    "        \"title\": \"Fox wins championship\",\n",
    "        \"body\": \"Wearing all red, the Fox jumped out to a lead in the race over the Dog.\",\n",
    "        \"price\": \"15.13\",\n",
    "        \"in_stock\": True,\n",
    "        \"category\": \"sports\"},\n",
    "    {\n",
    "        \"id\": \"doc_c\",\n",
    "        \"title\": \"Lead Paint Removal\",\n",
    "        \"body\": \"All lead must be removed from the brown and red paint.\",\n",
    "        \"price\": \"150.21\",\n",
    "        \"in_stock\": False,\n",
    "        \"category\": \"instructional\"},\n",
    "    {\n",
    "        \"id\": \"doc_d\",\n",
    "        \"title\": \"The Three Little Pigs Revisted\",\n",
    "        \"price\": \"3.51\",\n",
    "        \"in_stock\": True,\n",
    "        \"body\": \"The big, bad wolf huffed and puffed and blew the house down. The end.\",\n",
    "        \"category\": \"childrens\"}\n",
    "]"
   ]
  },
  {
   "cell_type": "code",
   "execution_count": 14,
   "id": "0d3b9512-0ef3-4731-863b-ed2d1a32c333",
   "metadata": {},
   "outputs": [
    {
     "data": {
      "text/html": [
       "<pre style=\"white-space:pre;overflow-x:auto;line-height:normal;font-family:Menlo,'DejaVu Sans Mono',consolas,'Courier New',monospace\"><span style=\"color: #000080; text-decoration-color: #000080\">╭─ </span><span style=\"color: #000080; text-decoration-color: #000080; font-weight: bold\">&lt;</span><span style=\"color: #ff00ff; text-decoration-color: #ff00ff; font-weight: bold\">bound</span><span style=\"color: #000000; text-decoration-color: #000000\"> method OpenSearch.index of &lt;</span><span style=\"color: #800080; text-decoration-color: #800080; font-weight: bold\">OpenSearch</span><span style=\"color: #000000; text-decoration-color: #000000; font-weight: bold\">([{</span><span style=\"color: #008000; text-decoration-color: #008000\">'host'</span><span style=\"color: #000000; text-decoration-color: #000000\">: </span><span style=\"color: #008000; text-decoration-color: #008000\">'localhost'</span><span style=\"color: #000000; text-decoration-color: #000000\">, </span><span style=\"color: #008000; text-decoration-color: #008000\">'port'</span><span style=\"color: #000000; text-decoration-color: #000000\">: </span><span style=\"color: #008080; text-decoration-color: #008080; font-weight: bold\">9200</span><span style=\"color: #000000; text-decoration-color: #000000; font-weight: bold\">}])</span><span style=\"color: #000080; text-decoration-color: #000080; font-weight: bold\">&gt;</span><span style=\"color: #000080; text-decoration-color: #000080\">&gt; ─╮</span>\n",
       "<span style=\"color: #000080; text-decoration-color: #000080\">│</span> <span style=\"color: #00ffff; text-decoration-color: #00ffff; font-style: italic\">def </span><span style=\"color: #800000; text-decoration-color: #800000; font-weight: bold\">OpenSearch.index</span><span style=\"font-weight: bold\">(</span>index, body, <span style=\"color: #808000; text-decoration-color: #808000\">doc_type</span>=<span style=\"color: #800080; text-decoration-color: #800080; font-style: italic\">None</span>, <span style=\"color: #808000; text-decoration-color: #808000\">id</span>=<span style=\"color: #800080; text-decoration-color: #800080; font-style: italic\">None</span>, <span style=\"color: #808000; text-decoration-color: #808000\">params</span>=<span style=\"color: #800080; text-decoration-color: #800080; font-style: italic\">None</span>, <span style=\"color: #808000; text-decoration-color: #808000\">headers</span>=<span style=\"color: #800080; text-decoration-color: #800080; font-style: italic\">None</span><span style=\"font-weight: bold\">)</span>:    <span style=\"color: #000080; text-decoration-color: #000080\">│</span>\n",
       "<span style=\"color: #000080; text-decoration-color: #000080\">│</span>                                                                                          <span style=\"color: #000080; text-decoration-color: #000080\">│</span>\n",
       "<span style=\"color: #000080; text-decoration-color: #000080\">│</span> <span style=\"color: #008080; text-decoration-color: #008080\">Creates or updates a document in an index.</span>                                               <span style=\"color: #000080; text-decoration-color: #000080\">│</span>\n",
       "<span style=\"color: #000080; text-decoration-color: #000080\">│</span>                                                                                          <span style=\"color: #000080; text-decoration-color: #000080\">│</span>\n",
       "<span style=\"color: #000080; text-decoration-color: #000080\">│</span> <span style=\"color: #008080; text-decoration-color: #008080; font-weight: bold\">28</span><span style=\"font-style: italic\"> attribute(s) not shown.</span> Run <span style=\"color: #800080; text-decoration-color: #800080; font-weight: bold\">inspect</span><span style=\"font-weight: bold\">(</span>inspect<span style=\"font-weight: bold\">)</span> for options.                             <span style=\"color: #000080; text-decoration-color: #000080\">│</span>\n",
       "<span style=\"color: #000080; text-decoration-color: #000080\">╰──────────────────────────────────────────────────────────────────────────────────────────╯</span>\n",
       "</pre>\n"
      ],
      "text/plain": [
       "\u001b[34m╭─\u001b[0m\u001b[34m \u001b[0m\u001b[1;34m<\u001b[0m\u001b[1;95mbound\u001b[0m\u001b[39m method OpenSearch.index of <\u001b[0m\u001b[1;35mOpenSearch\u001b[0m\u001b[1;39m(\u001b[0m\u001b[1;39m[\u001b[0m\u001b[1;39m{\u001b[0m\u001b[32m'host'\u001b[0m\u001b[39m: \u001b[0m\u001b[32m'localhost'\u001b[0m\u001b[39m, \u001b[0m\u001b[32m'port'\u001b[0m\u001b[39m: \u001b[0m\u001b[1;36m9200\u001b[0m\u001b[1;39m}\u001b[0m\u001b[1;39m]\u001b[0m\u001b[1;39m)\u001b[0m\u001b[1;34m>\u001b[0m\u001b[34m> \u001b[0m\u001b[34m─╮\u001b[0m\n",
       "\u001b[34m│\u001b[0m \u001b[3;96mdef \u001b[0m\u001b[1;31mOpenSearch.index\u001b[0m\u001b[1m(\u001b[0mindex, body, \u001b[33mdoc_type\u001b[0m=\u001b[3;35mNone\u001b[0m, \u001b[33mid\u001b[0m=\u001b[3;35mNone\u001b[0m, \u001b[33mparams\u001b[0m=\u001b[3;35mNone\u001b[0m, \u001b[33mheaders\u001b[0m=\u001b[3;35mNone\u001b[0m\u001b[1m)\u001b[0m:    \u001b[34m│\u001b[0m\n",
       "\u001b[34m│\u001b[0m                                                                                          \u001b[34m│\u001b[0m\n",
       "\u001b[34m│\u001b[0m \u001b[36mCreates or updates a document in an index.\u001b[0m                                               \u001b[34m│\u001b[0m\n",
       "\u001b[34m│\u001b[0m                                                                                          \u001b[34m│\u001b[0m\n",
       "\u001b[34m│\u001b[0m \u001b[1;36m28\u001b[0m\u001b[3m attribute(s) not shown.\u001b[0m Run \u001b[1;35minspect\u001b[0m\u001b[1m(\u001b[0minspect\u001b[1m)\u001b[0m for options.                             \u001b[34m│\u001b[0m\n",
       "\u001b[34m╰──────────────────────────────────────────────────────────────────────────────────────────╯\u001b[0m\n"
      ]
     },
     "metadata": {},
     "output_type": "display_data"
    }
   ],
   "source": [
    "rinspect(cli.index)"
   ]
  },
  {
   "cell_type": "code",
   "execution_count": 16,
   "id": "c8c86b5d-9cbc-4d55-af45-39df6fefd3c3",
   "metadata": {},
   "outputs": [
    {
     "data": {
      "text/plain": [
       "[{'_index': 'searchml_revisited',\n",
       "  '_type': '_doc',\n",
       "  '_id': 'doc_a',\n",
       "  '_version': 1,\n",
       "  'result': 'created',\n",
       "  'forced_refresh': True,\n",
       "  '_shards': {'total': 2, 'successful': 1, 'failed': 0},\n",
       "  '_seq_no': 0,\n",
       "  '_primary_term': 4},\n",
       " {'_index': 'searchml_revisited',\n",
       "  '_type': '_doc',\n",
       "  '_id': 'doc_b',\n",
       "  '_version': 1,\n",
       "  'result': 'created',\n",
       "  'forced_refresh': True,\n",
       "  '_shards': {'total': 2, 'successful': 1, 'failed': 0},\n",
       "  '_seq_no': 1,\n",
       "  '_primary_term': 4},\n",
       " {'_index': 'searchml_revisited',\n",
       "  '_type': '_doc',\n",
       "  '_id': 'doc_c',\n",
       "  '_version': 1,\n",
       "  'result': 'created',\n",
       "  'forced_refresh': True,\n",
       "  '_shards': {'total': 2, 'successful': 1, 'failed': 0},\n",
       "  '_seq_no': 2,\n",
       "  '_primary_term': 4},\n",
       " {'_index': 'searchml_revisited',\n",
       "  '_type': '_doc',\n",
       "  '_id': 'doc_d',\n",
       "  '_version': 1,\n",
       "  'result': 'created',\n",
       "  'forced_refresh': True,\n",
       "  '_shards': {'total': 2, 'successful': 1, 'failed': 0},\n",
       "  '_seq_no': 3,\n",
       "  '_primary_term': 4}]"
      ]
     },
     "execution_count": 16,
     "metadata": {},
     "output_type": "execute_result"
    }
   ],
   "source": [
    "index_name='searchml_revisited'\n",
    "[cli.index(index_name, body=doc, id=doc['id'], refresh=True) for doc in docs]"
   ]
  },
  {
   "cell_type": "code",
   "execution_count": null,
   "id": "53937319-a43b-43fd-a369-43791f5432b9",
   "metadata": {},
   "outputs": [],
   "source": []
  }
 ],
 "metadata": {
  "kernelspec": {
   "display_name": "docs_sprint",
   "language": "python",
   "name": "docs_sprint"
  },
  "language_info": {
   "codemirror_mode": {
    "name": "ipython",
    "version": 3
   },
   "file_extension": ".py",
   "mimetype": "text/x-python",
   "name": "python",
   "nbconvert_exporter": "python",
   "pygments_lexer": "ipython3",
   "version": "3.8.12"
  }
 },
 "nbformat": 4,
 "nbformat_minor": 5
}
