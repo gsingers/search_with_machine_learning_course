{
 "cells": [
  {
   "cell_type": "code",
   "execution_count": 1,
   "id": "b75d5cfb-d74e-4f4a-8a30-9c9fb4d91251",
   "metadata": {},
   "outputs": [],
   "source": [
    "from fastcore.foundation import L\n",
    "from fastcore.test import *"
   ]
  },
  {
   "cell_type": "code",
   "execution_count": 6,
   "id": "02b9657e-26c9-4d9e-8fd2-bafebb249e68",
   "metadata": {},
   "outputs": [],
   "source": [
    "#!gunzip /workspace/search_with_machine_learning_course/week3/phone_products/phone_products.xml.gz"
   ]
  },
  {
   "cell_type": "code",
   "execution_count": 9,
   "id": "d7ad45ad-9c9f-4878-9517-e2dab31f5684",
   "metadata": {},
   "outputs": [
    {
     "name": "stdout",
     "output_type": "stream",
     "text": [
      "Writing results to /workspace/datasets/fasttext/titles.txt\n"
     ]
    }
   ],
   "source": [
    "!python extractTitles.py --input /workspace/search_with_machine_learning_course/week3/phone_products --sample_rate 1.0"
   ]
  },
  {
   "cell_type": "code",
   "execution_count": 11,
   "id": "134800dc-7147-4b9b-8e84-7bd4937a6dbb",
   "metadata": {},
   "outputs": [
    {
     "name": "stdout",
     "output_type": "stream",
     "text": [
      "4862 /workspace/datasets/fasttext/titles.txt\n"
     ]
    }
   ],
   "source": [
    "!wc -l /workspace/datasets/fasttext/titles.txt"
   ]
  },
  {
   "cell_type": "code",
   "execution_count": 12,
   "id": "cb5a1199-09b6-4ccc-9cc5-f583e5a088eb",
   "metadata": {},
   "outputs": [],
   "source": [
    "import fasttext as ft"
   ]
  },
  {
   "cell_type": "code",
   "execution_count": 31,
   "id": "ebb0c842-f618-4df4-b514-94aaed57efe6",
   "metadata": {},
   "outputs": [
    {
     "name": "stderr",
     "output_type": "stream",
     "text": [
      "Read 0M words\n",
      "Number of words:  661\n",
      "Number of labels: 0\n",
      "Progress: 100.0% words/sec/thread:  155478 lr:  0.000000 avg.loss:  1.709480 ETA:   0h 0m 0s\n"
     ]
    }
   ],
   "source": [
    "model=ft.train_unsupervised(input='/workspace/datasets/fasttext/titles.txt', epoch=25, model='skipgram', lr=0.2)"
   ]
  },
  {
   "cell_type": "code",
   "execution_count": 32,
   "id": "d938fce4-bb82-4f67-9256-85f115b07efb",
   "metadata": {},
   "outputs": [
    {
     "data": {
      "text/plain": [
       "[(0.8879573941230774, 'burton'),\n",
       " (0.852663516998291, 'speck'),\n",
       " (0.8194333910942078, 'candyshell'),\n",
       " (0.8185390830039978, 'fitted'),\n",
       " (0.712227463722229, 'plaid'),\n",
       " (0.6634864211082458, 'canopy'),\n",
       " (0.6597342491149902, 'kapok'),\n",
       " (0.6537274122238159, 'tan'),\n",
       " (0.6495804786682129, 'hurley'),\n",
       " (0.6441653966903687, 'oakley')]"
      ]
     },
     "execution_count": 32,
     "metadata": {},
     "output_type": "execute_result"
    }
   ],
   "source": [
    "model.get_nearest_neighbors('fabshell', k=10)"
   ]
  },
  {
   "cell_type": "code",
   "execution_count": 33,
   "id": "aed37173-4454-4101-9854-6c5475fd7f7a",
   "metadata": {},
   "outputs": [
    {
     "data": {
      "text/plain": [
       "[(0.7500500082969666, 'harley'),\n",
       " (0.7387213110923767, 'davidson'),\n",
       " (0.7385751008987427, 'oakley'),\n",
       " (0.7125370502471924, 'antibacterial'),\n",
       " (0.7002748250961304, 'lady'),\n",
       " (0.6897435188293457, 'gaga'),\n",
       " (0.6868230104446411, 'nauticase'),\n",
       " (0.685642659664154, 'candyshell'),\n",
       " (0.6727151274681091, 'puma'),\n",
       " (0.6645505428314209, 'marley')]"
      ]
     },
     "execution_count": 33,
     "metadata": {},
     "output_type": "execute_result"
    }
   ],
   "source": [
    "model.get_nearest_neighbors('hurley', k=10)"
   ]
  },
  {
   "cell_type": "code",
   "execution_count": 35,
   "id": "c4560c0d-4d7f-402d-98bb-852b739b2558",
   "metadata": {},
   "outputs": [
    {
     "data": {
      "text/plain": [
       "[(0.6915931105613708, 'steel'),\n",
       " (0.6341215372085571, 'bluetooth'),\n",
       " (0.629203736782074, 'blueant'),\n",
       " (0.6226051449775696, 'compatible'),\n",
       " (0.6197767853736877, 'headset'),\n",
       " (0.6169644594192505, 'era'),\n",
       " (0.5974705815315247, 'discovery'),\n",
       " (0.5909331440925598, 'icon'),\n",
       " (0.585136353969574, 'midnight'),\n",
       " (0.5572087168693542, 'earglove')]"
      ]
     },
     "execution_count": 35,
     "metadata": {},
     "output_type": "execute_result"
    }
   ],
   "source": [
    "model.get_nearest_neighbors('bluetrek', k=10)"
   ]
  },
  {
   "cell_type": "code",
   "execution_count": 34,
   "id": "6855dfdd-fa7e-4c81-9857-52218b716c37",
   "metadata": {},
   "outputs": [
    {
     "data": {
      "text/plain": [
       "[(0.9242002367973328, 'energizer'),\n",
       " (0.7556743025779724, 'go'),\n",
       " (0.7191760540008545, 'to'),\n",
       " (0.6540639996528625, 'devices'),\n",
       " (0.566866934299469, 'top'),\n",
       " (0.5663731098175049, 'sim'),\n",
       " (0.55902099609375, 'dc'),\n",
       " (0.5576004385948181, 'mycharge'),\n",
       " (0.5437304377555847, 'model'),\n",
       " (0.5429443717002869, 'broadband2go')]"
      ]
     },
     "execution_count": 34,
     "metadata": {},
     "output_type": "execute_result"
    }
   ],
   "source": [
    "model.get_nearest_neighbors('energi', k=10)"
   ]
  },
  {
   "cell_type": "code",
   "execution_count": null,
   "id": "6d62aca8-9f90-482a-a0bf-808b146a835b",
   "metadata": {},
   "outputs": [],
   "source": []
  }
 ],
 "metadata": {
  "kernelspec": {
   "display_name": "sml_week3",
   "language": "python",
   "name": "sml_week3"
  },
  "language_info": {
   "codemirror_mode": {
    "name": "ipython",
    "version": 3
   },
   "file_extension": ".py",
   "mimetype": "text/x-python",
   "name": "python",
   "nbconvert_exporter": "python",
   "pygments_lexer": "ipython3",
   "version": "3.9.7"
  }
 },
 "nbformat": 4,
 "nbformat_minor": 5
}
