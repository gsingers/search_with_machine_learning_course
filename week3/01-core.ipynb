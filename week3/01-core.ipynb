{
 "cells": [
  {
   "cell_type": "markdown",
   "id": "0834be6a-ba57-4bcf-8066-d1d35bc59a25",
   "metadata": {},
   "source": [
    "# Classifying Product Names into Cateogories"
   ]
  },
  {
   "cell_type": "markdown",
   "id": "05c7a6c7-2d2a-4174-a823-63dc6483d0b6",
   "metadata": {},
   "source": [
    "## 0. Setup"
   ]
  },
  {
   "cell_type": "code",
   "execution_count": 1,
   "id": "97d64d55-077d-437c-979b-c03b64f73856",
   "metadata": {},
   "outputs": [],
   "source": [
    "from fastcore.foundation import L\n",
    "from fastcore.test import *"
   ]
  },
  {
   "cell_type": "code",
   "execution_count": 2,
   "id": "dbcec7ef-4c23-4264-a036-a0f0968fd646",
   "metadata": {},
   "outputs": [],
   "source": [
    "import fasttext as ft"
   ]
  },
  {
   "cell_type": "markdown",
   "id": "018b0d8f-3bcf-4d46-bcbf-0f0af09531e1",
   "metadata": {},
   "source": [
    "Data Prerequisite:\n",
    "    `gunzip /workspace/search_with_machine_learning_course/data/*/*.xml.gz`"
   ]
  },
  {
   "cell_type": "code",
   "execution_count": 117,
   "id": "8d3d75a0-8a92-4c32-9ce3-5827739dff6a",
   "metadata": {},
   "outputs": [],
   "source": [
    "def print_res(res, k=1): \n",
    "    print(f\"N\\t: {res[0]} \\nP@{k}\\t: {res[1]:.3f} \\nR@{k}\\t: {res[2]:.3f}\\n\")"
   ]
  },
  {
   "cell_type": "markdown",
   "id": "b90fa06f-9cb2-4d51-8705-f6f81513496f",
   "metadata": {},
   "source": [
    "## 1. Sample Rate 0.1"
   ]
  },
  {
   "cell_type": "code",
   "execution_count": 1,
   "id": "035ca35f-1ec5-43fc-8f20-e57be2e8c819",
   "metadata": {},
   "outputs": [],
   "source": [
    "# Process the pruned_products (10% of data) to generate training data\n",
    "!python createContentTrainingData.py --sample_rate 0.1"
   ]
  },
  {
   "cell_type": "markdown",
   "id": "17c7b90a-58b8-4d6c-9e02-12d6b8ea51a5",
   "metadata": {},
   "source": [
    "Output is as follows\n",
    "```\n",
    "Writing results to /workspace/datasets/fasttext/output.fasttext\n",
    "Processing pruned_products_1.xml\n",
    "Processing pruned_products_2.xml\n",
    "Processing pruned_products_3.xml\n",
    "Processing pruned_products_4.xml\n",
    "Processing pruned_products_5.xml\n",
    "Processing pruned_products_6.xml\n",
    "```"
   ]
  },
  {
   "cell_type": "code",
   "execution_count": 2,
   "id": "c5bb46ce-9e58-479f-8990-da9ac2a256bb",
   "metadata": {},
   "outputs": [
    {
     "name": "stdout",
     "output_type": "stream",
     "text": [
      "__label__pcmcat237000050016 DeLorme - inReach 2-Way Satellite Communicator for DeLorme Earthmate PN-60w GPS\n",
      "__label__pcmcat193100050014 Sungale - Beam E-Reader - White\n",
      "__label__pcmcat186400050002 Olympus - X-560WP 10.0-Megapixel Digital Camera - Red\n",
      "__label__pcmcat258900050010 Jura - ENA 9 One Touch Cappuccino and Latte Macchiato Maker - Silver\n",
      "__label__pcmcat258900050010 Jura - Impressa J9 Cappuccino, Latte Macchiato and Café Latte Maker - Silver\n",
      "__label__pcmcat258900050007 Capresso - 10-Cup Coffeemaker - Black/Silver\n",
      "__label__pcmcat174700050005 Mystery Masterpiece: The Moonstone - Windows\n",
      "__label__pcmcat174700050005 Kitchen Brigade - Windows\n",
      "__label__pcmcat158900050018 3M - Mobile SVGA LCOS Projector\n",
      "__label__cat09000 Best Buy GC - $200 Techno Twinkle Gift Card\n"
     ]
    }
   ],
   "source": [
    "!head /workspace/datasets/fasttext/output.fasttext"
   ]
  },
  {
   "cell_type": "markdown",
   "id": "9a223e07-1006-401b-aced-baf30bdcbfb1",
   "metadata": {},
   "source": [
    "We can confirm the generated output is in the format suitable for fasttext`__label__<label> <product_name>`."
   ]
  },
  {
   "cell_type": "code",
   "execution_count": null,
   "id": "68650d4e-e0a5-4587-a0ec-712671a004c7",
   "metadata": {},
   "outputs": [],
   "source": [
    "# Shuffle the input before train/test split\n",
    "!shuf /workspace/datasets/fasttext/output.fasttext > /workspace/datasets/fasttext/shuf_output.fasttext"
   ]
  },
  {
   "cell_type": "code",
   "execution_count": 3,
   "id": "fb961b44-b7a0-4aaf-8fec-8fcad57a48d2",
   "metadata": {},
   "outputs": [
    {
     "name": "stdout",
     "output_type": "stream",
     "text": [
      "11764 /workspace/datasets/fasttext/shuf_output.fasttext\n"
     ]
    }
   ],
   "source": [
    "!wc -l /workspace/datasets/fasttext/shuf_output.fasttext"
   ]
  },
  {
   "cell_type": "code",
   "execution_count": 4,
   "id": "b4afa085-d9e5-4565-8004-5e4c335aeb3a",
   "metadata": {},
   "outputs": [],
   "source": [
    "!head -n 10000 /workspace/datasets/fasttext/shuf_output.fasttext > /workspace/datasets/fasttext/products.train\n",
    "!tail -n 1764 /workspace/datasets/fasttext/shuf_output.fasttext > /workspace/datasets/fasttext/products.test"
   ]
  },
  {
   "cell_type": "code",
   "execution_count": 4,
   "id": "f841f4a1-6976-4f00-9c4e-6a23efa2a666",
   "metadata": {},
   "outputs": [],
   "source": [
    "train_file = '/workspace/datasets/fasttext/products.train'\n",
    "test_file = '/workspace/datasets/fasttext/products.test'"
   ]
  },
  {
   "cell_type": "code",
   "execution_count": 41,
   "id": "8bf072ab-9626-4c9c-88ce-3af948bcfb88",
   "metadata": {},
   "outputs": [
    {
     "data": {
      "text/plain": [
       "\u001b[0;31mSignature:\u001b[0m \u001b[0mft\u001b[0m\u001b[0;34m.\u001b[0m\u001b[0mtrain_supervised\u001b[0m\u001b[0;34m(\u001b[0m\u001b[0;34m*\u001b[0m\u001b[0mkargs\u001b[0m\u001b[0;34m,\u001b[0m \u001b[0;34m**\u001b[0m\u001b[0mkwargs\u001b[0m\u001b[0;34m)\u001b[0m\u001b[0;34m\u001b[0m\u001b[0;34m\u001b[0m\u001b[0m\n",
       "\u001b[0;31mDocstring:\u001b[0m\n",
       "Train a supervised model and return a model object.\n",
       "\n",
       "input must be a filepath. The input text does not need to be tokenized\n",
       "as per the tokenize function, but it must be preprocessed and encoded\n",
       "as UTF-8. You might want to consult standard preprocessing scripts such\n",
       "as tokenizer.perl mentioned here: http://www.statmt.org/wmt07/baseline.html\n",
       "\n",
       "The input file must must contain at least one label per line. For an\n",
       "example consult the example datasets which are part of the fastText\n",
       "repository such as the dataset pulled by classification-example.sh.\n",
       "\u001b[0;31mFile:\u001b[0m      ~/.pyenv/versions/search_with_ml_week3/lib/python3.9/site-packages/fasttext/FastText.py\n",
       "\u001b[0;31mType:\u001b[0m      function\n"
      ]
     },
     "metadata": {},
     "output_type": "display_data"
    }
   ],
   "source": [
    "ft.train_supervised?"
   ]
  },
  {
   "cell_type": "code",
   "execution_count": 6,
   "id": "dd0d7a19-bdf3-438b-a60c-d3b0093a88df",
   "metadata": {},
   "outputs": [
    {
     "name": "stderr",
     "output_type": "stream",
     "text": [
      "Read 0M words\n",
      "Number of words:  11080\n",
      "Number of labels: 1356\n",
      "Progress: 100.0% words/sec/thread:   12354 lr:  0.000000 avg.loss: 13.697918 ETA:   0h 0m 0s\n"
     ]
    }
   ],
   "source": [
    "model = ft.train_supervised(train_file)"
   ]
  },
  {
   "cell_type": "code",
   "execution_count": 11,
   "id": "bcddecd3-efd4-4963-b82c-0c789fe61283",
   "metadata": {},
   "outputs": [
    {
     "data": {
      "text/plain": [
       "((#11080) ['-','</s>','for','Black','with','and','Digital','Memory','Case','/'...],\n",
       " (#1356) ['__label__abcat0101001','__label__pcmcat180400050006','__label__abcat0401004','__label__pcmcat247400050000','__label__cat09000','__label__abcat0901005','__label__abcat0905001','__label__pcmcat171900050029','__label__abcat0515028','__label__pcmcat151600050006'...])"
      ]
     },
     "execution_count": 11,
     "metadata": {},
     "output_type": "execute_result"
    }
   ],
   "source": [
    "#print(model.words)\n",
    "#print(model.labels)\n",
    "L(model.words), L(model.labels)"
   ]
  },
  {
   "cell_type": "markdown",
   "id": "180c375e-d39b-427b-8767-4710d4cb1880",
   "metadata": {},
   "source": [
    "There are 11080 words present from this 10% of data and around 1356 categories present."
   ]
  },
  {
   "cell_type": "code",
   "execution_count": 12,
   "id": "381651b5-c23d-48e6-a626-1a3de65ac1c2",
   "metadata": {},
   "outputs": [
    {
     "data": {
      "text/plain": [
       "(('__label__abcat0901005',), array([0.35519338]))"
      ]
     },
     "execution_count": 12,
     "metadata": {},
     "output_type": "execute_result"
    }
   ],
   "source": [
    "model.predict('GE - 11.9 Cu. Ft. Top-Mount Refrigerator - Bisque-on-Bisque')"
   ]
  },
  {
   "cell_type": "code",
   "execution_count": 13,
   "id": "8302bad1-2e61-4f76-9843-bd20d4661029",
   "metadata": {},
   "outputs": [
    {
     "data": {
      "text/plain": [
       "\u001b[0;31mSignature:\u001b[0m \u001b[0mmodel\u001b[0m\u001b[0;34m.\u001b[0m\u001b[0mtest\u001b[0m\u001b[0;34m(\u001b[0m\u001b[0mpath\u001b[0m\u001b[0;34m,\u001b[0m \u001b[0mk\u001b[0m\u001b[0;34m=\u001b[0m\u001b[0;36m1\u001b[0m\u001b[0;34m,\u001b[0m \u001b[0mthreshold\u001b[0m\u001b[0;34m=\u001b[0m\u001b[0;36m0.0\u001b[0m\u001b[0;34m)\u001b[0m\u001b[0;34m\u001b[0m\u001b[0;34m\u001b[0m\u001b[0m\n",
       "\u001b[0;31mDocstring:\u001b[0m Evaluate supervised model using file given by path\n",
       "\u001b[0;31mFile:\u001b[0m      ~/.pyenv/versions/search_with_ml_week3/lib/python3.9/site-packages/fasttext/FastText.py\n",
       "\u001b[0;31mType:\u001b[0m      method\n"
      ]
     },
     "metadata": {},
     "output_type": "display_data"
    }
   ],
   "source": [
    "model.test?"
   ]
  },
  {
   "cell_type": "code",
   "execution_count": 25,
   "id": "395acbb0-309a-452b-bfc8-defd3a15541d",
   "metadata": {},
   "outputs": [
    {
     "name": "stdout",
     "output_type": "stream",
     "text": [
      "N\t: 1719 \n",
      "P@1\t: 0.147 \n",
      "R@1\t: 0.147\n"
     ]
    }
   ],
   "source": [
    "res = model.test(test_file, k=1);print_res(res)"
   ]
  },
  {
   "cell_type": "code",
   "execution_count": 26,
   "id": "6af3af4b-d9be-445f-a5f0-d380c888144d",
   "metadata": {},
   "outputs": [
    {
     "name": "stdout",
     "output_type": "stream",
     "text": [
      "N\t: 1719 \n",
      "P@1\t: 0.047 \n",
      "R@1\t: 0.237\n"
     ]
    }
   ],
   "source": [
    "res = model.test(test_file, k=5);print_res(res)"
   ]
  },
  {
   "cell_type": "code",
   "execution_count": 27,
   "id": "53ea86a7-78c5-45ab-90d9-0066dbf6e148",
   "metadata": {},
   "outputs": [
    {
     "name": "stdout",
     "output_type": "stream",
     "text": [
      "N\t: 1719 \n",
      "P@1\t: 0.028 \n",
      "R@1\t: 0.276\n"
     ]
    }
   ],
   "source": [
    "res = model.test(test_file, k=10);print_res(res)"
   ]
  },
  {
   "cell_type": "markdown",
   "id": "29fd07b1-f3d2-474e-bb58-dac16a79121a",
   "metadata": {},
   "source": [
    "As we can see the recall is increasing as we increased but precision is dropping."
   ]
  },
  {
   "cell_type": "markdown",
   "id": "67a0cbe2-982d-4547-a50c-c5f04b8da3cc",
   "metadata": {},
   "source": [
    "### Increase epochs"
   ]
  },
  {
   "cell_type": "code",
   "execution_count": 44,
   "id": "34c2999e-161c-47e2-b9f0-46d27cb2e3e6",
   "metadata": {},
   "outputs": [
    {
     "name": "stderr",
     "output_type": "stream",
     "text": [
      "Read 0M words\n",
      "Number of words:  11080\n",
      "Number of labels: 1356\n",
      "Progress: 100.0% words/sec/thread:   12534 lr:  0.000000 avg.loss:  6.282897 ETA:   0h 0m 0s\n"
     ]
    }
   ],
   "source": [
    "# Reference: https://fasttext.cc/docs/en/options.html\n",
    "model=ft.train_supervised(train_file, epoch=25)"
   ]
  },
  {
   "cell_type": "code",
   "execution_count": 45,
   "id": "cb6f8b08-3c42-4a6d-bf45-a6732a5972e6",
   "metadata": {},
   "outputs": [],
   "source": [
    "test_eq(model.epoch, 25) #uses the epoch specified"
   ]
  },
  {
   "cell_type": "code",
   "execution_count": 48,
   "id": "ed37db24-4eb4-432e-b747-17a80ee1719d",
   "metadata": {},
   "outputs": [
    {
     "name": "stdout",
     "output_type": "stream",
     "text": [
      "N\t: 1719 \n",
      "P@1\t: 0.450 \n",
      "R@1\t: 0.450\n",
      "\n",
      "N\t: 1719 \n",
      "P@1\t: 0.131 \n",
      "R@1\t: 0.657\n",
      "\n",
      "N\t: 1719 \n",
      "P@1\t: 0.072 \n",
      "R@1\t: 0.721\n",
      "\n"
     ]
    },
    {
     "data": {
      "text/plain": [
       "[None, None, None]"
      ]
     },
     "execution_count": 48,
     "metadata": {},
     "output_type": "execute_result"
    }
   ],
   "source": [
    "[print_res(model.test(test_file, k)) for k in [1, 5, 10]]"
   ]
  },
  {
   "cell_type": "markdown",
   "id": "bf1977ca-76dc-4836-827a-b3c5ffedd548",
   "metadata": {},
   "source": [
    "### Increase lr "
   ]
  },
  {
   "cell_type": "code",
   "execution_count": 50,
   "id": "55c17717-abb5-4e5b-abef-06ebf962c0c4",
   "metadata": {},
   "outputs": [],
   "source": [
    "# Default lr\n",
    "test_eq(model.lr, 0.1)"
   ]
  },
  {
   "cell_type": "code",
   "execution_count": 52,
   "id": "1dfc7033-8d8a-4d20-b32f-67cb5a8ffe29",
   "metadata": {},
   "outputs": [
    {
     "name": "stderr",
     "output_type": "stream",
     "text": [
      "Read 0M words\n",
      "Number of words:  11080\n",
      "Number of labels: 1356\n",
      "Progress: 100.0% words/sec/thread:   12473 lr:  0.000000 avg.loss:  8.922214 ETA:   0h 0m 0s\n"
     ]
    }
   ],
   "source": [
    "model=ft.train_supervised(train_file, lr=0.3)"
   ]
  },
  {
   "cell_type": "code",
   "execution_count": 54,
   "id": "4ae092b8-2d1f-4d04-88fe-4f0207d34f8e",
   "metadata": {},
   "outputs": [],
   "source": [
    "test_eq(model.epoch, 5) #Default epoch\n",
    "test_eq(model.lr, 0.3) # specified lr"
   ]
  },
  {
   "cell_type": "code",
   "execution_count": 55,
   "id": "938ad73f-6d58-4860-af01-9f2b0c01b22b",
   "metadata": {},
   "outputs": [
    {
     "name": "stdout",
     "output_type": "stream",
     "text": [
      "N\t: 1719 \n",
      "P@1\t: 0.350 \n",
      "R@1\t: 0.350\n",
      "\n",
      "N\t: 1719 \n",
      "P@1\t: 0.106 \n",
      "R@1\t: 0.532\n",
      "\n",
      "N\t: 1719 \n",
      "P@1\t: 0.059 \n",
      "R@1\t: 0.585\n",
      "\n"
     ]
    },
    {
     "data": {
      "text/plain": [
       "[None, None, None]"
      ]
     },
     "execution_count": 55,
     "metadata": {},
     "output_type": "execute_result"
    }
   ],
   "source": [
    "[print_res(model.test(test_file, k)) for k in [1, 5, 10]]"
   ]
  },
  {
   "cell_type": "code",
   "execution_count": 56,
   "id": "953cc2eb-3de9-4564-a715-72a625d158b0",
   "metadata": {},
   "outputs": [
    {
     "name": "stderr",
     "output_type": "stream",
     "text": [
      "Read 0M words\n",
      "Number of words:  11080\n",
      "Number of labels: 1356\n",
      "Progress: 100.0% words/sec/thread:   12777 lr:  0.000000 avg.loss:  4.663769 ETA:   0h 0m 0s\n"
     ]
    }
   ],
   "source": [
    "model=ft.train_supervised(train_file, lr=1.0)"
   ]
  },
  {
   "cell_type": "code",
   "execution_count": 57,
   "id": "907b2d1e-e5ae-46d1-b17b-d3f9db78b7f4",
   "metadata": {},
   "outputs": [],
   "source": [
    "test_eq(model.lr, 1.0)"
   ]
  },
  {
   "cell_type": "code",
   "execution_count": 58,
   "id": "07d1e153-5303-4494-901a-a6f11666c3fb",
   "metadata": {},
   "outputs": [
    {
     "name": "stdout",
     "output_type": "stream",
     "text": [
      "N\t: 1719 \n",
      "P@1\t: 0.581 \n",
      "R@1\t: 0.581\n",
      "\n",
      "N\t: 1719 \n",
      "P@1\t: 0.155 \n",
      "R@1\t: 0.776\n",
      "\n",
      "N\t: 1719 \n",
      "P@1\t: 0.082 \n",
      "R@1\t: 0.821\n",
      "\n"
     ]
    },
    {
     "data": {
      "text/plain": [
       "[None, None, None]"
      ]
     },
     "execution_count": 58,
     "metadata": {},
     "output_type": "execute_result"
    }
   ],
   "source": [
    "[print_res(model.test(test_file, k)) for k in [1, 5, 10]]"
   ]
  },
  {
   "cell_type": "markdown",
   "id": "0787a759-dcd4-4ede-884a-97483c95667e",
   "metadata": {},
   "source": [
    "### Introducing bigrams with wordNgrams"
   ]
  },
  {
   "cell_type": "code",
   "execution_count": 59,
   "id": "6bf454eb-4c66-4a3d-a9ba-067b9d8e61a4",
   "metadata": {},
   "outputs": [
    {
     "name": "stderr",
     "output_type": "stream",
     "text": [
      "Read 0M words\n",
      "Number of words:  11080\n",
      "Number of labels: 1356\n",
      "Progress: 100.0% words/sec/thread:   12354 lr:  0.000000 avg.loss: 14.612494 ETA:   0h 0m 0s100.1% words/sec/thread:   12355 lr: -0.000056 avg.loss: 14.612494 ETA:   0h 0m 0s\n"
     ]
    }
   ],
   "source": [
    "model = ft.train_supervised(train_file, wordNgrams=2)"
   ]
  },
  {
   "cell_type": "code",
   "execution_count": 60,
   "id": "46006ac7-a06b-489e-b0f8-b4443c347539",
   "metadata": {},
   "outputs": [],
   "source": [
    "test_eq(model.wordNgrams, 2)"
   ]
  },
  {
   "cell_type": "code",
   "execution_count": 61,
   "id": "b037e9a8-4408-454a-bb71-9ca976267d06",
   "metadata": {},
   "outputs": [
    {
     "name": "stdout",
     "output_type": "stream",
     "text": [
      "N\t: 1719 \n",
      "P@1\t: 0.056 \n",
      "R@1\t: 0.056\n",
      "\n",
      "N\t: 1719 \n",
      "P@1\t: 0.022 \n",
      "R@1\t: 0.108\n",
      "\n",
      "N\t: 1719 \n",
      "P@1\t: 0.014 \n",
      "R@1\t: 0.144\n",
      "\n"
     ]
    },
    {
     "data": {
      "text/plain": [
       "[None, None, None]"
      ]
     },
     "execution_count": 61,
     "metadata": {},
     "output_type": "execute_result"
    }
   ],
   "source": [
    "[print_res(model.test(test_file, k)) for k in [1, 5, 10]]"
   ]
  },
  {
   "cell_type": "markdown",
   "id": "248c94ee-1087-4aa4-a7c3-d5b923a94f42",
   "metadata": {},
   "source": [
    "### Process name_strings"
   ]
  },
  {
   "cell_type": "code",
   "execution_count": 5,
   "id": "fff6a6c9-5537-4a3a-ae6d-274fe28a58b0",
   "metadata": {},
   "outputs": [],
   "source": [
    "with open(train_file) as f: train_data = f.readlines()"
   ]
  },
  {
   "cell_type": "code",
   "execution_count": 106,
   "id": "488d2acf-8992-4e72-95ae-57bf0c0c3ba8",
   "metadata": {},
   "outputs": [],
   "source": [
    "with open(test_file) as f: test_data = f.readlines()"
   ]
  },
  {
   "cell_type": "code",
   "execution_count": 88,
   "id": "5bbe5101-7650-4e1b-9303-9e55c5d6440c",
   "metadata": {},
   "outputs": [],
   "source": [
    "import re\n",
    "#_re_spec = re.compile(r'([.\\\\!?,\\'/\\(\\)])')\n",
    "_re_spec = re.compile(r'([/#\\\\-\\\\.:])')\n",
    "\n",
    "def spec_add_spaces(t):\n",
    "    #\"Add spaces around \\!?,'/()\"\n",
    "    \"Add spaces around : - / \\ and #\"\n",
    "    return _re_spec.sub(r' \\1 ', t)\n",
    "\n",
    "# Causes the resulting RE to match from m to n repetitions of the preceding RE, attempting to match as many repetitions as possible.\n",
    "_re_space = re.compile(' {2,}')\n",
    "\n",
    "def rm_useless_spaces(t):\n",
    "    \"Remove multiple spaces\"\n",
    "    return _re_space.sub(' ', t)"
   ]
  },
  {
   "cell_type": "code",
   "execution_count": 89,
   "id": "9ef06d7e-840a-453a-bc82-d51cfef7a4cd",
   "metadata": {},
   "outputs": [],
   "source": [
    "test_eq(spec_add_spaces(\".nltk\"), ' . nltk')\n",
    "test_eq(spec_add_spaces(\"nltk:\"), 'nltk : ')"
   ]
  },
  {
   "cell_type": "code",
   "execution_count": 90,
   "id": "18526586-e42e-467d-a102-04b1f86cdd30",
   "metadata": {},
   "outputs": [],
   "source": [
    "from nltk.stem import SnowballStemmer\n",
    "\n",
    "stemmer = SnowballStemmer(language='english')"
   ]
  },
  {
   "cell_type": "code",
   "execution_count": 91,
   "id": "70e7f89e-156b-4d86-b61d-62904f4601d3",
   "metadata": {},
   "outputs": [
    {
     "data": {
      "text/plain": [
       "'star wars: the new droid army - game boy advance\\n'"
      ]
     },
     "execution_count": 91,
     "metadata": {},
     "output_type": "execute_result"
    }
   ],
   "source": [
    "stemmer.stem('star wars: the new droid army - game boy advance\\n')"
   ]
  },
  {
   "cell_type": "code",
   "execution_count": 96,
   "id": "8b35e5e2-1a84-43bc-9038-ee79305c1911",
   "metadata": {},
   "outputs": [],
   "source": [
    "def process_name(x:str):\n",
    "    tmp = x.split(' ')\n",
    "    cat, name = tmp[0], ' '.join(tmp[1:])\n",
    "    \n",
    "    # replace_punct\n",
    "    name = spec_add_spaces(name)\n",
    "    # replace multiple spaces\n",
    "    name = rm_useless_spaces(name)\n",
    "    \n",
    "    ## add stemmer\n",
    "    name = stemmer.stem(name)\n",
    "    return f\"{cat} {name.lower()}\""
   ]
  },
  {
   "cell_type": "code",
   "execution_count": 97,
   "id": "ba69bdac-933c-4cdb-b165-99caf94760c2",
   "metadata": {},
   "outputs": [
    {
     "data": {
      "text/plain": [
       "'__label__pcmcat196500050012 sigma - 120-300mm f / 22-2 . 8 zoom lens for nikon dslr camera'"
      ]
     },
     "execution_count": 97,
     "metadata": {},
     "output_type": "execute_result"
    }
   ],
   "source": [
    "process_name('__label__pcmcat196500050012 Sigma - 120-300mm f/22-2.8 Zoom Lens for Nikon DSLR Cameras')"
   ]
  },
  {
   "cell_type": "code",
   "execution_count": 98,
   "id": "891032e0-d3b1-4c18-853a-9c98f516145a",
   "metadata": {},
   "outputs": [],
   "source": [
    "processed_train_data = L(train_data).map(process_name)"
   ]
  },
  {
   "cell_type": "code",
   "execution_count": 110,
   "id": "ad0afbd6-e9f0-4c31-9c64-3d59a52d5cd2",
   "metadata": {},
   "outputs": [],
   "source": [
    "processed_test_data = L(test_data).map(process_name)"
   ]
  },
  {
   "cell_type": "code",
   "execution_count": 100,
   "id": "9380d183-34b2-4474-958c-c81afa13f0f6",
   "metadata": {},
   "outputs": [
    {
     "data": {
      "text/plain": [
       "('/workspace/datasets/fasttext/products.train',\n",
       " '/workspace/datasets/fasttext/products.test')"
      ]
     },
     "execution_count": 100,
     "metadata": {},
     "output_type": "execute_result"
    }
   ],
   "source": [
    "train_file, test_file"
   ]
  },
  {
   "cell_type": "code",
   "execution_count": 104,
   "id": "669130ea-33c1-4ccf-969c-a180be513fab",
   "metadata": {},
   "outputs": [],
   "source": [
    "with open('/workspace/datasets/fasttext/products_proc.train', 'w') as f: f.writelines(list(processed_train_data))"
   ]
  },
  {
   "cell_type": "code",
   "execution_count": 111,
   "id": "1fe71692-d266-4f8a-a2cd-74bd2a6d4d10",
   "metadata": {},
   "outputs": [],
   "source": [
    "with open('/workspace/datasets/fasttext/products_proc.test', 'w') as f: f.writelines(list(processed_test_data))"
   ]
  },
  {
   "cell_type": "markdown",
   "id": "049a4ccc-af49-49c2-9c47-271817a2be34",
   "metadata": {},
   "source": [
    "#### Train with default fasttext params after tranform_name"
   ]
  },
  {
   "cell_type": "code",
   "execution_count": 114,
   "id": "aac4500e-9dd0-4a1a-9070-c036d74fdf63",
   "metadata": {},
   "outputs": [],
   "source": [
    "train_file = '/workspace/datasets/fasttext/products_proc.train'\n",
    "test_file = '/workspace/datasets/fasttext/products_proc.test'"
   ]
  },
  {
   "cell_type": "code",
   "execution_count": 115,
   "id": "89f8470a-68c5-4045-8686-95ab38891866",
   "metadata": {},
   "outputs": [
    {
     "name": "stderr",
     "output_type": "stream",
     "text": [
      "Read 0M words\n",
      "Number of words:  9989\n",
      "Number of labels: 1356\n",
      "Progress: 100.0% words/sec/thread:   13529 lr:  0.000000 avg.loss: 13.109398 ETA:   0h 0m 0s\n"
     ]
    }
   ],
   "source": [
    "model = ft.train_supervised(train_file)"
   ]
  },
  {
   "cell_type": "code",
   "execution_count": 118,
   "id": "ab083ab4-57fc-45ac-9de6-1a0ca5eada6a",
   "metadata": {},
   "outputs": [
    {
     "name": "stdout",
     "output_type": "stream",
     "text": [
      "N\t: 1719 \n",
      "P@1\t: 0.138 \n",
      "R@1\t: 0.138\n",
      "\n",
      "N\t: 1719 \n",
      "P@1\t: 0.051 \n",
      "R@1\t: 0.255\n",
      "\n",
      "N\t: 1719 \n",
      "P@1\t: 0.029 \n",
      "R@1\t: 0.289\n",
      "\n"
     ]
    },
    {
     "data": {
      "text/plain": [
       "[None, None, None]"
      ]
     },
     "execution_count": 118,
     "metadata": {},
     "output_type": "execute_result"
    }
   ],
   "source": [
    "[print_res(model.test(test_file, k)) for k in [1, 5, 10]]"
   ]
  },
  {
   "cell_type": "markdown",
   "id": "31db7fe8-ffc9-4db5-961f-b13281bacefa",
   "metadata": {},
   "source": [
    "#### Train with optimized fasttext params after tranform_name"
   ]
  },
  {
   "cell_type": "code",
   "execution_count": 119,
   "id": "2e1fa611-2703-4f61-84f5-ac9609ce8cde",
   "metadata": {},
   "outputs": [
    {
     "name": "stderr",
     "output_type": "stream",
     "text": [
      "Read 0M words\n",
      "Number of words:  9989\n",
      "Number of labels: 1356\n",
      "Progress: 100.0% words/sec/thread:   12647 lr:  0.000000 avg.loss:  1.256690 ETA:   0h 0m 0s\n"
     ]
    }
   ],
   "source": [
    "model = ft.train_supervised(train_file, epoch=25, lr=1.0, wordNgrams=2)"
   ]
  },
  {
   "cell_type": "code",
   "execution_count": 120,
   "id": "17f90ff9-10a3-4275-aefb-890f1ed0bc66",
   "metadata": {},
   "outputs": [
    {
     "name": "stdout",
     "output_type": "stream",
     "text": [
      "N\t: 1719 \n",
      "P@1\t: 0.618 \n",
      "R@1\t: 0.618\n",
      "\n",
      "N\t: 1719 \n",
      "P@1\t: 0.161 \n",
      "R@1\t: 0.805\n",
      "\n",
      "N\t: 1719 \n",
      "P@1\t: 0.085 \n",
      "R@1\t: 0.852\n",
      "\n"
     ]
    },
    {
     "data": {
      "text/plain": [
       "[None, None, None]"
      ]
     },
     "execution_count": 120,
     "metadata": {},
     "output_type": "execute_result"
    }
   ],
   "source": [
    "[print_res(model.test(test_file, k)) for k in [1, 5, 10]]"
   ]
  },
  {
   "cell_type": "markdown",
   "id": "b7015f18-16c7-402e-873d-b1e9532b7624",
   "metadata": {},
   "source": [
    "Precision jumped from 0.138 to 0.618"
   ]
  },
  {
   "cell_type": "markdown",
   "id": "b0a95318-6edb-4f38-a068-60a2f1340468",
   "metadata": {},
   "source": [
    "### Enforce min N of products per category "
   ]
  },
  {
   "cell_type": "code",
   "execution_count": null,
   "id": "9061cc86-3835-4781-a56a-ae1f4fd1f13c",
   "metadata": {},
   "outputs": [],
   "source": []
  }
 ],
 "metadata": {
  "kernelspec": {
   "display_name": "sml_week3",
   "language": "python",
   "name": "sml_week3"
  },
  "language_info": {
   "codemirror_mode": {
    "name": "ipython",
    "version": 3
   },
   "file_extension": ".py",
   "mimetype": "text/x-python",
   "name": "python",
   "nbconvert_exporter": "python",
   "pygments_lexer": "ipython3",
   "version": "3.9.7"
  }
 },
 "nbformat": 4,
 "nbformat_minor": 5
}
