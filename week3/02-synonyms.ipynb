{
 "cells": [
  {
   "cell_type": "markdown",
   "id": "46b768e6-2075-48ce-829d-92df2542d9fc",
   "metadata": {},
   "source": [
    "# Derive Synonyms from Content"
   ]
  },
  {
   "cell_type": "code",
   "execution_count": 1,
   "id": "8e13383b-8aa6-4f5f-ae17-076e5c47bfa7",
   "metadata": {
    "tags": []
   },
   "outputs": [],
   "source": [
    "from fastcore.foundation import L\n",
    "from fastcore.test import *"
   ]
  },
  {
   "cell_type": "code",
   "execution_count": 2,
   "id": "999474d2-1e08-4726-9563-8485697cd775",
   "metadata": {},
   "outputs": [],
   "source": [
    "import re\n",
    "import string\n",
    "from nltk.stem import SnowballStemmer\n",
    "\n",
    "stemmer = SnowballStemmer(language='english')\n",
    "_re_spec = re.compile(r'([/#\\\\-\\\\.:])')\n",
    "\n",
    "def spec_add_spaces(t):\n",
    "    \"Add spaces around . : - / \\ and #\"\n",
    "    return _re_spec.sub(r' \\1 ', t)\n",
    "\n",
    "# Causes the resulting RE to match from m to n repetitions of the preceding RE, attempting to match as many repetitions as possible.\n",
    "_re_space = re.compile(' {2,}')\n",
    "\n",
    "def rm_useless_spaces(t):\n",
    "    \"Remove multiple spaces\"\n",
    "    return _re_space.sub(' ', t)\n",
    "\n",
    "def rm_punct(t):\n",
    "    for p in string.punctuation:\n",
    "        t = t.replace(p, ' ')\n",
    "    return t\n",
    "\n",
    "def transform_training_data(product_name):\n",
    "    \"Transform product name by replacing punctuations, removing multiple spaces, stemming, lower casing\"\n",
    "    name = product_name\n",
    "\n",
    "    # replace_punct\n",
    "    name = spec_add_spaces(name)\n",
    "    \n",
    "    # remove punct\n",
    "    name = rm_punct(name)\n",
    "    \n",
    "    # replace multiple spaces\n",
    "    name = rm_useless_spaces(name)\n",
    "    \n",
    "    # fix registered, trademark, copyright symbol\n",
    "    # remove non-ascii characters from name\n",
    "    name = name.encode(encoding='ascii', errors='ignore').decode()\n",
    "    \n",
    "    name = ' '.join([o for o in name.split(' ') if not o.isnumeric()])\n",
    "    \n",
    "    # add stemmer\n",
    "    name = stemmer.stem(name)\n",
    "    return name.lower()"
   ]
  },
  {
   "cell_type": "code",
   "execution_count": 3,
   "id": "2d4e740b-942e-4840-88a2-538e488cc83f",
   "metadata": {},
   "outputs": [],
   "source": [
    "def evaluate(model, k=4):\n",
    "    types='headphones,televisions,refrigerator,washing machines,smartwatch'\n",
    "    brands='sony,samsung,bosch,apple,skullcandy'\n",
    "    models='iphone,ipad,thinkpad,iwatch,macbook'\n",
    "    attributes='black,red,waterproof,wireless,bluetooth'\n",
    "\n",
    "    evaluation=[]\n",
    "    for o in [types, brands, models, attributes]: evaluation.extend(o.split(','))\n",
    "    \n",
    "    return [(o, model.get_nearest_neighbors(o, k=k)) for o in evaluation]"
   ]
  },
  {
   "cell_type": "code",
   "execution_count": 53,
   "id": "377a72a2-3630-4b7e-b88b-bd8b5c19d887",
   "metadata": {},
   "outputs": [],
   "source": [
    "name='NuForce - Icon uDAC-2 USB Audio Receiver and Digital-to-Analog Converter - Silver'"
   ]
  },
  {
   "cell_type": "code",
   "execution_count": 54,
   "id": "df8c26cf-0308-4803-82b6-db53d1968fa1",
   "metadata": {},
   "outputs": [
    {
     "data": {
      "text/plain": [
       "'nuforce icon udac usb audio receiver and digital to analog converter silv'"
      ]
     },
     "execution_count": 54,
     "metadata": {},
     "output_type": "execute_result"
    }
   ],
   "source": [
    "transform_training_data('NuForce - Icon uDAC-2 USB Audio Receiver and Digital-to-Analog Converter - Silver')"
   ]
  },
  {
   "cell_type": "code",
   "execution_count": 56,
   "id": "c0c3e9d3-56f0-42a7-8ede-d84dc64fb869",
   "metadata": {},
   "outputs": [],
   "source": [
    "test_str = 'iphone®™'"
   ]
  },
  {
   "cell_type": "code",
   "execution_count": 57,
   "id": "e6563305-1d17-42c4-ada2-dc2a5213708c",
   "metadata": {},
   "outputs": [
    {
     "data": {
      "text/plain": [
       "'iphon'"
      ]
     },
     "execution_count": 57,
     "metadata": {},
     "output_type": "execute_result"
    }
   ],
   "source": [
    "transform_training_data(test_str)"
   ]
  },
  {
   "cell_type": "markdown",
   "id": "5557995f-7029-4595-a8fa-ea4699222e5d",
   "metadata": {},
   "source": [
    "The utility extractTitles.py in the week3 directory goes through all of the products in the pruned XML files (i.e., everything except music and movies) and outputs their titles as plain text."
   ]
  },
  {
   "cell_type": "code",
   "execution_count": 1,
   "id": "ed1688fd-32da-42a4-bcbd-c2e7ce8517c2",
   "metadata": {},
   "outputs": [
    {
     "name": "stdout",
     "output_type": "stream",
     "text": [
      "Writing results to /workspace/datasets/fasttext/titles.txt\n"
     ]
    }
   ],
   "source": [
    "!python extractTitles.py"
   ]
  },
  {
   "cell_type": "markdown",
   "id": "73d048b8-1e0c-4bd5-9592-bf939fea6d42",
   "metadata": {},
   "source": [
    " By default, it will save the extracted output to /workspace/datasets/fasttext/titles.txt. Also, by default, it will only sample 10% of the product titles, but you can change that with the -sample_rate parameter. "
   ]
  },
  {
   "cell_type": "code",
   "execution_count": 55,
   "id": "b45ac740-d059-41c2-8415-12055fa08b54",
   "metadata": {},
   "outputs": [
    {
     "name": "stdout",
     "output_type": "stream",
     "text": [
      "maytag cu ft cycle gas dryer whit\n",
      "whirlpool self cleaning drop in electric oven biscuit\n",
      "maytag cu ft cycle supersize capacity plus washer whit\n",
      "maytag cu ft cycle gas steam dryer whit\n",
      "whirlpool self cleaning drop in electric range whit\n",
      "whirlpool self cleaning drop in electric oven black\n",
      "maytag cu ft cycle gas dryer whit\n",
      "eric clapton clapton acoustic dvd\n",
      "greg koch guitar gristle dvd\n",
      "pro tools le beginner level dvd\n"
     ]
    }
   ],
   "source": [
    "!tail /workspace/datasets/fasttext/titles.txt"
   ]
  },
  {
   "cell_type": "code",
   "execution_count": 3,
   "id": "1327eb7e-c47b-45dd-9e6b-5b354103cc03",
   "metadata": {},
   "outputs": [
    {
     "name": "stdout",
     "output_type": "stream",
     "text": [
      "Read 0M words\n",
      "Number of words:  2535\n",
      "Number of labels: 0\n",
      "Progress: 100.0% words/sec/thread:    3663 lr:  0.000000 avg.loss:  2.528054 ETA:   0h 0m 0s 0.008222 avg.loss:  2.611043 ETA:   0h 0m 2s 2.586558 ETA:   0h 0m 1s\n"
     ]
    }
   ],
   "source": [
    "!/home/gitpod/fastText-0.9.2/fasttext skipgram -input /workspace/datasets/fasttext/titles.txt -output /workspace/datasets/fasttext/title_model"
   ]
  },
  {
   "cell_type": "code",
   "execution_count": 4,
   "id": "196ee8cb-2b62-4f1c-9524-6d7ad0317245",
   "metadata": {},
   "outputs": [
    {
     "name": "stdout",
     "output_type": "stream",
     "text": [
      "Query word? ^C\n"
     ]
    }
   ],
   "source": [
    "!/home/gitpod/fastText-0.9.2/fasttext nn /workspace/datasets/fasttext/title_model.bin"
   ]
  },
  {
   "cell_type": "code",
   "execution_count": 5,
   "id": "bd9ac568-6d4b-4fad-84d5-295f884520ff",
   "metadata": {},
   "outputs": [],
   "source": [
    "import fasttext as ft"
   ]
  },
  {
   "cell_type": "code",
   "execution_count": 6,
   "id": "8ec0e2bc-4221-44d9-b403-c954ca0358cb",
   "metadata": {},
   "outputs": [
    {
     "name": "stderr",
     "output_type": "stream",
     "text": [
      "Read 0M words\n",
      "Number of words:  2535\n",
      "Number of labels: 0\n",
      "Progress: 100.0% words/sec/thread:   55515 lr:  0.000000 avg.loss:  2.608343 ETA:   0h 0m 0s\n"
     ]
    }
   ],
   "source": [
    "model=ft.train_unsupervised('/workspace/datasets/fasttext/titles.txt')"
   ]
  },
  {
   "cell_type": "code",
   "execution_count": 10,
   "id": "7a5ecf36-83d6-4b3e-94fd-fb344102655d",
   "metadata": {},
   "outputs": [
    {
     "data": {
      "text/plain": [
       "(#2535) ['-','</s>','for','Black','with','and','Digital','Case','Memory','/'...]"
      ]
     },
     "execution_count": 10,
     "metadata": {},
     "output_type": "execute_result"
    }
   ],
   "source": [
    "L(model.words)"
   ]
  },
  {
   "cell_type": "code",
   "execution_count": 12,
   "id": "3d2d0a68-12d7-44ef-89d6-b7344d4d7c73",
   "metadata": {},
   "outputs": [
    {
     "data": {
      "text/plain": [
       "[(0.9725721478462219, 'Phones'),\n",
       " (0.9674215316772461, 'Phone'),\n",
       " (0.9665066003799438, 'Motorola'),\n",
       " (0.9517971873283386, 'Microphone'),\n",
       " (0.9450824856758118, 'iPhone'),\n",
       " (0.9434287548065186, 'No-Contract'),\n",
       " (0.9432931542396545, 'Headphones'),\n",
       " (0.9296050071716309, 'Microphones'),\n",
       " (0.9289809465408325, 'Smartphones'),\n",
       " (0.9250837564468384, 'Nokia')]"
      ]
     },
     "execution_count": 12,
     "metadata": {},
     "output_type": "execute_result"
    }
   ],
   "source": [
    "model.get_nearest_neighbors('iphone')"
   ]
  },
  {
   "cell_type": "markdown",
   "id": "d18f2359-9d10-4bf4-97f9-d2df4f0ff91e",
   "metadata": {},
   "source": [
    "Establish a set of 20 tokens that you’ll use for evaluation. In order to get a good overall sense, you’ll want some variety: \n",
    "e.g., 5 product types (e.g., headphones), 5 brands (e.g., sony), 5 models (e.g., thinkpad) and 5 attributes (e.g., black)"
   ]
  },
  {
   "cell_type": "markdown",
   "id": "5f3e5982-3109-4ed3-821f-16acb8d66082",
   "metadata": {},
   "source": [
    "types: headphones, televisions, refrigerator, washing machines, smartwatch\n",
    "\n",
    "brands: sony, samsung, bosch, apple, skullcandy\n",
    "\n",
    "models: iphone, ipad, thinkpad, iwatch, macbook\n",
    "\n",
    "attributes: black, red, waterproof, wireless, bluetooth"
   ]
  },
  {
   "cell_type": "markdown",
   "id": "9841d512-eeb8-406c-a998-329dcdbbd6bd",
   "metadata": {},
   "source": [
    "## Extract Titles"
   ]
  },
  {
   "cell_type": "code",
   "execution_count": 27,
   "id": "6f3231df-0ec1-4eec-b36c-6c4ab2fce785",
   "metadata": {},
   "outputs": [],
   "source": [
    "import os\n",
    "import random\n",
    "import xml.etree.ElementTree as ET\n",
    "import argparse\n",
    "from pathlib import Path\n",
    "\n",
    "directory = r'/workspace/search_with_machine_learning_course/data/pruned_products'\n",
    "output_file = \"/workspace/datasets/fasttext/titles.txt\"\n",
    "\n",
    "# def transform_training_data(name):\n",
    "#     # IMPLEMENT\n",
    "#     return name.replace('\\n', ' ')\n",
    "\n",
    "# Directory for product data\n",
    "filenames = [filename for filename in os.listdir(directory) if filename.endswith(\".xml\")]\n",
    "\n",
    "def process_file(filename, sample_rate=0.1):\n",
    "    items = []\n",
    "    print(\"Processing %s\" % filename)\n",
    "    f = os.path.join(directory, filename)\n",
    "    tree = ET.parse(f)\n",
    "    root = tree.getroot()\n",
    "    for child in root:\n",
    "        if random.random() > sample_rate:\n",
    "            continue\n",
    "        if (child.find('name') is not None and child.find('name').text is not None):\n",
    "            name = transform_training_data(child.find('name').text)\n",
    "            items.append(name)\n",
    "            #output.write(name + \"\\n\")\n",
    "    return items\n",
    "\n",
    "# print(\"Writing results to %s\" % output_file)\n",
    "# with open(output_file, 'w') as output:\n",
    "#     for filename in os.listdir(directory):\n",
    "#         if filename.endswith(\".xml\"):\n",
    "#             f = os.path.join(directory, filename)\n",
    "#             tree = ET.parse(f)\n",
    "#             root = tree.getroot()\n",
    "#             for child in root:\n",
    "#                 if random.random() > sample_rate:\n",
    "#                     continue\n",
    "#                 if (child.find('name') is not None and child.find('name').text is not None):\n",
    "#                     name = transform_training_data(child.find('name').text)\n",
    "#                     output.write(name + \"\\n\")"
   ]
  },
  {
   "cell_type": "code",
   "execution_count": 28,
   "id": "f2bf50fc-085a-4620-b0c7-a4907359fdd8",
   "metadata": {},
   "outputs": [
    {
     "name": "stdout",
     "output_type": "stream",
     "text": [
      "Processing pruned_products_1.xml\n",
      "Processing pruned_products_2.xml\n",
      "Processing pruned_products_3.xml\n",
      "Processing pruned_products_4.xml\n",
      "Processing pruned_products_5.xml\n",
      "Processing pruned_products_6.xml\n"
     ]
    }
   ],
   "source": [
    "all_items = []\n",
    "\n",
    "for each in filenames:\n",
    "    all_items.extend(process_file(each))"
   ]
  },
  {
   "cell_type": "code",
   "execution_count": 29,
   "id": "537e6b52-4317-4970-a521-3013d591f8d0",
   "metadata": {},
   "outputs": [
    {
     "data": {
      "text/plain": [
       "11358"
      ]
     },
     "execution_count": 29,
     "metadata": {},
     "output_type": "execute_result"
    }
   ],
   "source": [
    "len(all_items)"
   ]
  },
  {
   "cell_type": "code",
   "execution_count": 30,
   "id": "c053d73d-3fa5-425e-86fe-0880b605a77e",
   "metadata": {},
   "outputs": [
    {
     "data": {
      "text/plain": [
       "(#11358) ['pioneer 50w x mosfet apple® ipod® hd radio ready in dash cd deck','pantech pocket 4g mobile phone black at t ','orphen scion of sorcery playstation ps2 ','sauder audio video storage cabinet sky ald','wipeout ps vita','jura ena one touch cappuccino and latte macchiato maker silv','apple itunes gift card','toshiba satellite laptop intel® core™ i3 processor display matrix graphit','airline tycoon window','best buy gc have a ball gift card'...]"
      ]
     },
     "execution_count": 30,
     "metadata": {},
     "output_type": "execute_result"
    }
   ],
   "source": [
    "L(all_items)"
   ]
  },
  {
   "cell_type": "code",
   "execution_count": 31,
   "id": "1a1ee65e-4e0b-4fec-b6c8-965edbe52f81",
   "metadata": {},
   "outputs": [
    {
     "name": "stderr",
     "output_type": "stream",
     "text": [
      "[nltk_data] Downloading package punkt to /home/gitpod/nltk_data...\n",
      "[nltk_data]   Unzipping tokenizers/punkt.zip.\n"
     ]
    }
   ],
   "source": [
    "import nltk\n",
    "nltk.download('punkt')\n",
    "\n",
    "tokens = L(all_items).map(nltk.word_tokenize)"
   ]
  },
  {
   "cell_type": "code",
   "execution_count": 32,
   "id": "a228026f-3e5f-4ecc-89fb-e7d03c5cb1b6",
   "metadata": {},
   "outputs": [],
   "source": [
    "all_tokens = []\n",
    "for each in tokens: all_tokens.extend(each)"
   ]
  },
  {
   "cell_type": "code",
   "execution_count": 33,
   "id": "9e4fe591-a4f9-4366-8b68-522c375cae55",
   "metadata": {},
   "outputs": [],
   "source": [
    "from collections import Counter\n",
    "tok_count = Counter(all_tokens)"
   ]
  },
  {
   "cell_type": "code",
   "execution_count": 34,
   "id": "2c9bed34-9400-4012-9c83-85ae2088a400",
   "metadata": {},
   "outputs": [
    {
     "data": {
      "text/plain": [
       "[('black', 2037),\n",
       " ('for', 1669),\n",
       " ('with', 1106),\n",
       " ('and', 995),\n",
       " ('digital', 798),\n",
       " ('case', 683),\n",
       " ('camera', 669),\n",
       " ('memory', 662),\n",
       " ('window', 617),\n",
       " ('whit', 603),\n",
       " ('card', 575),\n",
       " ('cu', 573),\n",
       " ('ft', 573),\n",
       " ('the', 563),\n",
       " ('apple®', 532),\n",
       " ('in', 514),\n",
       " ('electric', 454),\n",
       " ('nintendo', 439),\n",
       " ('laptop', 426),\n",
       " ('sony', 415)]"
      ]
     },
     "execution_count": 34,
     "metadata": {},
     "output_type": "execute_result"
    }
   ],
   "source": [
    "tok_count.most_common(20)"
   ]
  },
  {
   "cell_type": "code",
   "execution_count": 35,
   "id": "28d64040-536e-47c1-8021-458386f625f4",
   "metadata": {},
   "outputs": [
    {
     "data": {
      "text/plain": [
       "[('satellites', 1),\n",
       " ('sparkcash', 1),\n",
       " ('ovation', 1),\n",
       " ('celebrity', 1),\n",
       " ('h550', 1),\n",
       " ('cannon', 1),\n",
       " ('position', 1),\n",
       " ('capcell', 1),\n",
       " ('positive', 1)]"
      ]
     },
     "execution_count": 35,
     "metadata": {},
     "output_type": "execute_result"
    }
   ],
   "source": [
    "# 10 rare words\n",
    "tok_count.most_common()[-10:-1]"
   ]
  },
  {
   "cell_type": "code",
   "execution_count": 36,
   "id": "6455ea18-8a8d-4124-90dd-f405628e0f49",
   "metadata": {},
   "outputs": [
    {
     "data": {
      "text/plain": [
       "[('humminbird', 1),\n",
       " ('343c', 1),\n",
       " ('painter', 1),\n",
       " ('northstar', 1),\n",
       " ('blueant', 1),\n",
       " ('supertooth', 1),\n",
       " ('spectrobes', 1),\n",
       " ('portals', 1),\n",
       " ('allman', 1),\n",
       " ('recovering', 1),\n",
       " ('satellites', 1),\n",
       " ('sparkcash', 1),\n",
       " ('ovation', 1),\n",
       " ('celebrity', 1),\n",
       " ('h550', 1),\n",
       " ('cannon', 1),\n",
       " ('position', 1),\n",
       " ('capcell', 1),\n",
       " ('positive', 1)]"
      ]
     },
     "execution_count": 36,
     "metadata": {},
     "output_type": "execute_result"
    }
   ],
   "source": [
    "# 20 rare words\n",
    "tok_count.most_common()[-20:-1]"
   ]
  },
  {
   "cell_type": "code",
   "execution_count": 38,
   "id": "b6518a25-f0c1-4566-9615-4cc0af6b8f28",
   "metadata": {},
   "outputs": [
    {
     "name": "stdout",
     "output_type": "stream",
     "text": [
      "[('clash', 1), ('chili', 1), ('uno', 1), ('radiant', 1), ('reckoning', 1), ('girlz', 1), ('really', 1), ('o2', 1), ('greas', 1), ('s9hd', 1), ('beaten', 1), ('nickelback', 1), ('reasons', 1), ('some', 1), ('mothership', 1), ('lips', 1), ('1950s', 1), ('pay', 1), ('scorpio', 1), ('eide', 1), ('designjet', 1), ('cradle', 1), ('linx', 1), ('trailblazer', 1), ('binoculars', 1), ('enclosures', 1), ('f150', 1), ('supercab', 1), ('hatchbacks', 1), ('sale', 1), ('humminbird', 1), ('343c', 1), ('painter', 1), ('northstar', 1), ('blueant', 1), ('supertooth', 1), ('spectrobes', 1), ('portals', 1), ('allman', 1), ('recovering', 1), ('satellites', 1), ('sparkcash', 1), ('ovation', 1), ('celebrity', 1), ('h550', 1), ('cannon', 1), ('position', 1), ('capcell', 1), ('positive', 1)]\n"
     ]
    }
   ],
   "source": [
    "# 50 rare words\n",
    "print(tok_count.most_common()[-50:-1])"
   ]
  },
  {
   "cell_type": "markdown",
   "id": "689ca22e-7405-49d8-88ba-0d18fd8805ab",
   "metadata": {},
   "source": [
    "## Sample Rate 0.1"
   ]
  },
  {
   "cell_type": "code",
   "execution_count": 39,
   "id": "c023189a-75bf-40b5-91af-85dc7a4627b9",
   "metadata": {},
   "outputs": [
    {
     "name": "stdout",
     "output_type": "stream",
     "text": [
      "Writing results to /workspace/datasets/fasttext/titles.txt\n"
     ]
    }
   ],
   "source": [
    "!python extractTitles.py"
   ]
  },
  {
   "cell_type": "code",
   "execution_count": 40,
   "id": "6f737a27-ec19-492b-8f75-6603267e98f1",
   "metadata": {},
   "outputs": [
    {
     "name": "stderr",
     "output_type": "stream",
     "text": [
      "Read 0M words\n",
      "Number of words:  2348\n",
      "Number of labels: 0\n",
      "Progress: 100.0% words/sec/thread:   30747 lr:  0.000000 avg.loss:  2.642882 ETA:   0h 0m 0s100.0% words/sec/thread:   30752 lr: -0.000011 avg.loss:  2.642882 ETA:   0h 0m 0s\n"
     ]
    }
   ],
   "source": [
    "import fasttext as ft\n",
    "model=ft.train_unsupervised('/workspace/datasets/fasttext/titles.txt')"
   ]
  },
  {
   "cell_type": "code",
   "execution_count": 41,
   "id": "3f933c70-6006-4738-8be5-517f879d3d54",
   "metadata": {},
   "outputs": [
    {
     "name": "stdout",
     "output_type": "stream",
     "text": [
      "['</s>', 'black', 'for', 'with', 'and', 'digital', 'camera', 'case', 'memory', 'window', 'whit', 'card', 'cu', 'ft', 'the', 'in', 'apple®', 'nintendo', 'electric', 'laptop', 'sony', 'wireless', 'series', 'steel', 'stainless', 'playstation', 'guitar', 'hard', 'ge', 'refrigerator', 'system', 'pack', 'side', 'mobile', 's', 'samsung', 'extra', 'range', 'kit', 'on', 'game', 'battery', 'usb', 'bag', 'select', 'd', 'built', 'silv', 'xbox', 'r']\n"
     ]
    }
   ],
   "source": [
    "print(model.words[:50])"
   ]
  },
  {
   "cell_type": "code",
   "execution_count": 42,
   "id": "6c17bcaa-fd1d-4ed8-9a62-bb75c40fd7f2",
   "metadata": {},
   "outputs": [
    {
     "data": {
      "text/plain": [
       "[(0.9884212613105774, 'phones'),\n",
       " (0.987588107585907, 'iphone®'),\n",
       " (0.9804374575614929, 'gophone'),\n",
       " (0.9657481908798218, 'phone'),\n",
       " (0.9601891040802002, 'smartphones'),\n",
       " (0.9589815139770508, 'mobile'),\n",
       " (0.9587773084640503, 'headphone'),\n",
       " (0.9553311467170715, 'phon'),\n",
       " (0.947689950466156, 'microphone'),\n",
       " (0.9473929405212402, 'microphones')]"
      ]
     },
     "execution_count": 42,
     "metadata": {},
     "output_type": "execute_result"
    }
   ],
   "source": [
    "model.get_nearest_neighbors('iphone')"
   ]
  },
  {
   "cell_type": "code",
   "execution_count": 7,
   "id": "d04e6e04-4daa-4187-89b8-3ad6ff2781a1",
   "metadata": {},
   "outputs": [],
   "source": [
    "def evaluate(model, k=4):\n",
    "    types='headphones,televisions,refrigerator,washing machines,smartwatch'\n",
    "    brands='sony,samsung,bosch,apple,skullcandy'\n",
    "    models='iphone,ipad,thinkpad,iwatch,macbook'\n",
    "    attributes='black,red,waterproof,wireless,bluetooth'\n",
    "\n",
    "    evaluation=[]\n",
    "    for o in [types, brands, models, attributes]: evaluation.extend(o.split(','))\n",
    "    \n",
    "    return [(o, model.get_nearest_neighbors(o, k=k)) for o in evaluation]"
   ]
  },
  {
   "cell_type": "code",
   "execution_count": 43,
   "id": "7d96c16f-0274-4988-bcc2-3a9869eb7018",
   "metadata": {},
   "outputs": [],
   "source": [
    "types='headphones,televisions,refrigerator,washing machines,smartwatch'\n",
    "brands='sony,samsung,bosch,apple,skullcandy'\n",
    "models='iphone,ipad,thinkpad,iwatch,macbook'\n",
    "attributes='black,red,waterproof,wireless,bluetooth'\n",
    "evaluation=[]\n",
    "for o in [types, brands, models, attributes]: evaluation.extend(o.split(','))"
   ]
  },
  {
   "cell_type": "code",
   "execution_count": 44,
   "id": "e01b6777-555c-479f-a9a9-1c14170a71ec",
   "metadata": {},
   "outputs": [
    {
     "data": {
      "text/plain": [
       "[('headphones',\n",
       "  [(0.9919744729995728, 'headphone'),\n",
       "   (0.9893032908439636, 'microphones'),\n",
       "   (0.987011194229126, 'headphon'),\n",
       "   (0.9685732126235962, 'microphone')]),\n",
       " ('televisions',\n",
       "  [(0.9955301284790039, 'dolphins'),\n",
       "   (0.99502032995224, 'anaheim'),\n",
       "   (0.9947879314422607, 'ibm'),\n",
       "   (0.9944508075714111, 'battlefield')]),\n",
       " ('refrigerator',\n",
       "  [(0.9975049495697021, 'by'),\n",
       "   (0.9957539439201355, 'thru'),\n",
       "   (0.9954434037208557, 'refriger'),\n",
       "   (0.993172287940979, 'side')]),\n",
       " ('washing machines',\n",
       "  [(0.9951592087745667, 'maple'),\n",
       "   (0.9936034679412842, 'vertical'),\n",
       "   (0.9935685992240906, 'washington'),\n",
       "   (0.9935431480407715, 'marshmallow')]),\n",
       " ('smartwatch',\n",
       "  [(0.9890354871749878, 'fat'),\n",
       "   (0.98868328332901, 'bravo'),\n",
       "   (0.9883300065994263, 'house'),\n",
       "   (0.9879694581031799, 'patch')]),\n",
       " ('sony',\n",
       "  [(0.9773331880569458, 'dcr'),\n",
       "   (0.9768596291542053, 'everio'),\n",
       "   (0.9755401611328125, 'pink'),\n",
       "   (0.9712700247764587, 'kodak')]),\n",
       " ('samsung',\n",
       "  [(0.9749250411987305, 'sharp'),\n",
       "   (0.9674530625343323, 'gloss'),\n",
       "   (0.9670482873916626, 'impact'),\n",
       "   (0.9661068320274353, 'queen')]),\n",
       " ('bosch',\n",
       "  [(0.9921363592147827, 'hood'),\n",
       "   (0.9852949380874634, 'convertible'),\n",
       "   (0.985016942024231, 'clean'),\n",
       "   (0.9842406511306763, 'bottle')]),\n",
       " ('apple',\n",
       "  [(0.9916970729827881, 'skin'),\n",
       "   (0.9886878728866577, 'ipad™'),\n",
       "   (0.9845685362815857, 'generation'),\n",
       "   (0.9822391867637634, 'ipad®')]),\n",
       " ('skullcandy',\n",
       "  [(0.9908198714256287, 'griffin'),\n",
       "   (0.9905840754508972, 'armband'),\n",
       "   (0.9901368021965027, 'nancy'),\n",
       "   (0.9892617464065552, '2nd')]),\n",
       " ('iphone',\n",
       "  [(0.9884212613105774, 'phones'),\n",
       "   (0.987588107585907, 'iphone®'),\n",
       "   (0.9804374575614929, 'gophone'),\n",
       "   (0.9657481908798218, 'phone')]),\n",
       " ('ipad',\n",
       "  [(0.9964092969894409, 'ipad®'),\n",
       "   (0.9902099967002869, 'apple®'),\n",
       "   (0.9869078993797302, 'nano'),\n",
       "   (0.986458957195282, 'ipad™')]),\n",
       " ('thinkpad',\n",
       "  [(0.9961518049240112, 'ibm'),\n",
       "   (0.9944484829902649, 'purpl'),\n",
       "   (0.9924308657646179, 'matte'),\n",
       "   (0.9919074177742004, 'altec')]),\n",
       " ('iwatch',\n",
       "  [(0.9938912391662598, 'watch'),\n",
       "   (0.9858306646347046, 'watt'),\n",
       "   (0.9854934811592102, 'hold'),\n",
       "   (0.9853333234786987, 'wahl')]),\n",
       " ('macbook',\n",
       "  [(0.9955015778541565, 'notebook'),\n",
       "   (0.994448721408844, 'macbook®'),\n",
       "   (0.9931162595748901, 'essentials'),\n",
       "   (0.9920604825019836, 'charcoal')]),\n",
       " ('black',\n",
       "  [(0.9570668935775757, 'blackjack'),\n",
       "   (0.9372588992118835, 'large'),\n",
       "   (0.9177713990211487, 'blackberry'),\n",
       "   (0.9163843989372253, 'din')]),\n",
       " ('red',\n",
       "  [(0.96796053647995, 'dsc'),\n",
       "   (0.9649320840835571, 'sigma'),\n",
       "   (0.9643443822860718, 'dsl'),\n",
       "   (0.9631742238998413, 'zoo')]),\n",
       " ('waterproof',\n",
       "  [(0.986605167388916, 'watt'),\n",
       "   (0.9847747683525085, 'thx'),\n",
       "   (0.9846227765083313, 'dog'),\n",
       "   (0.9844785928726196, 'refractor')]),\n",
       " ('wireless',\n",
       "  [(0.9593647718429565, 'unlocked'),\n",
       "   (0.9575864672660828, 'networking'),\n",
       "   (0.9565951824188232, 'dec'),\n",
       "   (0.9519273638725281, 'tone')]),\n",
       " ('bluetooth',\n",
       "  [(0.9890756607055664, 'blackstone'),\n",
       "   (0.9884278178215027, 'handheld'),\n",
       "   (0.9866699576377869, 'droid'),\n",
       "   (0.985931396484375, 'mysteries')])]"
      ]
     },
     "execution_count": 44,
     "metadata": {},
     "output_type": "execute_result"
    }
   ],
   "source": [
    "[(o, model.get_nearest_neighbors(o, k=4)) for o in evaluation]"
   ]
  },
  {
   "cell_type": "markdown",
   "id": "a08d5288-8cac-4583-b01e-e23de3108122",
   "metadata": {},
   "source": [
    "## Sample Rate 1.0"
   ]
  },
  {
   "cell_type": "code",
   "execution_count": 58,
   "id": "05ee37ff-80f3-4313-a56b-18b052c648ac",
   "metadata": {},
   "outputs": [
    {
     "name": "stdout",
     "output_type": "stream",
     "text": [
      "Writing results to /workspace/datasets/fasttext/titles.txt\n"
     ]
    }
   ],
   "source": [
    "!python extractTitles.py --sample_rate 1.0"
   ]
  },
  {
   "cell_type": "code",
   "execution_count": 59,
   "id": "ac172d8f-de3d-4162-869d-cd4ffb3801f6",
   "metadata": {},
   "outputs": [
    {
     "name": "stdout",
     "output_type": "stream",
     "text": [
      "115358 /workspace/datasets/fasttext/titles.txt\n"
     ]
    }
   ],
   "source": [
    "!wc -l /workspace/datasets/fasttext/titles.txt"
   ]
  },
  {
   "cell_type": "code",
   "execution_count": 4,
   "id": "0620d6ad-0c23-4aa9-9f59-8ee9a89acd08",
   "metadata": {},
   "outputs": [
    {
     "name": "stderr",
     "output_type": "stream",
     "text": [
      "Read 1M words\n",
      "Number of words:  8651\n",
      "Number of labels: 0\n",
      "Progress: 100.0% words/sec/thread:   52372 lr:  0.000000 avg.loss:  1.004333 ETA:   0h 0m 0s\n"
     ]
    }
   ],
   "source": [
    "import fasttext as ft\n",
    "model=ft.train_unsupervised('/workspace/datasets/fasttext/titles.txt', lr=0.1, epoch=25)"
   ]
  },
  {
   "cell_type": "code",
   "execution_count": 65,
   "id": "058b2206-2f71-4354-9c05-ea67f6a5b841",
   "metadata": {},
   "outputs": [
    {
     "data": {
      "text/plain": [
       "(0.05, 5, 5, 1)"
      ]
     },
     "execution_count": 65,
     "metadata": {},
     "output_type": "execute_result"
    }
   ],
   "source": [
    "model.lr, model.epoch, model.minCount, model.wordNgrams"
   ]
  },
  {
   "cell_type": "code",
   "execution_count": 49,
   "id": "e2812054-e694-4dcb-a972-b7c6dc53501a",
   "metadata": {},
   "outputs": [
    {
     "data": {
      "text/plain": [
       "\u001b[0;31mSignature:\u001b[0m \u001b[0mft\u001b[0m\u001b[0;34m.\u001b[0m\u001b[0mtrain_unsupervised\u001b[0m\u001b[0;34m(\u001b[0m\u001b[0;34m*\u001b[0m\u001b[0mkargs\u001b[0m\u001b[0;34m,\u001b[0m \u001b[0;34m**\u001b[0m\u001b[0mkwargs\u001b[0m\u001b[0;34m)\u001b[0m\u001b[0;34m\u001b[0m\u001b[0;34m\u001b[0m\u001b[0m\n",
       "\u001b[0;31mSource:\u001b[0m   \n",
       "\u001b[0;32mdef\u001b[0m \u001b[0mtrain_unsupervised\u001b[0m\u001b[0;34m(\u001b[0m\u001b[0;34m*\u001b[0m\u001b[0mkargs\u001b[0m\u001b[0;34m,\u001b[0m \u001b[0;34m**\u001b[0m\u001b[0mkwargs\u001b[0m\u001b[0;34m)\u001b[0m\u001b[0;34m:\u001b[0m\u001b[0;34m\u001b[0m\n",
       "\u001b[0;34m\u001b[0m    \u001b[0;34m\"\"\"\u001b[0m\n",
       "\u001b[0;34m    Train an unsupervised model and return a model object.\u001b[0m\n",
       "\u001b[0;34m\u001b[0m\n",
       "\u001b[0;34m    input must be a filepath. The input text does not need to be tokenized\u001b[0m\n",
       "\u001b[0;34m    as per the tokenize function, but it must be preprocessed and encoded\u001b[0m\n",
       "\u001b[0;34m    as UTF-8. You might want to consult standard preprocessing scripts such\u001b[0m\n",
       "\u001b[0;34m    as tokenizer.perl mentioned here: http://www.statmt.org/wmt07/baseline.html\u001b[0m\n",
       "\u001b[0;34m\u001b[0m\n",
       "\u001b[0;34m    The input field must not contain any labels or use the specified label prefix\u001b[0m\n",
       "\u001b[0;34m    unless it is ok for those words to be ignored. For an example consult the\u001b[0m\n",
       "\u001b[0;34m    dataset pulled by the example script word-vector-example.sh, which is\u001b[0m\n",
       "\u001b[0;34m    part of the fastText repository.\u001b[0m\n",
       "\u001b[0;34m    \"\"\"\u001b[0m\u001b[0;34m\u001b[0m\n",
       "\u001b[0;34m\u001b[0m    \u001b[0marg_names\u001b[0m \u001b[0;34m=\u001b[0m \u001b[0;34m[\u001b[0m\u001b[0;34m'input'\u001b[0m\u001b[0;34m,\u001b[0m \u001b[0;34m'model'\u001b[0m\u001b[0;34m,\u001b[0m \u001b[0;34m'lr'\u001b[0m\u001b[0;34m,\u001b[0m \u001b[0;34m'dim'\u001b[0m\u001b[0;34m,\u001b[0m \u001b[0;34m'ws'\u001b[0m\u001b[0;34m,\u001b[0m \u001b[0;34m'epoch'\u001b[0m\u001b[0;34m,\u001b[0m \u001b[0;34m'minCount'\u001b[0m\u001b[0;34m,\u001b[0m\u001b[0;34m\u001b[0m\n",
       "\u001b[0;34m\u001b[0m                 \u001b[0;34m'minCountLabel'\u001b[0m\u001b[0;34m,\u001b[0m \u001b[0;34m'minn'\u001b[0m\u001b[0;34m,\u001b[0m \u001b[0;34m'maxn'\u001b[0m\u001b[0;34m,\u001b[0m \u001b[0;34m'neg'\u001b[0m\u001b[0;34m,\u001b[0m \u001b[0;34m'wordNgrams'\u001b[0m\u001b[0;34m,\u001b[0m \u001b[0;34m'loss'\u001b[0m\u001b[0;34m,\u001b[0m \u001b[0;34m'bucket'\u001b[0m\u001b[0;34m,\u001b[0m\u001b[0;34m\u001b[0m\n",
       "\u001b[0;34m\u001b[0m                 \u001b[0;34m'thread'\u001b[0m\u001b[0;34m,\u001b[0m \u001b[0;34m'lrUpdateRate'\u001b[0m\u001b[0;34m,\u001b[0m \u001b[0;34m't'\u001b[0m\u001b[0;34m,\u001b[0m \u001b[0;34m'label'\u001b[0m\u001b[0;34m,\u001b[0m \u001b[0;34m'verbose'\u001b[0m\u001b[0;34m,\u001b[0m \u001b[0;34m'pretrainedVectors'\u001b[0m\u001b[0;34m]\u001b[0m\u001b[0;34m\u001b[0m\n",
       "\u001b[0;34m\u001b[0m    \u001b[0margs\u001b[0m\u001b[0;34m,\u001b[0m \u001b[0mmanually_set_args\u001b[0m \u001b[0;34m=\u001b[0m \u001b[0mread_args\u001b[0m\u001b[0;34m(\u001b[0m\u001b[0mkargs\u001b[0m\u001b[0;34m,\u001b[0m \u001b[0mkwargs\u001b[0m\u001b[0;34m,\u001b[0m \u001b[0marg_names\u001b[0m\u001b[0;34m,\u001b[0m\u001b[0;34m\u001b[0m\n",
       "\u001b[0;34m\u001b[0m                                        \u001b[0munsupervised_default\u001b[0m\u001b[0;34m)\u001b[0m\u001b[0;34m\u001b[0m\n",
       "\u001b[0;34m\u001b[0m    \u001b[0ma\u001b[0m \u001b[0;34m=\u001b[0m \u001b[0m_build_args\u001b[0m\u001b[0;34m(\u001b[0m\u001b[0margs\u001b[0m\u001b[0;34m,\u001b[0m \u001b[0mmanually_set_args\u001b[0m\u001b[0;34m)\u001b[0m\u001b[0;34m\u001b[0m\n",
       "\u001b[0;34m\u001b[0m    \u001b[0mft\u001b[0m \u001b[0;34m=\u001b[0m \u001b[0m_FastText\u001b[0m\u001b[0;34m(\u001b[0m\u001b[0margs\u001b[0m\u001b[0;34m=\u001b[0m\u001b[0ma\u001b[0m\u001b[0;34m)\u001b[0m\u001b[0;34m\u001b[0m\n",
       "\u001b[0;34m\u001b[0m    \u001b[0mfasttext\u001b[0m\u001b[0;34m.\u001b[0m\u001b[0mtrain\u001b[0m\u001b[0;34m(\u001b[0m\u001b[0mft\u001b[0m\u001b[0;34m.\u001b[0m\u001b[0mf\u001b[0m\u001b[0;34m,\u001b[0m \u001b[0ma\u001b[0m\u001b[0;34m)\u001b[0m\u001b[0;34m\u001b[0m\n",
       "\u001b[0;34m\u001b[0m    \u001b[0mft\u001b[0m\u001b[0;34m.\u001b[0m\u001b[0mset_args\u001b[0m\u001b[0;34m(\u001b[0m\u001b[0mft\u001b[0m\u001b[0;34m.\u001b[0m\u001b[0mf\u001b[0m\u001b[0;34m.\u001b[0m\u001b[0mgetArgs\u001b[0m\u001b[0;34m(\u001b[0m\u001b[0;34m)\u001b[0m\u001b[0;34m)\u001b[0m\u001b[0;34m\u001b[0m\n",
       "\u001b[0;34m\u001b[0m    \u001b[0;32mreturn\u001b[0m \u001b[0mft\u001b[0m\u001b[0;34m\u001b[0m\u001b[0;34m\u001b[0m\u001b[0m\n",
       "\u001b[0;31mFile:\u001b[0m      ~/.pyenv/versions/search_with_ml_week3/lib/python3.9/site-packages/fasttext/FastText.py\n",
       "\u001b[0;31mType:\u001b[0m      function\n"
      ]
     },
     "metadata": {},
     "output_type": "display_data"
    }
   ],
   "source": [
    "ft.train_unsupervised??"
   ]
  },
  {
   "cell_type": "code",
   "execution_count": 5,
   "id": "902aaf4d-4a00-480a-a47d-195b52119688",
   "metadata": {},
   "outputs": [
    {
     "data": {
      "text/plain": [
       "[('headphones',\n",
       "  [(0.8895946741104126, 'earbud'),\n",
       "   (0.8213903307914734, 'headphon'),\n",
       "   (0.8014456033706665, 'ear'),\n",
       "   (0.7627490162849426, 'headphone'),\n",
       "   (0.7085865139961243, 'uprock')]),\n",
       " ('televisions',\n",
       "  [(0.9032291769981384, 'television'),\n",
       "   (0.8672158122062683, 'televis'),\n",
       "   (0.6146353483200073, 'purevision'),\n",
       "   (0.5986377596855164, 'sunbritetv'),\n",
       "   (0.5626944303512573, 'tvs')]),\n",
       " ('refrigerator',\n",
       "  [(0.8376485109329224, 'side'),\n",
       "   (0.8363350033760071, 'refrigerators'),\n",
       "   (0.7642907500267029, 'ft'),\n",
       "   (0.7570213675498962, 'cu'),\n",
       "   (0.7307917475700378, 'ultrafinish')]),\n",
       " ('washing machines',\n",
       "  [(0.7319537997245789, 'machines'),\n",
       "   (0.6987502574920654, 'washing'),\n",
       "   (0.6780431866645813, 'orioles'),\n",
       "   (0.6701635718345642, 'emachines'),\n",
       "   (0.6558340191841125, 'ravens')]),\n",
       " ('smartwatch',\n",
       "  [(0.7180104851722717, 'watch'),\n",
       "   (0.6671700477600098, 'smarter'),\n",
       "   (0.6441442966461182, 'smartridg'),\n",
       "   (0.6416373252868652, 'veteran'),\n",
       "   (0.6404958963394165, 'smartstart')]),\n",
       " ('sony',\n",
       "  [(0.6130685806274414, 'walkman'),\n",
       "   (0.6016021966934204, 'handycam'),\n",
       "   (0.600243330001831, 'bravia'),\n",
       "   (0.5843499898910522, 'a55'),\n",
       "   (0.5770882964134216, 'cyber')]),\n",
       " ('samsung',\n",
       "  [(0.6914002895355225, 'lg'),\n",
       "   (0.582668662071228, 'galaxy'),\n",
       "   (0.5748240351676941, 'sch'),\n",
       "   (0.5657505989074707, 'fascin'),\n",
       "   (0.5532785654067993, 'fascinate')]),\n",
       " ('bosch',\n",
       "  [(0.7008645534515381, 'axxis'),\n",
       "   (0.6852715611457825, 'anthracit'),\n",
       "   (0.6669366359710693, 'frigidaire'),\n",
       "   (0.6663895845413208, 'integra'),\n",
       "   (0.6488534212112427, 'ascenta')]),\n",
       " ('apple',\n",
       "  [(0.8624334931373596, 'ipod'),\n",
       "   (0.8398645520210266, 'iphone'),\n",
       "   (0.79683917760849, 'ipad'),\n",
       "   (0.6783204674720764, 'generation'),\n",
       "   (0.6587878465652466, '4th')]),\n",
       " ('skullcandy',\n",
       "  [(0.8369380235671997, 'skullcrusher'),\n",
       "   (0.712931752204895, 'lowrider'),\n",
       "   (0.6921206116676331, 'chops'),\n",
       "   (0.6755098700523376, 'hesh'),\n",
       "   (0.6551093459129333, 'rasta')]),\n",
       " ('iphone',\n",
       "  [(0.8398642539978027, 'apple'),\n",
       "   (0.8277813196182251, '4s'),\n",
       "   (0.7532793283462524, 'ipod'),\n",
       "   (0.6990818381309509, 'ipad'),\n",
       "   (0.665592610836029, '3gs')]),\n",
       " ('ipad',\n",
       "  [(0.7968392968177795, 'apple'),\n",
       "   (0.6990818381309509, 'iphone'),\n",
       "   (0.6875542402267456, '3rd'),\n",
       "   (0.658582329750061, 'generation'),\n",
       "   (0.6081434488296509, 'sleeve')]),\n",
       " ('thinkpad',\n",
       "  [(0.776611328125, 'lenovo'),\n",
       "   (0.7430086731910706, 'lifebook'),\n",
       "   (0.7359004616737366, 'ideapad'),\n",
       "   (0.7186065316200256, '2520m'),\n",
       "   (0.7075217962265015, 'thinkcentre')]),\n",
       " ('iwatch',\n",
       "  [(0.8729208111763, 'iwatchz'),\n",
       "   (0.7955785393714905, 'watchband'),\n",
       "   (0.7233864665031433, 'watch'),\n",
       "   (0.6923391819000244, 'tiktok'),\n",
       "   (0.6878165602684021, '6th')]),\n",
       " ('macbook',\n",
       "  [(0.7169195413589478, 'unibody'),\n",
       "   (0.6774076819419861, 'palmguard'),\n",
       "   (0.6617951393127441, 'bookendz'),\n",
       "   (0.6469947099685669, 'seethru'),\n",
       "   (0.6422788500785828, 'magsafe')]),\n",
       " ('black',\n",
       "  [(0.6366460919380188, 'silv'),\n",
       "   (0.6175890564918518, 'gray'),\n",
       "   (0.5927024483680725, 'whit'),\n",
       "   (0.5663902163505554, 'silver'),\n",
       "   (0.5276104211807251, 'blu')]),\n",
       " ('red',\n",
       "  [(0.6401453018188477, 'blue'),\n",
       "   (0.6077320575714111, 'l22'),\n",
       "   (0.5809234976768494, 'l18'),\n",
       "   (0.5476120710372925, 'l26'),\n",
       "   (0.5455878376960754, 'ms230')]),\n",
       " ('waterproof',\n",
       "  [(0.5599453449249268, 'waas'),\n",
       "   (0.5547696948051453, 'amphibx'),\n",
       "   (0.5483449697494507, 'proof'),\n",
       "   (0.5372002720832825, 'etrex'),\n",
       "   (0.5366173982620239, 'xp50')]),\n",
       " ('wireless',\n",
       "  [(0.5963607430458069, 'ub32p'),\n",
       "   (0.586830735206604, 'n150'),\n",
       "   (0.5844107866287231, 'slimtouch'),\n",
       "   (0.5744996070861816, 'speedbooster'),\n",
       "   (0.5729033350944519, 'airstation')]),\n",
       " ('bluetooth',\n",
       "  [(0.6798391342163086, 'headset'),\n",
       "   (0.6396328210830688, 'blueant'),\n",
       "   (0.6173180937767029, 'speakerphon'),\n",
       "   (0.6162145137786865, 'enabled'),\n",
       "   (0.6030077934265137, 'soundfreaq')])]"
      ]
     },
     "execution_count": 5,
     "metadata": {},
     "output_type": "execute_result"
    }
   ],
   "source": [
    "evaluate(model, k=5)"
   ]
  },
  {
   "cell_type": "code",
   "execution_count": 9,
   "id": "503f4f30-692c-4565-9e89-04bfe65f625b",
   "metadata": {},
   "outputs": [
    {
     "name": "stderr",
     "output_type": "stream",
     "text": [
      "Read 1M words\n",
      "Number of words:  5743\n",
      "Number of labels: 0\n",
      "Progress: 100.0% words/sec/thread:   54597 lr:  0.000000 avg.loss:  1.059682 ETA:   0h 0m 0s\n"
     ]
    },
    {
     "data": {
      "text/plain": [
       "[('headphones',\n",
       "  [(0.8930500745773315, 'earbud'),\n",
       "   (0.827166736125946, 'headphon'),\n",
       "   (0.7981834411621094, 'ear'),\n",
       "   (0.7742078900337219, 'headphone'),\n",
       "   (0.6548944115638733, 'bud')]),\n",
       " ('televisions',\n",
       "  [(0.8712342381477356, 'television'),\n",
       "   (0.5790674686431885, 'tvs'),\n",
       "   (0.5442847013473511, 'visionmount'),\n",
       "   (0.5345789790153503, 'vcr'),\n",
       "   (0.5310589075088501, 'pole')]),\n",
       " ('refrigerator',\n",
       "  [(0.8360533714294434, 'refrigerators'),\n",
       "   (0.8313722610473633, 'side'),\n",
       "   (0.7770050764083862, 'cu'),\n",
       "   (0.7649127244949341, 'ft'),\n",
       "   (0.7276114821434021, 'satina')]),\n",
       " ('washing machines',\n",
       "  [(0.7467196583747864, 'washington'),\n",
       "   (0.7333082556724548, 'emachines'),\n",
       "   (0.7068591117858887, 'machines'),\n",
       "   (0.6511589288711548, 'buccaneers'),\n",
       "   (0.6405819654464722, 'seattle')]),\n",
       " ('smartwatch',\n",
       "  [(0.7764878869056702, 'watch'),\n",
       "   (0.6903185248374939, 'schedule'),\n",
       "   (0.6675777435302734, 'smarter'),\n",
       "   (0.6601588726043701, 'smartridge'),\n",
       "   (0.6594529747962952, 'veteran')]),\n",
       " ('sony',\n",
       "  [(0.6033368110656738, 'vaio'),\n",
       "   (0.5967350602149963, 'bravia'),\n",
       "   (0.5905405282974243, 'walkman'),\n",
       "   (0.5853220820426941, 'xplod'),\n",
       "   (0.5681419372558594, 'handycam')]),\n",
       " ('samsung',\n",
       "  [(0.7692736983299255, 'lg'),\n",
       "   (0.5917716026306152, 'galaxy'),\n",
       "   (0.5642165541648865, 'captivate'),\n",
       "   (0.5504826307296753, 'fascinate'),\n",
       "   (0.5189763903617859, 'sharp')]),\n",
       " ('bosch',\n",
       "  [(0.7120200395584106, 'ascenta'),\n",
       "   (0.6869203448295593, 'frigidaire'),\n",
       "   (0.6799055933952332, 'integra'),\n",
       "   (0.647808313369751, 'tassimo'),\n",
       "   (0.6438758969306946, 'ge')]),\n",
       " ('apple',\n",
       "  [(0.8607126474380493, 'ipod'),\n",
       "   (0.8040562272071838, 'iphone'),\n",
       "   (0.8035280108451843, 'ipad'),\n",
       "   (0.6473099589347839, 'generation'),\n",
       "   (0.6389333605766296, '4th')]),\n",
       " ('skullcandy',\n",
       "  [(0.6939330697059631, 'lowrider'),\n",
       "   (0.6710801124572754, 'hesh'),\n",
       "   (0.6563137173652649, 'chops'),\n",
       "   (0.6361392140388489, 'earbuds'),\n",
       "   (0.6303007006645203, 'smokin')]),\n",
       " ('iphone',\n",
       "  [(0.8279114365577698, '4s'),\n",
       "   (0.8040561676025391, 'apple'),\n",
       "   (0.7181593775749207, 'ipod'),\n",
       "   (0.6930370926856995, '3gs'),\n",
       "   (0.6868726015090942, '4')]),\n",
       " ('ipad',\n",
       "  [(0.8035281300544739, 'apple'),\n",
       "   (0.6871665716171265, '3rd'),\n",
       "   (0.6847782135009766, 'generation'),\n",
       "   (0.6830857396125793, 'iphone'),\n",
       "   (0.605480968952179, 'sleeve')]),\n",
       " ('thinkpad',\n",
       "  [(0.8214962482452393, 'lenovo'),\n",
       "   (0.7530761957168579, 'lifebook'),\n",
       "   (0.744512677192688, 'ideapad'),\n",
       "   (0.7017699480056763, 'thinkcentre'),\n",
       "   (0.6812312006950378, 'ibm')]),\n",
       " ('iwatch',\n",
       "  [(0.8473566174507141, 'iwatchz'),\n",
       "   (0.7569916844367981, 'watch'),\n",
       "   (0.737084150314331, 'watchband'),\n",
       "   (0.6533205509185791, '6th'),\n",
       "   (0.63714599609375, 'heart')]),\n",
       " ('macbook',\n",
       "  [(0.6497457027435303, 'bookendz'),\n",
       "   (0.6365326046943665, 'seethru'),\n",
       "   (0.5944020748138428, 'laptops'),\n",
       "   (0.5881612300872803, 'imac'),\n",
       "   (0.586890459060669, 'g4')]),\n",
       " ('black',\n",
       "  [(0.6688758134841919, 'whit'),\n",
       "   (0.650084912776947, 'silv'),\n",
       "   (0.6429136991500854, 'gray'),\n",
       "   (0.563870906829834, 'brown'),\n",
       "   (0.540441632270813, 'silver')]),\n",
       " ('red',\n",
       "  [(0.6210506558418274, 'l22'),\n",
       "   (0.582852303981781, 'sox'),\n",
       "   (0.5676843523979187, 'sd780'),\n",
       "   (0.5460012555122375, 'sx150'),\n",
       "   (0.5408275723457336, 'blue')]),\n",
       " ('waterproof',\n",
       "  [(0.5588862895965576, 'waas'),\n",
       "   (0.5445414185523987, 'etrex'),\n",
       "   (0.5389012098312378, 'h2o'),\n",
       "   (0.5233386754989624, 'ego'),\n",
       "   (0.5203288197517395, 'proof')]),\n",
       " ('wireless',\n",
       "  [(0.5869511365890503, 'mous'),\n",
       "   (0.5639330744743347, 'rangeplus'),\n",
       "   (0.5560396313667297, 'novatel'),\n",
       "   (0.553662896156311, 'rangemax'),\n",
       "   (0.5513189435005188, '11b')]),\n",
       " ('bluetooth',\n",
       "  [(0.6845731139183044, 'headset'),\n",
       "   (0.6590333580970764, 'speakerphon'),\n",
       "   (0.6531893014907837, 'blueant'),\n",
       "   (0.6124855279922485, 'speakerphone'),\n",
       "   (0.5976101160049438, 'enabled')])]"
      ]
     },
     "execution_count": 9,
     "metadata": {},
     "output_type": "execute_result"
    }
   ],
   "source": [
    "model10=ft.train_unsupervised('/workspace/datasets/fasttext/titles.txt',lr=0.1, epoch=25, minCount=10)\n",
    "\n",
    "evaluate(model10, k=5)"
   ]
  },
  {
   "cell_type": "code",
   "execution_count": 10,
   "id": "296620f5-3e23-4a04-963c-6d958edbf138",
   "metadata": {
    "tags": []
   },
   "outputs": [
    {
     "name": "stderr",
     "output_type": "stream",
     "text": [
      "Read 1M words\n",
      "Number of words:  3749\n",
      "Number of labels: 0\n",
      "Progress: 100.0% words/sec/thread:   55466 lr:  0.000000 avg.loss:  1.141127 ETA:   0h 0m 0s100.0% words/sec/thread:   55466 lr: -0.000002 avg.loss:  1.141127 ETA:   0h 0m 0s\n"
     ]
    },
    {
     "data": {
      "text/plain": [
       "[('headphones',\n",
       "  [(0.897201657295227, 'earbud'),\n",
       "   (0.8415265679359436, 'headphon'),\n",
       "   (0.8182222843170166, 'ear'),\n",
       "   (0.7751890420913696, 'headphone'),\n",
       "   (0.658271312713623, 'lowrider')]),\n",
       " ('televisions',\n",
       "  [(0.6713113188743591, 'redskins'),\n",
       "   (0.6457560658454895, 'dolphins'),\n",
       "   (0.6449776887893677, 'panthers'),\n",
       "   (0.6283527612686157, 'bengals'),\n",
       "   (0.6211680173873901, 'titans')]),\n",
       " ('refrigerator',\n",
       "  [(0.8227670192718506, 'side'),\n",
       "   (0.7185763716697693, 'cu'),\n",
       "   (0.7053077816963196, 'ft'),\n",
       "   (0.6986026763916016, 'satina'),\n",
       "   (0.6966159343719482, 'refriger')]),\n",
       " ('washing machines',\n",
       "  [(0.7679130434989929, 'washington'),\n",
       "   (0.7256389856338501, 'emachines'),\n",
       "   (0.6501688957214355, 'seattle'),\n",
       "   (0.6486727595329285, 'houston'),\n",
       "   (0.6449505090713501, 'oakland')]),\n",
       " ('smartwatch',\n",
       "  [(0.7220542430877686, 'watch'),\n",
       "   (0.6277055740356445, 'tailgate'),\n",
       "   (0.6095103025436401, 'smartridge'),\n",
       "   (0.6089803576469421, 'schedule'),\n",
       "   (0.6019293069839478, 'veteran')]),\n",
       " ('sony',\n",
       "  [(0.6006178855895996, 'jvc'),\n",
       "   (0.5515496730804443, 'handycam'),\n",
       "   (0.5512036085128784, 'bravia'),\n",
       "   (0.5378890633583069, 'walkman'),\n",
       "   (0.5353599190711975, 'vaio')]),\n",
       " ('samsung',\n",
       "  [(0.7173053622245789, 'lg'),\n",
       "   (0.5538784861564636, 'galaxy'),\n",
       "   (0.542654812335968, 'nexus'),\n",
       "   (0.5127673745155334, 'razr'),\n",
       "   (0.5000669956207275, 'viewsonic')]),\n",
       " ('bosch',\n",
       "  [(0.698064386844635, 'electrolux'),\n",
       "   (0.6820367574691772, 'integra'),\n",
       "   (0.6733994483947754, 'ascenta'),\n",
       "   (0.6319981217384338, 'whirlpool'),\n",
       "   (0.6284559965133667, 'ge')]),\n",
       " ('apple',\n",
       "  [(0.8502365350723267, 'ipod'),\n",
       "   (0.8037647604942322, 'iphone'),\n",
       "   (0.7752129435539246, 'ipad'),\n",
       "   (0.6563090085983276, '4th'),\n",
       "   (0.651677668094635, 'generation')]),\n",
       " ('skullcandy',\n",
       "  [(0.6902932524681091, 'hesh'),\n",
       "   (0.67436683177948, 'smokin'),\n",
       "   (0.6422436237335205, 'lowrider'),\n",
       "   (0.6359938979148865, 'earbuds'),\n",
       "   (0.6185598373413086, 'headphones')]),\n",
       " ('iphone',\n",
       "  [(0.8191035389900208, '4s'),\n",
       "   (0.8037647008895874, 'apple'),\n",
       "   (0.7220028638839722, 'ipod'),\n",
       "   (0.6723096966743469, '3gs'),\n",
       "   (0.6652328968048096, '4')]),\n",
       " ('ipad',\n",
       "  [(0.775212824344635, 'apple'),\n",
       "   (0.6899140477180481, '3rd'),\n",
       "   (0.6725695133209229, 'generation'),\n",
       "   (0.6517167687416077, 'iphone'),\n",
       "   (0.6362572312355042, 'sleeve')]),\n",
       " ('thinkpad',\n",
       "  [(0.7863374352455139, 'lenovo'),\n",
       "   (0.7640576958656311, 'ideapad'),\n",
       "   (0.7505140900611877, 'lifebook'),\n",
       "   (0.6697419881820679, 'ibm'),\n",
       "   (0.6501350402832031, 'helios')]),\n",
       " ('iwatch',\n",
       "  [(0.9472765326499939, 'watch'),\n",
       "   (0.6889232397079468, 'schedule'),\n",
       "   (0.6463804244995117, 'heart'),\n",
       "   (0.6311109662055969, 'rate'),\n",
       "   (0.6254520416259766, 'veteran')]),\n",
       " ('macbook',\n",
       "  [(0.5834861397743225, 'powerbook'),\n",
       "   (0.5714983940124512, 'laptops'),\n",
       "   (0.5611368417739868, 'imac'),\n",
       "   (0.5370322465896606, 'apple'),\n",
       "   (0.5357126593589783, 'cocoon')]),\n",
       " ('black',\n",
       "  [(0.6355355978012085, 'whit'),\n",
       "   (0.6073068976402283, 'gray'),\n",
       "   (0.5910463333129883, 'silv'),\n",
       "   (0.5608207583427429, 'pink'),\n",
       "   (0.528773307800293, 'case')]),\n",
       " ('red',\n",
       "  [(0.6531569361686707, 'blue'),\n",
       "   (0.5596069693565369, 'sx40'),\n",
       "   (0.5308539867401123, 's6200'),\n",
       "   (0.5275288224220276, 'sx150'),\n",
       "   (0.5248748660087585, 'w330')]),\n",
       " ('waterproof',\n",
       "  [(0.55250483751297, 'waas'),\n",
       "   (0.5326821208000183, 'h2o'),\n",
       "   (0.4484661817550659, 'spotting'),\n",
       "   (0.4382871091365814, 'enabled'),\n",
       "   (0.43795549869537354, 'binocular')]),\n",
       " ('wireless',\n",
       "  [(0.5585527420043945, 'desktop'),\n",
       "   (0.5430034399032593, 'mous'),\n",
       "   (0.5429496765136719, 'rangemax'),\n",
       "   (0.5284841060638428, 'i570'),\n",
       "   (0.5281404256820679, 'rout')]),\n",
       " ('bluetooth',\n",
       "  [(0.694643497467041, 'headset'),\n",
       "   (0.6447696089744568, 'speakerphon'),\n",
       "   (0.6139833927154541, 'speakerphone'),\n",
       "   (0.602356493473053, 'parrot'),\n",
       "   (0.5923222303390503, 'enabled')])]"
      ]
     },
     "execution_count": 10,
     "metadata": {},
     "output_type": "execute_result"
    }
   ],
   "source": [
    "model20=ft.train_unsupervised('/workspace/datasets/fasttext/titles.txt', lr=0.1, epoch=25, minCount=20)\n",
    "\n",
    "evaluate(model20, k=5)"
   ]
  },
  {
   "cell_type": "code",
   "execution_count": 11,
   "id": "8c958fe3-4af6-4d88-8819-c975af0d5d6d",
   "metadata": {},
   "outputs": [
    {
     "name": "stderr",
     "output_type": "stream",
     "text": [
      "Read 1M words\n",
      "Number of words:  2062\n",
      "Number of labels: 0\n",
      "Progress: 100.0% words/sec/thread:   64948 lr:  0.000000 avg.loss:  1.191281 ETA:   0h 0m 0s20s\n"
     ]
    },
    {
     "data": {
      "text/plain": [
       "[('headphones',\n",
       "  [(0.8592641949653625, 'earbud'),\n",
       "   (0.820675253868103, 'headphon'),\n",
       "   (0.7921386361122131, 'ear'),\n",
       "   (0.6619364619255066, 'skullcandy'),\n",
       "   (0.5847864747047424, 'bud')]),\n",
       " ('televisions',\n",
       "  [(0.6880020499229431, 'lions'),\n",
       "   (0.6864220499992371, 'panthers'),\n",
       "   (0.6717005968093872, 'colts'),\n",
       "   (0.6708186268806458, 'ravens'),\n",
       "   (0.6689649820327759, 'dolphins')]),\n",
       " ('refrigerator',\n",
       "  [(0.7834730744361877, 'side'),\n",
       "   (0.7447421550750732, 'cu'),\n",
       "   (0.7315928936004639, 'ft'),\n",
       "   (0.7196537852287292, 'satina'),\n",
       "   (0.702346682548523, 'monochromatic')]),\n",
       " ('washing machines',\n",
       "  [(0.7412802577018738, 'emachines'),\n",
       "   (0.7162814736366272, 'washington'),\n",
       "   (0.6460802555084229, 'kansas'),\n",
       "   (0.621627151966095, 'chiefs'),\n",
       "   (0.6208103895187378, 'arizona')]),\n",
       " ('smartwatch',\n",
       "  [(0.7734754681587219, 'watch'),\n",
       "   (0.6213749051094055, 'smart'),\n",
       "   (0.5565332770347595, 'schedule'),\n",
       "   (0.5382906198501587, 'men'),\n",
       "   (0.5303767323493958, 'heart')]),\n",
       " ('sony',\n",
       "  [(0.5657361149787903, 'jvc'),\n",
       "   (0.5284203290939331, 'walkman'),\n",
       "   (0.5262398719787598, 'cyber'),\n",
       "   (0.5093653798103333, 'handycam'),\n",
       "   (0.49691739678382874, 'vaio')]),\n",
       " ('samsung',\n",
       "  [(0.745147168636322, 'lg'),\n",
       "   (0.5874038934707642, 'galaxy'),\n",
       "   (0.4806447923183441, 'sharp'),\n",
       "   (0.4759122431278229, 'panasonic'),\n",
       "   (0.4692881107330322, 'polaroid')]),\n",
       " ('bosch',\n",
       "  [(0.6520259976387024, 'electrolux'),\n",
       "   (0.5816931128501892, 'whirlpool'),\n",
       "   (0.576836347579956, 'maytag'),\n",
       "   (0.5728320479393005, 'architect'),\n",
       "   (0.5683063864707947, 'frigidaire')]),\n",
       " ('apple',\n",
       "  [(0.8454839587211609, 'ipod'),\n",
       "   (0.7848822474479675, 'iphone'),\n",
       "   (0.7816475033760071, 'ipad'),\n",
       "   (0.6478061676025391, 'generation'),\n",
       "   (0.5986588001251221, 'iphon')]),\n",
       " ('skullcandy',\n",
       "  [(0.6619364023208618, 'headphones'),\n",
       "   (0.6418936252593994, 'earbuds'),\n",
       "   (0.597183883190155, 'gumy'),\n",
       "   (0.5714284181594849, 'earbud'),\n",
       "   (0.5467098355293274, 'ifrogz')]),\n",
       " ('iphone',\n",
       "  [(0.7900730967521667, '4s'),\n",
       "   (0.7848823666572571, 'apple'),\n",
       "   (0.6875424385070801, 'iphon'),\n",
       "   (0.6792183518409729, '4'),\n",
       "   (0.6734020709991455, 'ipod')]),\n",
       " ('ipad',\n",
       "  [(0.7816475033760071, 'apple'),\n",
       "   (0.6703994274139404, 'iphone'),\n",
       "   (0.6516206860542297, '3rd'),\n",
       "   (0.6457381248474121, 'generation'),\n",
       "   (0.5882993340492249, 'sleeve')]),\n",
       " ('thinkpad',\n",
       "  [(0.7900176644325256, 'lenovo'),\n",
       "   (0.7158265709877014, 'ideapad'),\n",
       "   (0.6695091724395752, 'fujitsu'),\n",
       "   (0.632372260093689, 'ibm'),\n",
       "   (0.6254909634590149, 'ideacentre')]),\n",
       " ('iwatch',\n",
       "  [(0.9582436680793762, 'watch'),\n",
       "   (0.6626830101013184, 'heart'),\n",
       "   (0.6404146552085876, 'schedule'),\n",
       "   (0.6222631931304932, 'rate'),\n",
       "   (0.5757925510406494, 'men')]),\n",
       " ('macbook',\n",
       "  [(0.6040856242179871, 'laptops'),\n",
       "   (0.5472168922424316, 'speck'),\n",
       "   (0.5085954070091248, 'laptop'),\n",
       "   (0.4881910979747772, 'ipad'),\n",
       "   (0.4869285523891449, 'incase')]),\n",
       " ('black',\n",
       "  [(0.6593024730682373, 'gray'),\n",
       "   (0.6403829455375671, 'whit'),\n",
       "   (0.6188454031944275, 'silv'),\n",
       "   (0.5592622756958008, 'silver'),\n",
       "   (0.5436705350875854, 'brown')]),\n",
       " ('red',\n",
       "  [(0.6493349075317383, 'blue'),\n",
       "   (0.5382037162780762, 'silver'),\n",
       "   (0.48965373635292053, 'green'),\n",
       "   (0.4762621521949768, 'extra'),\n",
       "   (0.4690149426460266, 'purple')]),\n",
       " ('waterproof',\n",
       "  [(0.5200273394584656, 'enabled'),\n",
       "   (0.4067313075065613, 'resistant'),\n",
       "   (0.40052029490470886, 'binocular'),\n",
       "   (0.38596224784851074, 'receiv'),\n",
       "   (0.38360169529914856, 'fuji')]),\n",
       " ('wireless',\n",
       "  [(0.5057806968688965, 'rout'),\n",
       "   (0.5043022036552429, 'networking'),\n",
       "   (0.5022189021110535, 'router'),\n",
       "   (0.4962013065814972, 'mous'),\n",
       "   (0.4925291836261749, 'prosafe')]),\n",
       " ('bluetooth',\n",
       "  [(0.6515926718711853, 'enabled'),\n",
       "   (0.6149946451187134, 'headset'),\n",
       "   (0.5133790969848633, 'jabra'),\n",
       "   (0.49979814887046814, 'mous'),\n",
       "   (0.463165819644928, 'promark')])]"
      ]
     },
     "execution_count": 11,
     "metadata": {},
     "output_type": "execute_result"
    }
   ],
   "source": [
    "model50=ft.train_unsupervised('/workspace/datasets/fasttext/titles.txt', lr=0.1, epoch=25, minCount=50)\n",
    "evaluate(model50, k=5)"
   ]
  },
  {
   "cell_type": "code",
   "execution_count": null,
   "id": "f0008490-e217-4a66-bed0-f976706fb347",
   "metadata": {},
   "outputs": [],
   "source": []
  }
 ],
 "metadata": {
  "kernelspec": {
   "display_name": "sml_week3",
   "language": "python",
   "name": "sml_week3"
  },
  "language_info": {
   "codemirror_mode": {
    "name": "ipython",
    "version": 3
   },
   "file_extension": ".py",
   "mimetype": "text/x-python",
   "name": "python",
   "nbconvert_exporter": "python",
   "pygments_lexer": "ipython3",
   "version": "3.9.7"
  }
 },
 "nbformat": 4,
 "nbformat_minor": 5
}
