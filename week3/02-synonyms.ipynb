{
 "cells": [
  {
   "cell_type": "markdown",
   "id": "46b768e6-2075-48ce-829d-92df2542d9fc",
   "metadata": {},
   "source": [
    "# Derive Synonyms from Content"
   ]
  },
  {
   "cell_type": "code",
   "execution_count": 1,
   "id": "8e13383b-8aa6-4f5f-ae17-076e5c47bfa7",
   "metadata": {
    "tags": []
   },
   "outputs": [],
   "source": [
    "from fastcore.foundation import L\n",
    "from fastcore.test import *"
   ]
  },
  {
   "cell_type": "code",
   "execution_count": 2,
   "id": "999474d2-1e08-4726-9563-8485697cd775",
   "metadata": {},
   "outputs": [],
   "source": [
    "import re\n",
    "import string\n",
    "from nltk.stem import SnowballStemmer\n",
    "\n",
    "stemmer = SnowballStemmer(language='english')\n",
    "_re_spec = re.compile(r'([/#\\\\-\\\\.:])')\n",
    "\n",
    "def spec_add_spaces(t):\n",
    "    \"Add spaces around . : - / \\ and #\"\n",
    "    return _re_spec.sub(r' \\1 ', t)\n",
    "\n",
    "# Causes the resulting RE to match from m to n repetitions of the preceding RE, attempting to match as many repetitions as possible.\n",
    "_re_space = re.compile(' {2,}')\n",
    "\n",
    "def rm_useless_spaces(t):\n",
    "    \"Remove multiple spaces\"\n",
    "    return _re_space.sub(' ', t)\n",
    "\n",
    "def rm_punct(t):\n",
    "    for p in string.punctuation:\n",
    "        t = t.replace(p, ' ')\n",
    "    return t\n",
    "\n",
    "def transform_training_data(product_name):\n",
    "    \"Transform product name by replacing punctuations, removing multiple spaces, stemming, lower casing\"\n",
    "    name = product_name\n",
    "\n",
    "    # replace_punct\n",
    "    name = spec_add_spaces(name)\n",
    "    \n",
    "    # remove punct\n",
    "    name = rm_punct(name)\n",
    "    \n",
    "    # replace multiple spaces\n",
    "    name = rm_useless_spaces(name)\n",
    "    \n",
    "    # fix registered, trademark, copyright symbol\n",
    "    # remove non-ascii characters from name\n",
    "    name = name.encode(encoding='ascii', errors='ignore').decode()\n",
    "    \n",
    "    name = ' '.join([o for o in name.split(' ') if not o.isnumeric()])\n",
    "    \n",
    "    # add stemmer\n",
    "    name = stemmer.stem(name)\n",
    "    return name.lower()"
   ]
  },
  {
   "cell_type": "code",
   "execution_count": 53,
   "id": "377a72a2-3630-4b7e-b88b-bd8b5c19d887",
   "metadata": {},
   "outputs": [],
   "source": [
    "name='NuForce - Icon uDAC-2 USB Audio Receiver and Digital-to-Analog Converter - Silver'"
   ]
  },
  {
   "cell_type": "code",
   "execution_count": 54,
   "id": "df8c26cf-0308-4803-82b6-db53d1968fa1",
   "metadata": {},
   "outputs": [
    {
     "data": {
      "text/plain": [
       "'nuforce icon udac usb audio receiver and digital to analog converter silv'"
      ]
     },
     "execution_count": 54,
     "metadata": {},
     "output_type": "execute_result"
    }
   ],
   "source": [
    "transform_training_data('NuForce - Icon uDAC-2 USB Audio Receiver and Digital-to-Analog Converter - Silver')"
   ]
  },
  {
   "cell_type": "code",
   "execution_count": 56,
   "id": "c0c3e9d3-56f0-42a7-8ede-d84dc64fb869",
   "metadata": {},
   "outputs": [],
   "source": [
    "test_str = 'iphone®™'"
   ]
  },
  {
   "cell_type": "code",
   "execution_count": 57,
   "id": "e6563305-1d17-42c4-ada2-dc2a5213708c",
   "metadata": {},
   "outputs": [
    {
     "data": {
      "text/plain": [
       "'iphon'"
      ]
     },
     "execution_count": 57,
     "metadata": {},
     "output_type": "execute_result"
    }
   ],
   "source": [
    "transform_training_data(test_str)"
   ]
  },
  {
   "cell_type": "markdown",
   "id": "5557995f-7029-4595-a8fa-ea4699222e5d",
   "metadata": {},
   "source": [
    "The utility extractTitles.py in the week3 directory goes through all of the products in the pruned XML files (i.e., everything except music and movies) and outputs their titles as plain text."
   ]
  },
  {
   "cell_type": "code",
   "execution_count": 1,
   "id": "ed1688fd-32da-42a4-bcbd-c2e7ce8517c2",
   "metadata": {},
   "outputs": [
    {
     "name": "stdout",
     "output_type": "stream",
     "text": [
      "Writing results to /workspace/datasets/fasttext/titles.txt\n"
     ]
    }
   ],
   "source": [
    "!python extractTitles.py"
   ]
  },
  {
   "cell_type": "markdown",
   "id": "73d048b8-1e0c-4bd5-9592-bf939fea6d42",
   "metadata": {},
   "source": [
    " By default, it will save the extracted output to /workspace/datasets/fasttext/titles.txt. Also, by default, it will only sample 10% of the product titles, but you can change that with the -sample_rate parameter. "
   ]
  },
  {
   "cell_type": "code",
   "execution_count": 55,
   "id": "b45ac740-d059-41c2-8415-12055fa08b54",
   "metadata": {},
   "outputs": [
    {
     "name": "stdout",
     "output_type": "stream",
     "text": [
      "maytag cu ft cycle gas dryer whit\n",
      "whirlpool self cleaning drop in electric oven biscuit\n",
      "maytag cu ft cycle supersize capacity plus washer whit\n",
      "maytag cu ft cycle gas steam dryer whit\n",
      "whirlpool self cleaning drop in electric range whit\n",
      "whirlpool self cleaning drop in electric oven black\n",
      "maytag cu ft cycle gas dryer whit\n",
      "eric clapton clapton acoustic dvd\n",
      "greg koch guitar gristle dvd\n",
      "pro tools le beginner level dvd\n"
     ]
    }
   ],
   "source": [
    "!tail /workspace/datasets/fasttext/titles.txt"
   ]
  },
  {
   "cell_type": "code",
   "execution_count": 3,
   "id": "1327eb7e-c47b-45dd-9e6b-5b354103cc03",
   "metadata": {},
   "outputs": [
    {
     "name": "stdout",
     "output_type": "stream",
     "text": [
      "Read 0M words\n",
      "Number of words:  2535\n",
      "Number of labels: 0\n",
      "Progress: 100.0% words/sec/thread:    3663 lr:  0.000000 avg.loss:  2.528054 ETA:   0h 0m 0s 0.008222 avg.loss:  2.611043 ETA:   0h 0m 2s 2.586558 ETA:   0h 0m 1s\n"
     ]
    }
   ],
   "source": [
    "!/home/gitpod/fastText-0.9.2/fasttext skipgram -input /workspace/datasets/fasttext/titles.txt -output /workspace/datasets/fasttext/title_model"
   ]
  },
  {
   "cell_type": "code",
   "execution_count": 4,
   "id": "196ee8cb-2b62-4f1c-9524-6d7ad0317245",
   "metadata": {},
   "outputs": [
    {
     "name": "stdout",
     "output_type": "stream",
     "text": [
      "Query word? ^C\n"
     ]
    }
   ],
   "source": [
    "!/home/gitpod/fastText-0.9.2/fasttext nn /workspace/datasets/fasttext/title_model.bin"
   ]
  },
  {
   "cell_type": "code",
   "execution_count": 5,
   "id": "bd9ac568-6d4b-4fad-84d5-295f884520ff",
   "metadata": {},
   "outputs": [],
   "source": [
    "import fasttext as ft"
   ]
  },
  {
   "cell_type": "code",
   "execution_count": 6,
   "id": "8ec0e2bc-4221-44d9-b403-c954ca0358cb",
   "metadata": {},
   "outputs": [
    {
     "name": "stderr",
     "output_type": "stream",
     "text": [
      "Read 0M words\n",
      "Number of words:  2535\n",
      "Number of labels: 0\n",
      "Progress: 100.0% words/sec/thread:   55515 lr:  0.000000 avg.loss:  2.608343 ETA:   0h 0m 0s\n"
     ]
    }
   ],
   "source": [
    "model=ft.train_unsupervised('/workspace/datasets/fasttext/titles.txt')"
   ]
  },
  {
   "cell_type": "code",
   "execution_count": 10,
   "id": "7a5ecf36-83d6-4b3e-94fd-fb344102655d",
   "metadata": {},
   "outputs": [
    {
     "data": {
      "text/plain": [
       "(#2535) ['-','</s>','for','Black','with','and','Digital','Case','Memory','/'...]"
      ]
     },
     "execution_count": 10,
     "metadata": {},
     "output_type": "execute_result"
    }
   ],
   "source": [
    "L(model.words)"
   ]
  },
  {
   "cell_type": "code",
   "execution_count": 12,
   "id": "3d2d0a68-12d7-44ef-89d6-b7344d4d7c73",
   "metadata": {},
   "outputs": [
    {
     "data": {
      "text/plain": [
       "[(0.9725721478462219, 'Phones'),\n",
       " (0.9674215316772461, 'Phone'),\n",
       " (0.9665066003799438, 'Motorola'),\n",
       " (0.9517971873283386, 'Microphone'),\n",
       " (0.9450824856758118, 'iPhone'),\n",
       " (0.9434287548065186, 'No-Contract'),\n",
       " (0.9432931542396545, 'Headphones'),\n",
       " (0.9296050071716309, 'Microphones'),\n",
       " (0.9289809465408325, 'Smartphones'),\n",
       " (0.9250837564468384, 'Nokia')]"
      ]
     },
     "execution_count": 12,
     "metadata": {},
     "output_type": "execute_result"
    }
   ],
   "source": [
    "model.get_nearest_neighbors('iphone')"
   ]
  },
  {
   "cell_type": "markdown",
   "id": "d18f2359-9d10-4bf4-97f9-d2df4f0ff91e",
   "metadata": {},
   "source": [
    "Establish a set of 20 tokens that you’ll use for evaluation. In order to get a good overall sense, you’ll want some variety: \n",
    "e.g., 5 product types (e.g., headphones), 5 brands (e.g., sony), 5 models (e.g., thinkpad) and 5 attributes (e.g., black)"
   ]
  },
  {
   "cell_type": "markdown",
   "id": "5f3e5982-3109-4ed3-821f-16acb8d66082",
   "metadata": {},
   "source": [
    "types: headphones, televisions, refrigerator, washing machines, smartwatch\n",
    "\n",
    "brands: sony, samsung, bosch, apple, skullcandy\n",
    "\n",
    "models: iphone, ipad, thinkpad, iwatch, macbook\n",
    "\n",
    "attributes: black, red, waterproof, wireless, bluetooth"
   ]
  },
  {
   "cell_type": "markdown",
   "id": "9841d512-eeb8-406c-a998-329dcdbbd6bd",
   "metadata": {},
   "source": [
    "## Extract Titles"
   ]
  },
  {
   "cell_type": "code",
   "execution_count": 27,
   "id": "6f3231df-0ec1-4eec-b36c-6c4ab2fce785",
   "metadata": {},
   "outputs": [],
   "source": [
    "import os\n",
    "import random\n",
    "import xml.etree.ElementTree as ET\n",
    "import argparse\n",
    "from pathlib import Path\n",
    "\n",
    "directory = r'/workspace/search_with_machine_learning_course/data/pruned_products'\n",
    "output_file = \"/workspace/datasets/fasttext/titles.txt\"\n",
    "\n",
    "# def transform_training_data(name):\n",
    "#     # IMPLEMENT\n",
    "#     return name.replace('\\n', ' ')\n",
    "\n",
    "# Directory for product data\n",
    "filenames = [filename for filename in os.listdir(directory) if filename.endswith(\".xml\")]\n",
    "\n",
    "def process_file(filename, sample_rate=0.1):\n",
    "    items = []\n",
    "    print(\"Processing %s\" % filename)\n",
    "    f = os.path.join(directory, filename)\n",
    "    tree = ET.parse(f)\n",
    "    root = tree.getroot()\n",
    "    for child in root:\n",
    "        if random.random() > sample_rate:\n",
    "            continue\n",
    "        if (child.find('name') is not None and child.find('name').text is not None):\n",
    "            name = transform_training_data(child.find('name').text)\n",
    "            items.append(name)\n",
    "            #output.write(name + \"\\n\")\n",
    "    return items\n",
    "\n",
    "# print(\"Writing results to %s\" % output_file)\n",
    "# with open(output_file, 'w') as output:\n",
    "#     for filename in os.listdir(directory):\n",
    "#         if filename.endswith(\".xml\"):\n",
    "#             f = os.path.join(directory, filename)\n",
    "#             tree = ET.parse(f)\n",
    "#             root = tree.getroot()\n",
    "#             for child in root:\n",
    "#                 if random.random() > sample_rate:\n",
    "#                     continue\n",
    "#                 if (child.find('name') is not None and child.find('name').text is not None):\n",
    "#                     name = transform_training_data(child.find('name').text)\n",
    "#                     output.write(name + \"\\n\")"
   ]
  },
  {
   "cell_type": "code",
   "execution_count": 28,
   "id": "f2bf50fc-085a-4620-b0c7-a4907359fdd8",
   "metadata": {},
   "outputs": [
    {
     "name": "stdout",
     "output_type": "stream",
     "text": [
      "Processing pruned_products_1.xml\n",
      "Processing pruned_products_2.xml\n",
      "Processing pruned_products_3.xml\n",
      "Processing pruned_products_4.xml\n",
      "Processing pruned_products_5.xml\n",
      "Processing pruned_products_6.xml\n"
     ]
    }
   ],
   "source": [
    "all_items = []\n",
    "\n",
    "for each in filenames:\n",
    "    all_items.extend(process_file(each))"
   ]
  },
  {
   "cell_type": "code",
   "execution_count": 29,
   "id": "537e6b52-4317-4970-a521-3013d591f8d0",
   "metadata": {},
   "outputs": [
    {
     "data": {
      "text/plain": [
       "11358"
      ]
     },
     "execution_count": 29,
     "metadata": {},
     "output_type": "execute_result"
    }
   ],
   "source": [
    "len(all_items)"
   ]
  },
  {
   "cell_type": "code",
   "execution_count": 30,
   "id": "c053d73d-3fa5-425e-86fe-0880b605a77e",
   "metadata": {},
   "outputs": [
    {
     "data": {
      "text/plain": [
       "(#11358) ['pioneer 50w x mosfet apple® ipod® hd radio ready in dash cd deck','pantech pocket 4g mobile phone black at t ','orphen scion of sorcery playstation ps2 ','sauder audio video storage cabinet sky ald','wipeout ps vita','jura ena one touch cappuccino and latte macchiato maker silv','apple itunes gift card','toshiba satellite laptop intel® core™ i3 processor display matrix graphit','airline tycoon window','best buy gc have a ball gift card'...]"
      ]
     },
     "execution_count": 30,
     "metadata": {},
     "output_type": "execute_result"
    }
   ],
   "source": [
    "L(all_items)"
   ]
  },
  {
   "cell_type": "code",
   "execution_count": 31,
   "id": "1a1ee65e-4e0b-4fec-b6c8-965edbe52f81",
   "metadata": {},
   "outputs": [
    {
     "name": "stderr",
     "output_type": "stream",
     "text": [
      "[nltk_data] Downloading package punkt to /home/gitpod/nltk_data...\n",
      "[nltk_data]   Unzipping tokenizers/punkt.zip.\n"
     ]
    }
   ],
   "source": [
    "import nltk\n",
    "nltk.download('punkt')\n",
    "\n",
    "tokens = L(all_items).map(nltk.word_tokenize)"
   ]
  },
  {
   "cell_type": "code",
   "execution_count": 32,
   "id": "a228026f-3e5f-4ecc-89fb-e7d03c5cb1b6",
   "metadata": {},
   "outputs": [],
   "source": [
    "all_tokens = []\n",
    "for each in tokens: all_tokens.extend(each)"
   ]
  },
  {
   "cell_type": "code",
   "execution_count": 33,
   "id": "9e4fe591-a4f9-4366-8b68-522c375cae55",
   "metadata": {},
   "outputs": [],
   "source": [
    "from collections import Counter\n",
    "tok_count = Counter(all_tokens)"
   ]
  },
  {
   "cell_type": "code",
   "execution_count": 34,
   "id": "2c9bed34-9400-4012-9c83-85ae2088a400",
   "metadata": {},
   "outputs": [
    {
     "data": {
      "text/plain": [
       "[('black', 2037),\n",
       " ('for', 1669),\n",
       " ('with', 1106),\n",
       " ('and', 995),\n",
       " ('digital', 798),\n",
       " ('case', 683),\n",
       " ('camera', 669),\n",
       " ('memory', 662),\n",
       " ('window', 617),\n",
       " ('whit', 603),\n",
       " ('card', 575),\n",
       " ('cu', 573),\n",
       " ('ft', 573),\n",
       " ('the', 563),\n",
       " ('apple®', 532),\n",
       " ('in', 514),\n",
       " ('electric', 454),\n",
       " ('nintendo', 439),\n",
       " ('laptop', 426),\n",
       " ('sony', 415)]"
      ]
     },
     "execution_count": 34,
     "metadata": {},
     "output_type": "execute_result"
    }
   ],
   "source": [
    "tok_count.most_common(20)"
   ]
  },
  {
   "cell_type": "code",
   "execution_count": 35,
   "id": "28d64040-536e-47c1-8021-458386f625f4",
   "metadata": {},
   "outputs": [
    {
     "data": {
      "text/plain": [
       "[('satellites', 1),\n",
       " ('sparkcash', 1),\n",
       " ('ovation', 1),\n",
       " ('celebrity', 1),\n",
       " ('h550', 1),\n",
       " ('cannon', 1),\n",
       " ('position', 1),\n",
       " ('capcell', 1),\n",
       " ('positive', 1)]"
      ]
     },
     "execution_count": 35,
     "metadata": {},
     "output_type": "execute_result"
    }
   ],
   "source": [
    "# 10 rare words\n",
    "tok_count.most_common()[-10:-1]"
   ]
  },
  {
   "cell_type": "code",
   "execution_count": 36,
   "id": "6455ea18-8a8d-4124-90dd-f405628e0f49",
   "metadata": {},
   "outputs": [
    {
     "data": {
      "text/plain": [
       "[('humminbird', 1),\n",
       " ('343c', 1),\n",
       " ('painter', 1),\n",
       " ('northstar', 1),\n",
       " ('blueant', 1),\n",
       " ('supertooth', 1),\n",
       " ('spectrobes', 1),\n",
       " ('portals', 1),\n",
       " ('allman', 1),\n",
       " ('recovering', 1),\n",
       " ('satellites', 1),\n",
       " ('sparkcash', 1),\n",
       " ('ovation', 1),\n",
       " ('celebrity', 1),\n",
       " ('h550', 1),\n",
       " ('cannon', 1),\n",
       " ('position', 1),\n",
       " ('capcell', 1),\n",
       " ('positive', 1)]"
      ]
     },
     "execution_count": 36,
     "metadata": {},
     "output_type": "execute_result"
    }
   ],
   "source": [
    "# 20 rare words\n",
    "tok_count.most_common()[-20:-1]"
   ]
  },
  {
   "cell_type": "code",
   "execution_count": 38,
   "id": "b6518a25-f0c1-4566-9615-4cc0af6b8f28",
   "metadata": {},
   "outputs": [
    {
     "name": "stdout",
     "output_type": "stream",
     "text": [
      "[('clash', 1), ('chili', 1), ('uno', 1), ('radiant', 1), ('reckoning', 1), ('girlz', 1), ('really', 1), ('o2', 1), ('greas', 1), ('s9hd', 1), ('beaten', 1), ('nickelback', 1), ('reasons', 1), ('some', 1), ('mothership', 1), ('lips', 1), ('1950s', 1), ('pay', 1), ('scorpio', 1), ('eide', 1), ('designjet', 1), ('cradle', 1), ('linx', 1), ('trailblazer', 1), ('binoculars', 1), ('enclosures', 1), ('f150', 1), ('supercab', 1), ('hatchbacks', 1), ('sale', 1), ('humminbird', 1), ('343c', 1), ('painter', 1), ('northstar', 1), ('blueant', 1), ('supertooth', 1), ('spectrobes', 1), ('portals', 1), ('allman', 1), ('recovering', 1), ('satellites', 1), ('sparkcash', 1), ('ovation', 1), ('celebrity', 1), ('h550', 1), ('cannon', 1), ('position', 1), ('capcell', 1), ('positive', 1)]\n"
     ]
    }
   ],
   "source": [
    "# 50 rare words\n",
    "print(tok_count.most_common()[-50:-1])"
   ]
  },
  {
   "cell_type": "markdown",
   "id": "689ca22e-7405-49d8-88ba-0d18fd8805ab",
   "metadata": {},
   "source": [
    "## Sample Rate 0.1"
   ]
  },
  {
   "cell_type": "code",
   "execution_count": 39,
   "id": "c023189a-75bf-40b5-91af-85dc7a4627b9",
   "metadata": {},
   "outputs": [
    {
     "name": "stdout",
     "output_type": "stream",
     "text": [
      "Writing results to /workspace/datasets/fasttext/titles.txt\n"
     ]
    }
   ],
   "source": [
    "!python extractTitles.py"
   ]
  },
  {
   "cell_type": "code",
   "execution_count": 40,
   "id": "6f737a27-ec19-492b-8f75-6603267e98f1",
   "metadata": {},
   "outputs": [
    {
     "name": "stderr",
     "output_type": "stream",
     "text": [
      "Read 0M words\n",
      "Number of words:  2348\n",
      "Number of labels: 0\n",
      "Progress: 100.0% words/sec/thread:   30747 lr:  0.000000 avg.loss:  2.642882 ETA:   0h 0m 0s100.0% words/sec/thread:   30752 lr: -0.000011 avg.loss:  2.642882 ETA:   0h 0m 0s\n"
     ]
    }
   ],
   "source": [
    "import fasttext as ft\n",
    "model=ft.train_unsupervised('/workspace/datasets/fasttext/titles.txt')"
   ]
  },
  {
   "cell_type": "code",
   "execution_count": 41,
   "id": "3f933c70-6006-4738-8be5-517f879d3d54",
   "metadata": {},
   "outputs": [
    {
     "name": "stdout",
     "output_type": "stream",
     "text": [
      "['</s>', 'black', 'for', 'with', 'and', 'digital', 'camera', 'case', 'memory', 'window', 'whit', 'card', 'cu', 'ft', 'the', 'in', 'apple®', 'nintendo', 'electric', 'laptop', 'sony', 'wireless', 'series', 'steel', 'stainless', 'playstation', 'guitar', 'hard', 'ge', 'refrigerator', 'system', 'pack', 'side', 'mobile', 's', 'samsung', 'extra', 'range', 'kit', 'on', 'game', 'battery', 'usb', 'bag', 'select', 'd', 'built', 'silv', 'xbox', 'r']\n"
     ]
    }
   ],
   "source": [
    "print(model.words[:50])"
   ]
  },
  {
   "cell_type": "code",
   "execution_count": 42,
   "id": "6c17bcaa-fd1d-4ed8-9a62-bb75c40fd7f2",
   "metadata": {},
   "outputs": [
    {
     "data": {
      "text/plain": [
       "[(0.9884212613105774, 'phones'),\n",
       " (0.987588107585907, 'iphone®'),\n",
       " (0.9804374575614929, 'gophone'),\n",
       " (0.9657481908798218, 'phone'),\n",
       " (0.9601891040802002, 'smartphones'),\n",
       " (0.9589815139770508, 'mobile'),\n",
       " (0.9587773084640503, 'headphone'),\n",
       " (0.9553311467170715, 'phon'),\n",
       " (0.947689950466156, 'microphone'),\n",
       " (0.9473929405212402, 'microphones')]"
      ]
     },
     "execution_count": 42,
     "metadata": {},
     "output_type": "execute_result"
    }
   ],
   "source": [
    "model.get_nearest_neighbors('iphone')"
   ]
  },
  {
   "cell_type": "code",
   "execution_count": 7,
   "id": "d04e6e04-4daa-4187-89b8-3ad6ff2781a1",
   "metadata": {},
   "outputs": [],
   "source": [
    "def evaluate(model, k=4):\n",
    "    types='headphones,televisions,refrigerator,washing machines,smartwatch'\n",
    "    brands='sony,samsung,bosch,apple,skullcandy'\n",
    "    models='iphone,ipad,thinkpad,iwatch,macbook'\n",
    "    attributes='black,red,waterproof,wireless,bluetooth'\n",
    "\n",
    "    evaluation=[]\n",
    "    for o in [types, brands, models, attributes]: evaluation.extend(o.split(','))\n",
    "    \n",
    "    return [(o, model.get_nearest_neighbors(o, k=k)) for o in evaluation]"
   ]
  },
  {
   "cell_type": "code",
   "execution_count": 43,
   "id": "7d96c16f-0274-4988-bcc2-3a9869eb7018",
   "metadata": {},
   "outputs": [],
   "source": [
    "types='headphones,televisions,refrigerator,washing machines,smartwatch'\n",
    "brands='sony,samsung,bosch,apple,skullcandy'\n",
    "models='iphone,ipad,thinkpad,iwatch,macbook'\n",
    "attributes='black,red,waterproof,wireless,bluetooth'\n",
    "evaluation=[]\n",
    "for o in [types, brands, models, attributes]: evaluation.extend(o.split(','))"
   ]
  },
  {
   "cell_type": "code",
   "execution_count": 44,
   "id": "e01b6777-555c-479f-a9a9-1c14170a71ec",
   "metadata": {},
   "outputs": [
    {
     "data": {
      "text/plain": [
       "[('headphones',\n",
       "  [(0.9919744729995728, 'headphone'),\n",
       "   (0.9893032908439636, 'microphones'),\n",
       "   (0.987011194229126, 'headphon'),\n",
       "   (0.9685732126235962, 'microphone')]),\n",
       " ('televisions',\n",
       "  [(0.9955301284790039, 'dolphins'),\n",
       "   (0.99502032995224, 'anaheim'),\n",
       "   (0.9947879314422607, 'ibm'),\n",
       "   (0.9944508075714111, 'battlefield')]),\n",
       " ('refrigerator',\n",
       "  [(0.9975049495697021, 'by'),\n",
       "   (0.9957539439201355, 'thru'),\n",
       "   (0.9954434037208557, 'refriger'),\n",
       "   (0.993172287940979, 'side')]),\n",
       " ('washing machines',\n",
       "  [(0.9951592087745667, 'maple'),\n",
       "   (0.9936034679412842, 'vertical'),\n",
       "   (0.9935685992240906, 'washington'),\n",
       "   (0.9935431480407715, 'marshmallow')]),\n",
       " ('smartwatch',\n",
       "  [(0.9890354871749878, 'fat'),\n",
       "   (0.98868328332901, 'bravo'),\n",
       "   (0.9883300065994263, 'house'),\n",
       "   (0.9879694581031799, 'patch')]),\n",
       " ('sony',\n",
       "  [(0.9773331880569458, 'dcr'),\n",
       "   (0.9768596291542053, 'everio'),\n",
       "   (0.9755401611328125, 'pink'),\n",
       "   (0.9712700247764587, 'kodak')]),\n",
       " ('samsung',\n",
       "  [(0.9749250411987305, 'sharp'),\n",
       "   (0.9674530625343323, 'gloss'),\n",
       "   (0.9670482873916626, 'impact'),\n",
       "   (0.9661068320274353, 'queen')]),\n",
       " ('bosch',\n",
       "  [(0.9921363592147827, 'hood'),\n",
       "   (0.9852949380874634, 'convertible'),\n",
       "   (0.985016942024231, 'clean'),\n",
       "   (0.9842406511306763, 'bottle')]),\n",
       " ('apple',\n",
       "  [(0.9916970729827881, 'skin'),\n",
       "   (0.9886878728866577, 'ipad™'),\n",
       "   (0.9845685362815857, 'generation'),\n",
       "   (0.9822391867637634, 'ipad®')]),\n",
       " ('skullcandy',\n",
       "  [(0.9908198714256287, 'griffin'),\n",
       "   (0.9905840754508972, 'armband'),\n",
       "   (0.9901368021965027, 'nancy'),\n",
       "   (0.9892617464065552, '2nd')]),\n",
       " ('iphone',\n",
       "  [(0.9884212613105774, 'phones'),\n",
       "   (0.987588107585907, 'iphone®'),\n",
       "   (0.9804374575614929, 'gophone'),\n",
       "   (0.9657481908798218, 'phone')]),\n",
       " ('ipad',\n",
       "  [(0.9964092969894409, 'ipad®'),\n",
       "   (0.9902099967002869, 'apple®'),\n",
       "   (0.9869078993797302, 'nano'),\n",
       "   (0.986458957195282, 'ipad™')]),\n",
       " ('thinkpad',\n",
       "  [(0.9961518049240112, 'ibm'),\n",
       "   (0.9944484829902649, 'purpl'),\n",
       "   (0.9924308657646179, 'matte'),\n",
       "   (0.9919074177742004, 'altec')]),\n",
       " ('iwatch',\n",
       "  [(0.9938912391662598, 'watch'),\n",
       "   (0.9858306646347046, 'watt'),\n",
       "   (0.9854934811592102, 'hold'),\n",
       "   (0.9853333234786987, 'wahl')]),\n",
       " ('macbook',\n",
       "  [(0.9955015778541565, 'notebook'),\n",
       "   (0.994448721408844, 'macbook®'),\n",
       "   (0.9931162595748901, 'essentials'),\n",
       "   (0.9920604825019836, 'charcoal')]),\n",
       " ('black',\n",
       "  [(0.9570668935775757, 'blackjack'),\n",
       "   (0.9372588992118835, 'large'),\n",
       "   (0.9177713990211487, 'blackberry'),\n",
       "   (0.9163843989372253, 'din')]),\n",
       " ('red',\n",
       "  [(0.96796053647995, 'dsc'),\n",
       "   (0.9649320840835571, 'sigma'),\n",
       "   (0.9643443822860718, 'dsl'),\n",
       "   (0.9631742238998413, 'zoo')]),\n",
       " ('waterproof',\n",
       "  [(0.986605167388916, 'watt'),\n",
       "   (0.9847747683525085, 'thx'),\n",
       "   (0.9846227765083313, 'dog'),\n",
       "   (0.9844785928726196, 'refractor')]),\n",
       " ('wireless',\n",
       "  [(0.9593647718429565, 'unlocked'),\n",
       "   (0.9575864672660828, 'networking'),\n",
       "   (0.9565951824188232, 'dec'),\n",
       "   (0.9519273638725281, 'tone')]),\n",
       " ('bluetooth',\n",
       "  [(0.9890756607055664, 'blackstone'),\n",
       "   (0.9884278178215027, 'handheld'),\n",
       "   (0.9866699576377869, 'droid'),\n",
       "   (0.985931396484375, 'mysteries')])]"
      ]
     },
     "execution_count": 44,
     "metadata": {},
     "output_type": "execute_result"
    }
   ],
   "source": [
    "[(o, model.get_nearest_neighbors(o, k=4)) for o in evaluation]"
   ]
  },
  {
   "cell_type": "markdown",
   "id": "a08d5288-8cac-4583-b01e-e23de3108122",
   "metadata": {},
   "source": [
    "## Sample Rate 1.0"
   ]
  },
  {
   "cell_type": "code",
   "execution_count": 58,
   "id": "05ee37ff-80f3-4313-a56b-18b052c648ac",
   "metadata": {},
   "outputs": [
    {
     "name": "stdout",
     "output_type": "stream",
     "text": [
      "Writing results to /workspace/datasets/fasttext/titles.txt\n"
     ]
    }
   ],
   "source": [
    "!python extractTitles.py --sample_rate 1.0"
   ]
  },
  {
   "cell_type": "code",
   "execution_count": 59,
   "id": "ac172d8f-de3d-4162-869d-cd4ffb3801f6",
   "metadata": {},
   "outputs": [
    {
     "name": "stdout",
     "output_type": "stream",
     "text": [
      "115358 /workspace/datasets/fasttext/titles.txt\n"
     ]
    }
   ],
   "source": [
    "!wc -l /workspace/datasets/fasttext/titles.txt"
   ]
  },
  {
   "cell_type": "code",
   "execution_count": 5,
   "id": "0620d6ad-0c23-4aa9-9f59-8ee9a89acd08",
   "metadata": {},
   "outputs": [
    {
     "name": "stderr",
     "output_type": "stream",
     "text": [
      "Read 1M words\n",
      "Number of words:  8651\n",
      "Number of labels: 0\n",
      "Progress: 100.0% words/sec/thread:   51909 lr:  0.000000 avg.loss:  1.027117 ETA:   0h 0m 0s 62.9% words/sec/thread:   52041 lr:  0.033368 avg.loss:  1.101303 ETA:   0h 0m 7s 84.8% words/sec/thread:   51983 lr:  0.013650 avg.loss:  1.050967 ETA:   0h 0m 2s\n"
     ]
    }
   ],
   "source": [
    "import fasttext as ft\n",
    "model=ft.train_unsupervised('/workspace/datasets/fasttext/titles.txt', lr=0.09, epoch=15)"
   ]
  },
  {
   "cell_type": "code",
   "execution_count": 65,
   "id": "058b2206-2f71-4354-9c05-ea67f6a5b841",
   "metadata": {},
   "outputs": [
    {
     "data": {
      "text/plain": [
       "(0.05, 5, 5, 1)"
      ]
     },
     "execution_count": 65,
     "metadata": {},
     "output_type": "execute_result"
    }
   ],
   "source": [
    "model.lr, model.epoch, model.minCount, model.wordNgrams"
   ]
  },
  {
   "cell_type": "code",
   "execution_count": 49,
   "id": "e2812054-e694-4dcb-a972-b7c6dc53501a",
   "metadata": {},
   "outputs": [
    {
     "data": {
      "text/plain": [
       "\u001b[0;31mSignature:\u001b[0m \u001b[0mft\u001b[0m\u001b[0;34m.\u001b[0m\u001b[0mtrain_unsupervised\u001b[0m\u001b[0;34m(\u001b[0m\u001b[0;34m*\u001b[0m\u001b[0mkargs\u001b[0m\u001b[0;34m,\u001b[0m \u001b[0;34m**\u001b[0m\u001b[0mkwargs\u001b[0m\u001b[0;34m)\u001b[0m\u001b[0;34m\u001b[0m\u001b[0;34m\u001b[0m\u001b[0m\n",
       "\u001b[0;31mSource:\u001b[0m   \n",
       "\u001b[0;32mdef\u001b[0m \u001b[0mtrain_unsupervised\u001b[0m\u001b[0;34m(\u001b[0m\u001b[0;34m*\u001b[0m\u001b[0mkargs\u001b[0m\u001b[0;34m,\u001b[0m \u001b[0;34m**\u001b[0m\u001b[0mkwargs\u001b[0m\u001b[0;34m)\u001b[0m\u001b[0;34m:\u001b[0m\u001b[0;34m\u001b[0m\n",
       "\u001b[0;34m\u001b[0m    \u001b[0;34m\"\"\"\u001b[0m\n",
       "\u001b[0;34m    Train an unsupervised model and return a model object.\u001b[0m\n",
       "\u001b[0;34m\u001b[0m\n",
       "\u001b[0;34m    input must be a filepath. The input text does not need to be tokenized\u001b[0m\n",
       "\u001b[0;34m    as per the tokenize function, but it must be preprocessed and encoded\u001b[0m\n",
       "\u001b[0;34m    as UTF-8. You might want to consult standard preprocessing scripts such\u001b[0m\n",
       "\u001b[0;34m    as tokenizer.perl mentioned here: http://www.statmt.org/wmt07/baseline.html\u001b[0m\n",
       "\u001b[0;34m\u001b[0m\n",
       "\u001b[0;34m    The input field must not contain any labels or use the specified label prefix\u001b[0m\n",
       "\u001b[0;34m    unless it is ok for those words to be ignored. For an example consult the\u001b[0m\n",
       "\u001b[0;34m    dataset pulled by the example script word-vector-example.sh, which is\u001b[0m\n",
       "\u001b[0;34m    part of the fastText repository.\u001b[0m\n",
       "\u001b[0;34m    \"\"\"\u001b[0m\u001b[0;34m\u001b[0m\n",
       "\u001b[0;34m\u001b[0m    \u001b[0marg_names\u001b[0m \u001b[0;34m=\u001b[0m \u001b[0;34m[\u001b[0m\u001b[0;34m'input'\u001b[0m\u001b[0;34m,\u001b[0m \u001b[0;34m'model'\u001b[0m\u001b[0;34m,\u001b[0m \u001b[0;34m'lr'\u001b[0m\u001b[0;34m,\u001b[0m \u001b[0;34m'dim'\u001b[0m\u001b[0;34m,\u001b[0m \u001b[0;34m'ws'\u001b[0m\u001b[0;34m,\u001b[0m \u001b[0;34m'epoch'\u001b[0m\u001b[0;34m,\u001b[0m \u001b[0;34m'minCount'\u001b[0m\u001b[0;34m,\u001b[0m\u001b[0;34m\u001b[0m\n",
       "\u001b[0;34m\u001b[0m                 \u001b[0;34m'minCountLabel'\u001b[0m\u001b[0;34m,\u001b[0m \u001b[0;34m'minn'\u001b[0m\u001b[0;34m,\u001b[0m \u001b[0;34m'maxn'\u001b[0m\u001b[0;34m,\u001b[0m \u001b[0;34m'neg'\u001b[0m\u001b[0;34m,\u001b[0m \u001b[0;34m'wordNgrams'\u001b[0m\u001b[0;34m,\u001b[0m \u001b[0;34m'loss'\u001b[0m\u001b[0;34m,\u001b[0m \u001b[0;34m'bucket'\u001b[0m\u001b[0;34m,\u001b[0m\u001b[0;34m\u001b[0m\n",
       "\u001b[0;34m\u001b[0m                 \u001b[0;34m'thread'\u001b[0m\u001b[0;34m,\u001b[0m \u001b[0;34m'lrUpdateRate'\u001b[0m\u001b[0;34m,\u001b[0m \u001b[0;34m't'\u001b[0m\u001b[0;34m,\u001b[0m \u001b[0;34m'label'\u001b[0m\u001b[0;34m,\u001b[0m \u001b[0;34m'verbose'\u001b[0m\u001b[0;34m,\u001b[0m \u001b[0;34m'pretrainedVectors'\u001b[0m\u001b[0;34m]\u001b[0m\u001b[0;34m\u001b[0m\n",
       "\u001b[0;34m\u001b[0m    \u001b[0margs\u001b[0m\u001b[0;34m,\u001b[0m \u001b[0mmanually_set_args\u001b[0m \u001b[0;34m=\u001b[0m \u001b[0mread_args\u001b[0m\u001b[0;34m(\u001b[0m\u001b[0mkargs\u001b[0m\u001b[0;34m,\u001b[0m \u001b[0mkwargs\u001b[0m\u001b[0;34m,\u001b[0m \u001b[0marg_names\u001b[0m\u001b[0;34m,\u001b[0m\u001b[0;34m\u001b[0m\n",
       "\u001b[0;34m\u001b[0m                                        \u001b[0munsupervised_default\u001b[0m\u001b[0;34m)\u001b[0m\u001b[0;34m\u001b[0m\n",
       "\u001b[0;34m\u001b[0m    \u001b[0ma\u001b[0m \u001b[0;34m=\u001b[0m \u001b[0m_build_args\u001b[0m\u001b[0;34m(\u001b[0m\u001b[0margs\u001b[0m\u001b[0;34m,\u001b[0m \u001b[0mmanually_set_args\u001b[0m\u001b[0;34m)\u001b[0m\u001b[0;34m\u001b[0m\n",
       "\u001b[0;34m\u001b[0m    \u001b[0mft\u001b[0m \u001b[0;34m=\u001b[0m \u001b[0m_FastText\u001b[0m\u001b[0;34m(\u001b[0m\u001b[0margs\u001b[0m\u001b[0;34m=\u001b[0m\u001b[0ma\u001b[0m\u001b[0;34m)\u001b[0m\u001b[0;34m\u001b[0m\n",
       "\u001b[0;34m\u001b[0m    \u001b[0mfasttext\u001b[0m\u001b[0;34m.\u001b[0m\u001b[0mtrain\u001b[0m\u001b[0;34m(\u001b[0m\u001b[0mft\u001b[0m\u001b[0;34m.\u001b[0m\u001b[0mf\u001b[0m\u001b[0;34m,\u001b[0m \u001b[0ma\u001b[0m\u001b[0;34m)\u001b[0m\u001b[0;34m\u001b[0m\n",
       "\u001b[0;34m\u001b[0m    \u001b[0mft\u001b[0m\u001b[0;34m.\u001b[0m\u001b[0mset_args\u001b[0m\u001b[0;34m(\u001b[0m\u001b[0mft\u001b[0m\u001b[0;34m.\u001b[0m\u001b[0mf\u001b[0m\u001b[0;34m.\u001b[0m\u001b[0mgetArgs\u001b[0m\u001b[0;34m(\u001b[0m\u001b[0;34m)\u001b[0m\u001b[0;34m)\u001b[0m\u001b[0;34m\u001b[0m\n",
       "\u001b[0;34m\u001b[0m    \u001b[0;32mreturn\u001b[0m \u001b[0mft\u001b[0m\u001b[0;34m\u001b[0m\u001b[0;34m\u001b[0m\u001b[0m\n",
       "\u001b[0;31mFile:\u001b[0m      ~/.pyenv/versions/search_with_ml_week3/lib/python3.9/site-packages/fasttext/FastText.py\n",
       "\u001b[0;31mType:\u001b[0m      function\n"
      ]
     },
     "metadata": {},
     "output_type": "display_data"
    }
   ],
   "source": [
    "ft.train_unsupervised??"
   ]
  },
  {
   "cell_type": "code",
   "execution_count": 8,
   "id": "902aaf4d-4a00-480a-a47d-195b52119688",
   "metadata": {},
   "outputs": [
    {
     "data": {
      "text/plain": [
       "[('headphones',\n",
       "  [(0.8894093632698059, 'earbud'),\n",
       "   (0.847713828086853, 'headphon'),\n",
       "   (0.835752546787262, 'headphone'),\n",
       "   (0.7844434976577759, 'ear'),\n",
       "   (0.679629921913147, 'neckband'),\n",
       "   (0.675812840461731, 'piiq'),\n",
       "   (0.670875608921051, 'adidas'),\n",
       "   (0.6686697602272034, 'superbudz'),\n",
       "   (0.6669088006019592, 'earpollution'),\n",
       "   (0.6554350256919861, 'bud')]),\n",
       " ('televisions',\n",
       "  [(0.9134686589241028, 'television'),\n",
       "   (0.8775928616523743, 'televis'),\n",
       "   (0.6211571097373962, 'purevision'),\n",
       "   (0.6000802516937256, 'tvs'),\n",
       "   (0.5959171056747437, 'sunbritetv'),\n",
       "   (0.5912543535232544, 'visionmount'),\n",
       "   (0.5735495090484619, 'panel'),\n",
       "   (0.5721613764762878, 'sb'),\n",
       "   (0.5587849617004395, 'highboy'),\n",
       "   (0.5579285025596619, 'pole')]),\n",
       " ('refrigerator',\n",
       "  [(0.8945291638374329, 'refrigerators'),\n",
       "   (0.8129922151565552, 'side'),\n",
       "   (0.7540073990821838, 'cu'),\n",
       "   (0.7342646718025208, 'ft'),\n",
       "   (0.7291808128356934, 'freezer'),\n",
       "   (0.7241199612617493, 'satina'),\n",
       "   (0.7237869501113892, 'refriger'),\n",
       "   (0.7231612801551819, 'monochromatic'),\n",
       "   (0.7212991714477539, 'ultrafinish'),\n",
       "   (0.7078241109848022, 'ice2o')]),\n",
       " ('washing machines',\n",
       "  [(0.7645189166069031, 'machines'),\n",
       "   (0.7229323387145996, 'washing'),\n",
       "   (0.7225230932235718, 'washington'),\n",
       "   (0.7041926980018616, 'emachines'),\n",
       "   (0.6389822959899902, 'steelers'),\n",
       "   (0.6259379386901855, 'sooners'),\n",
       "   (0.621680736541748, 'hurricanes'),\n",
       "   (0.6185687184333801, 'arkansas'),\n",
       "   (0.6143726706504822, 'spartans'),\n",
       "   (0.6128829121589661, 'volunteers')]),\n",
       " ('smartwatch',\n",
       "  [(0.7572720646858215, 'watch'),\n",
       "   (0.6558693647384644, 'schedule'),\n",
       "   (0.6526580452919006, 'smartstart'),\n",
       "   (0.6518834829330444, 'veteran'),\n",
       "   (0.6491163969039917, 'chronograph'),\n",
       "   (0.646751344203949, 'faas'),\n",
       "   (0.6414168477058411, 'armitron'),\n",
       "   (0.6383877396583557, 'forerunner'),\n",
       "   (0.637488842010498, 'smartridg'),\n",
       "   (0.6348628997802734, 'smartpen')]),\n",
       " ('sony',\n",
       "  [(0.6035233736038208, 'walkman'),\n",
       "   (0.598195493221283, 'bravia'),\n",
       "   (0.5769582986831665, 'handycam'),\n",
       "   (0.5749176144599915, 'vaio'),\n",
       "   (0.5662657618522644, 'a55'),\n",
       "   (0.5607240796089172, 'c3k'),\n",
       "   (0.5595611929893494, 'sr42'),\n",
       "   (0.5554654598236084, 'sxrd'),\n",
       "   (0.5548670291900635, 'w610'),\n",
       "   (0.5527992844581604, 'dsc')]),\n",
       " ('samsung',\n",
       "  [(0.7453268766403198, 'lg'),\n",
       "   (0.5970470905303955, 'galaxy'),\n",
       "   (0.5739672780036926, 'sph'),\n",
       "   (0.5735538601875305, 'stratosphere'),\n",
       "   (0.5650969743728638, 'google'),\n",
       "   (0.5644840598106384, 'devour'),\n",
       "   (0.5328734517097473, 'fascinate'),\n",
       "   (0.5311260223388672, 'marquee'),\n",
       "   (0.5298634767532349, 'r225'),\n",
       "   (0.5292083024978638, 'captivate')]),\n",
       " ('bosch',\n",
       "  [(0.6935275793075562, 'anthracit'),\n",
       "   (0.6857693195343018, 'axxis'),\n",
       "   (0.675304114818573, 'electrolux'),\n",
       "   (0.6495519876480103, 'ascenta'),\n",
       "   (0.6407433748245239, 'tassimo'),\n",
       "   (0.6290654540061951, 'integra'),\n",
       "   (0.6258899569511414, 'gevalia'),\n",
       "   (0.6184278130531311, 'frigidaire'),\n",
       "   (0.5933042168617249, 'ge'),\n",
       "   (0.5863286256790161, 'cafe')]),\n",
       " ('apple',\n",
       "  [(0.8391562104225159, 'ipod'),\n",
       "   (0.804041862487793, 'iphone'),\n",
       "   (0.7962266802787781, 'ipad'),\n",
       "   (0.6715354323387146, '4th'),\n",
       "   (0.6473310589790344, 'iphon'),\n",
       "   (0.6438795924186707, 'generation'),\n",
       "   (0.6248166561126709, '4'),\n",
       "   (0.6016803979873657, '4s'),\n",
       "   (0.5883232355117798, '3rd'),\n",
       "   (0.585669219493866, 'powerbook')]),\n",
       " ('skullcandy',\n",
       "  [(0.855453372001648, 'skullcrusher'),\n",
       "   (0.7031365036964417, 'hesh'),\n",
       "   (0.6887988448143005, 'smokin'),\n",
       "   (0.6747406721115112, 'skull'),\n",
       "   (0.6724755764007568, 'chops'),\n",
       "   (0.6420029401779175, 'earbuds'),\n",
       "   (0.634045422077179, 'lowrider'),\n",
       "   (0.6079388856887817, 'buds'),\n",
       "   (0.6058014035224915, 'headphones'),\n",
       "   (0.6018484234809875, 'earbud')]),\n",
       " ('iphone',\n",
       "  [(0.8309891819953918, '4s'),\n",
       "   (0.8040416836738586, 'apple'),\n",
       "   (0.714379608631134, '4'),\n",
       "   (0.7108117341995239, '3gs'),\n",
       "   (0.6999632716178894, 'ipod'),\n",
       "   (0.6989128589630127, 'ipad'),\n",
       "   (0.6605643630027771, 'iphon'),\n",
       "   (0.6446154713630676, '4th'),\n",
       "   (0.6268576979637146, 'fabshell'),\n",
       "   (0.6216433048248291, 'nauticase')]),\n",
       " ('ipad',\n",
       "  [(0.7962267398834229, 'apple'),\n",
       "   (0.6989127993583679, 'iphone'),\n",
       "   (0.6590662598609924, 'generation'),\n",
       "   (0.6409128308296204, '3rd'),\n",
       "   (0.6272789835929871, 'sleeve'),\n",
       "   (0.6018890142440796, 'bodhi'),\n",
       "   (0.5971869230270386, 'nextbook'),\n",
       "   (0.5952296853065491, 'ipod'),\n",
       "   (0.5908301472663879, 'versavu'),\n",
       "   (0.5904721617698669, '4th')]),\n",
       " ('thinkpad',\n",
       "  [(0.8067241311073303, 'lenovo'),\n",
       "   (0.7746294736862183, 'ideapad'),\n",
       "   (0.7742852568626404, 'thinkcentre'),\n",
       "   (0.742592990398407, 'lifebook'),\n",
       "   (0.7337061762809753, '2520m'),\n",
       "   (0.7198216319084167, 'ibm'),\n",
       "   (0.7168139815330505, 'think'),\n",
       "   (0.7020401358604431, '2330m'),\n",
       "   (0.685402512550354, 't40'),\n",
       "   (0.6817343235015869, 'travelmate')]),\n",
       " ('iwatch',\n",
       "  [(0.8615750074386597, 'iwatchz'),\n",
       "   (0.806278645992279, 'watch'),\n",
       "   (0.7945969700813293, 'watchband'),\n",
       "   (0.679643988609314, 'tiktok'),\n",
       "   (0.6571071147918701, 'veteran'),\n",
       "   (0.6570990681648254, 'lunatik'),\n",
       "   (0.6366928219795227, 'faas'),\n",
       "   (0.6279699802398682, '6th'),\n",
       "   (0.6249276995658875, 'rate'),\n",
       "   (0.6229084730148315, 'schedule')]),\n",
       " ('macbook',\n",
       "  [(0.6898862719535828, 'unibody'),\n",
       "   (0.6446442008018494, 'ibook'),\n",
       "   (0.6288661360740662, 'powerbook'),\n",
       "   (0.6258471608161926, 'seethru'),\n",
       "   (0.6248313784599304, 'bookendz'),\n",
       "   (0.6174718737602234, 'magsafe'),\n",
       "   (0.6094191670417786, 'brenthaven'),\n",
       "   (0.5987816452980042, 'aubergin'),\n",
       "   (0.5913324356079102, 'laptops'),\n",
       "   (0.5833693146705627, 'nextbook')]),\n",
       " ('black',\n",
       "  [(0.651664137840271, 'gray'),\n",
       "   (0.643356442451477, 'silv'),\n",
       "   (0.5921660661697388, 'whit'),\n",
       "   (0.5673083066940308, 'silver'),\n",
       "   (0.5477979779243469, 'blu'),\n",
       "   (0.5444286465644836, 'orang'),\n",
       "   (0.5100929141044617, 'burgundi'),\n",
       "   (0.5059382319450378, 'coconut'),\n",
       "   (0.502573549747467, 'ol'),\n",
       "   (0.5001076459884644, 'pink')]),\n",
       " ('red',\n",
       "  [(0.6305142045021057, 'l22'),\n",
       "   (0.5507311820983887, 'l26'),\n",
       "   (0.5463396906852722, 'blue'),\n",
       "   (0.543674886226654, 'l18'),\n",
       "   (0.542621910572052, 'sox'),\n",
       "   (0.5419125556945801, 'h55'),\n",
       "   (0.5408124923706055, 's6100'),\n",
       "   (0.5405476093292236, 's8200'),\n",
       "   (0.533831775188446, 'ms230'),\n",
       "   (0.5330260992050171, '230hs')]),\n",
       " ('waterproof',\n",
       "  [(0.6873819231987, 'proof'),\n",
       "   (0.6094266176223755, 'etrex'),\n",
       "   (0.5720318555831909, 'amphibx'),\n",
       "   (0.5696662664413452, 'waterpik'),\n",
       "   (0.5679762363433838, 'waas'),\n",
       "   (0.5665181875228882, 'lifeproof'),\n",
       "   (0.5601938962936401, 'xp50'),\n",
       "   (0.5484510064125061, 'meridian'),\n",
       "   (0.5176158547401428, 'carabiner'),\n",
       "   (0.5146470069885254, 'vado')]),\n",
       " ('wireless',\n",
       "  [(0.5866068601608276, 'n150'),\n",
       "   (0.5795653462409973, 'speedbooster'),\n",
       "   (0.5763781666755676, 'mous'),\n",
       "   (0.5738640427589417, 's5730y'),\n",
       "   (0.5678500533103943, 'rangebooster'),\n",
       "   (0.5659480094909668, 'ub32p'),\n",
       "   (0.5568661689758301, '11b'),\n",
       "   (0.5553411841392517, '600mw'),\n",
       "   (0.5534935593605042, 'rangemax'),\n",
       "   (0.5521039962768555, 'numeric')]),\n",
       " ('bluetooth',\n",
       "  [(0.6981439590454102, 'headset'),\n",
       "   (0.6906485557556152, 'blueant'),\n",
       "   (0.6304345726966858, 'enabled'),\n",
       "   (0.6295517086982727, 'bluetrek'),\n",
       "   (0.6258690357208252, 'headsets'),\n",
       "   (0.5948426127433777, 'parrot'),\n",
       "   (0.5901798605918884, 'soundfreaq'),\n",
       "   (0.5881258845329285, 'speakerphon'),\n",
       "   (0.5731033682823181, 'hmdx'),\n",
       "   (0.5719299912452698, 'speakerphone')])]"
      ]
     },
     "execution_count": 8,
     "metadata": {},
     "output_type": "execute_result"
    }
   ],
   "source": [
    "evaluate(model, k=10)"
   ]
  },
  {
   "cell_type": "code",
   "execution_count": 67,
   "id": "7356e08d-8361-4fde-82fa-efe57f915d74",
   "metadata": {},
   "outputs": [
    {
     "name": "stderr",
     "output_type": "stream",
     "text": [
      "Read 1M words\n",
      "Number of words:  5743\n",
      "Number of labels: 0\n",
      "Progress: 100.0% words/sec/thread:   52409 lr:  0.000000 avg.loss:  1.410350 ETA:   0h 0m 0s\n"
     ]
    }
   ],
   "source": [
    "model10=ft.train_unsupervised('/workspace/datasets/fasttext/titles.txt', minCount=10)"
   ]
  },
  {
   "cell_type": "code",
   "execution_count": 71,
   "id": "d5a3da24-da34-424f-91b1-a3f85dfcfda6",
   "metadata": {},
   "outputs": [
    {
     "data": {
      "text/plain": [
       "[('headphones',\n",
       "  [(0.93272465467453, 'headphon'),\n",
       "   (0.9270111322402954, 'headphone'),\n",
       "   (0.8778688311576843, 'earbud'),\n",
       "   (0.8217599391937256, 'ear'),\n",
       "   (0.8085653185844421, 'earphones')]),\n",
       " ('televisions',\n",
       "  [(0.8794519305229187, 'television'),\n",
       "   (0.8161981701850891, 'visionmount'),\n",
       "   (0.7831764817237854, 'whalen'),\n",
       "   (0.7460930347442627, 'sunbritetv'),\n",
       "   (0.7412470579147339, 'wega')]),\n",
       " ('refrigerator',\n",
       "  [(0.9694816470146179, 'refrigerators'),\n",
       "   (0.880591869354248, 'side'),\n",
       "   (0.8579696416854858, 'monochromatic'),\n",
       "   (0.8534564971923828, 'ice2o'),\n",
       "   (0.84491366147995, 'panorama')]),\n",
       " ('washing machines',\n",
       "  [(0.821678638458252, 'washington'),\n",
       "   (0.7737298607826233, 'panthers'),\n",
       "   (0.773579478263855, 'machines'),\n",
       "   (0.7730887532234192, 'dolphins'),\n",
       "   (0.7478132247924805, 'chinese')]),\n",
       " ('smartwatch',\n",
       "  [(0.8082565665245056, 'watch'),\n",
       "   (0.7544666528701782, 'smartpens'),\n",
       "   (0.7412256598472595, 'smarthome'),\n",
       "   (0.7376159429550171, 'smartpen'),\n",
       "   (0.7237333655357361, 'iwatchz')]),\n",
       " ('sony',\n",
       "  [(0.634807288646698, 'sonos'),\n",
       "   (0.628337025642395, 'alpha'),\n",
       "   (0.6111117601394653, 'dsc'),\n",
       "   (0.5878730416297913, 'w120'),\n",
       "   (0.5837332010269165, 'w350')]),\n",
       " ('samsung',\n",
       "  [(0.7397788166999817, 'lg'),\n",
       "   (0.6850057244300842, 'sanyo'),\n",
       "   (0.6342660188674927, 'galaxy'),\n",
       "   (0.6160804629325867, 'wildfire'),\n",
       "   (0.6116771101951599, 'google')]),\n",
       " ('bosch',\n",
       "  [(0.7715681791305542, 'ascenta'),\n",
       "   (0.7628387212753296, 'maytag'),\n",
       "   (0.733688473701477, 'whirlpool'),\n",
       "   (0.7210652828216553, 'oxid'),\n",
       "   (0.7182450294494629, 'tassimo')]),\n",
       " ('apple',\n",
       "  [(0.8629212379455566, 'ipod'),\n",
       "   (0.7531965970993042, 'ipad'),\n",
       "   (0.7374354600906372, 'iphone'),\n",
       "   (0.7268044352531433, 'iphon'),\n",
       "   (0.6755876541137695, '3gs')]),\n",
       " ('skullcandy',\n",
       "  [(0.8935900330543518, 'skull'),\n",
       "   (0.8038527369499207, 'earbuds'),\n",
       "   (0.794274091720581, 'buds'),\n",
       "   (0.7921249270439148, 'earbud'),\n",
       "   (0.7908867001533508, 'yurbuds')]),\n",
       " ('iphone',\n",
       "  [(0.8320899605751038, '4s'),\n",
       "   (0.8111552596092224, 'iphon'),\n",
       "   (0.7787817716598511, '3gs'),\n",
       "   (0.7374353408813477, 'apple'),\n",
       "   (0.7327064275741577, '4')]),\n",
       " ('ipad',\n",
       "  [(0.7616523504257202, 'portfolio'),\n",
       "   (0.7531964182853699, 'apple'),\n",
       "   (0.7413807511329651, 'folio'),\n",
       "   (0.7194530963897705, 'easel'),\n",
       "   (0.7136783003807068, '4')]),\n",
       " ('thinkpad',\n",
       "  [(0.909301221370697, 'ideapad'),\n",
       "   (0.8909821510314941, 'thinkcentre'),\n",
       "   (0.8626028299331665, 'lenovo'),\n",
       "   (0.8350695967674255, 'ibm'),\n",
       "   (0.834135890007019, 'qosmio')]),\n",
       " ('iwatch',\n",
       "  [(0.9373423457145691, 'watch'),\n",
       "   (0.8748552799224854, 'iwatchz'),\n",
       "   (0.8316307067871094, 'watchband'),\n",
       "   (0.7764949798583984, 'catch'),\n",
       "   (0.7350239753723145, 'ironman')]),\n",
       " ('macbook',\n",
       "  [(0.7609235644340515, 'bookendz'),\n",
       "   (0.7367817759513855, 'powerbook'),\n",
       "   (0.7220308780670166, 'laptops'),\n",
       "   (0.7047126293182373, 'macbeth'),\n",
       "   (0.6998157501220703, 'seethru')]),\n",
       " ('black',\n",
       "  [(0.684699535369873, 'blacktop'),\n",
       "   (0.6623684763908386, 'whit'),\n",
       "   (0.5993536710739136, 'silv'),\n",
       "   (0.5845986604690552, 'blackjack'),\n",
       "   (0.5831509828567505, 'blackhawk')]),\n",
       " ('red',\n",
       "  [(0.5861427783966064, 'blue'),\n",
       "   (0.5831108689308167, 'l22'),\n",
       "   (0.567679762840271, 'reds'),\n",
       "   (0.5539170503616333, 'zippered'),\n",
       "   (0.5434892773628235, 'l18')]),\n",
       " ('waterproof',\n",
       "  [(0.7627427577972412, 'proof'),\n",
       "   (0.7496240735054016, 'waas'),\n",
       "   (0.7415147423744202, 'lifeproof'),\n",
       "   (0.7301416397094727, 'wp'),\n",
       "   (0.6839768886566162, 'binoculars')]),\n",
       " ('wireless',\n",
       "  [(0.6918720006942749, 'wired'),\n",
       "   (0.6162538528442383, '11g'),\n",
       "   (0.5965490341186523, 'vpn'),\n",
       "   (0.5903449654579163, '11b'),\n",
       "   (0.5855604410171509, '11n')]),\n",
       " ('bluetooth',\n",
       "  [(0.7826460599899292, 'blueant'),\n",
       "   (0.748576819896698, 'headset'),\n",
       "   (0.7434085011482239, 'enabled'),\n",
       "   (0.7302955389022827, 'jabra'),\n",
       "   (0.6797063946723938, 'hmdx')])]"
      ]
     },
     "execution_count": 71,
     "metadata": {},
     "output_type": "execute_result"
    }
   ],
   "source": [
    "evaluate(model10, k=5)"
   ]
  },
  {
   "cell_type": "code",
   "execution_count": 72,
   "id": "cd5e75ae-f531-4d26-880f-e7c31366e19a",
   "metadata": {},
   "outputs": [
    {
     "name": "stderr",
     "output_type": "stream",
     "text": [
      "Read 1M words\n",
      "Number of words:  3749\n",
      "Number of labels: 0\n",
      "Progress: 100.0% words/sec/thread:   38912 lr:  0.000000 avg.loss:  1.406713 ETA:   0h 0m 0s\n"
     ]
    }
   ],
   "source": [
    "model20=ft.train_unsupervised('/workspace/datasets/fasttext/titles.txt', minCount=20)"
   ]
  },
  {
   "cell_type": "code",
   "execution_count": 73,
   "id": "60b17e2c-36a7-41c7-a3e2-17d29ee37e9e",
   "metadata": {},
   "outputs": [
    {
     "data": {
      "text/plain": [
       "[('headphones',\n",
       "  [(0.9300025105476379, 'headphon'),\n",
       "   (0.919276773929596, 'headphone'),\n",
       "   (0.8799359202384949, 'earbud'),\n",
       "   (0.8216578960418701, 'earphones'),\n",
       "   (0.8151381611824036, 'ear')]),\n",
       " ('televisions',\n",
       "  [(0.7140693664550781, 'nhl'),\n",
       "   (0.7081529498100281, 'tekken'),\n",
       "   (0.7047365307807922, 'chiefs'),\n",
       "   (0.7033829092979431, 'tennis'),\n",
       "   (0.7004234790802002, 'wwe')]),\n",
       " ('refrigerator',\n",
       "  [(0.8941556215286255, 'side'),\n",
       "   (0.8849811553955078, 'monochromatic'),\n",
       "   (0.8507714867591858, 'satina'),\n",
       "   (0.8274998664855957, 'customstyle'),\n",
       "   (0.8258361220359802, 'counter')]),\n",
       " ('washing machines',\n",
       "  [(0.8135136365890503, 'washington'),\n",
       "   (0.7707059383392334, 'emachines'),\n",
       "   (0.7659292221069336, 'texans'),\n",
       "   (0.7599278092384338, 'toronto'),\n",
       "   (0.754831075668335, 'jets')]),\n",
       " ('smartwatch',\n",
       "  [(0.7960307002067566, 'watch'),\n",
       "   (0.6941384077072144, 'smart'),\n",
       "   (0.6786313652992249, 'smarthome'),\n",
       "   (0.6567648649215698, 'armitron'),\n",
       "   (0.6511904001235962, 'schedule')]),\n",
       " ('sony',\n",
       "  [(0.6303634643554688, 'w120'),\n",
       "   (0.6168924570083618, 'dsc'),\n",
       "   (0.5950303673744202, 'sonos'),\n",
       "   (0.5911659002304077, 'jvc'),\n",
       "   (0.5903011560440063, 'dcr')]),\n",
       " ('samsung',\n",
       "  [(0.7431051135063171, 'lg'),\n",
       "   (0.67107093334198, 'sanyo'),\n",
       "   (0.6162490248680115, 'sgh'),\n",
       "   (0.6050381660461426, 'galaxy'),\n",
       "   (0.5859800577163696, 'nexus')]),\n",
       " ('bosch',\n",
       "  [(0.8278663158416748, 'ascenta'),\n",
       "   (0.7823411822319031, 'maytag'),\n",
       "   (0.7436270713806152, 'electrolux'),\n",
       "   (0.7434797286987305, 'whirlpool'),\n",
       "   (0.7354857921600342, 'integra')]),\n",
       " ('apple',\n",
       "  [(0.8344096541404724, 'ipod'),\n",
       "   (0.732318103313446, 'ipad'),\n",
       "   (0.7001556158065796, 'iphone'),\n",
       "   (0.674211859703064, 'iphon'),\n",
       "   (0.65229731798172, '4th')]),\n",
       " ('skullcandy',\n",
       "  [(0.8052223324775696, 'buds'),\n",
       "   (0.8013839721679688, 'earbuds'),\n",
       "   (0.7722090482711792, 'earbud'),\n",
       "   (0.7713901400566101, 'hesh'),\n",
       "   (0.7579062581062317, 'smokin')]),\n",
       " ('iphone',\n",
       "  [(0.8331207036972046, '4s'),\n",
       "   (0.7963958382606506, 'iphon'),\n",
       "   (0.7869691848754883, '3gs'),\n",
       "   (0.7590318322181702, '4'),\n",
       "   (0.7118563055992126, 'ipod')]),\n",
       " ('ipad',\n",
       "  [(0.7323178648948669, 'apple'),\n",
       "   (0.7205092310905457, '3rd'),\n",
       "   (0.7199450135231018, 'folio'),\n",
       "   (0.7154480814933777, 'portfolio'),\n",
       "   (0.6921695470809937, 'generation')]),\n",
       " ('thinkpad',\n",
       "  [(0.8892771601676941, 'ideapad'),\n",
       "   (0.854210376739502, 'lifebook'),\n",
       "   (0.8534885048866272, 'ibm'),\n",
       "   (0.8332817554473877, 'lenovo'),\n",
       "   (0.8284014463424683, 'helios')]),\n",
       " ('iwatch',\n",
       "  [(0.9729151129722595, 'watch'),\n",
       "   (0.7559951543807983, 'heart'),\n",
       "   (0.7487395405769348, 'schedule'),\n",
       "   (0.721035897731781, 'timex'),\n",
       "   (0.7041622400283813, 'ironman')]),\n",
       " ('macbook',\n",
       "  [(0.7412484884262085, 'laptops'),\n",
       "   (0.7046898007392883, 'powerbook'),\n",
       "   (0.6699513792991638, 'g4'),\n",
       "   (0.6613544821739197, 'macbeth'),\n",
       "   (0.6573346257209778, 'playbook')]),\n",
       " ('black',\n",
       "  [(0.6623749732971191, 'blacktop'),\n",
       "   (0.6140603423118591, 'silv'),\n",
       "   (0.5753417015075684, 'gray'),\n",
       "   (0.573940634727478, 'blackjack'),\n",
       "   (0.5579360723495483, 'whit')]),\n",
       " ('red',\n",
       "  [(0.6006529927253723, 'reds'),\n",
       "   (0.5823913216590881, 'blue'),\n",
       "   (0.5383473634719849, 's6200'),\n",
       "   (0.5347147583961487, 's4100'),\n",
       "   (0.5299935340881348, 's6100')]),\n",
       " ('waterproof',\n",
       "  [(0.7147471308708191, 'waas'),\n",
       "   (0.6226122975349426, 'wrist'),\n",
       "   (0.6196531653404236, 'h2o'),\n",
       "   (0.6188576817512512, 'binoculars'),\n",
       "   (0.6171708703041077, 'bushnell')]),\n",
       " ('wireless',\n",
       "  [(0.6700887680053711, 'wired'),\n",
       "   (0.6555403470993042, '11b'),\n",
       "   (0.6180615425109863, '11g'),\n",
       "   (0.5747265219688416, 'rout'),\n",
       "   (0.5678640604019165, 'rangemax')]),\n",
       " ('bluetooth',\n",
       "  [(0.7201095223426819, 'jabra'),\n",
       "   (0.7021807432174683, 'enabled'),\n",
       "   (0.6984348297119141, 'headset'),\n",
       "   (0.6639394760131836, 'jawbone'),\n",
       "   (0.6560773849487305, 'parrot')])]"
      ]
     },
     "execution_count": 73,
     "metadata": {},
     "output_type": "execute_result"
    }
   ],
   "source": [
    "evaluate(model20, k=5)"
   ]
  },
  {
   "cell_type": "code",
   "execution_count": 74,
   "id": "8c958fe3-4af6-4d88-8819-c975af0d5d6d",
   "metadata": {},
   "outputs": [
    {
     "name": "stderr",
     "output_type": "stream",
     "text": [
      "Read 1M words\n",
      "Number of words:  2062\n",
      "Number of labels: 0\n",
      "Progress: 100.0% words/sec/thread:   41776 lr:  0.000000 avg.loss:  1.400826 ETA:   0h 0m 0s100.0% words/sec/thread:   41777 lr: -0.000001 avg.loss:  1.400826 ETA:   0h 0m 0s\n"
     ]
    },
    {
     "data": {
      "text/plain": [
       "[('headphones',\n",
       "  [(0.936922550201416, 'headphon'),\n",
       "   (0.8321928381919861, 'earbud'),\n",
       "   (0.8034393191337585, 'ear'),\n",
       "   (0.6846233010292053, 'microphones'),\n",
       "   (0.6836632490158081, 'bud')]),\n",
       " ('televisions',\n",
       "  [(0.7210134267807007, 'activision'),\n",
       "   (0.7100964784622192, 'seahawks'),\n",
       "   (0.7100086808204651, 'orleans'),\n",
       "   (0.7087095975875854, 'lions'),\n",
       "   (0.7044817805290222, 'cleveland')]),\n",
       " ('refrigerator',\n",
       "  [(0.8487700819969177, 'side'),\n",
       "   (0.8279436826705933, 'refriger'),\n",
       "   (0.8248531222343445, 'monochromatic'),\n",
       "   (0.7899876236915588, 'satina'),\n",
       "   (0.7783686518669128, 'counter')]),\n",
       " ('washing machines',\n",
       "  [(0.7989990711212158, 'washington'),\n",
       "   (0.7803131341934204, 'ohio'),\n",
       "   (0.7518882155418396, 'iowa'),\n",
       "   (0.7500224113464355, 'georgia'),\n",
       "   (0.7487159371376038, 'emachines')]),\n",
       " ('smartwatch',\n",
       "  [(0.7698683142662048, 'watch'),\n",
       "   (0.7587125301361084, 'smart'),\n",
       "   (0.6855758428573608, 'heart'),\n",
       "   (0.642951488494873, 'patch'),\n",
       "   (0.6298967599868774, 'gigabit')]),\n",
       " ('sony',\n",
       "  [(0.5432348251342773, 'jvc'),\n",
       "   (0.539080023765564, 'insignia'),\n",
       "   (0.5389316082000732, 'alpha'),\n",
       "   (0.5254702568054199, 'walkman'),\n",
       "   (0.5227706432342529, 'panasonic')]),\n",
       " ('samsung',\n",
       "  [(0.8018866777420044, 'lg'),\n",
       "   (0.6668958067893982, 'sanyo'),\n",
       "   (0.6195892691612244, 'galaxy'),\n",
       "   (0.5757266283035278, 'panasonic'),\n",
       "   (0.5754876136779785, 'viewsonic')]),\n",
       " ('bosch',\n",
       "  [(0.7587512135505676, 'maytag'),\n",
       "   (0.7511705756187439, 'electrolux'),\n",
       "   (0.7363279461860657, 'whirlpool'),\n",
       "   (0.72584068775177, 'architect'),\n",
       "   (0.6882666349411011, 'dishwasher')]),\n",
       " ('apple',\n",
       "  [(0.7926471829414368, 'ipod'),\n",
       "   (0.7227722406387329, 'ipad'),\n",
       "   (0.7044424414634705, 'iphone'),\n",
       "   (0.6589834094047546, 'iphon'),\n",
       "   (0.6529087424278259, 'generation')]),\n",
       " ('skullcandy',\n",
       "  [(0.695440948009491, 'earbuds'),\n",
       "   (0.6911765336990356, 'earbud'),\n",
       "   (0.6768739223480225, 'gumy'),\n",
       "   (0.6502524614334106, 'candy'),\n",
       "   (0.6484313011169434, 'headphones')]),\n",
       " ('iphone',\n",
       "  [(0.8176923394203186, 'iphon'),\n",
       "   (0.7994529008865356, '4s'),\n",
       "   (0.7715998291969299, '3gs'),\n",
       "   (0.7131396532058716, '4'),\n",
       "   (0.7044423818588257, 'apple')]),\n",
       " ('ipad',\n",
       "  [(0.7354698777198792, 'portfolio'),\n",
       "   (0.7227725982666016, 'apple'),\n",
       "   (0.7166522145271301, '3rd'),\n",
       "   (0.6876838803291321, 'folio'),\n",
       "   (0.6743794679641724, '4')]),\n",
       " ('thinkpad',\n",
       "  [(0.8913294076919556, 'ideapad'),\n",
       "   (0.8837906718254089, 'ibm'),\n",
       "   (0.8187385201454163, 'lenovo'),\n",
       "   (0.7886348366737366, 'atg'),\n",
       "   (0.7819687128067017, 'fujitsu')]),\n",
       " ('iwatch',\n",
       "  [(0.9738327264785767, 'watch'),\n",
       "   (0.8120981454849243, 'heart'),\n",
       "   (0.7654370665550232, 'schedule'),\n",
       "   (0.7069736123085022, 'rate'),\n",
       "   (0.6966618895530701, 'training')]),\n",
       " ('macbook',\n",
       "  [(0.7065868973731995, 'laptops'),\n",
       "   (0.6351814866065979, 'neoprene'),\n",
       "   (0.6298325061798096, 'moshi'),\n",
       "   (0.6170467734336853, 'speck'),\n",
       "   (0.6141150593757629, 'incase')]),\n",
       " ('black',\n",
       "  [(0.5799279808998108, 'whit'),\n",
       "   (0.5450085997581482, 'gray'),\n",
       "   (0.5266944766044617, 'blackjack'),\n",
       "   (0.5218533873558044, 'silv'),\n",
       "   (0.51665198802948, 'brown')]),\n",
       " ('red',\n",
       "  [(0.629321813583374, 'blue'),\n",
       "   (0.5897993445396423, 'reds'),\n",
       "   (0.521162748336792, 'silver'),\n",
       "   (0.5146448612213135, 'sox'),\n",
       "   (0.5092195868492126, 'j1')]),\n",
       " ('waterproof',\n",
       "  [(0.676943302154541, 'resistant'),\n",
       "   (0.6047371625900269, 'enabled'),\n",
       "   (0.6012063026428223, 'bushnell'),\n",
       "   (0.5934762358665466, 'magellan'),\n",
       "   (0.5882461071014404, 'binocular')]),\n",
       " ('wireless',\n",
       "  [(0.6159533858299255, 'wired'),\n",
       "   (0.5717339515686035, '11g'),\n",
       "   (0.542452871799469, 'mous'),\n",
       "   (0.502682626247406, '4ghz'),\n",
       "   (0.4967649281024933, 'keyscaper')]),\n",
       " ('bluetooth',\n",
       "  [(0.6751799583435059, 'headset'),\n",
       "   (0.6744043231010437, 'enabled'),\n",
       "   (0.6660515069961548, 'jabra'),\n",
       "   (0.5706325173377991, 'plantronics'),\n",
       "   (0.5705951452255249, 'speakerphone')])]"
      ]
     },
     "execution_count": 74,
     "metadata": {},
     "output_type": "execute_result"
    }
   ],
   "source": [
    "model50=ft.train_unsupervised('/workspace/datasets/fasttext/titles.txt', minCount=50)\n",
    "evaluate(model50, k=5)"
   ]
  },
  {
   "cell_type": "code",
   "execution_count": null,
   "id": "f0008490-e217-4a66-bed0-f976706fb347",
   "metadata": {},
   "outputs": [],
   "source": []
  }
 ],
 "metadata": {
  "kernelspec": {
   "display_name": "sml_week3",
   "language": "python",
   "name": "sml_week3"
  },
  "language_info": {
   "codemirror_mode": {
    "name": "ipython",
    "version": 3
   },
   "file_extension": ".py",
   "mimetype": "text/x-python",
   "name": "python",
   "nbconvert_exporter": "python",
   "pygments_lexer": "ipython3",
   "version": "3.9.7"
  }
 },
 "nbformat": 4,
 "nbformat_minor": 5
}
