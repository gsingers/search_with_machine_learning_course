{
 "cells": [
  {
   "cell_type": "code",
   "execution_count": 10,
   "outputs": [],
   "source": [
    "from nltk import word_tokenize\n",
    "from nltk.stem import SnowballStemmer\n",
    "from nltk.corpus import stopwords\n",
    "import fasttext"
   ],
   "metadata": {
    "collapsed": false,
    "pycharm": {
     "name": "#%%\n"
    }
   }
  },
  {
   "cell_type": "code",
   "execution_count": 8,
   "outputs": [
    {
     "data": {
      "text/plain": "'plantron  cellular headset cell phone 35mm jack'"
     },
     "execution_count": 8,
     "metadata": {},
     "output_type": "execute_result"
    }
   ],
   "source": [
    "stemmer = SnowballStemmer(\"english\")\n",
    "stop_words = set(stopwords.words('english'))\n",
    "\n",
    "name = \"Plantronics - Cellular Headset for Cell Phones with a 3.5mm Jack\"\n",
    "name = name.replace('\\n', ' ').lower()\n",
    "tokens = word_tokenize(name)\n",
    "tokens = [\"\".join(c for c in token if c.isalnum()) for token in tokens]\n",
    "tokens = [stemmer.stem(token) for token in tokens]\n",
    "tokens = [token for token in tokens if not token in stop_words]\n",
    "\" \".join(tokens)"
   ],
   "metadata": {
    "collapsed": false,
    "pycharm": {
     "name": "#%%\n"
    }
   }
  },
  {
   "cell_type": "code",
   "execution_count": 20,
   "outputs": [
    {
     "name": "stderr",
     "output_type": "stream",
     "text": [
      "Warning : `load_model` does not return WordVectorModel or SupervisedModel any more, but a `FastText` object which is very similar.\n"
     ]
    },
    {
     "data": {
      "text/plain": "[(0.9993090033531189, 'appl'),\n (0.9552428126335144, 'kapok'),\n (0.9497963190078735, 'iphon'),\n (0.942984938621521, 'candyshel'),\n (0.9425405859947205, 'gaga'),\n (0.9352103471755981, '4'),\n (0.933537483215332, 'hardshel'),\n (0.9326379299163818, 'teal'),\n (0.929240882396698, 'canopi'),\n (0.9285093545913696, 'crystal'),\n (0.9265590310096741, 'oakley'),\n (0.9242282509803772, 'bumper'),\n (0.923902690410614, 'fabshel'),\n (0.9233757853507996, 'plum'),\n (0.9230901002883911, 'slider'),\n (0.9167668223381042, 'lifeproof'),\n (0.9167040586471558, 'ladi'),\n (0.9147304892539978, 'incas'),\n (0.9050961136817932, '3gs'),\n (0.8945755958557129, '4s')]"
     },
     "execution_count": 20,
     "metadata": {},
     "output_type": "execute_result"
    }
   ],
   "source": [
    "syns_model = \"/workspace/datasets/fasttext/phone_model.bin\"\n",
    "model = fasttext.load_model(syns_model)\n",
    "\n",
    "nn = model.get_nearest_neighbors(\"apple\", k=20)\n",
    "nn\n"
   ],
   "metadata": {
    "collapsed": false,
    "pycharm": {
     "name": "#%%\n"
    }
   }
  },
  {
   "cell_type": "code",
   "execution_count": 22,
   "outputs": [
    {
     "data": {
      "text/plain": "['appl', 'kapok', 'iphon', 'candyshel', 'gaga', '4', 'hardshel', 'teal']"
     },
     "execution_count": 22,
     "metadata": {},
     "output_type": "execute_result"
    }
   ],
   "source": [
    "threshold = 0.93\n",
    "synonyms = [n[1] for n in nn if n[0] > threshold]\n",
    "synonyms\n"
   ],
   "metadata": {
    "collapsed": false,
    "pycharm": {
     "name": "#%%\n"
    }
   }
  }
 ],
 "metadata": {
  "kernelspec": {
   "display_name": "Python 3",
   "language": "python",
   "name": "python3"
  },
  "language_info": {
   "codemirror_mode": {
    "name": "ipython",
    "version": 2
   },
   "file_extension": ".py",
   "mimetype": "text/x-python",
   "name": "python",
   "nbconvert_exporter": "python",
   "pygments_lexer": "ipython2",
   "version": "2.7.6"
  }
 },
 "nbformat": 4,
 "nbformat_minor": 0
}