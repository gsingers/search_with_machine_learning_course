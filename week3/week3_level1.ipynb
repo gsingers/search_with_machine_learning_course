{
 "cells": [
  {
   "cell_type": "code",
   "execution_count": 87,
   "metadata": {
    "collapsed": true,
    "pycharm": {
     "name": "#%%\n"
    }
   },
   "outputs": [],
   "source": [
    "import nltk\n",
    "# nltk.download('words')\n",
    "# nltk.download('maxent_ne_chunker')\n",
    "# nltk.download('punkt')\n",
    "# nltk.download('averaged_perceptron_tagger')\n",
    "# nltk.download('popular')\n",
    "import re"
   ]
  },
  {
   "cell_type": "code",
   "execution_count": 88,
   "outputs": [
    {
     "data": {
      "text/plain": "['plantronics',\n '-',\n 'cellular',\n 'headset',\n 'for',\n 'cell',\n 'phones',\n 'with',\n 'a',\n '3.5mm',\n 'jack']"
     },
     "execution_count": 88,
     "metadata": {},
     "output_type": "execute_result"
    }
   ],
   "source": [
    "name = \"Plantronics - Cellular Headset for Cell Phones with a 3.5mm Jack\"\n",
    "tokens = nltk.word_tokenize(name)\n",
    "tokens = [token.lower() for token in tokens]\n",
    "tokens"
   ],
   "metadata": {
    "collapsed": false,
    "pycharm": {
     "name": "#%%\n"
    }
   }
  },
  {
   "cell_type": "code",
   "execution_count": 89,
   "outputs": [
    {
     "data": {
      "text/plain": "['plantron',\n '-',\n 'cellular',\n 'headset',\n 'for',\n 'cell',\n 'phone',\n 'with',\n 'a',\n '3.5mm',\n 'jack']"
     },
     "execution_count": 89,
     "metadata": {},
     "output_type": "execute_result"
    }
   ],
   "source": [
    "from nltk.stem import SnowballStemmer\n",
    "stemmer = SnowballStemmer(\"english\")\n",
    "tokens = [stemmer.stem(token) for token in tokens]\n",
    "# tokens = [token for token in tokens if type(token) is not NoneType]\n",
    "tokens"
   ],
   "metadata": {
    "collapsed": false,
    "pycharm": {
     "name": "#%%\n"
    }
   }
  },
  {
   "cell_type": "code",
   "execution_count": 90,
   "outputs": [
    {
     "data": {
      "text/plain": "['plantron',\n 'cellular',\n 'headset',\n 'for',\n 'cell',\n 'phone',\n 'with',\n 'a',\n '3.5mm',\n 'jack']"
     },
     "execution_count": 90,
     "metadata": {},
     "output_type": "execute_result"
    }
   ],
   "source": [
    "tokens = [ token for token in tokens if re.search(\"\\w\", token) is not None]\n",
    "tokens\n",
    "\n",
    "# re.search(\"\\w\", tokens[0])\n",
    "# [ type(t) for t in tokens]"
   ],
   "metadata": {
    "collapsed": false,
    "pycharm": {
     "name": "#%%\n"
    }
   }
  },
  {
   "cell_type": "code",
   "execution_count": 91,
   "outputs": [
    {
     "data": {
      "text/plain": "['plantron', 'cellular', 'headset', 'cell', 'phone', '3.5mm', 'jack']"
     },
     "execution_count": 91,
     "metadata": {},
     "output_type": "execute_result"
    }
   ],
   "source": [
    "from nltk.corpus import stopwords\n",
    "stop_words = set(stopwords.words('english'))\n",
    "tokens = [ token for token in tokens if not token in stop_words]\n",
    "tokens"
   ],
   "metadata": {
    "collapsed": false,
    "pycharm": {
     "name": "#%%\n"
    }
   }
  },
  {
   "cell_type": "code",
   "execution_count": 92,
   "outputs": [
    {
     "data": {
      "text/plain": "'plantron cellular headset cell phone 3.5mm jack'"
     },
     "execution_count": 92,
     "metadata": {},
     "output_type": "execute_result"
    }
   ],
   "source": [
    "\" \".join(tokens)"
   ],
   "metadata": {
    "collapsed": false,
    "pycharm": {
     "name": "#%%\n"
    }
   }
  },
  {
   "cell_type": "code",
   "execution_count": 93,
   "outputs": [
    {
     "data": {
      "text/plain": "[('plantron', 'NN'),\n ('cellular', 'JJ'),\n ('headset', 'NN'),\n ('cell', 'NN'),\n ('phone', 'NN'),\n ('3.5mm', 'CD'),\n ('jack', 'NN')]"
     },
     "execution_count": 93,
     "metadata": {},
     "output_type": "execute_result"
    }
   ],
   "source": [
    "pos = nltk.pos_tag(tokens)\n",
    "pos"
   ],
   "metadata": {
    "collapsed": false,
    "pycharm": {
     "name": "#%%\n"
    }
   }
  },
  {
   "cell_type": "code",
   "execution_count": 94,
   "outputs": [
    {
     "data": {
      "text/plain": "Tree('S', [('plantron', 'NN'), ('cellular', 'JJ'), ('headset', 'NN'), ('cell', 'NN'), ('phone', 'NN'), ('3.5mm', 'CD'), ('jack', 'NN')])",
      "image/svg+xml": "<svg baseProfile=\"full\" height=\"120px\" preserveAspectRatio=\"xMidYMid meet\" style=\"font-family: times, serif; font-weight:normal; font-style: normal; font-size: 16px;\" version=\"1.1\" viewBox=\"0,0,440.0,120.0\" width=\"440px\" xmlns=\"http://www.w3.org/2000/svg\" xmlns:ev=\"http://www.w3.org/2001/xml-events\" xmlns:xlink=\"http://www.w3.org/1999/xlink\"><defs /><svg width=\"100%\" x=\"0\" y=\"0em\"><defs /><text text-anchor=\"middle\" x=\"50%\" y=\"1em\">S</text></svg><svg width=\"18.1818%\" x=\"0%\" y=\"3em\"><defs /><svg width=\"100%\" x=\"0\" y=\"0em\"><defs /><text text-anchor=\"middle\" x=\"50%\" y=\"1em\">plantron</text></svg><svg width=\"100%\" x=\"0%\" y=\"3em\"><defs /><svg width=\"100%\" x=\"0\" y=\"0em\"><defs /><text text-anchor=\"middle\" x=\"50%\" y=\"1em\">NN</text></svg></svg><line stroke=\"black\" x1=\"50%\" x2=\"50%\" y1=\"1.2em\" y2=\"3em\" /></svg><line stroke=\"black\" x1=\"50%\" x2=\"9.09091%\" y1=\"1.2em\" y2=\"3em\" /><svg width=\"18.1818%\" x=\"18.1818%\" y=\"3em\"><defs /><svg width=\"100%\" x=\"0\" y=\"0em\"><defs /><text text-anchor=\"middle\" x=\"50%\" y=\"1em\">cellular</text></svg><svg width=\"100%\" x=\"0%\" y=\"3em\"><defs /><svg width=\"100%\" x=\"0\" y=\"0em\"><defs /><text text-anchor=\"middle\" x=\"50%\" y=\"1em\">JJ</text></svg></svg><line stroke=\"black\" x1=\"50%\" x2=\"50%\" y1=\"1.2em\" y2=\"3em\" /></svg><line stroke=\"black\" x1=\"50%\" x2=\"27.2727%\" y1=\"1.2em\" y2=\"3em\" /><svg width=\"16.3636%\" x=\"36.3636%\" y=\"3em\"><defs /><svg width=\"100%\" x=\"0\" y=\"0em\"><defs /><text text-anchor=\"middle\" x=\"50%\" y=\"1em\">headset</text></svg><svg width=\"100%\" x=\"0%\" y=\"3em\"><defs /><svg width=\"100%\" x=\"0\" y=\"0em\"><defs /><text text-anchor=\"middle\" x=\"50%\" y=\"1em\">NN</text></svg></svg><line stroke=\"black\" x1=\"50%\" x2=\"50%\" y1=\"1.2em\" y2=\"3em\" /></svg><line stroke=\"black\" x1=\"50%\" x2=\"44.5455%\" y1=\"1.2em\" y2=\"3em\" /><svg width=\"10.9091%\" x=\"52.7273%\" y=\"3em\"><defs /><svg width=\"100%\" x=\"0\" y=\"0em\"><defs /><text text-anchor=\"middle\" x=\"50%\" y=\"1em\">cell</text></svg><svg width=\"100%\" x=\"0%\" y=\"3em\"><defs /><svg width=\"100%\" x=\"0\" y=\"0em\"><defs /><text text-anchor=\"middle\" x=\"50%\" y=\"1em\">NN</text></svg></svg><line stroke=\"black\" x1=\"50%\" x2=\"50%\" y1=\"1.2em\" y2=\"3em\" /></svg><line stroke=\"black\" x1=\"50%\" x2=\"58.1818%\" y1=\"1.2em\" y2=\"3em\" /><svg width=\"12.7273%\" x=\"63.6364%\" y=\"3em\"><defs /><svg width=\"100%\" x=\"0\" y=\"0em\"><defs /><text text-anchor=\"middle\" x=\"50%\" y=\"1em\">phone</text></svg><svg width=\"100%\" x=\"0%\" y=\"3em\"><defs /><svg width=\"100%\" x=\"0\" y=\"0em\"><defs /><text text-anchor=\"middle\" x=\"50%\" y=\"1em\">NN</text></svg></svg><line stroke=\"black\" x1=\"50%\" x2=\"50%\" y1=\"1.2em\" y2=\"3em\" /></svg><line stroke=\"black\" x1=\"50%\" x2=\"70%\" y1=\"1.2em\" y2=\"3em\" /><svg width=\"12.7273%\" x=\"76.3636%\" y=\"3em\"><defs /><svg width=\"100%\" x=\"0\" y=\"0em\"><defs /><text text-anchor=\"middle\" x=\"50%\" y=\"1em\">3.5mm</text></svg><svg width=\"100%\" x=\"0%\" y=\"3em\"><defs /><svg width=\"100%\" x=\"0\" y=\"0em\"><defs /><text text-anchor=\"middle\" x=\"50%\" y=\"1em\">CD</text></svg></svg><line stroke=\"black\" x1=\"50%\" x2=\"50%\" y1=\"1.2em\" y2=\"3em\" /></svg><line stroke=\"black\" x1=\"50%\" x2=\"82.7273%\" y1=\"1.2em\" y2=\"3em\" /><svg width=\"10.9091%\" x=\"89.0909%\" y=\"3em\"><defs /><svg width=\"100%\" x=\"0\" y=\"0em\"><defs /><text text-anchor=\"middle\" x=\"50%\" y=\"1em\">jack</text></svg><svg width=\"100%\" x=\"0%\" y=\"3em\"><defs /><svg width=\"100%\" x=\"0\" y=\"0em\"><defs /><text text-anchor=\"middle\" x=\"50%\" y=\"1em\">NN</text></svg></svg><line stroke=\"black\" x1=\"50%\" x2=\"50%\" y1=\"1.2em\" y2=\"3em\" /></svg><line stroke=\"black\" x1=\"50%\" x2=\"94.5455%\" y1=\"1.2em\" y2=\"3em\" /></svg>"
     },
     "execution_count": 94,
     "metadata": {},
     "output_type": "execute_result"
    }
   ],
   "source": [
    "named_entities = nltk.ne_chunk(pos)\n",
    "named_entities"
   ],
   "metadata": {
    "collapsed": false,
    "pycharm": {
     "name": "#%%\n"
    }
   }
  },
  {
   "cell_type": "code",
   "execution_count": 95,
   "outputs": [
    {
     "data": {
      "text/plain": "['plantron', 'cellular', 'headset', 'cell', 'phone', '3.5mm', 'jack']"
     },
     "execution_count": 95,
     "metadata": {},
     "output_type": "execute_result"
    }
   ],
   "source": [
    "myTokens = nltk.word_tokenize(\"Plantronics - Cellular Headset for Cell Phones with a 3.5mm Jack\".lower())\n",
    "myTokens = [stemmer.stem(token) for token in myTokens]\n",
    "myTokens = [token for token in myTokens if not token in stop_words]\n",
    "myTokens = [token for token in myTokens if re.search(\"\\w\", token) is not None]\n",
    "myTokens"
   ],
   "metadata": {
    "collapsed": false,
    "pycharm": {
     "name": "#%%\n"
    }
   }
  },
  {
   "cell_type": "code",
   "execution_count": 41,
   "outputs": [
    {
     "data": {
      "text/plain": "                                                                      category\n__label__abcat0811008          plantron cellular headset cell phone 3.5mm jack\n__label__abcat0811007           dynex® mobil charger select samsung cell phone\n__label__abcat0811007                dynex® mobil charger select lg cell phone\n__label__abcat0811007          dynex® mobil charger select motorola cell phone\n__label__abcat0811007              dynex mobil charger select nokia cell phone\n...                                                                        ...\n__label__abcat0205001                      mk sound home theater system packag\n__label__pcmcat142900050010  black/chrom skullcandi earbud armband ipod nan...\n__label__pcmcat142900050010  blue skullcandi earbud armband ipod nano® micr...\n__label__pcmcat142900050010  pink skullcandi earbud armband ipod nano® micr...\n__label__abcat0201009               8gb ipod touch® white gel case car charger\n\n[115358 rows x 1 columns]",
      "text/html": "<div>\n<style scoped>\n    .dataframe tbody tr th:only-of-type {\n        vertical-align: middle;\n    }\n\n    .dataframe tbody tr th {\n        vertical-align: top;\n    }\n\n    .dataframe thead th {\n        text-align: right;\n    }\n</style>\n<table border=\"1\" class=\"dataframe\">\n  <thead>\n    <tr style=\"text-align: right;\">\n      <th></th>\n      <th>category</th>\n    </tr>\n  </thead>\n  <tbody>\n    <tr>\n      <th>__label__abcat0811008</th>\n      <td>plantron cellular headset cell phone 3.5mm jack</td>\n    </tr>\n    <tr>\n      <th>__label__abcat0811007</th>\n      <td>dynex® mobil charger select samsung cell phone</td>\n    </tr>\n    <tr>\n      <th>__label__abcat0811007</th>\n      <td>dynex® mobil charger select lg cell phone</td>\n    </tr>\n    <tr>\n      <th>__label__abcat0811007</th>\n      <td>dynex® mobil charger select motorola cell phone</td>\n    </tr>\n    <tr>\n      <th>__label__abcat0811007</th>\n      <td>dynex mobil charger select nokia cell phone</td>\n    </tr>\n    <tr>\n      <th>...</th>\n      <td>...</td>\n    </tr>\n    <tr>\n      <th>__label__abcat0205001</th>\n      <td>mk sound home theater system packag</td>\n    </tr>\n    <tr>\n      <th>__label__pcmcat142900050010</th>\n      <td>black/chrom skullcandi earbud armband ipod nan...</td>\n    </tr>\n    <tr>\n      <th>__label__pcmcat142900050010</th>\n      <td>blue skullcandi earbud armband ipod nano® micr...</td>\n    </tr>\n    <tr>\n      <th>__label__pcmcat142900050010</th>\n      <td>pink skullcandi earbud armband ipod nano® micr...</td>\n    </tr>\n    <tr>\n      <th>__label__abcat0201009</th>\n      <td>8gb ipod touch® white gel case car charger</td>\n    </tr>\n  </tbody>\n</table>\n<p>115358 rows × 1 columns</p>\n</div>"
     },
     "execution_count": 41,
     "metadata": {},
     "output_type": "execute_result"
    }
   ],
   "source": [
    "import pandas as pd\n",
    "source_file = \"/workspace/datasets/fasttext/transformed.fasttext\"\n",
    "\n",
    "df=pd.read_csv(source_file, names=[\"category\"], sep=\"\\t\", engine=\"python\")\n",
    "df\n",
    "# df[['category','product_name']] = df[\"category\"].str.split(\" \", 1, expand=True)\n",
    "# df"
   ],
   "metadata": {
    "collapsed": false,
    "pycharm": {
     "name": "#%%\n"
    }
   }
  },
  {
   "cell_type": "code",
   "execution_count": 21,
   "outputs": [
    {
     "data": {
      "text/plain": "                           category  \\\n0             __label__abcat0811008   \n1             __label__abcat0811007   \n2             __label__abcat0811007   \n3             __label__abcat0811007   \n4             __label__abcat0811007   \n...                             ...   \n115353        __label__abcat0205001   \n115354  __label__pcmcat142900050010   \n115355  __label__pcmcat142900050010   \n115356  __label__pcmcat142900050010   \n115357        __label__abcat0201009   \n\n                                             product_name  \n0         plantron cellular headset cell phone 3.5mm jack  \n1          dynex® mobil charger select samsung cell phone  \n2               dynex® mobil charger select lg cell phone  \n3         dynex® mobil charger select motorola cell phone  \n4             dynex mobil charger select nokia cell phone  \n...                                                   ...  \n115353                mk sound home theater system packag  \n115354  black/chrom skullcandi earbud armband ipod nan...  \n115355  blue skullcandi earbud armband ipod nano® micr...  \n115356  pink skullcandi earbud armband ipod nano® micr...  \n115357         8gb ipod touch® white gel case car charger  \n\n[93126 rows x 2 columns]",
      "text/html": "<div>\n<style scoped>\n    .dataframe tbody tr th:only-of-type {\n        vertical-align: middle;\n    }\n\n    .dataframe tbody tr th {\n        vertical-align: top;\n    }\n\n    .dataframe thead th {\n        text-align: right;\n    }\n</style>\n<table border=\"1\" class=\"dataframe\">\n  <thead>\n    <tr style=\"text-align: right;\">\n      <th></th>\n      <th>category</th>\n      <th>product_name</th>\n    </tr>\n  </thead>\n  <tbody>\n    <tr>\n      <th>0</th>\n      <td>__label__abcat0811008</td>\n      <td>plantron cellular headset cell phone 3.5mm jack</td>\n    </tr>\n    <tr>\n      <th>1</th>\n      <td>__label__abcat0811007</td>\n      <td>dynex® mobil charger select samsung cell phone</td>\n    </tr>\n    <tr>\n      <th>2</th>\n      <td>__label__abcat0811007</td>\n      <td>dynex® mobil charger select lg cell phone</td>\n    </tr>\n    <tr>\n      <th>3</th>\n      <td>__label__abcat0811007</td>\n      <td>dynex® mobil charger select motorola cell phone</td>\n    </tr>\n    <tr>\n      <th>4</th>\n      <td>__label__abcat0811007</td>\n      <td>dynex mobil charger select nokia cell phone</td>\n    </tr>\n    <tr>\n      <th>...</th>\n      <td>...</td>\n      <td>...</td>\n    </tr>\n    <tr>\n      <th>115353</th>\n      <td>__label__abcat0205001</td>\n      <td>mk sound home theater system packag</td>\n    </tr>\n    <tr>\n      <th>115354</th>\n      <td>__label__pcmcat142900050010</td>\n      <td>black/chrom skullcandi earbud armband ipod nan...</td>\n    </tr>\n    <tr>\n      <th>115355</th>\n      <td>__label__pcmcat142900050010</td>\n      <td>blue skullcandi earbud armband ipod nano® micr...</td>\n    </tr>\n    <tr>\n      <th>115356</th>\n      <td>__label__pcmcat142900050010</td>\n      <td>pink skullcandi earbud armband ipod nano® micr...</td>\n    </tr>\n    <tr>\n      <th>115357</th>\n      <td>__label__abcat0201009</td>\n      <td>8gb ipod touch® white gel case car charger</td>\n    </tr>\n  </tbody>\n</table>\n<p>93126 rows × 2 columns</p>\n</div>"
     },
     "execution_count": 21,
     "metadata": {},
     "output_type": "execute_result"
    }
   ],
   "source": [
    "categories = df.groupby(\"category\")\n",
    "minProducts = 50\n",
    "withMinProducts = categories.filter(lambda x: len(x) >= minProducts)\n",
    "withMinProducts"
   ],
   "metadata": {
    "collapsed": false,
    "pycharm": {
     "name": "#%%\n"
    }
   }
  },
  {
   "cell_type": "code",
   "execution_count": 35,
   "outputs": [],
   "source": [
    "dest_file = \"/workspace/datasets/fasttext/transformed2.fasttext\"\n",
    "withMinProducts.to_csv(dest_file, sep=\" \", index=None, header=None, quoting=False, doublequote=False)"
   ],
   "metadata": {
    "collapsed": false,
    "pycharm": {
     "name": "#%%\n"
    }
   }
  },
  {
   "cell_type": "code",
   "execution_count": 44,
   "outputs": [
    {
     "name": "stdout",
     "output_type": "stream",
     "text": [
      "Only writing categories having more than 50 products\n"
     ]
    },
    {
     "data": {
      "text/plain": "                           category  \\\n0             __label__abcat0811008   \n1             __label__abcat0811007   \n2             __label__abcat0811007   \n3             __label__abcat0811007   \n4             __label__abcat0811007   \n...                             ...   \n115353        __label__abcat0205001   \n115354  __label__pcmcat142900050010   \n115355  __label__pcmcat142900050010   \n115356  __label__pcmcat142900050010   \n115357        __label__abcat0201009   \n\n                                             product_name  \n0         plantron cellular headset cell phone 3.5mm jack  \n1          dynex® mobil charger select samsung cell phone  \n2               dynex® mobil charger select lg cell phone  \n3         dynex® mobil charger select motorola cell phone  \n4             dynex mobil charger select nokia cell phone  \n...                                                   ...  \n115353                mk sound home theater system packag  \n115354  black/chrom skullcandi earbud armband ipod nan...  \n115355  blue skullcandi earbud armband ipod nano® micr...  \n115356  pink skullcandi earbud armband ipod nano® micr...  \n115357         8gb ipod touch® white gel case car charger  \n\n[93126 rows x 2 columns]",
      "text/html": "<div>\n<style scoped>\n    .dataframe tbody tr th:only-of-type {\n        vertical-align: middle;\n    }\n\n    .dataframe tbody tr th {\n        vertical-align: top;\n    }\n\n    .dataframe thead th {\n        text-align: right;\n    }\n</style>\n<table border=\"1\" class=\"dataframe\">\n  <thead>\n    <tr style=\"text-align: right;\">\n      <th></th>\n      <th>category</th>\n      <th>product_name</th>\n    </tr>\n  </thead>\n  <tbody>\n    <tr>\n      <th>0</th>\n      <td>__label__abcat0811008</td>\n      <td>plantron cellular headset cell phone 3.5mm jack</td>\n    </tr>\n    <tr>\n      <th>1</th>\n      <td>__label__abcat0811007</td>\n      <td>dynex® mobil charger select samsung cell phone</td>\n    </tr>\n    <tr>\n      <th>2</th>\n      <td>__label__abcat0811007</td>\n      <td>dynex® mobil charger select lg cell phone</td>\n    </tr>\n    <tr>\n      <th>3</th>\n      <td>__label__abcat0811007</td>\n      <td>dynex® mobil charger select motorola cell phone</td>\n    </tr>\n    <tr>\n      <th>4</th>\n      <td>__label__abcat0811007</td>\n      <td>dynex mobil charger select nokia cell phone</td>\n    </tr>\n    <tr>\n      <th>...</th>\n      <td>...</td>\n      <td>...</td>\n    </tr>\n    <tr>\n      <th>115353</th>\n      <td>__label__abcat0205001</td>\n      <td>mk sound home theater system packag</td>\n    </tr>\n    <tr>\n      <th>115354</th>\n      <td>__label__pcmcat142900050010</td>\n      <td>black/chrom skullcandi earbud armband ipod nan...</td>\n    </tr>\n    <tr>\n      <th>115355</th>\n      <td>__label__pcmcat142900050010</td>\n      <td>blue skullcandi earbud armband ipod nano® micr...</td>\n    </tr>\n    <tr>\n      <th>115356</th>\n      <td>__label__pcmcat142900050010</td>\n      <td>pink skullcandi earbud armband ipod nano® micr...</td>\n    </tr>\n    <tr>\n      <th>115357</th>\n      <td>__label__abcat0201009</td>\n      <td>8gb ipod touch® white gel case car charger</td>\n    </tr>\n  </tbody>\n</table>\n<p>93126 rows × 2 columns</p>\n</div>"
     },
     "execution_count": 44,
     "metadata": {},
     "output_type": "execute_result"
    }
   ],
   "source": [
    "min_products = 50\n",
    "src_file = \"/workspace/datasets/fasttext/transformed.fasttext\"\n",
    "print(\"Only writing categories having more than %d products\" % min_products)\n",
    "df = pd.read_csv(src_file, names=[\"category\", \"product_name\"], sep=\"\\t\", engine=\"python\")\n",
    "df\n",
    "categories = df.groupby(\"category\").filter(lambda x: len(x) >= min_products)\n",
    "# filtered_file = src_file + \"_\" + str(min_products)\n",
    "# print(\"Writing filtered results to %s\" % filtered_file)\n",
    "# categories.to_csv(filtered_file, sep=\"\\t\", index=None, header=None)\n",
    "categories\n"
   ],
   "metadata": {
    "collapsed": false,
    "pycharm": {
     "name": "#%%\n"
    }
   }
  }
 ],
 "metadata": {
  "kernelspec": {
   "display_name": "Python 3",
   "language": "python",
   "name": "python3"
  },
  "language_info": {
   "codemirror_mode": {
    "name": "ipython",
    "version": 2
   },
   "file_extension": ".py",
   "mimetype": "text/x-python",
   "name": "python",
   "nbconvert_exporter": "python",
   "pygments_lexer": "ipython2",
   "version": "2.7.6"
  }
 },
 "nbformat": 4,
 "nbformat_minor": 0
}