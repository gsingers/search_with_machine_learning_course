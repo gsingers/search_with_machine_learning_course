{
 "cells": [
  {
   "cell_type": "code",
   "execution_count": 1,
   "metadata": {},
   "outputs": [],
   "source": [
    "# %pip install rich -Uqq\n",
    "# %pip install fastcore -Uqq\n",
    "# %pip install nbdev -Uqq\n",
    "# %pip install opensearch-py -Uqq"
   ]
  },
  {
   "cell_type": "code",
   "execution_count": 2,
   "metadata": {},
   "outputs": [],
   "source": [
    "from rich import inspect as rinspect\n",
    "from rich import print as rprint\n",
    "from fastcore.test import *\n",
    "from fastcore.net import *\n",
    "from fastcore.basics import *"
   ]
  },
  {
   "cell_type": "code",
   "execution_count": 3,
   "metadata": {},
   "outputs": [],
   "source": [
    "from opensearchpy import OpenSearch\n",
    "import json\n",
    "host, port = 'localhost', 9200\n",
    "auth=('admin', 'admin')"
   ]
  },
  {
   "cell_type": "code",
   "execution_count": 4,
   "metadata": {},
   "outputs": [],
   "source": [
    "cli=OpenSearch(hosts=[{'host': host, 'port': port}], http_compress=True, http_auth=auth, use_ssl=True, verify_certs=False, ssl_assert_hostname=False, ssl_show_warn=False)"
   ]
  },
  {
   "cell_type": "code",
   "execution_count": 5,
   "metadata": {},
   "outputs": [
    {
     "data": {
      "text/html": [
       "<pre style=\"white-space:pre;overflow-x:auto;line-height:normal;font-family:Menlo,'DejaVu Sans Mono',consolas,'Courier New',monospace\">\n",
       "        Returns a concise representation of the cluster health.\n",
       "\n",
       "\n",
       "        :arg format: a short version of the Accept header, e.g. json,\n",
       "            yaml\n",
       "        :arg h: Comma-separated list of column names to display\n",
       "        :arg help: Return help information\n",
       "        :arg s: Comma-separated list of column names or column aliases\n",
       "            to sort by\n",
       "        :arg time: The unit in which to display time values  Valid\n",
       "            choices: d, h, m, s, ms, micros, nanos\n",
       "        :arg ts: Set to false to disable timestamping  Default: <span style=\"color: #00ff00; text-decoration-color: #00ff00; font-style: italic\">True</span>\n",
       "        :arg v: Verbose mode. Display column headers\n",
       "        \n",
       "</pre>\n"
      ],
      "text/plain": [
       "\n",
       "        Returns a concise representation of the cluster health.\n",
       "\n",
       "\n",
       "        :arg format: a short version of the Accept header, e.g. json,\n",
       "            yaml\n",
       "        :arg h: Comma-separated list of column names to display\n",
       "        :arg help: Return help information\n",
       "        :arg s: Comma-separated list of column names or column aliases\n",
       "            to sort by\n",
       "        :arg time: The unit in which to display time values  Valid\n",
       "            choices: d, h, m, s, ms, micros, nanos\n",
       "        :arg ts: Set to false to disable timestamping  Default: \u001b[3;92mTrue\u001b[0m\n",
       "        :arg v: Verbose mode. Display column headers\n",
       "        \n"
      ]
     },
     "metadata": {},
     "output_type": "display_data"
    }
   ],
   "source": [
    "rprint(cli.cat.health.__doc__)"
   ]
  },
  {
   "cell_type": "code",
   "execution_count": 6,
   "metadata": {},
   "outputs": [
    {
     "data": {
      "text/html": [
       "<pre style=\"white-space:pre;overflow-x:auto;line-height:normal;font-family:Menlo,'DejaVu Sans Mono',consolas,'Courier New',monospace\">status cluster\n",
       "yellow docker-cluster\n",
       "\n",
       "</pre>\n"
      ],
      "text/plain": [
       "status cluster\n",
       "yellow docker-cluster\n",
       "\n"
      ]
     },
     "metadata": {},
     "output_type": "display_data"
    },
    {
     "data": {
      "text/html": [
       "<pre style=\"white-space:pre;overflow-x:auto;line-height:normal;font-family:Menlo,'DejaVu Sans Mono',consolas,'Courier New',monospace\">health status index                                       docs.count\n",
       "yellow open   searchml_revisited_custom_mappings                   <span style=\"color: #008080; text-decoration-color: #008080; font-weight: bold\">4</span>\n",
       "green  open   .kibana_92668751_admin_1                            <span style=\"color: #008080; text-decoration-color: #008080; font-weight: bold\">96</span>\n",
       "yellow open   searchml_revisited                                   <span style=\"color: #008080; text-decoration-color: #008080; font-weight: bold\">4</span>\n",
       "green  open   opensearch_dashboards_sample_data_flights        <span style=\"color: #008080; text-decoration-color: #008080; font-weight: bold\">13059</span>\n",
       "yellow open   searchml_test                                        <span style=\"color: #008080; text-decoration-color: #008080; font-weight: bold\">4</span>\n",
       "yellow open   security-auditlog-<span style=\"color: #008080; text-decoration-color: #008080; font-weight: bold\">2022.02</span>.<span style=\"color: #008080; text-decoration-color: #008080; font-weight: bold\">13</span>                         <span style=\"color: #008080; text-decoration-color: #008080; font-weight: bold\">7</span>\n",
       "yellow open   security-auditlog-<span style=\"color: #008080; text-decoration-color: #008080; font-weight: bold\">2022.02</span>.<span style=\"color: #008080; text-decoration-color: #008080; font-weight: bold\">12</span>                        <span style=\"color: #008080; text-decoration-color: #008080; font-weight: bold\">44</span>\n",
       "green  open   .kibana_1                                            <span style=\"color: #008080; text-decoration-color: #008080; font-weight: bold\">4</span>\n",
       "green  open   opensearch_dashboards_sample_data_ecommerce       <span style=\"color: #008080; text-decoration-color: #008080; font-weight: bold\">4675</span>\n",
       "green  open   .opendistro_security                                 <span style=\"color: #008080; text-decoration-color: #008080; font-weight: bold\">9</span>\n",
       "\n",
       "</pre>\n"
      ],
      "text/plain": [
       "health status index                                       docs.count\n",
       "yellow open   searchml_revisited_custom_mappings                   \u001b[1;36m4\u001b[0m\n",
       "green  open   .kibana_92668751_admin_1                            \u001b[1;36m96\u001b[0m\n",
       "yellow open   searchml_revisited                                   \u001b[1;36m4\u001b[0m\n",
       "green  open   opensearch_dashboards_sample_data_flights        \u001b[1;36m13059\u001b[0m\n",
       "yellow open   searchml_test                                        \u001b[1;36m4\u001b[0m\n",
       "yellow open   security-auditlog-\u001b[1;36m2022.02\u001b[0m.\u001b[1;36m13\u001b[0m                         \u001b[1;36m7\u001b[0m\n",
       "yellow open   security-auditlog-\u001b[1;36m2022.02\u001b[0m.\u001b[1;36m12\u001b[0m                        \u001b[1;36m44\u001b[0m\n",
       "green  open   .kibana_1                                            \u001b[1;36m4\u001b[0m\n",
       "green  open   opensearch_dashboards_sample_data_ecommerce       \u001b[1;36m4675\u001b[0m\n",
       "green  open   .opendistro_security                                 \u001b[1;36m9\u001b[0m\n",
       "\n"
      ]
     },
     "metadata": {},
     "output_type": "display_data"
    }
   ],
   "source": [
    "# Checks before indexing\n",
    "#cli.cat.health(format='json')\n",
    "rprint(cli.cat.health(v=True, h=['status', 'cluster']))\n",
    "rprint(cli.cat.indices(v=True, h=['health', 'status', 'index', 'docs.count']))"
   ]
  },
  {
   "cell_type": "markdown",
   "metadata": {},
   "source": [
    "## Indexing\n",
    "\n",
    "- Create an index searchml_revisited with non-default settings "
   ]
  },
  {
   "cell_type": "code",
   "execution_count": 7,
   "metadata": {},
   "outputs": [
    {
     "data": {
      "text/html": [
       "<pre style=\"white-space:pre;overflow-x:auto;line-height:normal;font-family:Menlo,'DejaVu Sans Mono',consolas,'Courier New',monospace\"><span style=\"color: #000080; text-decoration-color: #000080\">╭───────────── </span><span style=\"color: #000080; text-decoration-color: #000080; font-weight: bold\">&lt;</span><span style=\"color: #ff00ff; text-decoration-color: #ff00ff; font-weight: bold\">class</span><span style=\"color: #000000; text-decoration-color: #000000\"> </span><span style=\"color: #008000; text-decoration-color: #008000\">'fastcore.basics.AttrDict'</span><span style=\"color: #000080; text-decoration-color: #000080; font-weight: bold\">&gt;</span><span style=\"color: #000080; text-decoration-color: #000080\"> ─────────────╮</span>\n",
       "<span style=\"color: #000080; text-decoration-color: #000080\">│</span> <span style=\"color: #00ffff; text-decoration-color: #00ffff; font-style: italic\">class </span><span style=\"color: #800000; text-decoration-color: #800000; font-weight: bold\">AttrDict</span><span style=\"font-weight: bold\">(</span><span style=\"color: #808000; text-decoration-color: #808000\">...</span><span style=\"font-weight: bold\">)</span>                                          <span style=\"color: #000080; text-decoration-color: #000080\">│</span>\n",
       "<span style=\"color: #000080; text-decoration-color: #000080\">│</span>                                                              <span style=\"color: #000080; text-decoration-color: #000080\">│</span>\n",
       "<span style=\"color: #000080; text-decoration-color: #000080\">│</span> <span style=\"color: #008080; text-decoration-color: #008080\">`dict` subclass that also provides access to keys as attrs</span>   <span style=\"color: #000080; text-decoration-color: #000080\">│</span>\n",
       "<span style=\"color: #000080; text-decoration-color: #000080\">│</span>                                                              <span style=\"color: #000080; text-decoration-color: #000080\">│</span>\n",
       "<span style=\"color: #000080; text-decoration-color: #000080\">│</span> <span style=\"color: #008080; text-decoration-color: #008080; font-weight: bold\">39</span><span style=\"font-style: italic\"> attribute(s) not shown.</span> Run <span style=\"color: #800080; text-decoration-color: #800080; font-weight: bold\">inspect</span><span style=\"font-weight: bold\">(</span>inspect<span style=\"font-weight: bold\">)</span> for options. <span style=\"color: #000080; text-decoration-color: #000080\">│</span>\n",
       "<span style=\"color: #000080; text-decoration-color: #000080\">╰──────────────────────────────────────────────────────────────╯</span>\n",
       "</pre>\n"
      ],
      "text/plain": [
       "\u001b[34m╭─\u001b[0m\u001b[34m──────────── \u001b[0m\u001b[1;34m<\u001b[0m\u001b[1;95mclass\u001b[0m\u001b[39m \u001b[0m\u001b[32m'fastcore.basics.AttrDict'\u001b[0m\u001b[1;34m>\u001b[0m\u001b[34m ────────────\u001b[0m\u001b[34m─╮\u001b[0m\n",
       "\u001b[34m│\u001b[0m \u001b[3;96mclass \u001b[0m\u001b[1;31mAttrDict\u001b[0m\u001b[1m(\u001b[0m\u001b[33m...\u001b[0m\u001b[1m)\u001b[0m                                          \u001b[34m│\u001b[0m\n",
       "\u001b[34m│\u001b[0m                                                              \u001b[34m│\u001b[0m\n",
       "\u001b[34m│\u001b[0m \u001b[36m`dict` subclass that also provides access to keys as attrs\u001b[0m   \u001b[34m│\u001b[0m\n",
       "\u001b[34m│\u001b[0m                                                              \u001b[34m│\u001b[0m\n",
       "\u001b[34m│\u001b[0m \u001b[1;36m39\u001b[0m\u001b[3m attribute(s) not shown.\u001b[0m Run \u001b[1;35minspect\u001b[0m\u001b[1m(\u001b[0minspect\u001b[1m)\u001b[0m for options. \u001b[34m│\u001b[0m\n",
       "\u001b[34m╰──────────────────────────────────────────────────────────────╯\u001b[0m\n"
      ]
     },
     "metadata": {},
     "output_type": "display_data"
    }
   ],
   "source": [
    "rinspect(AttrDict)"
   ]
  },
  {
   "cell_type": "code",
   "execution_count": 8,
   "metadata": {},
   "outputs": [
    {
     "data": {
      "text/markdown": [
       "- settings: \n",
       "  - index: \n",
       "    - query: \n",
       "      - default_field: body"
      ],
      "text/plain": [
       "- settings: \n",
       "  - index: \n",
       "    - query: \n",
       "      - default_field: body"
      ]
     },
     "execution_count": 8,
     "metadata": {},
     "output_type": "execute_result"
    }
   ],
   "source": [
    "index_name='searchml_revisited'\n",
    "q_default_fld={'query': {'default_field': 'body'}}\n",
    "d={'settings': {'index': q_default_fld}}\n",
    "index_body=AttrDict(d)\n",
    "index_body"
   ]
  },
  {
   "cell_type": "code",
   "execution_count": 9,
   "metadata": {},
   "outputs": [],
   "source": [
    "from opensearchpy import NotFoundError\n",
    "\n",
    "def _exists_index(index):\n",
    "    try:\n",
    "        return cli.cat.indices(index, h='index').strip() == index\n",
    "    except NotFoundError:\n",
    "        return False\n",
    "\n",
    "if not _exists_index(index_name):\n",
    "    resp = cli.indices.create(index=index_name, body=index_body); resp"
   ]
  },
  {
   "cell_type": "code",
   "execution_count": 10,
   "metadata": {},
   "outputs": [],
   "source": [
    "test_eq(cli.cat.indices('searchml_revisited', h='index').strip(), 'searchml_revisited')"
   ]
  },
  {
   "cell_type": "code",
   "execution_count": 11,
   "metadata": {},
   "outputs": [],
   "source": [
    "# Add our sample documents to the index.\n",
    "docs = [\n",
    "    {\n",
    "        \"id\": \"doc_a\",\n",
    "        \"title\": \"Fox and Hounds\",\n",
    "        \"body\": \"The quick red fox jumped over the lazy brown dogs.\",\n",
    "        \"price\": \"5.99\",\n",
    "        \"in_stock\": True,\n",
    "        \"category\": \"childrens\"},\n",
    "    {\n",
    "        \"id\": \"doc_b\",\n",
    "        \"title\": \"Fox wins championship\",\n",
    "        \"body\": \"Wearing all red, the Fox jumped out to a lead in the race over the Dog.\",\n",
    "        \"price\": \"15.13\",\n",
    "        \"in_stock\": True,\n",
    "        \"category\": \"sports\"},\n",
    "    {\n",
    "        \"id\": \"doc_c\",\n",
    "        \"title\": \"Lead Paint Removal\",\n",
    "        \"body\": \"All lead must be removed from the brown and red paint.\",\n",
    "        \"price\": \"150.21\",\n",
    "        \"in_stock\": False,\n",
    "        \"category\": \"instructional\"},\n",
    "    {\n",
    "        \"id\": \"doc_d\",\n",
    "        \"title\": \"The Three Little Pigs Revisted\",\n",
    "        \"price\": \"3.51\",\n",
    "        \"in_stock\": True,\n",
    "        \"body\": \"The big, bad wolf huffed and puffed and blew the house down. The end.\",\n",
    "        \"category\": \"childrens\"}\n",
    "]"
   ]
  },
  {
   "cell_type": "code",
   "execution_count": 12,
   "metadata": {},
   "outputs": [],
   "source": [
    "index_name='searchml_revisited'\n",
    "resps = [cli.index(index_name, body=doc, id=doc['id'], refresh=True) \n",
    "            for doc in docs]"
   ]
  },
  {
   "cell_type": "code",
   "execution_count": 13,
   "metadata": {},
   "outputs": [],
   "source": [
    "# Commeting the below as this it is not repeatable\n",
    "# First time it would show created if empty index\n",
    "# [test_eq(resp['result'], 'created') for resp in resps]\n",
    "# If already created\n",
    "# [test_eq(resp['result'], 'updated') for resp in resps]"
   ]
  },
  {
   "cell_type": "code",
   "execution_count": 14,
   "metadata": {},
   "outputs": [],
   "source": [
    "test_eq(cli.cat.count(index_name, h='count').strip(), str(4))"
   ]
  },
  {
   "cell_type": "markdown",
   "metadata": {},
   "source": [
    "**Be intentional with your data mapping!** You can always override your configuration or perform other computations at runtime if you need to.\n",
    "\n",
    "In OpenSearch it is possible to explicitly define the data types and text analysis via what are called Field Mappings or simply Mappings."
   ]
  },
  {
   "cell_type": "code",
   "execution_count": 15,
   "metadata": {},
   "outputs": [
    {
     "data": {
      "text/html": [
       "<pre style=\"white-space:pre;overflow-x:auto;line-height:normal;font-family:Menlo,'DejaVu Sans Mono',consolas,'Courier New',monospace\"><span style=\"color: #000080; text-decoration-color: #000080\">╭─ </span><span style=\"color: #000080; text-decoration-color: #000080; font-weight: bold\">&lt;</span><span style=\"color: #ff00ff; text-decoration-color: #ff00ff; font-weight: bold\">bound</span><span style=\"color: #000000; text-decoration-color: #000000\"> method IndicesClient.get_mapping of &lt;opensearchpy.client.indices.IndicesClient ob</span><span style=\"color: #000080; text-decoration-color: #000080\">─╮</span>\n",
       "<span style=\"color: #000080; text-decoration-color: #000080\">│</span> <span style=\"color: #00ffff; text-decoration-color: #00ffff; font-style: italic\">def </span><span style=\"color: #800000; text-decoration-color: #800000; font-weight: bold\">IndicesClient.get_mapping</span><span style=\"font-weight: bold\">(</span><span style=\"color: #808000; text-decoration-color: #808000\">index</span>=<span style=\"color: #800080; text-decoration-color: #800080; font-style: italic\">None</span>, <span style=\"color: #808000; text-decoration-color: #808000\">doc_type</span>=<span style=\"color: #800080; text-decoration-color: #800080; font-style: italic\">None</span>, <span style=\"color: #808000; text-decoration-color: #808000\">params</span>=<span style=\"color: #800080; text-decoration-color: #800080; font-style: italic\">None</span>, <span style=\"color: #808000; text-decoration-color: #808000\">headers</span>=<span style=\"color: #800080; text-decoration-color: #800080; font-style: italic\">None</span><span style=\"font-weight: bold\">)</span>:      <span style=\"color: #000080; text-decoration-color: #000080\">│</span>\n",
       "<span style=\"color: #000080; text-decoration-color: #000080\">│</span>                                                                                           <span style=\"color: #000080; text-decoration-color: #000080\">│</span>\n",
       "<span style=\"color: #000080; text-decoration-color: #000080\">│</span> <span style=\"color: #008080; text-decoration-color: #008080\">Returns mappings for one or more indices.</span>                                                 <span style=\"color: #000080; text-decoration-color: #000080\">│</span>\n",
       "<span style=\"color: #000080; text-decoration-color: #000080\">│</span>                                                                                           <span style=\"color: #000080; text-decoration-color: #000080\">│</span>\n",
       "<span style=\"color: #000080; text-decoration-color: #000080\">│</span>                                                                                           <span style=\"color: #000080; text-decoration-color: #000080\">│</span>\n",
       "<span style=\"color: #000080; text-decoration-color: #000080\">│</span> <span style=\"color: #008080; text-decoration-color: #008080\">:arg index: A comma-separated list of index names</span>                                         <span style=\"color: #000080; text-decoration-color: #000080\">│</span>\n",
       "<span style=\"color: #000080; text-decoration-color: #000080\">│</span> <span style=\"color: #008080; text-decoration-color: #008080\">:arg doc_type: A comma-separated list of document types</span>                                   <span style=\"color: #000080; text-decoration-color: #000080\">│</span>\n",
       "<span style=\"color: #000080; text-decoration-color: #000080\">│</span> <span style=\"color: #008080; text-decoration-color: #008080\">:arg allow_no_indices: Whether to ignore if a wildcard indices</span>                            <span style=\"color: #000080; text-decoration-color: #000080\">│</span>\n",
       "<span style=\"color: #000080; text-decoration-color: #000080\">│</span> <span style=\"color: #008080; text-decoration-color: #008080\">    expression resolves into no concrete indices. </span><span style=\"color: #008080; text-decoration-color: #008080; font-weight: bold\">(</span><span style=\"color: #008080; text-decoration-color: #008080\">This includes `_all`</span>                   <span style=\"color: #000080; text-decoration-color: #000080\">│</span>\n",
       "<span style=\"color: #000080; text-decoration-color: #000080\">│</span> <span style=\"color: #008080; text-decoration-color: #008080\">    string or when no indices have been specified</span><span style=\"color: #008080; text-decoration-color: #008080; font-weight: bold\">)</span>                                        <span style=\"color: #000080; text-decoration-color: #000080\">│</span>\n",
       "<span style=\"color: #000080; text-decoration-color: #000080\">│</span> <span style=\"color: #008080; text-decoration-color: #008080\">:arg expand_wildcards: Whether to expand wildcard expression to</span>                           <span style=\"color: #000080; text-decoration-color: #000080\">│</span>\n",
       "<span style=\"color: #000080; text-decoration-color: #000080\">│</span> <span style=\"color: #008080; text-decoration-color: #008080\">    concrete indices that are open, closed or both.  Valid choices: open,</span>                 <span style=\"color: #000080; text-decoration-color: #000080\">│</span>\n",
       "<span style=\"color: #000080; text-decoration-color: #000080\">│</span> <span style=\"color: #008080; text-decoration-color: #008080\">    closed, hidden, none, all  Default: open</span>                                              <span style=\"color: #000080; text-decoration-color: #000080\">│</span>\n",
       "<span style=\"color: #000080; text-decoration-color: #000080\">│</span> <span style=\"color: #008080; text-decoration-color: #008080\">:arg ignore_unavailable: Whether specified concrete indices</span>                               <span style=\"color: #000080; text-decoration-color: #000080\">│</span>\n",
       "<span style=\"color: #000080; text-decoration-color: #000080\">│</span> <span style=\"color: #008080; text-decoration-color: #008080\">    should be ignored when unavailable </span><span style=\"color: #008080; text-decoration-color: #008080; font-weight: bold\">(</span><span style=\"color: #008080; text-decoration-color: #008080\">missing or closed</span><span style=\"color: #008080; text-decoration-color: #008080; font-weight: bold\">)</span>                                <span style=\"color: #000080; text-decoration-color: #000080\">│</span>\n",
       "<span style=\"color: #000080; text-decoration-color: #000080\">│</span> <span style=\"color: #008080; text-decoration-color: #008080\">:arg include_type_name: Whether to add the type name to the</span>                               <span style=\"color: #000080; text-decoration-color: #000080\">│</span>\n",
       "<span style=\"color: #000080; text-decoration-color: #000080\">│</span> <span style=\"color: #008080; text-decoration-color: #008080\">    response </span><span style=\"color: #008080; text-decoration-color: #008080; font-weight: bold\">(</span><span style=\"color: #008080; text-decoration-color: #008080\">default: false</span><span style=\"color: #008080; text-decoration-color: #008080; font-weight: bold\">)</span>                                                             <span style=\"color: #000080; text-decoration-color: #000080\">│</span>\n",
       "<span style=\"color: #000080; text-decoration-color: #000080\">│</span> <span style=\"color: #008080; text-decoration-color: #008080\">:arg local: Return local information, do not retrieve the state</span>                           <span style=\"color: #000080; text-decoration-color: #000080\">│</span>\n",
       "<span style=\"color: #000080; text-decoration-color: #000080\">│</span> <span style=\"color: #008080; text-decoration-color: #008080\">    from master node </span><span style=\"color: #008080; text-decoration-color: #008080; font-weight: bold\">(</span><span style=\"color: #008080; text-decoration-color: #008080\">default: false</span><span style=\"color: #008080; text-decoration-color: #008080; font-weight: bold\">)</span>                                                     <span style=\"color: #000080; text-decoration-color: #000080\">│</span>\n",
       "<span style=\"color: #000080; text-decoration-color: #000080\">│</span> <span style=\"color: #008080; text-decoration-color: #008080\">:arg master_timeout: Specify timeout for connection to master</span>                             <span style=\"color: #000080; text-decoration-color: #000080\">│</span>\n",
       "<span style=\"color: #000080; text-decoration-color: #000080\">│</span>                                                                                           <span style=\"color: #000080; text-decoration-color: #000080\">│</span>\n",
       "<span style=\"color: #000080; text-decoration-color: #000080\">│</span> <span style=\"color: #008080; text-decoration-color: #008080; font-weight: bold\">28</span><span style=\"font-style: italic\"> attribute(s) not shown.</span> Run <span style=\"color: #800080; text-decoration-color: #800080; font-weight: bold\">inspect</span><span style=\"font-weight: bold\">(</span>inspect<span style=\"font-weight: bold\">)</span> for options.                              <span style=\"color: #000080; text-decoration-color: #000080\">│</span>\n",
       "<span style=\"color: #000080; text-decoration-color: #000080\">╰───────────────────────────────────────────────────────────────────────────────────────────╯</span>\n",
       "</pre>\n"
      ],
      "text/plain": [
       "\u001b[34m╭─\u001b[0m\u001b[34m \u001b[0m\u001b[1;34m<\u001b[0m\u001b[1;95mbound\u001b[0m\u001b[39m method IndicesClient.get_mapping of <opensearchpy.client.indices.IndicesClient ob\u001b[0m\u001b[34m─╮\u001b[0m\n",
       "\u001b[34m│\u001b[0m \u001b[3;96mdef \u001b[0m\u001b[1;31mIndicesClient.get_mapping\u001b[0m\u001b[1m(\u001b[0m\u001b[33mindex\u001b[0m=\u001b[3;35mNone\u001b[0m, \u001b[33mdoc_type\u001b[0m=\u001b[3;35mNone\u001b[0m, \u001b[33mparams\u001b[0m=\u001b[3;35mNone\u001b[0m, \u001b[33mheaders\u001b[0m=\u001b[3;35mNone\u001b[0m\u001b[1m)\u001b[0m:      \u001b[34m│\u001b[0m\n",
       "\u001b[34m│\u001b[0m                                                                                           \u001b[34m│\u001b[0m\n",
       "\u001b[34m│\u001b[0m \u001b[36mReturns mappings for one or more indices.\u001b[0m                                                 \u001b[34m│\u001b[0m\n",
       "\u001b[34m│\u001b[0m                                                                                           \u001b[34m│\u001b[0m\n",
       "\u001b[34m│\u001b[0m                                                                                           \u001b[34m│\u001b[0m\n",
       "\u001b[34m│\u001b[0m \u001b[36m:arg index: A comma-separated list of index names\u001b[0m                                         \u001b[34m│\u001b[0m\n",
       "\u001b[34m│\u001b[0m \u001b[36m:arg doc_type: A comma-separated list of document types\u001b[0m                                   \u001b[34m│\u001b[0m\n",
       "\u001b[34m│\u001b[0m \u001b[36m:arg allow_no_indices: Whether to ignore if a wildcard indices\u001b[0m                            \u001b[34m│\u001b[0m\n",
       "\u001b[34m│\u001b[0m \u001b[36m    expression resolves into no concrete indices. \u001b[0m\u001b[1;36m(\u001b[0m\u001b[36mThis includes `_all`\u001b[0m                   \u001b[34m│\u001b[0m\n",
       "\u001b[34m│\u001b[0m \u001b[36m    string or when no indices have been specified\u001b[0m\u001b[1;36m)\u001b[0m                                        \u001b[34m│\u001b[0m\n",
       "\u001b[34m│\u001b[0m \u001b[36m:arg expand_wildcards: Whether to expand wildcard expression to\u001b[0m                           \u001b[34m│\u001b[0m\n",
       "\u001b[34m│\u001b[0m \u001b[36m    concrete indices that are open, closed or both.  Valid choices: open,\u001b[0m                 \u001b[34m│\u001b[0m\n",
       "\u001b[34m│\u001b[0m \u001b[36m    closed, hidden, none, all  Default: open\u001b[0m                                              \u001b[34m│\u001b[0m\n",
       "\u001b[34m│\u001b[0m \u001b[36m:arg ignore_unavailable: Whether specified concrete indices\u001b[0m                               \u001b[34m│\u001b[0m\n",
       "\u001b[34m│\u001b[0m \u001b[36m    should be ignored when unavailable \u001b[0m\u001b[1;36m(\u001b[0m\u001b[36mmissing or closed\u001b[0m\u001b[1;36m)\u001b[0m                                \u001b[34m│\u001b[0m\n",
       "\u001b[34m│\u001b[0m \u001b[36m:arg include_type_name: Whether to add the type name to the\u001b[0m                               \u001b[34m│\u001b[0m\n",
       "\u001b[34m│\u001b[0m \u001b[36m    response \u001b[0m\u001b[1;36m(\u001b[0m\u001b[36mdefault: false\u001b[0m\u001b[1;36m)\u001b[0m                                                             \u001b[34m│\u001b[0m\n",
       "\u001b[34m│\u001b[0m \u001b[36m:arg local: Return local information, do not retrieve the state\u001b[0m                           \u001b[34m│\u001b[0m\n",
       "\u001b[34m│\u001b[0m \u001b[36m    from master node \u001b[0m\u001b[1;36m(\u001b[0m\u001b[36mdefault: false\u001b[0m\u001b[1;36m)\u001b[0m                                                     \u001b[34m│\u001b[0m\n",
       "\u001b[34m│\u001b[0m \u001b[36m:arg master_timeout: Specify timeout for connection to master\u001b[0m                             \u001b[34m│\u001b[0m\n",
       "\u001b[34m│\u001b[0m                                                                                           \u001b[34m│\u001b[0m\n",
       "\u001b[34m│\u001b[0m \u001b[1;36m28\u001b[0m\u001b[3m attribute(s) not shown.\u001b[0m Run \u001b[1;35minspect\u001b[0m\u001b[1m(\u001b[0minspect\u001b[1m)\u001b[0m for options.                              \u001b[34m│\u001b[0m\n",
       "\u001b[34m╰───────────────────────────────────────────────────────────────────────────────────────────╯\u001b[0m\n"
      ]
     },
     "metadata": {},
     "output_type": "display_data"
    }
   ],
   "source": [
    "rinspect(cli.indices.get_mapping, help=True)"
   ]
  },
  {
   "cell_type": "code",
   "execution_count": 16,
   "metadata": {},
   "outputs": [
    {
     "data": {
      "text/markdown": [
       "- searchml_revisited: \n",
       "  - mappings: \n",
       "    - properties: \n",
       "      - body: \n",
       "        - type: text\n",
       "        - fields: \n",
       "          - keyword: \n",
       "            - type: keyword\n",
       "            - ignore_above: 256\n",
       "      - category: \n",
       "        - type: text\n",
       "        - fields: \n",
       "          - keyword: \n",
       "            - type: keyword\n",
       "            - ignore_above: 256\n",
       "      - id: \n",
       "        - type: text\n",
       "        - fields: \n",
       "          - keyword: \n",
       "            - type: keyword\n",
       "            - ignore_above: 256\n",
       "      - in_stock: \n",
       "        - type: boolean\n",
       "      - price: \n",
       "        - type: text\n",
       "        - fields: \n",
       "          - keyword: \n",
       "            - type: keyword\n",
       "            - ignore_above: 256\n",
       "      - title: \n",
       "        - type: text\n",
       "        - fields: \n",
       "          - keyword: \n",
       "            - type: keyword\n",
       "            - ignore_above: 256"
      ],
      "text/plain": [
       "- searchml_revisited: \n",
       "  - mappings: \n",
       "    - properties: \n",
       "      - body: \n",
       "        - type: text\n",
       "        - fields: \n",
       "          - keyword: \n",
       "            - type: keyword\n",
       "            - ignore_above: 256\n",
       "      - category: \n",
       "        - type: text\n",
       "        - fields: \n",
       "          - keyword: \n",
       "            - type: keyword\n",
       "            - ignore_above: 256\n",
       "      - id: \n",
       "        - type: text\n",
       "        - fields: \n",
       "          - keyword: \n",
       "            - type: keyword\n",
       "            - ignore_above: 256\n",
       "      - in_stock: \n",
       "        - type: boolean\n",
       "      - price: \n",
       "        - type: text\n",
       "        - fields: \n",
       "          - keyword: \n",
       "            - type: keyword\n",
       "            - ignore_above: 256\n",
       "      - title: \n",
       "        - type: text\n",
       "        - fields: \n",
       "          - keyword: \n",
       "            - type: keyword\n",
       "            - ignore_above: 256"
      ]
     },
     "execution_count": 16,
     "metadata": {},
     "output_type": "execute_result"
    }
   ],
   "source": [
    "AttrDict(cli.indices.get_mapping(index_name))"
   ]
  },
  {
   "cell_type": "markdown",
   "metadata": {},
   "source": [
    "- **Multi fields**\n",
    "  - keyword field type added by opensearch to every field due to 'text'\n",
    "  - aggregation will be inefficient for text based fields\n",
    "\n",
    "- in_stock is of type boolean which can be aggregated since we have only two values.\n",
    "\n",
    "- ignore_above set to 256. Will not index values that have more than 256 characters. This means those values will not show up in any aggregations or searches. \n",
    "\n",
    "\n",
    "- The “price” field was chosen to be “text” even though we only ever passed in numeric values. This means we may get unexpected results from sorting or range filtering, since the values will be treated like strings rather than numbers.\n"
   ]
  },
  {
   "cell_type": "markdown",
   "metadata": {},
   "source": [
    "**Well designed index structure**\n",
    "\n",
    "- be explicit about mappings\n",
    "- use multiple fields to represent the same piece of document content. Eg: fld with multiple analyzers ( with/without stemming), [autocompletion](https://www.elastic.co/guide/en/elasticsearch/reference/7.10/search-suggesters.html#completion-suggester), [search-as-you-type](https://www.elastic.co/guide/en/elasticsearch/reference/7.10/search-as-you-type.html), [joins](https://www.elastic.co/guide/en/elasticsearch/reference/7.10/parent-join.html)"
   ]
  },
  {
   "cell_type": "markdown",
   "metadata": {},
   "source": [
    "Reindex if field mapping is changed after indexing."
   ]
  },
  {
   "cell_type": "markdown",
   "metadata": {},
   "source": [
    "### Analyzer\n",
    "\n",
    "- 'text' field uses [Standard Analyzer]()\n",
    "- Analyzer consistes of 3 components. 1. 0 or more [character filters] 2. [tokenizer]() 3. 0 or more [token filters]()\n",
    "- Char filters : strip things like HTML tags \n",
    "- Tokenizer : split text into tokens\n",
    "- Tok filters : add/update/delete tokens before handing off to lucene.\n",
    "![alt text](https://corise.com/_next/image?url=https%3A%2F%2Fcorise.com%2Fstatic%2Fcourse%2Fsearch-with-machine-learning%2Fassets%2Fckyclv9qd000n14727vnn8zax%2Fimage-6.jpg&w=384&q=75 \"Standard Analyzer\")\n",
    "- [Standard Tokenizer]() : Lucene tokenizer splitting text into tokens based on UNICODE. Not suitable for lang that does not use whitespace to delineate words (Eg: ja, zh)\n",
    "- Stopwords, Stemming"
   ]
  },
  {
   "cell_type": "code",
   "execution_count": 17,
   "metadata": {},
   "outputs": [
    {
     "data": {
      "text/plain": [
       "('searchml_revisited',\n",
       " - settings: \n",
       "   - index: \n",
       "     - query: \n",
       "       - default_field: body)"
      ]
     },
     "execution_count": 17,
     "metadata": {},
     "output_type": "execute_result"
    }
   ],
   "source": [
    "index_name, AttrDict(index_body)"
   ]
  },
  {
   "cell_type": "code",
   "execution_count": 19,
   "metadata": {},
   "outputs": [
    {
     "data": {
      "text/markdown": [
       "- properties: \n",
       "  - title: \n",
       "    - type: text\n",
       "    - analyzer: english\n",
       "  - body: \n",
       "    - type: text\n",
       "    - analyzer: english\n",
       "  - in_stock: \n",
       "    - type: boolean\n",
       "  - category: \n",
       "    - type: keyword\n",
       "    - ignore_above: 256\n",
       "  - price: \n",
       "    - type: float"
      ],
      "text/plain": [
       "- properties: \n",
       "  - title: \n",
       "    - type: text\n",
       "    - analyzer: english\n",
       "  - body: \n",
       "    - type: text\n",
       "    - analyzer: english\n",
       "  - in_stock: \n",
       "    - type: boolean\n",
       "  - category: \n",
       "    - type: keyword\n",
       "    - ignore_above: 256\n",
       "  - price: \n",
       "    - type: float"
      ]
     },
     "execution_count": 19,
     "metadata": {},
     "output_type": "execute_result"
    }
   ],
   "source": [
    "# setting up a mapping using EnglishAnalyzer\n",
    "mapping=AttrDict()\n",
    "mapping.properties=AttrDict({'title': {}, 'body': {}, 'in_stock': {}, 'category': {}, 'price': {}})\n",
    "mapping.properties.title={'type': 'text', 'analyzer': 'english'}\n",
    "mapping.properties.body={'type': 'text', 'analyzer': 'english'}\n",
    "mapping.properties.in_stock={'type': 'boolean'}\n",
    "mapping.properties.category={'type': 'keyword', 'ignore_above': \"256\"}\n",
    "mapping.properties.price={'type': \"float\"}\n",
    "mapping"
   ]
  },
  {
   "cell_type": "code",
   "execution_count": 20,
   "metadata": {},
   "outputs": [
    {
     "data": {
      "text/markdown": [
       "- settings: \n",
       "  - index: \n",
       "    - query: \n",
       "      - default_field: body"
      ],
      "text/plain": [
       "- settings: \n",
       "  - index: \n",
       "    - query: \n",
       "      - default_field: body"
      ]
     },
     "execution_count": 20,
     "metadata": {},
     "output_type": "execute_result"
    }
   ],
   "source": [
    "index_body"
   ]
  },
  {
   "cell_type": "code",
   "execution_count": 21,
   "metadata": {},
   "outputs": [],
   "source": [
    "index_body.update({\"mappings\": mapping})"
   ]
  },
  {
   "cell_type": "code",
   "execution_count": 22,
   "metadata": {},
   "outputs": [
    {
     "data": {
      "text/markdown": [
       "- settings: \n",
       "  - index: \n",
       "    - query: \n",
       "      - default_field: body\n",
       "- mappings: \n",
       "  - properties: \n",
       "    - title: \n",
       "      - type: text\n",
       "      - analyzer: english\n",
       "    - body: \n",
       "      - type: text\n",
       "      - analyzer: english\n",
       "    - in_stock: \n",
       "      - type: boolean\n",
       "    - category: \n",
       "      - type: keyword\n",
       "      - ignore_above: 256\n",
       "    - price: \n",
       "      - type: float"
      ],
      "text/plain": [
       "- settings: \n",
       "  - index: \n",
       "    - query: \n",
       "      - default_field: body\n",
       "- mappings: \n",
       "  - properties: \n",
       "    - title: \n",
       "      - type: text\n",
       "      - analyzer: english\n",
       "    - body: \n",
       "      - type: text\n",
       "      - analyzer: english\n",
       "    - in_stock: \n",
       "      - type: boolean\n",
       "    - category: \n",
       "      - type: keyword\n",
       "      - ignore_above: 256\n",
       "    - price: \n",
       "      - type: float"
      ]
     },
     "execution_count": 22,
     "metadata": {},
     "output_type": "execute_result"
    }
   ],
   "source": [
    "index_body"
   ]
  },
  {
   "cell_type": "code",
   "execution_count": 23,
   "metadata": {},
   "outputs": [],
   "source": [
    "index_name='searchml_revisited_custom_mappings'\n",
    "\n",
    "if not _exists_index(index_name):\n",
    "    resp = cli.indices.create(index=index_name, body=index_body); resp"
   ]
  },
  {
   "cell_type": "code",
   "execution_count": 24,
   "metadata": {},
   "outputs": [],
   "source": [
    "index_name='searchml_revisited_custom_mappings'\n",
    "resps = [cli.index(index_name, body=doc, id=doc['id'], refresh=True) \n",
    "            for doc in docs]"
   ]
  },
  {
   "cell_type": "code",
   "execution_count": 25,
   "metadata": {},
   "outputs": [
    {
     "data": {
      "text/html": [
       "<pre style=\"white-space:pre;overflow-x:auto;line-height:normal;font-family:Menlo,'DejaVu Sans Mono',consolas,'Courier New',monospace\"><span style=\"color: #000080; text-decoration-color: #000080\">╭─ </span><span style=\"color: #000080; text-decoration-color: #000080; font-weight: bold\">&lt;</span><span style=\"color: #ff00ff; text-decoration-color: #ff00ff; font-weight: bold\">bound</span><span style=\"color: #000000; text-decoration-color: #000000\"> method OpenSearch.search of &lt;</span><span style=\"color: #800080; text-decoration-color: #800080; font-weight: bold\">OpenSearch</span><span style=\"color: #000000; text-decoration-color: #000000; font-weight: bold\">([{</span><span style=\"color: #008000; text-decoration-color: #008000\">'host'</span><span style=\"color: #000000; text-decoration-color: #000000\">: </span><span style=\"color: #008000; text-decoration-color: #008000\">'localhost'</span><span style=\"color: #000000; text-decoration-color: #000000\">, </span><span style=\"color: #008000; text-decoration-color: #008000\">'port'</span><span style=\"color: #000000; text-decoration-color: #000000\">: </span><span style=\"color: #008080; text-decoration-color: #008080; font-weight: bold\">9200</span><span style=\"color: #000000; text-decoration-color: #000000; font-weight: bold\">}])</span><span style=\"color: #000080; text-decoration-color: #000080; font-weight: bold\">&gt;</span><span style=\"color: #000080; text-decoration-color: #000080\">&gt; ─╮</span>\n",
       "<span style=\"color: #000080; text-decoration-color: #000080\">│</span> <span style=\"color: #00ffff; text-decoration-color: #00ffff; font-style: italic\">def </span><span style=\"color: #800000; text-decoration-color: #800000; font-weight: bold\">OpenSearch.search</span><span style=\"font-weight: bold\">(</span><span style=\"color: #808000; text-decoration-color: #808000\">body</span>=<span style=\"color: #800080; text-decoration-color: #800080; font-style: italic\">None</span>, <span style=\"color: #808000; text-decoration-color: #808000\">index</span>=<span style=\"color: #800080; text-decoration-color: #800080; font-style: italic\">None</span>, <span style=\"color: #808000; text-decoration-color: #808000\">doc_type</span>=<span style=\"color: #800080; text-decoration-color: #800080; font-style: italic\">None</span>, <span style=\"color: #808000; text-decoration-color: #808000\">params</span>=<span style=\"color: #800080; text-decoration-color: #800080; font-style: italic\">None</span>, <span style=\"color: #808000; text-decoration-color: #808000\">headers</span>=<span style=\"color: #800080; text-decoration-color: #800080; font-style: italic\">None</span><span style=\"font-weight: bold\">)</span>:   <span style=\"color: #000080; text-decoration-color: #000080\">│</span>\n",
       "<span style=\"color: #000080; text-decoration-color: #000080\">│</span>                                                                                           <span style=\"color: #000080; text-decoration-color: #000080\">│</span>\n",
       "<span style=\"color: #000080; text-decoration-color: #000080\">│</span> <span style=\"color: #008080; text-decoration-color: #008080\">Returns results matching a query.</span>                                                         <span style=\"color: #000080; text-decoration-color: #000080\">│</span>\n",
       "<span style=\"color: #000080; text-decoration-color: #000080\">│</span>                                                                                           <span style=\"color: #000080; text-decoration-color: #000080\">│</span>\n",
       "<span style=\"color: #000080; text-decoration-color: #000080\">│</span> <span style=\"color: #008080; text-decoration-color: #008080; font-weight: bold\">28</span><span style=\"font-style: italic\"> attribute(s) not shown.</span> Run <span style=\"color: #800080; text-decoration-color: #800080; font-weight: bold\">inspect</span><span style=\"font-weight: bold\">(</span>inspect<span style=\"font-weight: bold\">)</span> for options.                              <span style=\"color: #000080; text-decoration-color: #000080\">│</span>\n",
       "<span style=\"color: #000080; text-decoration-color: #000080\">╰───────────────────────────────────────────────────────────────────────────────────────────╯</span>\n",
       "</pre>\n"
      ],
      "text/plain": [
       "\u001b[34m╭─\u001b[0m\u001b[34m \u001b[0m\u001b[1;34m<\u001b[0m\u001b[1;95mbound\u001b[0m\u001b[39m method OpenSearch.search of <\u001b[0m\u001b[1;35mOpenSearch\u001b[0m\u001b[1;39m(\u001b[0m\u001b[1;39m[\u001b[0m\u001b[1;39m{\u001b[0m\u001b[32m'host'\u001b[0m\u001b[39m: \u001b[0m\u001b[32m'localhost'\u001b[0m\u001b[39m, \u001b[0m\u001b[32m'port'\u001b[0m\u001b[39m: \u001b[0m\u001b[1;36m9200\u001b[0m\u001b[1;39m}\u001b[0m\u001b[1;39m]\u001b[0m\u001b[1;39m)\u001b[0m\u001b[1;34m>\u001b[0m\u001b[34m> \u001b[0m\u001b[34m─╮\u001b[0m\n",
       "\u001b[34m│\u001b[0m \u001b[3;96mdef \u001b[0m\u001b[1;31mOpenSearch.search\u001b[0m\u001b[1m(\u001b[0m\u001b[33mbody\u001b[0m=\u001b[3;35mNone\u001b[0m, \u001b[33mindex\u001b[0m=\u001b[3;35mNone\u001b[0m, \u001b[33mdoc_type\u001b[0m=\u001b[3;35mNone\u001b[0m, \u001b[33mparams\u001b[0m=\u001b[3;35mNone\u001b[0m, \u001b[33mheaders\u001b[0m=\u001b[3;35mNone\u001b[0m\u001b[1m)\u001b[0m:   \u001b[34m│\u001b[0m\n",
       "\u001b[34m│\u001b[0m                                                                                           \u001b[34m│\u001b[0m\n",
       "\u001b[34m│\u001b[0m \u001b[36mReturns results matching a query.\u001b[0m                                                         \u001b[34m│\u001b[0m\n",
       "\u001b[34m│\u001b[0m                                                                                           \u001b[34m│\u001b[0m\n",
       "\u001b[34m│\u001b[0m \u001b[1;36m28\u001b[0m\u001b[3m attribute(s) not shown.\u001b[0m Run \u001b[1;35minspect\u001b[0m\u001b[1m(\u001b[0minspect\u001b[1m)\u001b[0m for options.                              \u001b[34m│\u001b[0m\n",
       "\u001b[34m╰───────────────────────────────────────────────────────────────────────────────────────────╯\u001b[0m\n"
      ]
     },
     "metadata": {},
     "output_type": "display_data"
    }
   ],
   "source": [
    "rinspect(cli.search)\n",
    "#rinspect(cli.search, help=True)"
   ]
  },
  {
   "cell_type": "code",
   "execution_count": 26,
   "metadata": {},
   "outputs": [
    {
     "data": {
      "text/html": [
       "<pre style=\"white-space:pre;overflow-x:auto;line-height:normal;font-family:Menlo,'DejaVu Sans Mono',consolas,'Courier New',monospace\"><span style=\"font-weight: bold\">{</span>\n",
       "    <span style=\"color: #008000; text-decoration-color: #008000\">'took'</span>: <span style=\"color: #008080; text-decoration-color: #008080; font-weight: bold\">32</span>,\n",
       "    <span style=\"color: #008000; text-decoration-color: #008000\">'timed_out'</span>: <span style=\"color: #ff0000; text-decoration-color: #ff0000; font-style: italic\">False</span>,\n",
       "    <span style=\"color: #008000; text-decoration-color: #008000\">'_shards'</span>: <span style=\"font-weight: bold\">{</span><span style=\"color: #008000; text-decoration-color: #008000\">'total'</span>: <span style=\"color: #008080; text-decoration-color: #008080; font-weight: bold\">1</span>, <span style=\"color: #008000; text-decoration-color: #008000\">'successful'</span>: <span style=\"color: #008080; text-decoration-color: #008080; font-weight: bold\">1</span>, <span style=\"color: #008000; text-decoration-color: #008000\">'skipped'</span>: <span style=\"color: #008080; text-decoration-color: #008080; font-weight: bold\">0</span>, <span style=\"color: #008000; text-decoration-color: #008000\">'failed'</span>: <span style=\"color: #008080; text-decoration-color: #008080; font-weight: bold\">0</span><span style=\"font-weight: bold\">}</span>,\n",
       "    <span style=\"color: #008000; text-decoration-color: #008000\">'hits'</span>: <span style=\"font-weight: bold\">{</span>\n",
       "        <span style=\"color: #008000; text-decoration-color: #008000\">'total'</span>: <span style=\"font-weight: bold\">{</span><span style=\"color: #008000; text-decoration-color: #008000\">'value'</span>: <span style=\"color: #008080; text-decoration-color: #008080; font-weight: bold\">1</span>, <span style=\"color: #008000; text-decoration-color: #008000\">'relation'</span>: <span style=\"color: #008000; text-decoration-color: #008000\">'eq'</span><span style=\"font-weight: bold\">}</span>,\n",
       "        <span style=\"color: #008000; text-decoration-color: #008000\">'max_score'</span>: <span style=\"color: #008080; text-decoration-color: #008080; font-weight: bold\">1.3204864</span>,\n",
       "        <span style=\"color: #008000; text-decoration-color: #008000\">'hits'</span>: <span style=\"font-weight: bold\">[</span>\n",
       "            <span style=\"font-weight: bold\">{</span>\n",
       "                <span style=\"color: #008000; text-decoration-color: #008000\">'_index'</span>: <span style=\"color: #008000; text-decoration-color: #008000\">'searchml_revisited'</span>,\n",
       "                <span style=\"color: #008000; text-decoration-color: #008000\">'_type'</span>: <span style=\"color: #008000; text-decoration-color: #008000\">'_doc'</span>,\n",
       "                <span style=\"color: #008000; text-decoration-color: #008000\">'_id'</span>: <span style=\"color: #008000; text-decoration-color: #008000\">'doc_a'</span>,\n",
       "                <span style=\"color: #008000; text-decoration-color: #008000\">'_score'</span>: <span style=\"color: #008080; text-decoration-color: #008080; font-weight: bold\">1.3204864</span>,\n",
       "                <span style=\"color: #008000; text-decoration-color: #008000\">'_source'</span>: <span style=\"font-weight: bold\">{</span>\n",
       "                    <span style=\"color: #008000; text-decoration-color: #008000\">'id'</span>: <span style=\"color: #008000; text-decoration-color: #008000\">'doc_a'</span>,\n",
       "                    <span style=\"color: #008000; text-decoration-color: #008000\">'title'</span>: <span style=\"color: #008000; text-decoration-color: #008000\">'Fox and Hounds'</span>,\n",
       "                    <span style=\"color: #008000; text-decoration-color: #008000\">'body'</span>: <span style=\"color: #008000; text-decoration-color: #008000\">'The quick red fox jumped over the lazy brown dogs.'</span>,\n",
       "                    <span style=\"color: #008000; text-decoration-color: #008000\">'price'</span>: <span style=\"color: #008000; text-decoration-color: #008000\">'5.99'</span>,\n",
       "                    <span style=\"color: #008000; text-decoration-color: #008000\">'in_stock'</span>: <span style=\"color: #00ff00; text-decoration-color: #00ff00; font-style: italic\">True</span>,\n",
       "                    <span style=\"color: #008000; text-decoration-color: #008000\">'category'</span>: <span style=\"color: #008000; text-decoration-color: #008000\">'childrens'</span>\n",
       "                <span style=\"font-weight: bold\">}</span>\n",
       "            <span style=\"font-weight: bold\">}</span>\n",
       "        <span style=\"font-weight: bold\">]</span>\n",
       "    <span style=\"font-weight: bold\">}</span>\n",
       "<span style=\"font-weight: bold\">}</span>\n",
       "</pre>\n"
      ],
      "text/plain": [
       "\u001b[1m{\u001b[0m\n",
       "    \u001b[32m'took'\u001b[0m: \u001b[1;36m32\u001b[0m,\n",
       "    \u001b[32m'timed_out'\u001b[0m: \u001b[3;91mFalse\u001b[0m,\n",
       "    \u001b[32m'_shards'\u001b[0m: \u001b[1m{\u001b[0m\u001b[32m'total'\u001b[0m: \u001b[1;36m1\u001b[0m, \u001b[32m'successful'\u001b[0m: \u001b[1;36m1\u001b[0m, \u001b[32m'skipped'\u001b[0m: \u001b[1;36m0\u001b[0m, \u001b[32m'failed'\u001b[0m: \u001b[1;36m0\u001b[0m\u001b[1m}\u001b[0m,\n",
       "    \u001b[32m'hits'\u001b[0m: \u001b[1m{\u001b[0m\n",
       "        \u001b[32m'total'\u001b[0m: \u001b[1m{\u001b[0m\u001b[32m'value'\u001b[0m: \u001b[1;36m1\u001b[0m, \u001b[32m'relation'\u001b[0m: \u001b[32m'eq'\u001b[0m\u001b[1m}\u001b[0m,\n",
       "        \u001b[32m'max_score'\u001b[0m: \u001b[1;36m1.3204864\u001b[0m,\n",
       "        \u001b[32m'hits'\u001b[0m: \u001b[1m[\u001b[0m\n",
       "            \u001b[1m{\u001b[0m\n",
       "                \u001b[32m'_index'\u001b[0m: \u001b[32m'searchml_revisited'\u001b[0m,\n",
       "                \u001b[32m'_type'\u001b[0m: \u001b[32m'_doc'\u001b[0m,\n",
       "                \u001b[32m'_id'\u001b[0m: \u001b[32m'doc_a'\u001b[0m,\n",
       "                \u001b[32m'_score'\u001b[0m: \u001b[1;36m1.3204864\u001b[0m,\n",
       "                \u001b[32m'_source'\u001b[0m: \u001b[1m{\u001b[0m\n",
       "                    \u001b[32m'id'\u001b[0m: \u001b[32m'doc_a'\u001b[0m,\n",
       "                    \u001b[32m'title'\u001b[0m: \u001b[32m'Fox and Hounds'\u001b[0m,\n",
       "                    \u001b[32m'body'\u001b[0m: \u001b[32m'The quick red fox jumped over the lazy brown dogs.'\u001b[0m,\n",
       "                    \u001b[32m'price'\u001b[0m: \u001b[32m'5.99'\u001b[0m,\n",
       "                    \u001b[32m'in_stock'\u001b[0m: \u001b[3;92mTrue\u001b[0m,\n",
       "                    \u001b[32m'category'\u001b[0m: \u001b[32m'childrens'\u001b[0m\n",
       "                \u001b[1m}\u001b[0m\n",
       "            \u001b[1m}\u001b[0m\n",
       "        \u001b[1m]\u001b[0m\n",
       "    \u001b[1m}\u001b[0m\n",
       "\u001b[1m}\u001b[0m\n"
      ]
     },
     "metadata": {},
     "output_type": "display_data"
    }
   ],
   "source": [
    "# Note we should have this collection earlier\n",
    "# GET searchml_revisited/_search?q=body:dogs\n",
    "resp = cli.search(index='searchml_revisited', params={'q': 'body:dogs'});rprint(resp)"
   ]
  },
  {
   "cell_type": "code",
   "execution_count": 27,
   "metadata": {},
   "outputs": [],
   "source": [
    "test_eq(resp['hits']['total']['value'], 1)"
   ]
  },
  {
   "cell_type": "code",
   "execution_count": 28,
   "metadata": {},
   "outputs": [
    {
     "data": {
      "text/html": [
       "<pre style=\"white-space:pre;overflow-x:auto;line-height:normal;font-family:Menlo,'DejaVu Sans Mono',consolas,'Courier New',monospace\"><span style=\"font-weight: bold\">{</span>\n",
       "    <span style=\"color: #008000; text-decoration-color: #008000\">'took'</span>: <span style=\"color: #008080; text-decoration-color: #008080; font-weight: bold\">4</span>,\n",
       "    <span style=\"color: #008000; text-decoration-color: #008000\">'timed_out'</span>: <span style=\"color: #ff0000; text-decoration-color: #ff0000; font-style: italic\">False</span>,\n",
       "    <span style=\"color: #008000; text-decoration-color: #008000\">'_shards'</span>: <span style=\"font-weight: bold\">{</span><span style=\"color: #008000; text-decoration-color: #008000\">'total'</span>: <span style=\"color: #008080; text-decoration-color: #008080; font-weight: bold\">1</span>, <span style=\"color: #008000; text-decoration-color: #008000\">'successful'</span>: <span style=\"color: #008080; text-decoration-color: #008080; font-weight: bold\">1</span>, <span style=\"color: #008000; text-decoration-color: #008000\">'skipped'</span>: <span style=\"color: #008080; text-decoration-color: #008080; font-weight: bold\">0</span>, <span style=\"color: #008000; text-decoration-color: #008000\">'failed'</span>: <span style=\"color: #008080; text-decoration-color: #008080; font-weight: bold\">0</span><span style=\"font-weight: bold\">}</span>,\n",
       "    <span style=\"color: #008000; text-decoration-color: #008000\">'hits'</span>: <span style=\"font-weight: bold\">{</span>\n",
       "        <span style=\"color: #008000; text-decoration-color: #008000\">'total'</span>: <span style=\"font-weight: bold\">{</span><span style=\"color: #008000; text-decoration-color: #008000\">'value'</span>: <span style=\"color: #008080; text-decoration-color: #008080; font-weight: bold\">2</span>, <span style=\"color: #008000; text-decoration-color: #008000\">'relation'</span>: <span style=\"color: #008000; text-decoration-color: #008000\">'eq'</span><span style=\"font-weight: bold\">}</span>,\n",
       "        <span style=\"color: #008000; text-decoration-color: #008000\">'max_score'</span>: <span style=\"color: #008080; text-decoration-color: #008080; font-weight: bold\">0.71833557</span>,\n",
       "        <span style=\"color: #008000; text-decoration-color: #008000\">'hits'</span>: <span style=\"font-weight: bold\">[</span>\n",
       "            <span style=\"font-weight: bold\">{</span>\n",
       "                <span style=\"color: #008000; text-decoration-color: #008000\">'_index'</span>: <span style=\"color: #008000; text-decoration-color: #008000\">'searchml_revisited_custom_mappings'</span>,\n",
       "                <span style=\"color: #008000; text-decoration-color: #008000\">'_type'</span>: <span style=\"color: #008000; text-decoration-color: #008000\">'_doc'</span>,\n",
       "                <span style=\"color: #008000; text-decoration-color: #008000\">'_id'</span>: <span style=\"color: #008000; text-decoration-color: #008000\">'doc_a'</span>,\n",
       "                <span style=\"color: #008000; text-decoration-color: #008000\">'_score'</span>: <span style=\"color: #008080; text-decoration-color: #008080; font-weight: bold\">0.71833557</span>,\n",
       "                <span style=\"color: #008000; text-decoration-color: #008000\">'_source'</span>: <span style=\"font-weight: bold\">{</span>\n",
       "                    <span style=\"color: #008000; text-decoration-color: #008000\">'id'</span>: <span style=\"color: #008000; text-decoration-color: #008000\">'doc_a'</span>,\n",
       "                    <span style=\"color: #008000; text-decoration-color: #008000\">'title'</span>: <span style=\"color: #008000; text-decoration-color: #008000\">'Fox and Hounds'</span>,\n",
       "                    <span style=\"color: #008000; text-decoration-color: #008000\">'body'</span>: <span style=\"color: #008000; text-decoration-color: #008000\">'The quick red fox jumped over the lazy brown dogs.'</span>,\n",
       "                    <span style=\"color: #008000; text-decoration-color: #008000\">'price'</span>: <span style=\"color: #008000; text-decoration-color: #008000\">'5.99'</span>,\n",
       "                    <span style=\"color: #008000; text-decoration-color: #008000\">'in_stock'</span>: <span style=\"color: #00ff00; text-decoration-color: #00ff00; font-style: italic\">True</span>,\n",
       "                    <span style=\"color: #008000; text-decoration-color: #008000\">'category'</span>: <span style=\"color: #008000; text-decoration-color: #008000\">'childrens'</span>\n",
       "                <span style=\"font-weight: bold\">}</span>\n",
       "            <span style=\"font-weight: bold\">}</span>,\n",
       "            <span style=\"font-weight: bold\">{</span>\n",
       "                <span style=\"color: #008000; text-decoration-color: #008000\">'_index'</span>: <span style=\"color: #008000; text-decoration-color: #008000\">'searchml_revisited_custom_mappings'</span>,\n",
       "                <span style=\"color: #008000; text-decoration-color: #008000\">'_type'</span>: <span style=\"color: #008000; text-decoration-color: #008000\">'_doc'</span>,\n",
       "                <span style=\"color: #008000; text-decoration-color: #008000\">'_id'</span>: <span style=\"color: #008000; text-decoration-color: #008000\">'doc_b'</span>,\n",
       "                <span style=\"color: #008000; text-decoration-color: #008000\">'_score'</span>: <span style=\"color: #008080; text-decoration-color: #008080; font-weight: bold\">0.6548753</span>,\n",
       "                <span style=\"color: #008000; text-decoration-color: #008000\">'_source'</span>: <span style=\"font-weight: bold\">{</span>\n",
       "                    <span style=\"color: #008000; text-decoration-color: #008000\">'id'</span>: <span style=\"color: #008000; text-decoration-color: #008000\">'doc_b'</span>,\n",
       "                    <span style=\"color: #008000; text-decoration-color: #008000\">'title'</span>: <span style=\"color: #008000; text-decoration-color: #008000\">'Fox wins championship'</span>,\n",
       "                    <span style=\"color: #008000; text-decoration-color: #008000\">'body'</span>: <span style=\"color: #008000; text-decoration-color: #008000\">'Wearing all red, the Fox jumped out to a lead in the race over </span>\n",
       "<span style=\"color: #008000; text-decoration-color: #008000\">the Dog.'</span>,\n",
       "                    <span style=\"color: #008000; text-decoration-color: #008000\">'price'</span>: <span style=\"color: #008000; text-decoration-color: #008000\">'15.13'</span>,\n",
       "                    <span style=\"color: #008000; text-decoration-color: #008000\">'in_stock'</span>: <span style=\"color: #00ff00; text-decoration-color: #00ff00; font-style: italic\">True</span>,\n",
       "                    <span style=\"color: #008000; text-decoration-color: #008000\">'category'</span>: <span style=\"color: #008000; text-decoration-color: #008000\">'sports'</span>\n",
       "                <span style=\"font-weight: bold\">}</span>\n",
       "            <span style=\"font-weight: bold\">}</span>\n",
       "        <span style=\"font-weight: bold\">]</span>\n",
       "    <span style=\"font-weight: bold\">}</span>\n",
       "<span style=\"font-weight: bold\">}</span>\n",
       "</pre>\n"
      ],
      "text/plain": [
       "\u001b[1m{\u001b[0m\n",
       "    \u001b[32m'took'\u001b[0m: \u001b[1;36m4\u001b[0m,\n",
       "    \u001b[32m'timed_out'\u001b[0m: \u001b[3;91mFalse\u001b[0m,\n",
       "    \u001b[32m'_shards'\u001b[0m: \u001b[1m{\u001b[0m\u001b[32m'total'\u001b[0m: \u001b[1;36m1\u001b[0m, \u001b[32m'successful'\u001b[0m: \u001b[1;36m1\u001b[0m, \u001b[32m'skipped'\u001b[0m: \u001b[1;36m0\u001b[0m, \u001b[32m'failed'\u001b[0m: \u001b[1;36m0\u001b[0m\u001b[1m}\u001b[0m,\n",
       "    \u001b[32m'hits'\u001b[0m: \u001b[1m{\u001b[0m\n",
       "        \u001b[32m'total'\u001b[0m: \u001b[1m{\u001b[0m\u001b[32m'value'\u001b[0m: \u001b[1;36m2\u001b[0m, \u001b[32m'relation'\u001b[0m: \u001b[32m'eq'\u001b[0m\u001b[1m}\u001b[0m,\n",
       "        \u001b[32m'max_score'\u001b[0m: \u001b[1;36m0.71833557\u001b[0m,\n",
       "        \u001b[32m'hits'\u001b[0m: \u001b[1m[\u001b[0m\n",
       "            \u001b[1m{\u001b[0m\n",
       "                \u001b[32m'_index'\u001b[0m: \u001b[32m'searchml_revisited_custom_mappings'\u001b[0m,\n",
       "                \u001b[32m'_type'\u001b[0m: \u001b[32m'_doc'\u001b[0m,\n",
       "                \u001b[32m'_id'\u001b[0m: \u001b[32m'doc_a'\u001b[0m,\n",
       "                \u001b[32m'_score'\u001b[0m: \u001b[1;36m0.71833557\u001b[0m,\n",
       "                \u001b[32m'_source'\u001b[0m: \u001b[1m{\u001b[0m\n",
       "                    \u001b[32m'id'\u001b[0m: \u001b[32m'doc_a'\u001b[0m,\n",
       "                    \u001b[32m'title'\u001b[0m: \u001b[32m'Fox and Hounds'\u001b[0m,\n",
       "                    \u001b[32m'body'\u001b[0m: \u001b[32m'The quick red fox jumped over the lazy brown dogs.'\u001b[0m,\n",
       "                    \u001b[32m'price'\u001b[0m: \u001b[32m'5.99'\u001b[0m,\n",
       "                    \u001b[32m'in_stock'\u001b[0m: \u001b[3;92mTrue\u001b[0m,\n",
       "                    \u001b[32m'category'\u001b[0m: \u001b[32m'childrens'\u001b[0m\n",
       "                \u001b[1m}\u001b[0m\n",
       "            \u001b[1m}\u001b[0m,\n",
       "            \u001b[1m{\u001b[0m\n",
       "                \u001b[32m'_index'\u001b[0m: \u001b[32m'searchml_revisited_custom_mappings'\u001b[0m,\n",
       "                \u001b[32m'_type'\u001b[0m: \u001b[32m'_doc'\u001b[0m,\n",
       "                \u001b[32m'_id'\u001b[0m: \u001b[32m'doc_b'\u001b[0m,\n",
       "                \u001b[32m'_score'\u001b[0m: \u001b[1;36m0.6548753\u001b[0m,\n",
       "                \u001b[32m'_source'\u001b[0m: \u001b[1m{\u001b[0m\n",
       "                    \u001b[32m'id'\u001b[0m: \u001b[32m'doc_b'\u001b[0m,\n",
       "                    \u001b[32m'title'\u001b[0m: \u001b[32m'Fox wins championship'\u001b[0m,\n",
       "                    \u001b[32m'body'\u001b[0m: \u001b[32m'Wearing all red, the Fox jumped out to a lead in the race over \u001b[0m\n",
       "\u001b[32mthe Dog.'\u001b[0m,\n",
       "                    \u001b[32m'price'\u001b[0m: \u001b[32m'15.13'\u001b[0m,\n",
       "                    \u001b[32m'in_stock'\u001b[0m: \u001b[3;92mTrue\u001b[0m,\n",
       "                    \u001b[32m'category'\u001b[0m: \u001b[32m'sports'\u001b[0m\n",
       "                \u001b[1m}\u001b[0m\n",
       "            \u001b[1m}\u001b[0m\n",
       "        \u001b[1m]\u001b[0m\n",
       "    \u001b[1m}\u001b[0m\n",
       "\u001b[1m}\u001b[0m\n"
      ]
     },
     "metadata": {},
     "output_type": "display_data"
    }
   ],
   "source": [
    "\n",
    "# GET searchml_revisited_custom_mappings/_search?q=body:dogs\n",
    "resp=cli.search(index='searchml_revisited_custom_mappings', params={'q': 'body:dogs'});rprint(resp)"
   ]
  },
  {
   "cell_type": "code",
   "execution_count": 29,
   "metadata": {},
   "outputs": [],
   "source": [
    "test_eq(resp['hits']['total']['value'], 2)"
   ]
  },
  {
   "cell_type": "markdown",
   "metadata": {},
   "source": [
    "## Querying"
   ]
  },
  {
   "cell_type": "markdown",
   "metadata": {},
   "source": [
    "- [multi_match](https://www.elastic.co/guide/en/elasticsearch/reference/7.10/query-dsl-multi-match-query.html) query is used to search across multiple fields (eg: title, body)\n",
    "- 'title' fld is twice important for matching in the query than the 'body'\n",
    "- Types of multi_match (type param): \n",
    "  1. best_fields(default - match any but score from best) \n",
    "  2. most_fields (match any & score combined from each) \n",
    "  3. cross_fields (fields with same analyzer as one big field, each word from **any** field )"
   ]
  },
  {
   "cell_type": "code",
   "execution_count": 30,
   "metadata": {},
   "outputs": [
    {
     "data": {
      "text/html": [
       "<pre style=\"white-space:pre;overflow-x:auto;line-height:normal;font-family:Menlo,'DejaVu Sans Mono',consolas,'Courier New',monospace\"><span style=\"font-weight: bold\">{</span>\n",
       "    <span style=\"color: #008000; text-decoration-color: #008000\">'took'</span>: <span style=\"color: #008080; text-decoration-color: #008080; font-weight: bold\">4</span>,\n",
       "    <span style=\"color: #008000; text-decoration-color: #008000\">'timed_out'</span>: <span style=\"color: #ff0000; text-decoration-color: #ff0000; font-style: italic\">False</span>,\n",
       "    <span style=\"color: #008000; text-decoration-color: #008000\">'_shards'</span>: <span style=\"font-weight: bold\">{</span><span style=\"color: #008000; text-decoration-color: #008000\">'total'</span>: <span style=\"color: #008080; text-decoration-color: #008080; font-weight: bold\">1</span>, <span style=\"color: #008000; text-decoration-color: #008000\">'successful'</span>: <span style=\"color: #008080; text-decoration-color: #008080; font-weight: bold\">1</span>, <span style=\"color: #008000; text-decoration-color: #008000\">'skipped'</span>: <span style=\"color: #008080; text-decoration-color: #008080; font-weight: bold\">0</span>, <span style=\"color: #008000; text-decoration-color: #008000\">'failed'</span>: <span style=\"color: #008080; text-decoration-color: #008080; font-weight: bold\">0</span><span style=\"font-weight: bold\">}</span>,\n",
       "    <span style=\"color: #008000; text-decoration-color: #008000\">'hits'</span>: <span style=\"font-weight: bold\">{</span>\n",
       "        <span style=\"color: #008000; text-decoration-color: #008000\">'total'</span>: <span style=\"font-weight: bold\">{</span><span style=\"color: #008000; text-decoration-color: #008000\">'value'</span>: <span style=\"color: #008080; text-decoration-color: #008080; font-weight: bold\">2</span>, <span style=\"color: #008000; text-decoration-color: #008000\">'relation'</span>: <span style=\"color: #008000; text-decoration-color: #008000\">'eq'</span><span style=\"font-weight: bold\">}</span>,\n",
       "        <span style=\"color: #008000; text-decoration-color: #008000\">'max_score'</span>: <span style=\"color: #008080; text-decoration-color: #008080; font-weight: bold\">0.71833557</span>,\n",
       "        <span style=\"color: #008000; text-decoration-color: #008000\">'hits'</span>: <span style=\"font-weight: bold\">[</span>\n",
       "            <span style=\"font-weight: bold\">{</span>\n",
       "                <span style=\"color: #008000; text-decoration-color: #008000\">'_index'</span>: <span style=\"color: #008000; text-decoration-color: #008000\">'searchml_revisited_custom_mappings'</span>,\n",
       "                <span style=\"color: #008000; text-decoration-color: #008000\">'_type'</span>: <span style=\"color: #008000; text-decoration-color: #008000\">'_doc'</span>,\n",
       "                <span style=\"color: #008000; text-decoration-color: #008000\">'_id'</span>: <span style=\"color: #008000; text-decoration-color: #008000\">'doc_a'</span>,\n",
       "                <span style=\"color: #008000; text-decoration-color: #008000\">'_score'</span>: <span style=\"color: #008080; text-decoration-color: #008080; font-weight: bold\">0.71833557</span>,\n",
       "                <span style=\"color: #008000; text-decoration-color: #008000\">'_source'</span>: <span style=\"font-weight: bold\">{</span>\n",
       "                    <span style=\"color: #008000; text-decoration-color: #008000\">'id'</span>: <span style=\"color: #008000; text-decoration-color: #008000\">'doc_a'</span>,\n",
       "                    <span style=\"color: #008000; text-decoration-color: #008000\">'title'</span>: <span style=\"color: #008000; text-decoration-color: #008000\">'Fox and Hounds'</span>,\n",
       "                    <span style=\"color: #008000; text-decoration-color: #008000\">'body'</span>: <span style=\"color: #008000; text-decoration-color: #008000\">'The quick red fox jumped over the lazy brown dogs.'</span>,\n",
       "                    <span style=\"color: #008000; text-decoration-color: #008000\">'price'</span>: <span style=\"color: #008000; text-decoration-color: #008000\">'5.99'</span>,\n",
       "                    <span style=\"color: #008000; text-decoration-color: #008000\">'in_stock'</span>: <span style=\"color: #00ff00; text-decoration-color: #00ff00; font-style: italic\">True</span>,\n",
       "                    <span style=\"color: #008000; text-decoration-color: #008000\">'category'</span>: <span style=\"color: #008000; text-decoration-color: #008000\">'childrens'</span>\n",
       "                <span style=\"font-weight: bold\">}</span>\n",
       "            <span style=\"font-weight: bold\">}</span>,\n",
       "            <span style=\"font-weight: bold\">{</span>\n",
       "                <span style=\"color: #008000; text-decoration-color: #008000\">'_index'</span>: <span style=\"color: #008000; text-decoration-color: #008000\">'searchml_revisited_custom_mappings'</span>,\n",
       "                <span style=\"color: #008000; text-decoration-color: #008000\">'_type'</span>: <span style=\"color: #008000; text-decoration-color: #008000\">'_doc'</span>,\n",
       "                <span style=\"color: #008000; text-decoration-color: #008000\">'_id'</span>: <span style=\"color: #008000; text-decoration-color: #008000\">'doc_b'</span>,\n",
       "                <span style=\"color: #008000; text-decoration-color: #008000\">'_score'</span>: <span style=\"color: #008080; text-decoration-color: #008080; font-weight: bold\">0.6548753</span>,\n",
       "                <span style=\"color: #008000; text-decoration-color: #008000\">'_source'</span>: <span style=\"font-weight: bold\">{</span>\n",
       "                    <span style=\"color: #008000; text-decoration-color: #008000\">'id'</span>: <span style=\"color: #008000; text-decoration-color: #008000\">'doc_b'</span>,\n",
       "                    <span style=\"color: #008000; text-decoration-color: #008000\">'title'</span>: <span style=\"color: #008000; text-decoration-color: #008000\">'Fox wins championship'</span>,\n",
       "                    <span style=\"color: #008000; text-decoration-color: #008000\">'body'</span>: <span style=\"color: #008000; text-decoration-color: #008000\">'Wearing all red, the Fox jumped out to a lead in the race over </span>\n",
       "<span style=\"color: #008000; text-decoration-color: #008000\">the Dog.'</span>,\n",
       "                    <span style=\"color: #008000; text-decoration-color: #008000\">'price'</span>: <span style=\"color: #008000; text-decoration-color: #008000\">'15.13'</span>,\n",
       "                    <span style=\"color: #008000; text-decoration-color: #008000\">'in_stock'</span>: <span style=\"color: #00ff00; text-decoration-color: #00ff00; font-style: italic\">True</span>,\n",
       "                    <span style=\"color: #008000; text-decoration-color: #008000\">'category'</span>: <span style=\"color: #008000; text-decoration-color: #008000\">'sports'</span>\n",
       "                <span style=\"font-weight: bold\">}</span>\n",
       "            <span style=\"font-weight: bold\">}</span>\n",
       "        <span style=\"font-weight: bold\">]</span>\n",
       "    <span style=\"font-weight: bold\">}</span>\n",
       "<span style=\"font-weight: bold\">}</span>\n",
       "</pre>\n"
      ],
      "text/plain": [
       "\u001b[1m{\u001b[0m\n",
       "    \u001b[32m'took'\u001b[0m: \u001b[1;36m4\u001b[0m,\n",
       "    \u001b[32m'timed_out'\u001b[0m: \u001b[3;91mFalse\u001b[0m,\n",
       "    \u001b[32m'_shards'\u001b[0m: \u001b[1m{\u001b[0m\u001b[32m'total'\u001b[0m: \u001b[1;36m1\u001b[0m, \u001b[32m'successful'\u001b[0m: \u001b[1;36m1\u001b[0m, \u001b[32m'skipped'\u001b[0m: \u001b[1;36m0\u001b[0m, \u001b[32m'failed'\u001b[0m: \u001b[1;36m0\u001b[0m\u001b[1m}\u001b[0m,\n",
       "    \u001b[32m'hits'\u001b[0m: \u001b[1m{\u001b[0m\n",
       "        \u001b[32m'total'\u001b[0m: \u001b[1m{\u001b[0m\u001b[32m'value'\u001b[0m: \u001b[1;36m2\u001b[0m, \u001b[32m'relation'\u001b[0m: \u001b[32m'eq'\u001b[0m\u001b[1m}\u001b[0m,\n",
       "        \u001b[32m'max_score'\u001b[0m: \u001b[1;36m0.71833557\u001b[0m,\n",
       "        \u001b[32m'hits'\u001b[0m: \u001b[1m[\u001b[0m\n",
       "            \u001b[1m{\u001b[0m\n",
       "                \u001b[32m'_index'\u001b[0m: \u001b[32m'searchml_revisited_custom_mappings'\u001b[0m,\n",
       "                \u001b[32m'_type'\u001b[0m: \u001b[32m'_doc'\u001b[0m,\n",
       "                \u001b[32m'_id'\u001b[0m: \u001b[32m'doc_a'\u001b[0m,\n",
       "                \u001b[32m'_score'\u001b[0m: \u001b[1;36m0.71833557\u001b[0m,\n",
       "                \u001b[32m'_source'\u001b[0m: \u001b[1m{\u001b[0m\n",
       "                    \u001b[32m'id'\u001b[0m: \u001b[32m'doc_a'\u001b[0m,\n",
       "                    \u001b[32m'title'\u001b[0m: \u001b[32m'Fox and Hounds'\u001b[0m,\n",
       "                    \u001b[32m'body'\u001b[0m: \u001b[32m'The quick red fox jumped over the lazy brown dogs.'\u001b[0m,\n",
       "                    \u001b[32m'price'\u001b[0m: \u001b[32m'5.99'\u001b[0m,\n",
       "                    \u001b[32m'in_stock'\u001b[0m: \u001b[3;92mTrue\u001b[0m,\n",
       "                    \u001b[32m'category'\u001b[0m: \u001b[32m'childrens'\u001b[0m\n",
       "                \u001b[1m}\u001b[0m\n",
       "            \u001b[1m}\u001b[0m,\n",
       "            \u001b[1m{\u001b[0m\n",
       "                \u001b[32m'_index'\u001b[0m: \u001b[32m'searchml_revisited_custom_mappings'\u001b[0m,\n",
       "                \u001b[32m'_type'\u001b[0m: \u001b[32m'_doc'\u001b[0m,\n",
       "                \u001b[32m'_id'\u001b[0m: \u001b[32m'doc_b'\u001b[0m,\n",
       "                \u001b[32m'_score'\u001b[0m: \u001b[1;36m0.6548753\u001b[0m,\n",
       "                \u001b[32m'_source'\u001b[0m: \u001b[1m{\u001b[0m\n",
       "                    \u001b[32m'id'\u001b[0m: \u001b[32m'doc_b'\u001b[0m,\n",
       "                    \u001b[32m'title'\u001b[0m: \u001b[32m'Fox wins championship'\u001b[0m,\n",
       "                    \u001b[32m'body'\u001b[0m: \u001b[32m'Wearing all red, the Fox jumped out to a lead in the race over \u001b[0m\n",
       "\u001b[32mthe Dog.'\u001b[0m,\n",
       "                    \u001b[32m'price'\u001b[0m: \u001b[32m'15.13'\u001b[0m,\n",
       "                    \u001b[32m'in_stock'\u001b[0m: \u001b[3;92mTrue\u001b[0m,\n",
       "                    \u001b[32m'category'\u001b[0m: \u001b[32m'sports'\u001b[0m\n",
       "                \u001b[1m}\u001b[0m\n",
       "            \u001b[1m}\u001b[0m\n",
       "        \u001b[1m]\u001b[0m\n",
       "    \u001b[1m}\u001b[0m\n",
       "\u001b[1m}\u001b[0m\n"
      ]
     },
     "metadata": {},
     "output_type": "display_data"
    }
   ],
   "source": [
    "q='dogs'\n",
    "index_name='searchml_revisited_custom_mappings'\n",
    "query={\n",
    "    'size': 5,\n",
    "    'query': {\n",
    "        'multi_match': {'query': q, 'fields': ['title^2', 'body']} \n",
    "    }\n",
    "}\n",
    "resp = cli.search(body=query, index=index_name); rprint(resp)"
   ]
  },
  {
   "cell_type": "code",
   "execution_count": 34,
   "metadata": {},
   "outputs": [
    {
     "data": {
      "text/html": [
       "<pre style=\"white-space:pre;overflow-x:auto;line-height:normal;font-family:Menlo,'DejaVu Sans Mono',consolas,'Courier New',monospace\"><span style=\"font-weight: bold\">{</span>\n",
       "    <span style=\"color: #008000; text-decoration-color: #008000\">'took'</span>: <span style=\"color: #008080; text-decoration-color: #008080; font-weight: bold\">3</span>,\n",
       "    <span style=\"color: #008000; text-decoration-color: #008000\">'timed_out'</span>: <span style=\"color: #ff0000; text-decoration-color: #ff0000; font-style: italic\">False</span>,\n",
       "    <span style=\"color: #008000; text-decoration-color: #008000\">'_shards'</span>: <span style=\"font-weight: bold\">{</span><span style=\"color: #008000; text-decoration-color: #008000\">'total'</span>: <span style=\"color: #008080; text-decoration-color: #008080; font-weight: bold\">1</span>, <span style=\"color: #008000; text-decoration-color: #008000\">'successful'</span>: <span style=\"color: #008080; text-decoration-color: #008080; font-weight: bold\">1</span>, <span style=\"color: #008000; text-decoration-color: #008000\">'skipped'</span>: <span style=\"color: #008080; text-decoration-color: #008080; font-weight: bold\">0</span>, <span style=\"color: #008000; text-decoration-color: #008000\">'failed'</span>: <span style=\"color: #008080; text-decoration-color: #008080; font-weight: bold\">0</span><span style=\"font-weight: bold\">}</span>,\n",
       "    <span style=\"color: #008000; text-decoration-color: #008000\">'hits'</span>: <span style=\"font-weight: bold\">{</span><span style=\"color: #008000; text-decoration-color: #008000\">'total'</span>: <span style=\"font-weight: bold\">{</span><span style=\"color: #008000; text-decoration-color: #008000\">'value'</span>: <span style=\"color: #008080; text-decoration-color: #008080; font-weight: bold\">0</span>, <span style=\"color: #008000; text-decoration-color: #008000\">'relation'</span>: <span style=\"color: #008000; text-decoration-color: #008000\">'eq'</span><span style=\"font-weight: bold\">}</span>, <span style=\"color: #008000; text-decoration-color: #008000\">'max_score'</span>: <span style=\"color: #800080; text-decoration-color: #800080; font-style: italic\">None</span>, <span style=\"color: #008000; text-decoration-color: #008000\">'hits'</span>: <span style=\"font-weight: bold\">[]}</span>\n",
       "<span style=\"font-weight: bold\">}</span>\n",
       "</pre>\n"
      ],
      "text/plain": [
       "\u001b[1m{\u001b[0m\n",
       "    \u001b[32m'took'\u001b[0m: \u001b[1;36m3\u001b[0m,\n",
       "    \u001b[32m'timed_out'\u001b[0m: \u001b[3;91mFalse\u001b[0m,\n",
       "    \u001b[32m'_shards'\u001b[0m: \u001b[1m{\u001b[0m\u001b[32m'total'\u001b[0m: \u001b[1;36m1\u001b[0m, \u001b[32m'successful'\u001b[0m: \u001b[1;36m1\u001b[0m, \u001b[32m'skipped'\u001b[0m: \u001b[1;36m0\u001b[0m, \u001b[32m'failed'\u001b[0m: \u001b[1;36m0\u001b[0m\u001b[1m}\u001b[0m,\n",
       "    \u001b[32m'hits'\u001b[0m: \u001b[1m{\u001b[0m\u001b[32m'total'\u001b[0m: \u001b[1m{\u001b[0m\u001b[32m'value'\u001b[0m: \u001b[1;36m0\u001b[0m, \u001b[32m'relation'\u001b[0m: \u001b[32m'eq'\u001b[0m\u001b[1m}\u001b[0m, \u001b[32m'max_score'\u001b[0m: \u001b[3;35mNone\u001b[0m, \u001b[32m'hits'\u001b[0m: \u001b[1m[\u001b[0m\u001b[1m]\u001b[0m\u001b[1m}\u001b[0m\n",
       "\u001b[1m}\u001b[0m\n"
      ]
     },
     "metadata": {},
     "output_type": "display_data"
    }
   ],
   "source": [
    "q='fox dog'\n",
    "index_name='searchml_revisited_custom_mappings'\n",
    "query={\n",
    "    'size': 5,\n",
    "    'query': {\n",
    "        'match_phrase': {\n",
    "            'body': {'query': q}\n",
    "        }\n",
    "    }\n",
    "}\n",
    "resp = cli.search(body=query, index=index_name); rprint(resp)"
   ]
  },
  {
   "cell_type": "code",
   "execution_count": 35,
   "metadata": {},
   "outputs": [],
   "source": [
    "# phrase queries requiring the tokens fox and dog occur next to each other, hence 0 results\n",
    "test_eq(resp['hits']['total']['value'], 0)"
   ]
  },
  {
   "cell_type": "code",
   "execution_count": 36,
   "metadata": {},
   "outputs": [
    {
     "data": {
      "text/html": [
       "<pre style=\"white-space:pre;overflow-x:auto;line-height:normal;font-family:Menlo,'DejaVu Sans Mono',consolas,'Courier New',monospace\"><span style=\"font-weight: bold\">{</span>\n",
       "    <span style=\"color: #008000; text-decoration-color: #008000\">'took'</span>: <span style=\"color: #008080; text-decoration-color: #008080; font-weight: bold\">3</span>,\n",
       "    <span style=\"color: #008000; text-decoration-color: #008000\">'timed_out'</span>: <span style=\"color: #ff0000; text-decoration-color: #ff0000; font-style: italic\">False</span>,\n",
       "    <span style=\"color: #008000; text-decoration-color: #008000\">'_shards'</span>: <span style=\"font-weight: bold\">{</span><span style=\"color: #008000; text-decoration-color: #008000\">'total'</span>: <span style=\"color: #008080; text-decoration-color: #008080; font-weight: bold\">1</span>, <span style=\"color: #008000; text-decoration-color: #008000\">'successful'</span>: <span style=\"color: #008080; text-decoration-color: #008080; font-weight: bold\">1</span>, <span style=\"color: #008000; text-decoration-color: #008000\">'skipped'</span>: <span style=\"color: #008080; text-decoration-color: #008080; font-weight: bold\">0</span>, <span style=\"color: #008000; text-decoration-color: #008000\">'failed'</span>: <span style=\"color: #008080; text-decoration-color: #008080; font-weight: bold\">0</span><span style=\"font-weight: bold\">}</span>,\n",
       "    <span style=\"color: #008000; text-decoration-color: #008000\">'hits'</span>: <span style=\"font-weight: bold\">{</span>\n",
       "        <span style=\"color: #008000; text-decoration-color: #008000\">'total'</span>: <span style=\"font-weight: bold\">{</span><span style=\"color: #008000; text-decoration-color: #008000\">'value'</span>: <span style=\"color: #008080; text-decoration-color: #008080; font-weight: bold\">2</span>, <span style=\"color: #008000; text-decoration-color: #008000\">'relation'</span>: <span style=\"color: #008000; text-decoration-color: #008000\">'eq'</span><span style=\"font-weight: bold\">}</span>,\n",
       "        <span style=\"color: #008000; text-decoration-color: #008000\">'max_score'</span>: <span style=\"color: #008080; text-decoration-color: #008080; font-weight: bold\">0.39418244</span>,\n",
       "        <span style=\"color: #008000; text-decoration-color: #008000\">'hits'</span>: <span style=\"font-weight: bold\">[</span>\n",
       "            <span style=\"font-weight: bold\">{</span>\n",
       "                <span style=\"color: #008000; text-decoration-color: #008000\">'_index'</span>: <span style=\"color: #008000; text-decoration-color: #008000\">'searchml_revisited_custom_mappings'</span>,\n",
       "                <span style=\"color: #008000; text-decoration-color: #008000\">'_type'</span>: <span style=\"color: #008000; text-decoration-color: #008000\">'_doc'</span>,\n",
       "                <span style=\"color: #008000; text-decoration-color: #008000\">'_id'</span>: <span style=\"color: #008000; text-decoration-color: #008000\">'doc_a'</span>,\n",
       "                <span style=\"color: #008000; text-decoration-color: #008000\">'_score'</span>: <span style=\"color: #008080; text-decoration-color: #008080; font-weight: bold\">0.39418244</span>,\n",
       "                <span style=\"color: #008000; text-decoration-color: #008000\">'_source'</span>: <span style=\"font-weight: bold\">{</span>\n",
       "                    <span style=\"color: #008000; text-decoration-color: #008000\">'id'</span>: <span style=\"color: #008000; text-decoration-color: #008000\">'doc_a'</span>,\n",
       "                    <span style=\"color: #008000; text-decoration-color: #008000\">'title'</span>: <span style=\"color: #008000; text-decoration-color: #008000\">'Fox and Hounds'</span>,\n",
       "                    <span style=\"color: #008000; text-decoration-color: #008000\">'body'</span>: <span style=\"color: #008000; text-decoration-color: #008000\">'The quick red fox jumped over the lazy brown dogs.'</span>,\n",
       "                    <span style=\"color: #008000; text-decoration-color: #008000\">'price'</span>: <span style=\"color: #008000; text-decoration-color: #008000\">'5.99'</span>,\n",
       "                    <span style=\"color: #008000; text-decoration-color: #008000\">'in_stock'</span>: <span style=\"color: #00ff00; text-decoration-color: #00ff00; font-style: italic\">True</span>,\n",
       "                    <span style=\"color: #008000; text-decoration-color: #008000\">'category'</span>: <span style=\"color: #008000; text-decoration-color: #008000\">'childrens'</span>\n",
       "                <span style=\"font-weight: bold\">}</span>\n",
       "            <span style=\"font-weight: bold\">}</span>,\n",
       "            <span style=\"font-weight: bold\">{</span>\n",
       "                <span style=\"color: #008000; text-decoration-color: #008000\">'_index'</span>: <span style=\"color: #008000; text-decoration-color: #008000\">'searchml_revisited_custom_mappings'</span>,\n",
       "                <span style=\"color: #008000; text-decoration-color: #008000\">'_type'</span>: <span style=\"color: #008000; text-decoration-color: #008000\">'_doc'</span>,\n",
       "                <span style=\"color: #008000; text-decoration-color: #008000\">'_id'</span>: <span style=\"color: #008000; text-decoration-color: #008000\">'doc_b'</span>,\n",
       "                <span style=\"color: #008000; text-decoration-color: #008000\">'_score'</span>: <span style=\"color: #008080; text-decoration-color: #008080; font-weight: bold\">0.19532394</span>,\n",
       "                <span style=\"color: #008000; text-decoration-color: #008000\">'_source'</span>: <span style=\"font-weight: bold\">{</span>\n",
       "                    <span style=\"color: #008000; text-decoration-color: #008000\">'id'</span>: <span style=\"color: #008000; text-decoration-color: #008000\">'doc_b'</span>,\n",
       "                    <span style=\"color: #008000; text-decoration-color: #008000\">'title'</span>: <span style=\"color: #008000; text-decoration-color: #008000\">'Fox wins championship'</span>,\n",
       "                    <span style=\"color: #008000; text-decoration-color: #008000\">'body'</span>: <span style=\"color: #008000; text-decoration-color: #008000\">'Wearing all red, the Fox jumped out to a lead in the race over </span>\n",
       "<span style=\"color: #008000; text-decoration-color: #008000\">the Dog.'</span>,\n",
       "                    <span style=\"color: #008000; text-decoration-color: #008000\">'price'</span>: <span style=\"color: #008000; text-decoration-color: #008000\">'15.13'</span>,\n",
       "                    <span style=\"color: #008000; text-decoration-color: #008000\">'in_stock'</span>: <span style=\"color: #00ff00; text-decoration-color: #00ff00; font-style: italic\">True</span>,\n",
       "                    <span style=\"color: #008000; text-decoration-color: #008000\">'category'</span>: <span style=\"color: #008000; text-decoration-color: #008000\">'sports'</span>\n",
       "                <span style=\"font-weight: bold\">}</span>\n",
       "            <span style=\"font-weight: bold\">}</span>\n",
       "        <span style=\"font-weight: bold\">]</span>\n",
       "    <span style=\"font-weight: bold\">}</span>\n",
       "<span style=\"font-weight: bold\">}</span>\n",
       "</pre>\n"
      ],
      "text/plain": [
       "\u001b[1m{\u001b[0m\n",
       "    \u001b[32m'took'\u001b[0m: \u001b[1;36m3\u001b[0m,\n",
       "    \u001b[32m'timed_out'\u001b[0m: \u001b[3;91mFalse\u001b[0m,\n",
       "    \u001b[32m'_shards'\u001b[0m: \u001b[1m{\u001b[0m\u001b[32m'total'\u001b[0m: \u001b[1;36m1\u001b[0m, \u001b[32m'successful'\u001b[0m: \u001b[1;36m1\u001b[0m, \u001b[32m'skipped'\u001b[0m: \u001b[1;36m0\u001b[0m, \u001b[32m'failed'\u001b[0m: \u001b[1;36m0\u001b[0m\u001b[1m}\u001b[0m,\n",
       "    \u001b[32m'hits'\u001b[0m: \u001b[1m{\u001b[0m\n",
       "        \u001b[32m'total'\u001b[0m: \u001b[1m{\u001b[0m\u001b[32m'value'\u001b[0m: \u001b[1;36m2\u001b[0m, \u001b[32m'relation'\u001b[0m: \u001b[32m'eq'\u001b[0m\u001b[1m}\u001b[0m,\n",
       "        \u001b[32m'max_score'\u001b[0m: \u001b[1;36m0.39418244\u001b[0m,\n",
       "        \u001b[32m'hits'\u001b[0m: \u001b[1m[\u001b[0m\n",
       "            \u001b[1m{\u001b[0m\n",
       "                \u001b[32m'_index'\u001b[0m: \u001b[32m'searchml_revisited_custom_mappings'\u001b[0m,\n",
       "                \u001b[32m'_type'\u001b[0m: \u001b[32m'_doc'\u001b[0m,\n",
       "                \u001b[32m'_id'\u001b[0m: \u001b[32m'doc_a'\u001b[0m,\n",
       "                \u001b[32m'_score'\u001b[0m: \u001b[1;36m0.39418244\u001b[0m,\n",
       "                \u001b[32m'_source'\u001b[0m: \u001b[1m{\u001b[0m\n",
       "                    \u001b[32m'id'\u001b[0m: \u001b[32m'doc_a'\u001b[0m,\n",
       "                    \u001b[32m'title'\u001b[0m: \u001b[32m'Fox and Hounds'\u001b[0m,\n",
       "                    \u001b[32m'body'\u001b[0m: \u001b[32m'The quick red fox jumped over the lazy brown dogs.'\u001b[0m,\n",
       "                    \u001b[32m'price'\u001b[0m: \u001b[32m'5.99'\u001b[0m,\n",
       "                    \u001b[32m'in_stock'\u001b[0m: \u001b[3;92mTrue\u001b[0m,\n",
       "                    \u001b[32m'category'\u001b[0m: \u001b[32m'childrens'\u001b[0m\n",
       "                \u001b[1m}\u001b[0m\n",
       "            \u001b[1m}\u001b[0m,\n",
       "            \u001b[1m{\u001b[0m\n",
       "                \u001b[32m'_index'\u001b[0m: \u001b[32m'searchml_revisited_custom_mappings'\u001b[0m,\n",
       "                \u001b[32m'_type'\u001b[0m: \u001b[32m'_doc'\u001b[0m,\n",
       "                \u001b[32m'_id'\u001b[0m: \u001b[32m'doc_b'\u001b[0m,\n",
       "                \u001b[32m'_score'\u001b[0m: \u001b[1;36m0.19532394\u001b[0m,\n",
       "                \u001b[32m'_source'\u001b[0m: \u001b[1m{\u001b[0m\n",
       "                    \u001b[32m'id'\u001b[0m: \u001b[32m'doc_b'\u001b[0m,\n",
       "                    \u001b[32m'title'\u001b[0m: \u001b[32m'Fox wins championship'\u001b[0m,\n",
       "                    \u001b[32m'body'\u001b[0m: \u001b[32m'Wearing all red, the Fox jumped out to a lead in the race over \u001b[0m\n",
       "\u001b[32mthe Dog.'\u001b[0m,\n",
       "                    \u001b[32m'price'\u001b[0m: \u001b[32m'15.13'\u001b[0m,\n",
       "                    \u001b[32m'in_stock'\u001b[0m: \u001b[3;92mTrue\u001b[0m,\n",
       "                    \u001b[32m'category'\u001b[0m: \u001b[32m'sports'\u001b[0m\n",
       "                \u001b[1m}\u001b[0m\n",
       "            \u001b[1m}\u001b[0m\n",
       "        \u001b[1m]\u001b[0m\n",
       "    \u001b[1m}\u001b[0m\n",
       "\u001b[1m}\u001b[0m\n"
      ]
     },
     "metadata": {},
     "output_type": "display_data"
    }
   ],
   "source": [
    "# find all documents where the terms “fox” and “dog” occur \n",
    "# within 10 positions of each other.\n",
    "q='fox dog'\n",
    "index_name='searchml_revisited_custom_mappings'\n",
    "query={\n",
    "    'size': 5,\n",
    "    'query': {\n",
    "        'match_phrase': {\n",
    "            'body': {'query': q, 'slop': 10} # phrase query with slop\n",
    "        }\n",
    "    }\n",
    "}\n",
    "resp = cli.search(body=query, index=index_name); rprint(resp)"
   ]
  },
  {
   "cell_type": "code",
   "execution_count": 37,
   "metadata": {},
   "outputs": [],
   "source": [
    "# phrase queries requiring the tokens fox and dog occur next to each other, hence 0 results\n",
    "test_eq(resp['hits']['total']['value'] > 0, True)"
   ]
  },
  {
   "cell_type": "markdown",
   "metadata": {},
   "source": [
    "- Filter queries are non-scoring queries that reduce the result set by simply determining what documents match the filter query, and function queries use the values within a field as a scoring feature.\n",
    "- Function queries allow us to do things like boost documents based on some external value like price, inventory or popularity."
   ]
  },
  {
   "cell_type": "code",
   "execution_count": 42,
   "metadata": {},
   "outputs": [
    {
     "data": {
      "text/plain": [
       "{'took': 3,\n",
       " 'timed_out': False,\n",
       " '_shards': {'total': 1, 'successful': 1, 'skipped': 0, 'failed': 0},\n",
       " 'hits': {'total': {'value': 2, 'relation': 'eq'},\n",
       "  'max_score': 5.99,\n",
       "  'hits': [{'_index': 'searchml_revisited_custom_mappings',\n",
       "    '_type': '_doc',\n",
       "    '_id': 'doc_a',\n",
       "    '_score': 5.99,\n",
       "    '_source': {'id': 'doc_a',\n",
       "     'title': 'Fox and Hounds',\n",
       "     'body': 'The quick red fox jumped over the lazy brown dogs.',\n",
       "     'price': '5.99',\n",
       "     'in_stock': True,\n",
       "     'category': 'childrens'}},\n",
       "   {'_index': 'searchml_revisited_custom_mappings',\n",
       "    '_type': '_doc',\n",
       "    '_id': 'doc_d',\n",
       "    '_score': 3.51,\n",
       "    '_source': {'id': 'doc_d',\n",
       "     'title': 'The Three Little Pigs Revisted',\n",
       "     'price': '3.51',\n",
       "     'in_stock': True,\n",
       "     'body': 'The big, bad wolf huffed and puffed and blew the house down. The end.',\n",
       "     'category': 'childrens'}}]}}"
      ]
     },
     "execution_count": 42,
     "metadata": {},
     "output_type": "execute_result"
    }
   ],
   "source": [
    "#  Filter queries are non-scoring queries that reduce the result set by simply determining what documents match the filter query, \n",
    "#  and function queries use the values within a field as a scoring feature. \n",
    "query = {\n",
    "    'size': 5,\n",
    "    'query': {\n",
    "        \"function_score\": {\n",
    "            \"query\": {\n",
    "                # non-scoring queries\n",
    "                \"bool\": {\n",
    "                    \"must\": [\n",
    "                        {\"match_all\": {}}\n",
    "                    ],\n",
    "                    \"filter\": [\n",
    "                        {\"term\": {\"category\": \"childrens\"}}\n",
    "                    ]\n",
    "                }\n",
    "            },\n",
    "            \"field_value_factor\": {\n",
    "                \"field\": \"price\",\n",
    "                \"missing\": 1\n",
    "            }\n",
    "        }\n",
    "    }\n",
    "}\n",
    "resp =cli.search(body=query, index=index_name); resp"
   ]
  },
  {
   "cell_type": "code",
   "execution_count": 47,
   "metadata": {},
   "outputs": [],
   "source": [
    "doc=resp['hits']['hits'][0]\n",
    "test_eq(str(doc['_score']) == doc['_source']['price'], True)"
   ]
  },
  {
   "cell_type": "markdown",
   "metadata": {},
   "source": [
    "👀 Aside: If you only need a field for ranking, you might consider using the [Rank Feature](https://www.elastic.co/guide/en/elasticsearch/reference/7.10/query-dsl-rank-feature-query.html) field and query for improved performance.\n",
    "\n",
    "Boosts the relevance score of documents based on the numeric value of a rank_feature or rank_features field.\n",
    "\n",
    "The rank_feature query is typically used in the should clause of a bool query so its relevance scores are added to other scores from the bool query."
   ]
  },
  {
   "cell_type": "markdown",
   "metadata": {},
   "source": [
    "[Elastic query DSL](https://www.elastic.co/guide/en/elasticsearch/reference/7.10/query-dsl.html): queries are [composable](https://www.elastic.co/guide/en/elasticsearch/reference/7.10/compound-queries.html) in many places! That is, you can often build a more sophisticated query by adding and grouping different types of queries via things like the [“bool”](https://www.elastic.co/guide/en/elasticsearch/reference/7.10/query-dsl-bool-query.html) query. You can also mix and match many of the other query types like geo, shapes, spans, and terms!"
   ]
  },
  {
   "cell_type": "markdown",
   "metadata": {},
   "source": [
    "## Aggregations\n",
    "\n",
    "- https://www.elastic.co/guide/en/elasticsearch/reference/7.10/search-aggregations.html\n",
    "\n",
    "- Metric aggregations that calculate metrics, such as a sum or average, from field values.\n",
    "- Bucket aggregations that group documents into buckets, also called bins, based on field values, ranges, or other criteria.\n",
    "- Pipeline aggregations that take input from other aggregations instead of documents or fields.\n",
    "\n",
    "[bucketing/counting](https://opensearch.org/docs/latest/opensearch/bucket-agg/) of fields"
   ]
  },
  {
   "cell_type": "code",
   "execution_count": 50,
   "metadata": {},
   "outputs": [
    {
     "data": {
      "text/html": [
       "<pre style=\"white-space:pre;overflow-x:auto;line-height:normal;font-family:Menlo,'DejaVu Sans Mono',consolas,'Courier New',monospace\"><span style=\"font-weight: bold\">{</span>\n",
       "    <span style=\"color: #008000; text-decoration-color: #008000\">'took'</span>: <span style=\"color: #008080; text-decoration-color: #008080; font-weight: bold\">17</span>,\n",
       "    <span style=\"color: #008000; text-decoration-color: #008000\">'timed_out'</span>: <span style=\"color: #ff0000; text-decoration-color: #ff0000; font-style: italic\">False</span>,\n",
       "    <span style=\"color: #008000; text-decoration-color: #008000\">'_shards'</span>: <span style=\"font-weight: bold\">{</span><span style=\"color: #008000; text-decoration-color: #008000\">'total'</span>: <span style=\"color: #008080; text-decoration-color: #008080; font-weight: bold\">1</span>, <span style=\"color: #008000; text-decoration-color: #008000\">'successful'</span>: <span style=\"color: #008080; text-decoration-color: #008080; font-weight: bold\">1</span>, <span style=\"color: #008000; text-decoration-color: #008000\">'skipped'</span>: <span style=\"color: #008080; text-decoration-color: #008080; font-weight: bold\">0</span>, <span style=\"color: #008000; text-decoration-color: #008000\">'failed'</span>: <span style=\"color: #008080; text-decoration-color: #008080; font-weight: bold\">0</span><span style=\"font-weight: bold\">}</span>,\n",
       "    <span style=\"color: #008000; text-decoration-color: #008000\">'hits'</span>: <span style=\"font-weight: bold\">{</span><span style=\"color: #008000; text-decoration-color: #008000\">'total'</span>: <span style=\"font-weight: bold\">{</span><span style=\"color: #008000; text-decoration-color: #008000\">'value'</span>: <span style=\"color: #008080; text-decoration-color: #008080; font-weight: bold\">4</span>, <span style=\"color: #008000; text-decoration-color: #008000\">'relation'</span>: <span style=\"color: #008000; text-decoration-color: #008000\">'eq'</span><span style=\"font-weight: bold\">}</span>, <span style=\"color: #008000; text-decoration-color: #008000\">'max_score'</span>: <span style=\"color: #800080; text-decoration-color: #800080; font-style: italic\">None</span>, <span style=\"color: #008000; text-decoration-color: #008000\">'hits'</span>: <span style=\"font-weight: bold\">[]}</span>,\n",
       "    <span style=\"color: #008000; text-decoration-color: #008000\">'aggregations'</span>: <span style=\"font-weight: bold\">{</span>\n",
       "        <span style=\"color: #008000; text-decoration-color: #008000\">'category'</span>: <span style=\"font-weight: bold\">{</span>\n",
       "            <span style=\"color: #008000; text-decoration-color: #008000\">'doc_count_error_upper_bound'</span>: <span style=\"color: #008080; text-decoration-color: #008080; font-weight: bold\">0</span>,\n",
       "            <span style=\"color: #008000; text-decoration-color: #008000\">'sum_other_doc_count'</span>: <span style=\"color: #008080; text-decoration-color: #008080; font-weight: bold\">0</span>,\n",
       "            <span style=\"color: #008000; text-decoration-color: #008000\">'buckets'</span>: <span style=\"font-weight: bold\">[</span>\n",
       "                <span style=\"font-weight: bold\">{</span><span style=\"color: #008000; text-decoration-color: #008000\">'key'</span>: <span style=\"color: #008000; text-decoration-color: #008000\">'childrens'</span>, <span style=\"color: #008000; text-decoration-color: #008000\">'doc_count'</span>: <span style=\"color: #008080; text-decoration-color: #008080; font-weight: bold\">2</span><span style=\"font-weight: bold\">}</span>,\n",
       "                <span style=\"font-weight: bold\">{</span><span style=\"color: #008000; text-decoration-color: #008000\">'key'</span>: <span style=\"color: #008000; text-decoration-color: #008000\">'instructional'</span>, <span style=\"color: #008000; text-decoration-color: #008000\">'doc_count'</span>: <span style=\"color: #008080; text-decoration-color: #008080; font-weight: bold\">1</span><span style=\"font-weight: bold\">}</span>,\n",
       "                <span style=\"font-weight: bold\">{</span><span style=\"color: #008000; text-decoration-color: #008000\">'key'</span>: <span style=\"color: #008000; text-decoration-color: #008000\">'sports'</span>, <span style=\"color: #008000; text-decoration-color: #008000\">'doc_count'</span>: <span style=\"color: #008080; text-decoration-color: #008080; font-weight: bold\">1</span><span style=\"font-weight: bold\">}</span>,\n",
       "                <span style=\"font-weight: bold\">{</span><span style=\"color: #008000; text-decoration-color: #008000\">'key'</span>: <span style=\"color: #008000; text-decoration-color: #008000\">'N/A'</span>, <span style=\"color: #008000; text-decoration-color: #008000\">'doc_count'</span>: <span style=\"color: #008080; text-decoration-color: #008080; font-weight: bold\">0</span><span style=\"font-weight: bold\">}</span>\n",
       "            <span style=\"font-weight: bold\">]</span>\n",
       "        <span style=\"font-weight: bold\">}</span>\n",
       "    <span style=\"font-weight: bold\">}</span>\n",
       "<span style=\"font-weight: bold\">}</span>\n",
       "</pre>\n"
      ],
      "text/plain": [
       "\u001b[1m{\u001b[0m\n",
       "    \u001b[32m'took'\u001b[0m: \u001b[1;36m17\u001b[0m,\n",
       "    \u001b[32m'timed_out'\u001b[0m: \u001b[3;91mFalse\u001b[0m,\n",
       "    \u001b[32m'_shards'\u001b[0m: \u001b[1m{\u001b[0m\u001b[32m'total'\u001b[0m: \u001b[1;36m1\u001b[0m, \u001b[32m'successful'\u001b[0m: \u001b[1;36m1\u001b[0m, \u001b[32m'skipped'\u001b[0m: \u001b[1;36m0\u001b[0m, \u001b[32m'failed'\u001b[0m: \u001b[1;36m0\u001b[0m\u001b[1m}\u001b[0m,\n",
       "    \u001b[32m'hits'\u001b[0m: \u001b[1m{\u001b[0m\u001b[32m'total'\u001b[0m: \u001b[1m{\u001b[0m\u001b[32m'value'\u001b[0m: \u001b[1;36m4\u001b[0m, \u001b[32m'relation'\u001b[0m: \u001b[32m'eq'\u001b[0m\u001b[1m}\u001b[0m, \u001b[32m'max_score'\u001b[0m: \u001b[3;35mNone\u001b[0m, \u001b[32m'hits'\u001b[0m: \u001b[1m[\u001b[0m\u001b[1m]\u001b[0m\u001b[1m}\u001b[0m,\n",
       "    \u001b[32m'aggregations'\u001b[0m: \u001b[1m{\u001b[0m\n",
       "        \u001b[32m'category'\u001b[0m: \u001b[1m{\u001b[0m\n",
       "            \u001b[32m'doc_count_error_upper_bound'\u001b[0m: \u001b[1;36m0\u001b[0m,\n",
       "            \u001b[32m'sum_other_doc_count'\u001b[0m: \u001b[1;36m0\u001b[0m,\n",
       "            \u001b[32m'buckets'\u001b[0m: \u001b[1m[\u001b[0m\n",
       "                \u001b[1m{\u001b[0m\u001b[32m'key'\u001b[0m: \u001b[32m'childrens'\u001b[0m, \u001b[32m'doc_count'\u001b[0m: \u001b[1;36m2\u001b[0m\u001b[1m}\u001b[0m,\n",
       "                \u001b[1m{\u001b[0m\u001b[32m'key'\u001b[0m: \u001b[32m'instructional'\u001b[0m, \u001b[32m'doc_count'\u001b[0m: \u001b[1;36m1\u001b[0m\u001b[1m}\u001b[0m,\n",
       "                \u001b[1m{\u001b[0m\u001b[32m'key'\u001b[0m: \u001b[32m'sports'\u001b[0m, \u001b[32m'doc_count'\u001b[0m: \u001b[1;36m1\u001b[0m\u001b[1m}\u001b[0m,\n",
       "                \u001b[1m{\u001b[0m\u001b[32m'key'\u001b[0m: \u001b[32m'N/A'\u001b[0m, \u001b[32m'doc_count'\u001b[0m: \u001b[1;36m0\u001b[0m\u001b[1m}\u001b[0m\n",
       "            \u001b[1m]\u001b[0m\n",
       "        \u001b[1m}\u001b[0m\n",
       "    \u001b[1m}\u001b[0m\n",
       "\u001b[1m}\u001b[0m\n"
      ]
     },
     "metadata": {},
     "output_type": "display_data"
    }
   ],
   "source": [
    "query={\n",
    "    'size': 0, # do not return any hits\n",
    "    'query': {\n",
    "        'match_all': {} # aggregations will be calculated over all documents\n",
    "    },\n",
    "    'aggs': {\n",
    "        'category': {\n",
    "            'terms': { # create an aggregation for each unique term\n",
    "                'field': 'category',\n",
    "                'size': 10,\n",
    "                'missing': 'N/A', # determine # of docs that don't have value set for this field\n",
    "                'min_doc_count': 0\n",
    "            }\n",
    "        }\n",
    "    }\n",
    "}\n",
    "resp=cli.search(body=query, index=index_name);rprint(resp)"
   ]
  },
  {
   "cell_type": "code",
   "execution_count": 52,
   "metadata": {},
   "outputs": [
    {
     "data": {
      "text/html": [
       "<pre style=\"white-space:pre;overflow-x:auto;line-height:normal;font-family:Menlo,'DejaVu Sans Mono',consolas,'Courier New',monospace\"><span style=\"font-weight: bold\">{</span>\n",
       "    <span style=\"color: #008000; text-decoration-color: #008000\">'took'</span>: <span style=\"color: #008080; text-decoration-color: #008080; font-weight: bold\">3</span>,\n",
       "    <span style=\"color: #008000; text-decoration-color: #008000\">'timed_out'</span>: <span style=\"color: #ff0000; text-decoration-color: #ff0000; font-style: italic\">False</span>,\n",
       "    <span style=\"color: #008000; text-decoration-color: #008000\">'_shards'</span>: <span style=\"font-weight: bold\">{</span><span style=\"color: #008000; text-decoration-color: #008000\">'total'</span>: <span style=\"color: #008080; text-decoration-color: #008080; font-weight: bold\">1</span>, <span style=\"color: #008000; text-decoration-color: #008000\">'successful'</span>: <span style=\"color: #008080; text-decoration-color: #008080; font-weight: bold\">1</span>, <span style=\"color: #008000; text-decoration-color: #008000\">'skipped'</span>: <span style=\"color: #008080; text-decoration-color: #008080; font-weight: bold\">0</span>, <span style=\"color: #008000; text-decoration-color: #008000\">'failed'</span>: <span style=\"color: #008080; text-decoration-color: #008080; font-weight: bold\">0</span><span style=\"font-weight: bold\">}</span>,\n",
       "    <span style=\"color: #008000; text-decoration-color: #008000\">'hits'</span>: <span style=\"font-weight: bold\">{</span><span style=\"color: #008000; text-decoration-color: #008000\">'total'</span>: <span style=\"font-weight: bold\">{</span><span style=\"color: #008000; text-decoration-color: #008000\">'value'</span>: <span style=\"color: #008080; text-decoration-color: #008080; font-weight: bold\">4</span>, <span style=\"color: #008000; text-decoration-color: #008000\">'relation'</span>: <span style=\"color: #008000; text-decoration-color: #008000\">'eq'</span><span style=\"font-weight: bold\">}</span>, <span style=\"color: #008000; text-decoration-color: #008000\">'max_score'</span>: <span style=\"color: #800080; text-decoration-color: #800080; font-style: italic\">None</span>, <span style=\"color: #008000; text-decoration-color: #008000\">'hits'</span>: <span style=\"font-weight: bold\">[]}</span>,\n",
       "    <span style=\"color: #008000; text-decoration-color: #008000\">'aggregations'</span>: <span style=\"font-weight: bold\">{</span>\n",
       "        <span style=\"color: #008000; text-decoration-color: #008000\">'price'</span>: <span style=\"font-weight: bold\">{</span>\n",
       "            <span style=\"color: #008000; text-decoration-color: #008000\">'doc_count_error_upper_bound'</span>: <span style=\"color: #008080; text-decoration-color: #008080; font-weight: bold\">0</span>,\n",
       "            <span style=\"color: #008000; text-decoration-color: #008000\">'sum_other_doc_count'</span>: <span style=\"color: #008080; text-decoration-color: #008080; font-weight: bold\">0</span>,\n",
       "            <span style=\"color: #008000; text-decoration-color: #008000\">'buckets'</span>: <span style=\"font-weight: bold\">[</span>\n",
       "                <span style=\"font-weight: bold\">{</span><span style=\"color: #008000; text-decoration-color: #008000\">'key'</span>: <span style=\"color: #008080; text-decoration-color: #008080; font-weight: bold\">3.509999990463257</span>, <span style=\"color: #008000; text-decoration-color: #008000\">'doc_count'</span>: <span style=\"color: #008080; text-decoration-color: #008080; font-weight: bold\">1</span><span style=\"font-weight: bold\">}</span>,\n",
       "                <span style=\"font-weight: bold\">{</span><span style=\"color: #008000; text-decoration-color: #008000\">'key'</span>: <span style=\"color: #008080; text-decoration-color: #008080; font-weight: bold\">5.989999771118164</span>, <span style=\"color: #008000; text-decoration-color: #008000\">'doc_count'</span>: <span style=\"color: #008080; text-decoration-color: #008080; font-weight: bold\">1</span><span style=\"font-weight: bold\">}</span>,\n",
       "                <span style=\"font-weight: bold\">{</span><span style=\"color: #008000; text-decoration-color: #008000\">'key'</span>: <span style=\"color: #008080; text-decoration-color: #008080; font-weight: bold\">15.130000114440918</span>, <span style=\"color: #008000; text-decoration-color: #008000\">'doc_count'</span>: <span style=\"color: #008080; text-decoration-color: #008080; font-weight: bold\">1</span><span style=\"font-weight: bold\">}</span>,\n",
       "                <span style=\"font-weight: bold\">{</span><span style=\"color: #008000; text-decoration-color: #008000\">'key'</span>: <span style=\"color: #008080; text-decoration-color: #008080; font-weight: bold\">150.2100067138672</span>, <span style=\"color: #008000; text-decoration-color: #008000\">'doc_count'</span>: <span style=\"color: #008080; text-decoration-color: #008080; font-weight: bold\">1</span><span style=\"font-weight: bold\">}</span>\n",
       "            <span style=\"font-weight: bold\">]</span>\n",
       "        <span style=\"font-weight: bold\">}</span>\n",
       "    <span style=\"font-weight: bold\">}</span>\n",
       "<span style=\"font-weight: bold\">}</span>\n",
       "</pre>\n"
      ],
      "text/plain": [
       "\u001b[1m{\u001b[0m\n",
       "    \u001b[32m'took'\u001b[0m: \u001b[1;36m3\u001b[0m,\n",
       "    \u001b[32m'timed_out'\u001b[0m: \u001b[3;91mFalse\u001b[0m,\n",
       "    \u001b[32m'_shards'\u001b[0m: \u001b[1m{\u001b[0m\u001b[32m'total'\u001b[0m: \u001b[1;36m1\u001b[0m, \u001b[32m'successful'\u001b[0m: \u001b[1;36m1\u001b[0m, \u001b[32m'skipped'\u001b[0m: \u001b[1;36m0\u001b[0m, \u001b[32m'failed'\u001b[0m: \u001b[1;36m0\u001b[0m\u001b[1m}\u001b[0m,\n",
       "    \u001b[32m'hits'\u001b[0m: \u001b[1m{\u001b[0m\u001b[32m'total'\u001b[0m: \u001b[1m{\u001b[0m\u001b[32m'value'\u001b[0m: \u001b[1;36m4\u001b[0m, \u001b[32m'relation'\u001b[0m: \u001b[32m'eq'\u001b[0m\u001b[1m}\u001b[0m, \u001b[32m'max_score'\u001b[0m: \u001b[3;35mNone\u001b[0m, \u001b[32m'hits'\u001b[0m: \u001b[1m[\u001b[0m\u001b[1m]\u001b[0m\u001b[1m}\u001b[0m,\n",
       "    \u001b[32m'aggregations'\u001b[0m: \u001b[1m{\u001b[0m\n",
       "        \u001b[32m'price'\u001b[0m: \u001b[1m{\u001b[0m\n",
       "            \u001b[32m'doc_count_error_upper_bound'\u001b[0m: \u001b[1;36m0\u001b[0m,\n",
       "            \u001b[32m'sum_other_doc_count'\u001b[0m: \u001b[1;36m0\u001b[0m,\n",
       "            \u001b[32m'buckets'\u001b[0m: \u001b[1m[\u001b[0m\n",
       "                \u001b[1m{\u001b[0m\u001b[32m'key'\u001b[0m: \u001b[1;36m3.509999990463257\u001b[0m, \u001b[32m'doc_count'\u001b[0m: \u001b[1;36m1\u001b[0m\u001b[1m}\u001b[0m,\n",
       "                \u001b[1m{\u001b[0m\u001b[32m'key'\u001b[0m: \u001b[1;36m5.989999771118164\u001b[0m, \u001b[32m'doc_count'\u001b[0m: \u001b[1;36m1\u001b[0m\u001b[1m}\u001b[0m,\n",
       "                \u001b[1m{\u001b[0m\u001b[32m'key'\u001b[0m: \u001b[1;36m15.130000114440918\u001b[0m, \u001b[32m'doc_count'\u001b[0m: \u001b[1;36m1\u001b[0m\u001b[1m}\u001b[0m,\n",
       "                \u001b[1m{\u001b[0m\u001b[32m'key'\u001b[0m: \u001b[1;36m150.2100067138672\u001b[0m, \u001b[32m'doc_count'\u001b[0m: \u001b[1;36m1\u001b[0m\u001b[1m}\u001b[0m\n",
       "            \u001b[1m]\u001b[0m\n",
       "        \u001b[1m}\u001b[0m\n",
       "    \u001b[1m}\u001b[0m\n",
       "\u001b[1m}\u001b[0m\n"
      ]
     },
     "metadata": {},
     "output_type": "display_data"
    }
   ],
   "source": [
    "# aggregate the price field\n",
    "query = {\n",
    "    'size': 0,\n",
    "    'query': {\n",
    "        'match_all': {}\n",
    "    },\n",
    "    'aggs': {\n",
    "        'price': {\n",
    "            'terms': {\n",
    "                'field': 'price',\n",
    "                'size': 10,\n",
    "                'min_doc_count': 0\n",
    "            }\n",
    "        }\n",
    "    }\n",
    "}\n",
    "resp=cli.search(body=query, index=index_name);rprint(resp)"
   ]
  },
  {
   "cell_type": "markdown",
   "metadata": {},
   "source": [
    "Terms aggregation on a field like prices is not helpful. But instead let's use [range aggregation](https://opensearch.org/docs/latest/opensearch/bucket-agg/#range-date_range-ip_range)."
   ]
  },
  {
   "cell_type": "code",
   "execution_count": 53,
   "metadata": {},
   "outputs": [
    {
     "data": {
      "text/html": [
       "<pre style=\"white-space:pre;overflow-x:auto;line-height:normal;font-family:Menlo,'DejaVu Sans Mono',consolas,'Courier New',monospace\"><span style=\"font-weight: bold\">{</span>\n",
       "    <span style=\"color: #008000; text-decoration-color: #008000\">'took'</span>: <span style=\"color: #008080; text-decoration-color: #008080; font-weight: bold\">5</span>,\n",
       "    <span style=\"color: #008000; text-decoration-color: #008000\">'timed_out'</span>: <span style=\"color: #ff0000; text-decoration-color: #ff0000; font-style: italic\">False</span>,\n",
       "    <span style=\"color: #008000; text-decoration-color: #008000\">'_shards'</span>: <span style=\"font-weight: bold\">{</span><span style=\"color: #008000; text-decoration-color: #008000\">'total'</span>: <span style=\"color: #008080; text-decoration-color: #008080; font-weight: bold\">1</span>, <span style=\"color: #008000; text-decoration-color: #008000\">'successful'</span>: <span style=\"color: #008080; text-decoration-color: #008080; font-weight: bold\">1</span>, <span style=\"color: #008000; text-decoration-color: #008000\">'skipped'</span>: <span style=\"color: #008080; text-decoration-color: #008080; font-weight: bold\">0</span>, <span style=\"color: #008000; text-decoration-color: #008000\">'failed'</span>: <span style=\"color: #008080; text-decoration-color: #008080; font-weight: bold\">0</span><span style=\"font-weight: bold\">}</span>,\n",
       "    <span style=\"color: #008000; text-decoration-color: #008000\">'hits'</span>: <span style=\"font-weight: bold\">{</span><span style=\"color: #008000; text-decoration-color: #008000\">'total'</span>: <span style=\"font-weight: bold\">{</span><span style=\"color: #008000; text-decoration-color: #008000\">'value'</span>: <span style=\"color: #008080; text-decoration-color: #008080; font-weight: bold\">4</span>, <span style=\"color: #008000; text-decoration-color: #008000\">'relation'</span>: <span style=\"color: #008000; text-decoration-color: #008000\">'eq'</span><span style=\"font-weight: bold\">}</span>, <span style=\"color: #008000; text-decoration-color: #008000\">'max_score'</span>: <span style=\"color: #800080; text-decoration-color: #800080; font-style: italic\">None</span>, <span style=\"color: #008000; text-decoration-color: #008000\">'hits'</span>: <span style=\"font-weight: bold\">[]}</span>,\n",
       "    <span style=\"color: #008000; text-decoration-color: #008000\">'aggregations'</span>: <span style=\"font-weight: bold\">{</span>\n",
       "        <span style=\"color: #008000; text-decoration-color: #008000\">'price'</span>: <span style=\"font-weight: bold\">{</span>\n",
       "            <span style=\"color: #008000; text-decoration-color: #008000\">'buckets'</span>: <span style=\"font-weight: bold\">[</span>\n",
       "                <span style=\"font-weight: bold\">{</span><span style=\"color: #008000; text-decoration-color: #008000\">'key'</span>: <span style=\"color: #008000; text-decoration-color: #008000\">'*-5.0'</span>, <span style=\"color: #008000; text-decoration-color: #008000\">'to'</span>: <span style=\"color: #008080; text-decoration-color: #008080; font-weight: bold\">5.0</span>, <span style=\"color: #008000; text-decoration-color: #008000\">'doc_count'</span>: <span style=\"color: #008080; text-decoration-color: #008080; font-weight: bold\">1</span><span style=\"font-weight: bold\">}</span>,\n",
       "                <span style=\"font-weight: bold\">{</span><span style=\"color: #008000; text-decoration-color: #008000\">'key'</span>: <span style=\"color: #008000; text-decoration-color: #008000\">'5.0-20.0'</span>, <span style=\"color: #008000; text-decoration-color: #008000\">'from'</span>: <span style=\"color: #008080; text-decoration-color: #008080; font-weight: bold\">5.0</span>, <span style=\"color: #008000; text-decoration-color: #008000\">'to'</span>: <span style=\"color: #008080; text-decoration-color: #008080; font-weight: bold\">20.0</span>, <span style=\"color: #008000; text-decoration-color: #008000\">'doc_count'</span>: <span style=\"color: #008080; text-decoration-color: #008080; font-weight: bold\">2</span><span style=\"font-weight: bold\">}</span>,\n",
       "                <span style=\"font-weight: bold\">{</span><span style=\"color: #008000; text-decoration-color: #008000\">'key'</span>: <span style=\"color: #008000; text-decoration-color: #008000\">'20.0-*'</span>, <span style=\"color: #008000; text-decoration-color: #008000\">'from'</span>: <span style=\"color: #008080; text-decoration-color: #008080; font-weight: bold\">20.0</span>, <span style=\"color: #008000; text-decoration-color: #008000\">'doc_count'</span>: <span style=\"color: #008080; text-decoration-color: #008080; font-weight: bold\">1</span><span style=\"font-weight: bold\">}</span>\n",
       "            <span style=\"font-weight: bold\">]</span>\n",
       "        <span style=\"font-weight: bold\">}</span>\n",
       "    <span style=\"font-weight: bold\">}</span>\n",
       "<span style=\"font-weight: bold\">}</span>\n",
       "</pre>\n"
      ],
      "text/plain": [
       "\u001b[1m{\u001b[0m\n",
       "    \u001b[32m'took'\u001b[0m: \u001b[1;36m5\u001b[0m,\n",
       "    \u001b[32m'timed_out'\u001b[0m: \u001b[3;91mFalse\u001b[0m,\n",
       "    \u001b[32m'_shards'\u001b[0m: \u001b[1m{\u001b[0m\u001b[32m'total'\u001b[0m: \u001b[1;36m1\u001b[0m, \u001b[32m'successful'\u001b[0m: \u001b[1;36m1\u001b[0m, \u001b[32m'skipped'\u001b[0m: \u001b[1;36m0\u001b[0m, \u001b[32m'failed'\u001b[0m: \u001b[1;36m0\u001b[0m\u001b[1m}\u001b[0m,\n",
       "    \u001b[32m'hits'\u001b[0m: \u001b[1m{\u001b[0m\u001b[32m'total'\u001b[0m: \u001b[1m{\u001b[0m\u001b[32m'value'\u001b[0m: \u001b[1;36m4\u001b[0m, \u001b[32m'relation'\u001b[0m: \u001b[32m'eq'\u001b[0m\u001b[1m}\u001b[0m, \u001b[32m'max_score'\u001b[0m: \u001b[3;35mNone\u001b[0m, \u001b[32m'hits'\u001b[0m: \u001b[1m[\u001b[0m\u001b[1m]\u001b[0m\u001b[1m}\u001b[0m,\n",
       "    \u001b[32m'aggregations'\u001b[0m: \u001b[1m{\u001b[0m\n",
       "        \u001b[32m'price'\u001b[0m: \u001b[1m{\u001b[0m\n",
       "            \u001b[32m'buckets'\u001b[0m: \u001b[1m[\u001b[0m\n",
       "                \u001b[1m{\u001b[0m\u001b[32m'key'\u001b[0m: \u001b[32m'*-5.0'\u001b[0m, \u001b[32m'to'\u001b[0m: \u001b[1;36m5.0\u001b[0m, \u001b[32m'doc_count'\u001b[0m: \u001b[1;36m1\u001b[0m\u001b[1m}\u001b[0m,\n",
       "                \u001b[1m{\u001b[0m\u001b[32m'key'\u001b[0m: \u001b[32m'5.0-20.0'\u001b[0m, \u001b[32m'from'\u001b[0m: \u001b[1;36m5.0\u001b[0m, \u001b[32m'to'\u001b[0m: \u001b[1;36m20.0\u001b[0m, \u001b[32m'doc_count'\u001b[0m: \u001b[1;36m2\u001b[0m\u001b[1m}\u001b[0m,\n",
       "                \u001b[1m{\u001b[0m\u001b[32m'key'\u001b[0m: \u001b[32m'20.0-*'\u001b[0m, \u001b[32m'from'\u001b[0m: \u001b[1;36m20.0\u001b[0m, \u001b[32m'doc_count'\u001b[0m: \u001b[1;36m1\u001b[0m\u001b[1m}\u001b[0m\n",
       "            \u001b[1m]\u001b[0m\n",
       "        \u001b[1m}\u001b[0m\n",
       "    \u001b[1m}\u001b[0m\n",
       "\u001b[1m}\u001b[0m\n"
      ]
     },
     "metadata": {},
     "output_type": "display_data"
    }
   ],
   "source": [
    "# aggregate the price field\n",
    "query = {\n",
    "    'size': 0,\n",
    "    'query': {\n",
    "        'match_all': {}\n",
    "    },\n",
    "    'aggs': {\n",
    "        'price': {\n",
    "            'range': {\n",
    "                'field': 'price',\n",
    "                'ranges': [\n",
    "                    {'to': 5},\n",
    "                    {'from': 5, 'to': 20},\n",
    "                    {'from': 20}\n",
    "                ]\n",
    "            }\n",
    "        }\n",
    "    }\n",
    "}\n",
    "resp=cli.search(body=query, index=index_name);rprint(resp)"
   ]
  },
  {
   "cell_type": "markdown",
   "metadata": {},
   "source": [
    "HW\n",
    "- Add in some of your own “multi-fields” to index the content in different ways using the Field Mapping settings\n",
    "- Index some different data types that we didn’t try out, such as latitude and longitude. How would you model searching what stores have what books in our data type?\n",
    "- Try out some more sophisticated queries that combine several different query types, filters and aggregations."
   ]
  }
 ],
 "metadata": {
  "interpreter": {
   "hash": "e8c4e66e245f6923e776f370263c8e5d4c1fe686dc46ca7e6724f1c7d5d473d5"
  },
  "kernelspec": {
   "display_name": "Python 3.9.7 64-bit ('search_with_ml_opensearch')",
   "language": "python",
   "name": "python3"
  },
  "language_info": {
   "codemirror_mode": {
    "name": "ipython",
    "version": 3
   },
   "file_extension": ".py",
   "mimetype": "text/x-python",
   "name": "python",
   "nbconvert_exporter": "python",
   "pygments_lexer": "ipython3",
   "version": "3.9.7"
  },
  "orig_nbformat": 4
 },
 "nbformat": 4,
 "nbformat_minor": 2
}
