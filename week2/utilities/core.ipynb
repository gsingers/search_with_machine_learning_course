{
 "cells": [
  {
   "cell_type": "markdown",
   "id": "908e90f4-365e-4d8f-868d-9cf20fe93082",
   "metadata": {},
   "source": [
    "## Step 3: Try out a few commands "
   ]
  },
  {
   "cell_type": "code",
   "execution_count": 1,
   "id": "456ef55a-5202-4a69-afac-a67cfd893497",
   "metadata": {
    "tags": []
   },
   "outputs": [],
   "source": [
    "#!python utilities/build_ltr.py -h"
   ]
  },
  {
   "cell_type": "code",
   "execution_count": 2,
   "id": "1caa2937-b6fe-4b63-bf0e-e6ee36e9eaa5",
   "metadata": {},
   "outputs": [],
   "source": [
    "# For every click associated with 'canon rebel' retrieve the doc from opensearch and display \n",
    "#!python utilities/build_ltr.py --lookup_query \"canon rebel\" --all_clicks /workspace/datasets/train.csv > canon_rebel.out"
   ]
  },
  {
   "cell_type": "code",
   "execution_count": 3,
   "id": "c75c4aa9-3bb6-4838-92cf-53b9a610a8f6",
   "metadata": {
    "tags": []
   },
   "outputs": [],
   "source": [
    "# retrieve a specific SKU from opensearch\n",
    "#!python utilities/build_ltr.py --lookup_product 1980124"
   ]
  },
  {
   "cell_type": "markdown",
   "id": "6f561cf8-c09c-47a1-a8c7-1edb860d7612",
   "metadata": {},
   "source": [
    "## Exploration"
   ]
  },
  {
   "cell_type": "code",
   "execution_count": 4,
   "id": "9f923acd-7c60-478c-9065-e8fb5c3a0198",
   "metadata": {},
   "outputs": [],
   "source": [
    "import pandas as pd\n",
    "\n",
    "df = pd.read_csv('/workspace/datasets/train.csv', parse_dates=['query_time', 'click_time'])"
   ]
  },
  {
   "cell_type": "code",
   "execution_count": 5,
   "id": "958fd57e-b7f7-4c22-89e7-260db746d8c0",
   "metadata": {},
   "outputs": [
    {
     "data": {
      "text/html": [
       "<div>\n",
       "<style scoped>\n",
       "    .dataframe tbody tr th:only-of-type {\n",
       "        vertical-align: middle;\n",
       "    }\n",
       "\n",
       "    .dataframe tbody tr th {\n",
       "        vertical-align: top;\n",
       "    }\n",
       "\n",
       "    .dataframe thead th {\n",
       "        text-align: right;\n",
       "    }\n",
       "</style>\n",
       "<table border=\"1\" class=\"dataframe\">\n",
       "  <thead>\n",
       "    <tr style=\"text-align: right;\">\n",
       "      <th></th>\n",
       "      <th>user</th>\n",
       "      <th>sku</th>\n",
       "      <th>category</th>\n",
       "      <th>query</th>\n",
       "      <th>click_time</th>\n",
       "      <th>query_time</th>\n",
       "    </tr>\n",
       "  </thead>\n",
       "  <tbody>\n",
       "    <tr>\n",
       "      <th>0</th>\n",
       "      <td>000000df17cd56a5df4a94074e133c9d4739fae3</td>\n",
       "      <td>2125233</td>\n",
       "      <td>abcat0101001</td>\n",
       "      <td>Televisiones Panasonic  50 pulgadas</td>\n",
       "      <td>2011-09-01 23:44:52.533</td>\n",
       "      <td>2011-09-01 23:43:59.752</td>\n",
       "    </tr>\n",
       "    <tr>\n",
       "      <th>1</th>\n",
       "      <td>000001928162247ffaf63185cd8b2a244c78e7c6</td>\n",
       "      <td>2009324</td>\n",
       "      <td>abcat0101001</td>\n",
       "      <td>Sharp</td>\n",
       "      <td>2011-09-05 12:25:37.420</td>\n",
       "      <td>2011-09-05 12:25:01.187</td>\n",
       "    </tr>\n",
       "    <tr>\n",
       "      <th>2</th>\n",
       "      <td>000017f79c2b5da56721f22f9fdd726b13daf8e8</td>\n",
       "      <td>1517163</td>\n",
       "      <td>pcmcat193100050014</td>\n",
       "      <td>nook</td>\n",
       "      <td>2011-08-24 12:56:58.910</td>\n",
       "      <td>2011-08-24 12:55:13.012</td>\n",
       "    </tr>\n",
       "    <tr>\n",
       "      <th>3</th>\n",
       "      <td>000017f79c2b5da56721f22f9fdd726b13daf8e8</td>\n",
       "      <td>2877125</td>\n",
       "      <td>abcat0101001</td>\n",
       "      <td>rca</td>\n",
       "      <td>2011-10-25 07:18:14.722</td>\n",
       "      <td>2011-10-25 07:16:51.759</td>\n",
       "    </tr>\n",
       "    <tr>\n",
       "      <th>4</th>\n",
       "      <td>000017f79c2b5da56721f22f9fdd726b13daf8e8</td>\n",
       "      <td>2877134</td>\n",
       "      <td>abcat0101005</td>\n",
       "      <td>rca</td>\n",
       "      <td>2011-10-25 07:19:51.697</td>\n",
       "      <td>2011-10-25 07:16:51.759</td>\n",
       "    </tr>\n",
       "  </tbody>\n",
       "</table>\n",
       "</div>"
      ],
      "text/plain": [
       "                                       user      sku            category  \\\n",
       "0  000000df17cd56a5df4a94074e133c9d4739fae3  2125233        abcat0101001   \n",
       "1  000001928162247ffaf63185cd8b2a244c78e7c6  2009324        abcat0101001   \n",
       "2  000017f79c2b5da56721f22f9fdd726b13daf8e8  1517163  pcmcat193100050014   \n",
       "3  000017f79c2b5da56721f22f9fdd726b13daf8e8  2877125        abcat0101001   \n",
       "4  000017f79c2b5da56721f22f9fdd726b13daf8e8  2877134        abcat0101005   \n",
       "\n",
       "                                 query              click_time  \\\n",
       "0  Televisiones Panasonic  50 pulgadas 2011-09-01 23:44:52.533   \n",
       "1                                Sharp 2011-09-05 12:25:37.420   \n",
       "2                                 nook 2011-08-24 12:56:58.910   \n",
       "3                                  rca 2011-10-25 07:18:14.722   \n",
       "4                                  rca 2011-10-25 07:19:51.697   \n",
       "\n",
       "               query_time  \n",
       "0 2011-09-01 23:43:59.752  \n",
       "1 2011-09-05 12:25:01.187  \n",
       "2 2011-08-24 12:55:13.012  \n",
       "3 2011-10-25 07:16:51.759  \n",
       "4 2011-10-25 07:16:51.759  "
      ]
     },
     "execution_count": 5,
     "metadata": {},
     "output_type": "execute_result"
    }
   ],
   "source": [
    "df.head()"
   ]
  },
  {
   "cell_type": "code",
   "execution_count": 6,
   "id": "e06798ad-6f01-4452-bc57-c21b36fadbaf",
   "metadata": {},
   "outputs": [
    {
     "data": {
      "text/html": [
       "<div>\n",
       "<style scoped>\n",
       "    .dataframe tbody tr th:only-of-type {\n",
       "        vertical-align: middle;\n",
       "    }\n",
       "\n",
       "    .dataframe tbody tr th {\n",
       "        vertical-align: top;\n",
       "    }\n",
       "\n",
       "    .dataframe thead th {\n",
       "        text-align: right;\n",
       "    }\n",
       "</style>\n",
       "<table border=\"1\" class=\"dataframe\">\n",
       "  <thead>\n",
       "    <tr style=\"text-align: right;\">\n",
       "      <th></th>\n",
       "      <th>user</th>\n",
       "      <th>sku</th>\n",
       "      <th>category</th>\n",
       "      <th>query</th>\n",
       "      <th>click_time</th>\n",
       "      <th>query_time</th>\n",
       "    </tr>\n",
       "  </thead>\n",
       "  <tbody>\n",
       "    <tr>\n",
       "      <th>33221</th>\n",
       "      <td>04951ebb1a7e746818724a0f28b34ff9234fd530</td>\n",
       "      <td>1980124</td>\n",
       "      <td>pcmcat180400050000</td>\n",
       "      <td>canon rebel</td>\n",
       "      <td>2011-09-14 23:44:54.365</td>\n",
       "      <td>2011-09-14 23:44:28.785</td>\n",
       "    </tr>\n",
       "    <tr>\n",
       "      <th>33222</th>\n",
       "      <td>04951ebb1a7e746818724a0f28b34ff9234fd530</td>\n",
       "      <td>1987075</td>\n",
       "      <td>pcmcat180400050000</td>\n",
       "      <td>canon rebel</td>\n",
       "      <td>2011-09-14 23:48:05.669</td>\n",
       "      <td>2011-09-14 23:44:28.785</td>\n",
       "    </tr>\n",
       "    <tr>\n",
       "      <th>40451</th>\n",
       "      <td>059302a198e7f3885d20287a8c6c2dd732927837</td>\n",
       "      <td>1980124</td>\n",
       "      <td>pcmcat180400050000</td>\n",
       "      <td>canon rebel</td>\n",
       "      <td>2011-09-13 14:17:12.088</td>\n",
       "      <td>2011-09-13 14:14:40.820</td>\n",
       "    </tr>\n",
       "    <tr>\n",
       "      <th>42302</th>\n",
       "      <td>05d78e8ec5470b0c2aa5a25f492ad42e8ee99cbf</td>\n",
       "      <td>9778635</td>\n",
       "      <td>pcmcat180400050000</td>\n",
       "      <td>canon rebel</td>\n",
       "      <td>2011-09-03 12:23:38.027</td>\n",
       "      <td>2011-09-03 12:20:23.015</td>\n",
       "    </tr>\n",
       "    <tr>\n",
       "      <th>42303</th>\n",
       "      <td>05d78e8ec5470b0c2aa5a25f492ad42e8ee99cbf</td>\n",
       "      <td>2809771</td>\n",
       "      <td>pcmcat209000050008</td>\n",
       "      <td>canon rebel</td>\n",
       "      <td>2011-09-03 12:25:09.438</td>\n",
       "      <td>2011-09-03 12:20:23.015</td>\n",
       "    </tr>\n",
       "    <tr>\n",
       "      <th>...</th>\n",
       "      <td>...</td>\n",
       "      <td>...</td>\n",
       "      <td>...</td>\n",
       "      <td>...</td>\n",
       "      <td>...</td>\n",
       "      <td>...</td>\n",
       "    </tr>\n",
       "    <tr>\n",
       "      <th>1818557</th>\n",
       "      <td>f98fceb72864faa9b458c7fa978933484806fec4</td>\n",
       "      <td>9778635</td>\n",
       "      <td>pcmcat180400050000</td>\n",
       "      <td>canon rebel</td>\n",
       "      <td>2011-10-21 19:52:10.725</td>\n",
       "      <td>2011-10-21 19:52:02.767</td>\n",
       "    </tr>\n",
       "    <tr>\n",
       "      <th>1832425</th>\n",
       "      <td>fb78115c25c7e2736988d924244d7281c416a223</td>\n",
       "      <td>1987075</td>\n",
       "      <td>pcmcat180400050000</td>\n",
       "      <td>canon rebel</td>\n",
       "      <td>2011-10-30 19:17:10.433</td>\n",
       "      <td>2011-10-30 19:16:25.211</td>\n",
       "    </tr>\n",
       "    <tr>\n",
       "      <th>1841352</th>\n",
       "      <td>fcb559880e0ebbafb6df535dcac2aabf2fa944f4</td>\n",
       "      <td>1980124</td>\n",
       "      <td>pcmcat180400050000</td>\n",
       "      <td>canon rebel</td>\n",
       "      <td>2011-10-22 19:51:19.397</td>\n",
       "      <td>2011-10-22 19:46:52.303</td>\n",
       "    </tr>\n",
       "    <tr>\n",
       "      <th>1861777</th>\n",
       "      <td>ff86145c6fd70e3fbec7e9ebb815675b39a99154</td>\n",
       "      <td>1980124</td>\n",
       "      <td>pcmcat180400050000</td>\n",
       "      <td>canon rebel</td>\n",
       "      <td>2011-09-04 10:34:38.353</td>\n",
       "      <td>2011-09-04 10:33:51.452</td>\n",
       "    </tr>\n",
       "    <tr>\n",
       "      <th>1861778</th>\n",
       "      <td>ff86145c6fd70e3fbec7e9ebb815675b39a99154</td>\n",
       "      <td>8758114</td>\n",
       "      <td>pcmcat233000050008</td>\n",
       "      <td>canon rebel</td>\n",
       "      <td>2011-09-04 10:36:11.038</td>\n",
       "      <td>2011-09-04 10:33:51.452</td>\n",
       "    </tr>\n",
       "  </tbody>\n",
       "</table>\n",
       "<p>116 rows × 6 columns</p>\n",
       "</div>"
      ],
      "text/plain": [
       "                                             user      sku  \\\n",
       "33221    04951ebb1a7e746818724a0f28b34ff9234fd530  1980124   \n",
       "33222    04951ebb1a7e746818724a0f28b34ff9234fd530  1987075   \n",
       "40451    059302a198e7f3885d20287a8c6c2dd732927837  1980124   \n",
       "42302    05d78e8ec5470b0c2aa5a25f492ad42e8ee99cbf  9778635   \n",
       "42303    05d78e8ec5470b0c2aa5a25f492ad42e8ee99cbf  2809771   \n",
       "...                                           ...      ...   \n",
       "1818557  f98fceb72864faa9b458c7fa978933484806fec4  9778635   \n",
       "1832425  fb78115c25c7e2736988d924244d7281c416a223  1987075   \n",
       "1841352  fcb559880e0ebbafb6df535dcac2aabf2fa944f4  1980124   \n",
       "1861777  ff86145c6fd70e3fbec7e9ebb815675b39a99154  1980124   \n",
       "1861778  ff86145c6fd70e3fbec7e9ebb815675b39a99154  8758114   \n",
       "\n",
       "                   category        query              click_time  \\\n",
       "33221    pcmcat180400050000  canon rebel 2011-09-14 23:44:54.365   \n",
       "33222    pcmcat180400050000  canon rebel 2011-09-14 23:48:05.669   \n",
       "40451    pcmcat180400050000  canon rebel 2011-09-13 14:17:12.088   \n",
       "42302    pcmcat180400050000  canon rebel 2011-09-03 12:23:38.027   \n",
       "42303    pcmcat209000050008  canon rebel 2011-09-03 12:25:09.438   \n",
       "...                     ...          ...                     ...   \n",
       "1818557  pcmcat180400050000  canon rebel 2011-10-21 19:52:10.725   \n",
       "1832425  pcmcat180400050000  canon rebel 2011-10-30 19:17:10.433   \n",
       "1841352  pcmcat180400050000  canon rebel 2011-10-22 19:51:19.397   \n",
       "1861777  pcmcat180400050000  canon rebel 2011-09-04 10:34:38.353   \n",
       "1861778  pcmcat233000050008  canon rebel 2011-09-04 10:36:11.038   \n",
       "\n",
       "                     query_time  \n",
       "33221   2011-09-14 23:44:28.785  \n",
       "33222   2011-09-14 23:44:28.785  \n",
       "40451   2011-09-13 14:14:40.820  \n",
       "42302   2011-09-03 12:20:23.015  \n",
       "42303   2011-09-03 12:20:23.015  \n",
       "...                         ...  \n",
       "1818557 2011-10-21 19:52:02.767  \n",
       "1832425 2011-10-30 19:16:25.211  \n",
       "1841352 2011-10-22 19:46:52.303  \n",
       "1861777 2011-09-04 10:33:51.452  \n",
       "1861778 2011-09-04 10:33:51.452  \n",
       "\n",
       "[116 rows x 6 columns]"
      ]
     },
     "execution_count": 6,
     "metadata": {},
     "output_type": "execute_result"
    }
   ],
   "source": [
    "df[(df['query']== 'canon rebel')]"
   ]
  },
  {
   "cell_type": "code",
   "execution_count": 7,
   "id": "f9f3310b-2cab-43d5-92e7-d60ac11eec56",
   "metadata": {},
   "outputs": [
    {
     "data": {
      "text/plain": [
       "1865269"
      ]
     },
     "execution_count": 7,
     "metadata": {},
     "output_type": "execute_result"
    }
   ],
   "source": [
    "len(df)"
   ]
  },
  {
   "cell_type": "code",
   "execution_count": 8,
   "id": "92578244-6c2f-462d-b7cc-890d8cfda1ce",
   "metadata": {},
   "outputs": [
    {
     "data": {
      "text/plain": [
       "lcd tv                                     16522\n",
       "2622037 2127204 2127213 2121716 2138291     8531\n",
       "Hp touchpad                                 7390\n",
       "iPad                                        5803\n",
       "hp touchpad                                 5615\n",
       "                                           ...  \n",
       "Modus                                          1\n",
       "800 watt kickers                               1\n",
       "Epic otterbox                                  1\n",
       "converter compacitor                           1\n",
       "ttv                                            1\n",
       "Name: query, Length: 257860, dtype: int64"
      ]
     },
     "execution_count": 8,
     "metadata": {},
     "output_type": "execute_result"
    }
   ],
   "source": [
    "df['query'].value_counts()"
   ]
  },
  {
   "cell_type": "code",
   "execution_count": 9,
   "id": "10ef06b8-0e8e-4ffe-a36a-a3e36656a0c5",
   "metadata": {},
   "outputs": [
    {
     "data": {
      "text/plain": [
       "user          5036\n",
       "sku           5036\n",
       "category      5036\n",
       "query         5036\n",
       "click_time    5036\n",
       "query_time    5036\n",
       "dtype: int64"
      ]
     },
     "execution_count": 9,
     "metadata": {},
     "output_type": "execute_result"
    }
   ],
   "source": [
    "gb = df.groupby('query')\n",
    "gb.get_group('ipad').count() # 5036 clicks received by ipad query"
   ]
  },
  {
   "cell_type": "code",
   "execution_count": 10,
   "id": "3be0d374-3173-4e7a-ba38-8326db62fef4",
   "metadata": {},
   "outputs": [
    {
     "data": {
      "text/plain": [
       "user          116\n",
       "sku           116\n",
       "category      116\n",
       "query         116\n",
       "click_time    116\n",
       "query_time    116\n",
       "dtype: int64"
      ]
     },
     "execution_count": 10,
     "metadata": {},
     "output_type": "execute_result"
    }
   ],
   "source": [
    "gb.get_group('canon rebel').count()"
   ]
  },
  {
   "cell_type": "code",
   "execution_count": 11,
   "id": "d4930f56-fce7-426d-9bdb-a18a298ff522",
   "metadata": {},
   "outputs": [
    {
     "data": {
      "text/html": [
       "<div>\n",
       "<style scoped>\n",
       "    .dataframe tbody tr th:only-of-type {\n",
       "        vertical-align: middle;\n",
       "    }\n",
       "\n",
       "    .dataframe tbody tr th {\n",
       "        vertical-align: top;\n",
       "    }\n",
       "\n",
       "    .dataframe thead th {\n",
       "        text-align: right;\n",
       "    }\n",
       "</style>\n",
       "<table border=\"1\" class=\"dataframe\">\n",
       "  <thead>\n",
       "    <tr style=\"text-align: right;\">\n",
       "      <th></th>\n",
       "      <th>user</th>\n",
       "      <th>sku</th>\n",
       "      <th>category</th>\n",
       "      <th>query</th>\n",
       "      <th>click_time</th>\n",
       "      <th>query_time</th>\n",
       "    </tr>\n",
       "  </thead>\n",
       "  <tbody>\n",
       "    <tr>\n",
       "      <th>0</th>\n",
       "      <td>000000df17cd56a5df4a94074e133c9d4739fae3</td>\n",
       "      <td>2125233</td>\n",
       "      <td>abcat0101001</td>\n",
       "      <td>Televisiones Panasonic  50 pulgadas</td>\n",
       "      <td>2011-09-01 23:44:52.533</td>\n",
       "      <td>2011-09-01 23:43:59.752</td>\n",
       "    </tr>\n",
       "    <tr>\n",
       "      <th>1</th>\n",
       "      <td>000001928162247ffaf63185cd8b2a244c78e7c6</td>\n",
       "      <td>2009324</td>\n",
       "      <td>abcat0101001</td>\n",
       "      <td>Sharp</td>\n",
       "      <td>2011-09-05 12:25:37.420</td>\n",
       "      <td>2011-09-05 12:25:01.187</td>\n",
       "    </tr>\n",
       "    <tr>\n",
       "      <th>3</th>\n",
       "      <td>000017f79c2b5da56721f22f9fdd726b13daf8e8</td>\n",
       "      <td>2877125</td>\n",
       "      <td>abcat0101001</td>\n",
       "      <td>rca</td>\n",
       "      <td>2011-10-25 07:18:14.722</td>\n",
       "      <td>2011-10-25 07:16:51.759</td>\n",
       "    </tr>\n",
       "    <tr>\n",
       "      <th>19</th>\n",
       "      <td>0000c4e9d7075985d1020c456e7ce36f83f834eb</td>\n",
       "      <td>2126065</td>\n",
       "      <td>abcat0101001</td>\n",
       "      <td>Samsung 40</td>\n",
       "      <td>2011-09-28 17:27:11.184</td>\n",
       "      <td>2011-09-28 17:26:15.832</td>\n",
       "    </tr>\n",
       "    <tr>\n",
       "      <th>40</th>\n",
       "      <td>00017f7beeac02736c0ce7bf1e75f3010939b34e</td>\n",
       "      <td>1831054</td>\n",
       "      <td>abcat0101001</td>\n",
       "      <td>lcd tv</td>\n",
       "      <td>2011-09-28 07:26:32.153</td>\n",
       "      <td>2011-09-28 07:26:21.476</td>\n",
       "    </tr>\n",
       "    <tr>\n",
       "      <th>...</th>\n",
       "      <td>...</td>\n",
       "      <td>...</td>\n",
       "      <td>...</td>\n",
       "      <td>...</td>\n",
       "      <td>...</td>\n",
       "      <td>...</td>\n",
       "    </tr>\n",
       "    <tr>\n",
       "      <th>1865071</th>\n",
       "      <td>fff7afecf87f8043ce4b4fcbd8ed47d7ffd52679</td>\n",
       "      <td>2620821</td>\n",
       "      <td>abcat0101001</td>\n",
       "      <td>lcd tv</td>\n",
       "      <td>2011-10-16 11:13:30.233</td>\n",
       "      <td>2011-10-16 11:13:25.858</td>\n",
       "    </tr>\n",
       "    <tr>\n",
       "      <th>1865077</th>\n",
       "      <td>fff7edfacf2c376fa8ea4f637c33013d057ae70a</td>\n",
       "      <td>1854328</td>\n",
       "      <td>abcat0101001</td>\n",
       "      <td>goldeneye movie</td>\n",
       "      <td>2011-09-20 18:25:30.494</td>\n",
       "      <td>2011-09-20 18:25:16.548</td>\n",
       "    </tr>\n",
       "    <tr>\n",
       "      <th>1865119</th>\n",
       "      <td>fff97c95234212c39d6f04c9854fa94d94bc0cce</td>\n",
       "      <td>1854819</td>\n",
       "      <td>abcat0101001</td>\n",
       "      <td>2622037 2127204 2127213 2121716 2138291</td>\n",
       "      <td>2011-10-08 07:00:01.108</td>\n",
       "      <td>2011-10-08 06:56:16.829</td>\n",
       "    </tr>\n",
       "    <tr>\n",
       "      <th>1865190</th>\n",
       "      <td>fffc750c85c62fe732b8223d5872be6e0fc03593</td>\n",
       "      <td>2262074</td>\n",
       "      <td>abcat0101001</td>\n",
       "      <td>Pn51d8000</td>\n",
       "      <td>2011-10-24 18:15:10.270</td>\n",
       "      <td>2011-10-24 18:15:05.628</td>\n",
       "    </tr>\n",
       "    <tr>\n",
       "      <th>1865224</th>\n",
       "      <td>fffd4ebf04febc87ca4b34c730c78d7bf1bef564</td>\n",
       "      <td>2620821</td>\n",
       "      <td>abcat0101001</td>\n",
       "      <td>Infinity</td>\n",
       "      <td>2011-10-19 21:20:40.308</td>\n",
       "      <td>2011-10-19 21:20:15.504</td>\n",
       "    </tr>\n",
       "  </tbody>\n",
       "</table>\n",
       "<p>80213 rows × 6 columns</p>\n",
       "</div>"
      ],
      "text/plain": [
       "                                             user      sku      category  \\\n",
       "0        000000df17cd56a5df4a94074e133c9d4739fae3  2125233  abcat0101001   \n",
       "1        000001928162247ffaf63185cd8b2a244c78e7c6  2009324  abcat0101001   \n",
       "3        000017f79c2b5da56721f22f9fdd726b13daf8e8  2877125  abcat0101001   \n",
       "19       0000c4e9d7075985d1020c456e7ce36f83f834eb  2126065  abcat0101001   \n",
       "40       00017f7beeac02736c0ce7bf1e75f3010939b34e  1831054  abcat0101001   \n",
       "...                                           ...      ...           ...   \n",
       "1865071  fff7afecf87f8043ce4b4fcbd8ed47d7ffd52679  2620821  abcat0101001   \n",
       "1865077  fff7edfacf2c376fa8ea4f637c33013d057ae70a  1854328  abcat0101001   \n",
       "1865119  fff97c95234212c39d6f04c9854fa94d94bc0cce  1854819  abcat0101001   \n",
       "1865190  fffc750c85c62fe732b8223d5872be6e0fc03593  2262074  abcat0101001   \n",
       "1865224  fffd4ebf04febc87ca4b34c730c78d7bf1bef564  2620821  abcat0101001   \n",
       "\n",
       "                                           query              click_time  \\\n",
       "0            Televisiones Panasonic  50 pulgadas 2011-09-01 23:44:52.533   \n",
       "1                                          Sharp 2011-09-05 12:25:37.420   \n",
       "3                                            rca 2011-10-25 07:18:14.722   \n",
       "19                                    Samsung 40 2011-09-28 17:27:11.184   \n",
       "40                                        lcd tv 2011-09-28 07:26:32.153   \n",
       "...                                          ...                     ...   \n",
       "1865071                                   lcd tv 2011-10-16 11:13:30.233   \n",
       "1865077                          goldeneye movie 2011-09-20 18:25:30.494   \n",
       "1865119  2622037 2127204 2127213 2121716 2138291 2011-10-08 07:00:01.108   \n",
       "1865190                                Pn51d8000 2011-10-24 18:15:10.270   \n",
       "1865224                                 Infinity 2011-10-19 21:20:40.308   \n",
       "\n",
       "                     query_time  \n",
       "0       2011-09-01 23:43:59.752  \n",
       "1       2011-09-05 12:25:01.187  \n",
       "3       2011-10-25 07:16:51.759  \n",
       "19      2011-09-28 17:26:15.832  \n",
       "40      2011-09-28 07:26:21.476  \n",
       "...                         ...  \n",
       "1865071 2011-10-16 11:13:25.858  \n",
       "1865077 2011-09-20 18:25:16.548  \n",
       "1865119 2011-10-08 06:56:16.829  \n",
       "1865190 2011-10-24 18:15:05.628  \n",
       "1865224 2011-10-19 21:20:15.504  \n",
       "\n",
       "[80213 rows x 6 columns]"
      ]
     },
     "execution_count": 11,
     "metadata": {},
     "output_type": "execute_result"
    }
   ],
   "source": [
    "df[df.category == 'abcat0101001'] # Get all the queries from a given category"
   ]
  },
  {
   "cell_type": "code",
   "execution_count": 12,
   "id": "aa6eb891-ed14-40fc-aa75-4365caffed66",
   "metadata": {},
   "outputs": [
    {
     "data": {
      "text/html": [
       "<div>\n",
       "<style scoped>\n",
       "    .dataframe tbody tr th:only-of-type {\n",
       "        vertical-align: middle;\n",
       "    }\n",
       "\n",
       "    .dataframe tbody tr th {\n",
       "        vertical-align: top;\n",
       "    }\n",
       "\n",
       "    .dataframe thead th {\n",
       "        text-align: right;\n",
       "    }\n",
       "</style>\n",
       "<table border=\"1\" class=\"dataframe\">\n",
       "  <thead>\n",
       "    <tr style=\"text-align: right;\">\n",
       "      <th></th>\n",
       "      <th>user</th>\n",
       "      <th>sku</th>\n",
       "      <th>category</th>\n",
       "      <th>query</th>\n",
       "      <th>click_time</th>\n",
       "      <th>query_time</th>\n",
       "    </tr>\n",
       "  </thead>\n",
       "  <tbody>\n",
       "    <tr>\n",
       "      <th>179278</th>\n",
       "      <td>18bc15e4a79c0937f7382f313982c81fdd9fc6b8</td>\n",
       "      <td>2047614</td>\n",
       "      <td>abcat0101001</td>\n",
       "      <td>led tv</td>\n",
       "      <td>2011-10-15 17:47:45.522</td>\n",
       "      <td>2011-10-15 17:46:16.124</td>\n",
       "    </tr>\n",
       "    <tr>\n",
       "      <th>88258</th>\n",
       "      <td>0c22fa250a43ee4ef987b80e72ffce52de2eec48</td>\n",
       "      <td>2799036</td>\n",
       "      <td>pcmcat144700050004</td>\n",
       "      <td>Gaga</td>\n",
       "      <td>2011-09-28 07:50:35.578</td>\n",
       "      <td>2011-09-28 07:50:26.465</td>\n",
       "    </tr>\n",
       "    <tr>\n",
       "      <th>1591216</th>\n",
       "      <td>da6032865bcd5c1071b59df4fb4579eeb7c13c71</td>\n",
       "      <td>1083245</td>\n",
       "      <td>pcmcat209400050001</td>\n",
       "      <td>iPhone sprint</td>\n",
       "      <td>2011-10-26 00:29:03.362</td>\n",
       "      <td>2011-10-26 00:25:23.408</td>\n",
       "    </tr>\n",
       "    <tr>\n",
       "      <th>376560</th>\n",
       "      <td>33d2af53a667cfc0f99f9472f1b9a1b6459a8293</td>\n",
       "      <td>3590335</td>\n",
       "      <td>pcmcat247400050000</td>\n",
       "      <td>gateway</td>\n",
       "      <td>2011-10-21 09:20:11.791</td>\n",
       "      <td>2011-10-21 09:16:21.450</td>\n",
       "    </tr>\n",
       "    <tr>\n",
       "      <th>603048</th>\n",
       "      <td>52e9d4ca3c158f153145229e932c3fa87748a9c9</td>\n",
       "      <td>9755322</td>\n",
       "      <td>pcmcat247400050001</td>\n",
       "      <td>Apple</td>\n",
       "      <td>2011-09-15 01:42:06.956</td>\n",
       "      <td>2011-09-15 01:40:59.762</td>\n",
       "    </tr>\n",
       "    <tr>\n",
       "      <th>1842827</th>\n",
       "      <td>fcebae29eee00553aa3cadbed05bec4df8717798</td>\n",
       "      <td>3641471</td>\n",
       "      <td>pcmcat247400050000</td>\n",
       "      <td>Sony vio</td>\n",
       "      <td>2011-10-15 22:46:36.046</td>\n",
       "      <td>2011-10-15 22:45:16.121</td>\n",
       "    </tr>\n",
       "    <tr>\n",
       "      <th>438471</th>\n",
       "      <td>3c4e2a7312e09dadef3c361a0a2b1ab7c62d961e</td>\n",
       "      <td>2589083</td>\n",
       "      <td>abcat0513001</td>\n",
       "      <td>linksys wireless n PCI adapter</td>\n",
       "      <td>2011-09-12 11:37:38.149</td>\n",
       "      <td>2011-09-12 11:36:48.855</td>\n",
       "    </tr>\n",
       "    <tr>\n",
       "      <th>1094382</th>\n",
       "      <td>9641b17e056f6dbcfc623dd6402f227fdcda2a17</td>\n",
       "      <td>4173405</td>\n",
       "      <td>cat02661</td>\n",
       "      <td>shrek</td>\n",
       "      <td>2011-10-19 21:37:18.645</td>\n",
       "      <td>2011-10-19 21:36:36.184</td>\n",
       "    </tr>\n",
       "    <tr>\n",
       "      <th>369735</th>\n",
       "      <td>32e6e63400bfe32247595842f18812d82c5a506b</td>\n",
       "      <td>1290689</td>\n",
       "      <td>pcmcat171900050028</td>\n",
       "      <td>ifrogz</td>\n",
       "      <td>2011-10-21 22:46:52.792</td>\n",
       "      <td>2011-10-21 22:45:23.652</td>\n",
       "    </tr>\n",
       "    <tr>\n",
       "      <th>1021866</th>\n",
       "      <td>8c6750f3422ab8f4fe0d6d7dad7bd8b34d30b2f0</td>\n",
       "      <td>1552086</td>\n",
       "      <td>pcmcat167300050040</td>\n",
       "      <td>Sound bar</td>\n",
       "      <td>2011-10-03 16:41:23.181</td>\n",
       "      <td>2011-10-03 16:38:31.996</td>\n",
       "    </tr>\n",
       "  </tbody>\n",
       "</table>\n",
       "</div>"
      ],
      "text/plain": [
       "                                             user      sku  \\\n",
       "179278   18bc15e4a79c0937f7382f313982c81fdd9fc6b8  2047614   \n",
       "88258    0c22fa250a43ee4ef987b80e72ffce52de2eec48  2799036   \n",
       "1591216  da6032865bcd5c1071b59df4fb4579eeb7c13c71  1083245   \n",
       "376560   33d2af53a667cfc0f99f9472f1b9a1b6459a8293  3590335   \n",
       "603048   52e9d4ca3c158f153145229e932c3fa87748a9c9  9755322   \n",
       "1842827  fcebae29eee00553aa3cadbed05bec4df8717798  3641471   \n",
       "438471   3c4e2a7312e09dadef3c361a0a2b1ab7c62d961e  2589083   \n",
       "1094382  9641b17e056f6dbcfc623dd6402f227fdcda2a17  4173405   \n",
       "369735   32e6e63400bfe32247595842f18812d82c5a506b  1290689   \n",
       "1021866  8c6750f3422ab8f4fe0d6d7dad7bd8b34d30b2f0  1552086   \n",
       "\n",
       "                   category                           query  \\\n",
       "179278         abcat0101001                          led tv   \n",
       "88258    pcmcat144700050004                            Gaga   \n",
       "1591216  pcmcat209400050001                   iPhone sprint   \n",
       "376560   pcmcat247400050000                         gateway   \n",
       "603048   pcmcat247400050001                           Apple   \n",
       "1842827  pcmcat247400050000                        Sony vio   \n",
       "438471         abcat0513001  linksys wireless n PCI adapter   \n",
       "1094382            cat02661                           shrek   \n",
       "369735   pcmcat171900050028                          ifrogz   \n",
       "1021866  pcmcat167300050040                       Sound bar   \n",
       "\n",
       "                     click_time              query_time  \n",
       "179278  2011-10-15 17:47:45.522 2011-10-15 17:46:16.124  \n",
       "88258   2011-09-28 07:50:35.578 2011-09-28 07:50:26.465  \n",
       "1591216 2011-10-26 00:29:03.362 2011-10-26 00:25:23.408  \n",
       "376560  2011-10-21 09:20:11.791 2011-10-21 09:16:21.450  \n",
       "603048  2011-09-15 01:42:06.956 2011-09-15 01:40:59.762  \n",
       "1842827 2011-10-15 22:46:36.046 2011-10-15 22:45:16.121  \n",
       "438471  2011-09-12 11:37:38.149 2011-09-12 11:36:48.855  \n",
       "1094382 2011-10-19 21:37:18.645 2011-10-19 21:36:36.184  \n",
       "369735  2011-10-21 22:46:52.792 2011-10-21 22:45:23.652  \n",
       "1021866 2011-10-03 16:41:23.181 2011-10-03 16:38:31.996  "
      ]
     },
     "execution_count": 12,
     "metadata": {},
     "output_type": "execute_result"
    }
   ],
   "source": [
    "df.sample(n=10, random_state=42) # take a random subsample"
   ]
  },
  {
   "cell_type": "markdown",
   "id": "a5a6e69f-e431-443b-befa-e09d22d459e9",
   "metadata": {},
   "source": [
    "Copy over some SKU filtering data so we don’t use garbage values. This was run using `build_ltr –verify_products"
   ]
  },
  {
   "cell_type": "code",
   "execution_count": 13,
   "id": "51620656-e509-4110-b50d-115fb5f7fb46",
   "metadata": {},
   "outputs": [],
   "source": [
    "# Determine the number of clicks for this sku given a query (represented by the click group)"
   ]
  },
  {
   "cell_type": "code",
   "execution_count": 14,
   "id": "6353a0a9-a83d-4fad-9089-f0acea2c957e",
   "metadata": {},
   "outputs": [],
   "source": [
    "sdf = df.sample(100, random_state=42)"
   ]
  },
  {
   "cell_type": "code",
   "execution_count": 15,
   "id": "3e75f05a-cc0a-4422-a706-37786fb5b4c6",
   "metadata": {},
   "outputs": [],
   "source": [
    "# Looks through all SKUs in --all_clicks and reports the ones that aren't in the index.\n",
    "#!mkdir /workspace/ltr_output && cp ../data/validity.csv /workspace/ltr_output/"
   ]
  },
  {
   "cell_type": "markdown",
   "id": "60236e78-c525-465f-9e75-91ff5984be49",
   "metadata": {},
   "source": [
    "## LTR End to End"
   ]
  },
  {
   "cell_type": "markdown",
   "id": "16f5f6dc-e217-4a05-912c-ddbe4570cf2c",
   "metadata": {},
   "source": [
    "LTR end to end\n",
    "1. Creates an ltr store `python week2/utilities/build_ltr.py --create_ltr_store`. Create the new store at https://localhost:9200/_ltr/week2 response status: 200\n",
    "2. Uploads featureset` python week2/utilities/build_ltr.py -f week2/conf/ltr_featureset.json --upload_featureset`. Installing week2/conf/ltr_featureset.json featureset at https://localhost:9200/_ltr/week2/_featureset/bbuy_main_featureset\n",
    "3. Creating training and test data sets from impressions by splitting on dates `+ python week2/utilities/build_ltr.py --output_dir /workspace/ltr_output --split_input /workspace/datasets/train.csv --split_train_rows 1000000 --split_test_rows 1000000`. This creates train/test split from train.csv and send it /workspace/ltr_output. Also adds validity.csv that checks for document clicked in the index and emits a csv with sku, status(0|1)\n",
    "4. Creates impressions data `+ python week2/utilities/build_ltr.py --generate_impressions --output_dir /workspace/ltr_output --train_file /workspace/ltr_output/train.csv` --synthesize\n",
    "\n",
    "``` #\n",
    "    # Impressions are candidate queries with *simulated* ranks added to them as well as things like number of impressions\n",
    "    # and click counts.  Impressions are what we use to then generate training data.  In the real world, you wouldn't\n",
    "    # need to do this because you would be logging both clicked and unclicked events.\n",
    "    # TLDR: we are trying to build a dataset that approximates what Best Buy search looked like back when this data was captured.\n",
    "    # We have two approaches to impressions:\n",
    "    # 1) We synthesize/infer them from the existing clicks, essentially assuming there is a built in position bias in the logs that *roughly* approximates the actual ranking of Best Buy search\n",
    "    #    back when this data was captured.  Run using --generate_impressions and --synthesize\n",
    "    # 2) Taking --generate_num_rows, run a random sample of queries through our current search engine.  If we find docs that have clicks, mark them as relevant.  All else are non-relevant.\n",
    "    # Both approaches add rank, clicks and num_impressions onto the resulting data frame\n",
    "    # We also dump out a map of queries to query ids.  Query ids are used in our XGB model.\n",
    "    # Outputs to --output_dir using the --impressions_file argument, which defaults to impressions.csv\n",
    "```"
   ]
  },
  {
   "cell_type": "code",
   "execution_count": 16,
   "id": "062d308f-5c31-4823-94d8-aba82a4da791",
   "metadata": {},
   "outputs": [
    {
     "name": "stdout",
     "output_type": "stream",
     "text": [
      "features.csv\t query_to_query_ids.json  training.xgb\t    xgb-feat-map.txt\n",
      "impressions.csv  test.csv\t\t  training.xgb.csv\n",
      "meta.txt\t train.csv\t\t  validity.csv\n"
     ]
    }
   ],
   "source": [
    "!ls /workspace/ltr_output"
   ]
  },
  {
   "cell_type": "code",
   "execution_count": 17,
   "id": "c8cf7d00-b034-4245-aede-c44963065d8c",
   "metadata": {},
   "outputs": [],
   "source": [
    "df = pd.read_csv('/workspace/ltr_output/impressions.csv')"
   ]
  },
  {
   "cell_type": "code",
   "execution_count": 18,
   "id": "b200df5b-00f6-400b-b5c8-27040a2d2d9e",
   "metadata": {},
   "outputs": [
    {
     "data": {
      "text/html": [
       "<div>\n",
       "<style scoped>\n",
       "    .dataframe tbody tr th:only-of-type {\n",
       "        vertical-align: middle;\n",
       "    }\n",
       "\n",
       "    .dataframe tbody tr th {\n",
       "        vertical-align: top;\n",
       "    }\n",
       "\n",
       "    .dataframe thead th {\n",
       "        text-align: right;\n",
       "    }\n",
       "</style>\n",
       "<table border=\"1\" class=\"dataframe\">\n",
       "  <thead>\n",
       "    <tr style=\"text-align: right;\">\n",
       "      <th></th>\n",
       "      <th>query</th>\n",
       "      <th>sku</th>\n",
       "      <th>clicks</th>\n",
       "      <th>rank</th>\n",
       "      <th>num_impressions</th>\n",
       "      <th>doc_id</th>\n",
       "      <th>product_name</th>\n",
       "      <th>query_id</th>\n",
       "    </tr>\n",
       "  </thead>\n",
       "  <tbody>\n",
       "    <tr>\n",
       "      <th>2739</th>\n",
       "      <td>Nintendo ds</td>\n",
       "      <td>1824267</td>\n",
       "      <td>30</td>\n",
       "      <td>1.0</td>\n",
       "      <td>133</td>\n",
       "      <td>1824267</td>\n",
       "      <td>fake</td>\n",
       "      <td>1032</td>\n",
       "    </tr>\n",
       "    <tr>\n",
       "      <th>5032</th>\n",
       "      <td>canon 7d</td>\n",
       "      <td>9491935</td>\n",
       "      <td>35</td>\n",
       "      <td>1.0</td>\n",
       "      <td>65</td>\n",
       "      <td>9491935</td>\n",
       "      <td>fake</td>\n",
       "      <td>1852</td>\n",
       "    </tr>\n",
       "    <tr>\n",
       "      <th>6489</th>\n",
       "      <td>just dance</td>\n",
       "      <td>1550158</td>\n",
       "      <td>22</td>\n",
       "      <td>1.0</td>\n",
       "      <td>62</td>\n",
       "      <td>1550158</td>\n",
       "      <td>fake</td>\n",
       "      <td>2390</td>\n",
       "    </tr>\n",
       "    <tr>\n",
       "      <th>7816</th>\n",
       "      <td>sony bravia</td>\n",
       "      <td>2072076</td>\n",
       "      <td>11</td>\n",
       "      <td>4.0</td>\n",
       "      <td>134</td>\n",
       "      <td>2072076</td>\n",
       "      <td>fake</td>\n",
       "      <td>2895</td>\n",
       "    </tr>\n",
       "    <tr>\n",
       "      <th>4058</th>\n",
       "      <td>Tv</td>\n",
       "      <td>1854221</td>\n",
       "      <td>16</td>\n",
       "      <td>8.0</td>\n",
       "      <td>1091</td>\n",
       "      <td>1854221</td>\n",
       "      <td>fake</td>\n",
       "      <td>1524</td>\n",
       "    </tr>\n",
       "    <tr>\n",
       "      <th>1056</th>\n",
       "      <td>Detox</td>\n",
       "      <td>2074648</td>\n",
       "      <td>19</td>\n",
       "      <td>1.0</td>\n",
       "      <td>24</td>\n",
       "      <td>2074648</td>\n",
       "      <td>fake</td>\n",
       "      <td>403</td>\n",
       "    </tr>\n",
       "    <tr>\n",
       "      <th>8684</th>\n",
       "      <td>xbox console</td>\n",
       "      <td>2873059</td>\n",
       "      <td>22</td>\n",
       "      <td>2.0</td>\n",
       "      <td>120</td>\n",
       "      <td>2873059</td>\n",
       "      <td>fake</td>\n",
       "      <td>3197</td>\n",
       "    </tr>\n",
       "    <tr>\n",
       "      <th>5886</th>\n",
       "      <td>headphones</td>\n",
       "      <td>9492426</td>\n",
       "      <td>58</td>\n",
       "      <td>2.0</td>\n",
       "      <td>1102</td>\n",
       "      <td>9492426</td>\n",
       "      <td>fake</td>\n",
       "      <td>2201</td>\n",
       "    </tr>\n",
       "    <tr>\n",
       "      <th>3737</th>\n",
       "      <td>Subwoofer</td>\n",
       "      <td>8699704</td>\n",
       "      <td>19</td>\n",
       "      <td>3.0</td>\n",
       "      <td>435</td>\n",
       "      <td>8699704</td>\n",
       "      <td>fake</td>\n",
       "      <td>1403</td>\n",
       "    </tr>\n",
       "    <tr>\n",
       "      <th>3867</th>\n",
       "      <td>Thor</td>\n",
       "      <td>3103247</td>\n",
       "      <td>963</td>\n",
       "      <td>1.0</td>\n",
       "      <td>1769</td>\n",
       "      <td>3103247</td>\n",
       "      <td>fake</td>\n",
       "      <td>1453</td>\n",
       "    </tr>\n",
       "  </tbody>\n",
       "</table>\n",
       "</div>"
      ],
      "text/plain": [
       "             query      sku  clicks  rank  num_impressions   doc_id  \\\n",
       "2739   Nintendo ds  1824267      30   1.0              133  1824267   \n",
       "5032      canon 7d  9491935      35   1.0               65  9491935   \n",
       "6489    just dance  1550158      22   1.0               62  1550158   \n",
       "7816   sony bravia  2072076      11   4.0              134  2072076   \n",
       "4058            Tv  1854221      16   8.0             1091  1854221   \n",
       "1056         Detox  2074648      19   1.0               24  2074648   \n",
       "8684  xbox console  2873059      22   2.0              120  2873059   \n",
       "5886    headphones  9492426      58   2.0             1102  9492426   \n",
       "3737     Subwoofer  8699704      19   3.0              435  8699704   \n",
       "3867          Thor  3103247     963   1.0             1769  3103247   \n",
       "\n",
       "     product_name  query_id  \n",
       "2739         fake      1032  \n",
       "5032         fake      1852  \n",
       "6489         fake      2390  \n",
       "7816         fake      2895  \n",
       "4058         fake      1524  \n",
       "1056         fake       403  \n",
       "8684         fake      3197  \n",
       "5886         fake      2201  \n",
       "3737         fake      1403  \n",
       "3867         fake      1453  "
      ]
     },
     "execution_count": 18,
     "metadata": {},
     "output_type": "execute_result"
    }
   ],
   "source": [
    "df.sample(n=10)"
   ]
  },
  {
   "cell_type": "code",
   "execution_count": 19,
   "id": "bf670aff-ff1d-45c1-80b9-0bab7019df06",
   "metadata": {},
   "outputs": [],
   "source": [
    "x = gb.get_group('xbox headset')"
   ]
  },
  {
   "cell_type": "code",
   "execution_count": 20,
   "id": "885d8543-62c4-4923-a3ca-2413ec1bb9df",
   "metadata": {},
   "outputs": [
    {
     "data": {
      "text/html": [
       "<div>\n",
       "<style scoped>\n",
       "    .dataframe tbody tr th:only-of-type {\n",
       "        vertical-align: middle;\n",
       "    }\n",
       "\n",
       "    .dataframe tbody tr th {\n",
       "        vertical-align: top;\n",
       "    }\n",
       "\n",
       "    .dataframe thead th {\n",
       "        text-align: right;\n",
       "    }\n",
       "</style>\n",
       "<table border=\"1\" class=\"dataframe\">\n",
       "  <thead>\n",
       "    <tr style=\"text-align: right;\">\n",
       "      <th></th>\n",
       "      <th>user</th>\n",
       "      <th>sku</th>\n",
       "      <th>category</th>\n",
       "      <th>query</th>\n",
       "      <th>click_time</th>\n",
       "      <th>query_time</th>\n",
       "    </tr>\n",
       "  </thead>\n",
       "  <tbody>\n",
       "    <tr>\n",
       "      <th>34582</th>\n",
       "      <td>04c6fa4abebf00cbff2e6b3770f7d357aafe1fc2</td>\n",
       "      <td>3512108</td>\n",
       "      <td>pcmcat147700050012</td>\n",
       "      <td>xbox headset</td>\n",
       "      <td>2011-10-14 02:20:47.493</td>\n",
       "      <td>2011-10-14 02:20:11.746</td>\n",
       "    </tr>\n",
       "    <tr>\n",
       "      <th>46577</th>\n",
       "      <td>06681c697d75e4206b2ccb05a99a279cf18e9c8b</td>\n",
       "      <td>3674224</td>\n",
       "      <td>pcmcat247400050000</td>\n",
       "      <td>xbox headset</td>\n",
       "      <td>2011-10-24 21:05:19.706</td>\n",
       "      <td>2011-10-24 21:01:30.683</td>\n",
       "    </tr>\n",
       "    <tr>\n",
       "      <th>51357</th>\n",
       "      <td>070e6d5d2d3d91b560936f7b632d32afc3c76ea8</td>\n",
       "      <td>3354584</td>\n",
       "      <td>pcmcat147700050012</td>\n",
       "      <td>xbox headset</td>\n",
       "      <td>2011-09-29 05:21:31.839</td>\n",
       "      <td>2011-09-29 05:20:27.848</td>\n",
       "    </tr>\n",
       "    <tr>\n",
       "      <th>65765</th>\n",
       "      <td>090e143e371dc28740fd30d20d546ffbb493668b</td>\n",
       "      <td>1251178</td>\n",
       "      <td>pcmcat230800050019</td>\n",
       "      <td>xbox headset</td>\n",
       "      <td>2011-09-23 14:31:09.177</td>\n",
       "      <td>2011-09-23 14:29:39.577</td>\n",
       "    </tr>\n",
       "    <tr>\n",
       "      <th>86171</th>\n",
       "      <td>0bd7a0955463cdccec56e0550eb885345a2ebb50</td>\n",
       "      <td>7457566</td>\n",
       "      <td>pcmcat230800050019</td>\n",
       "      <td>xbox headset</td>\n",
       "      <td>2011-08-16 18:29:13.311</td>\n",
       "      <td>2011-08-16 18:28:14.451</td>\n",
       "    </tr>\n",
       "    <tr>\n",
       "      <th>...</th>\n",
       "      <td>...</td>\n",
       "      <td>...</td>\n",
       "      <td>...</td>\n",
       "      <td>...</td>\n",
       "      <td>...</td>\n",
       "      <td>...</td>\n",
       "    </tr>\n",
       "    <tr>\n",
       "      <th>1674864</th>\n",
       "      <td>e5c03392970eb0f765375ab87fb052f054659cce</td>\n",
       "      <td>3512108</td>\n",
       "      <td>pcmcat147700050012</td>\n",
       "      <td>xbox headset</td>\n",
       "      <td>2011-10-12 15:49:44.220</td>\n",
       "      <td>2011-10-12 15:48:32.507</td>\n",
       "    </tr>\n",
       "    <tr>\n",
       "      <th>1708699</th>\n",
       "      <td>ea5a7f1caa651dc497c9f17a387285d7cf670772</td>\n",
       "      <td>7457566</td>\n",
       "      <td>pcmcat230800050019</td>\n",
       "      <td>xbox headset</td>\n",
       "      <td>2011-09-20 10:27:51.407</td>\n",
       "      <td>2011-09-20 10:26:34.997</td>\n",
       "    </tr>\n",
       "    <tr>\n",
       "      <th>1714638</th>\n",
       "      <td>eb25f0523f6e2e503858acff00b933bfbe75067a</td>\n",
       "      <td>3302112</td>\n",
       "      <td>pcmcat147700050012</td>\n",
       "      <td>xbox headset</td>\n",
       "      <td>2011-10-25 17:56:01.678</td>\n",
       "      <td>2011-10-25 17:55:13.981</td>\n",
       "    </tr>\n",
       "    <tr>\n",
       "      <th>1714639</th>\n",
       "      <td>eb25f0523f6e2e503858acff00b933bfbe75067a</td>\n",
       "      <td>9466124</td>\n",
       "      <td>pcmcat230800050019</td>\n",
       "      <td>xbox headset</td>\n",
       "      <td>2011-10-25 17:56:37.749</td>\n",
       "      <td>2011-10-25 17:55:13.981</td>\n",
       "    </tr>\n",
       "    <tr>\n",
       "      <th>1753630</th>\n",
       "      <td>f0865cc86d53192f865e6ad2b69c943e772ed517</td>\n",
       "      <td>9824298</td>\n",
       "      <td>pcmcat230800050019</td>\n",
       "      <td>xbox headset</td>\n",
       "      <td>2011-08-17 21:56:55.039</td>\n",
       "      <td>2011-08-17 21:54:48.576</td>\n",
       "    </tr>\n",
       "  </tbody>\n",
       "</table>\n",
       "<p>95 rows × 6 columns</p>\n",
       "</div>"
      ],
      "text/plain": [
       "                                             user      sku  \\\n",
       "34582    04c6fa4abebf00cbff2e6b3770f7d357aafe1fc2  3512108   \n",
       "46577    06681c697d75e4206b2ccb05a99a279cf18e9c8b  3674224   \n",
       "51357    070e6d5d2d3d91b560936f7b632d32afc3c76ea8  3354584   \n",
       "65765    090e143e371dc28740fd30d20d546ffbb493668b  1251178   \n",
       "86171    0bd7a0955463cdccec56e0550eb885345a2ebb50  7457566   \n",
       "...                                           ...      ...   \n",
       "1674864  e5c03392970eb0f765375ab87fb052f054659cce  3512108   \n",
       "1708699  ea5a7f1caa651dc497c9f17a387285d7cf670772  7457566   \n",
       "1714638  eb25f0523f6e2e503858acff00b933bfbe75067a  3302112   \n",
       "1714639  eb25f0523f6e2e503858acff00b933bfbe75067a  9466124   \n",
       "1753630  f0865cc86d53192f865e6ad2b69c943e772ed517  9824298   \n",
       "\n",
       "                   category         query              click_time  \\\n",
       "34582    pcmcat147700050012  xbox headset 2011-10-14 02:20:47.493   \n",
       "46577    pcmcat247400050000  xbox headset 2011-10-24 21:05:19.706   \n",
       "51357    pcmcat147700050012  xbox headset 2011-09-29 05:21:31.839   \n",
       "65765    pcmcat230800050019  xbox headset 2011-09-23 14:31:09.177   \n",
       "86171    pcmcat230800050019  xbox headset 2011-08-16 18:29:13.311   \n",
       "...                     ...           ...                     ...   \n",
       "1674864  pcmcat147700050012  xbox headset 2011-10-12 15:49:44.220   \n",
       "1708699  pcmcat230800050019  xbox headset 2011-09-20 10:27:51.407   \n",
       "1714638  pcmcat147700050012  xbox headset 2011-10-25 17:56:01.678   \n",
       "1714639  pcmcat230800050019  xbox headset 2011-10-25 17:56:37.749   \n",
       "1753630  pcmcat230800050019  xbox headset 2011-08-17 21:56:55.039   \n",
       "\n",
       "                     query_time  \n",
       "34582   2011-10-14 02:20:11.746  \n",
       "46577   2011-10-24 21:01:30.683  \n",
       "51357   2011-09-29 05:20:27.848  \n",
       "65765   2011-09-23 14:29:39.577  \n",
       "86171   2011-08-16 18:28:14.451  \n",
       "...                         ...  \n",
       "1674864 2011-10-12 15:48:32.507  \n",
       "1708699 2011-09-20 10:26:34.997  \n",
       "1714638 2011-10-25 17:55:13.981  \n",
       "1714639 2011-10-25 17:55:13.981  \n",
       "1753630 2011-08-17 21:54:48.576  \n",
       "\n",
       "[95 rows x 6 columns]"
      ]
     },
     "execution_count": 20,
     "metadata": {},
     "output_type": "execute_result"
    }
   ],
   "source": [
    "x"
   ]
  },
  {
   "cell_type": "markdown",
   "id": "163e67e5-6bc9-422a-bc33-b365a54289f8",
   "metadata": {},
   "source": [
    "### SLTR query for logging features"
   ]
  },
  {
   "cell_type": "markdown",
   "id": "3d69e109-c447-494a-b72f-3df5fae812eb",
   "metadata": {},
   "source": [
    "```\n",
    "GET /bbuy_products/_search\n",
    "{\n",
    "  \"query\": {\n",
    "    \"bool\": {\n",
    "      \"filter\": [\n",
    "        {\n",
    "          \"terms\": {\n",
    "            \"_id\": [\n",
    "              \"7457566\",\n",
    "              \"9824298\"\n",
    "            ]\n",
    "          }\n",
    "        },\n",
    "        {\n",
    "          \"sltr\": {\n",
    "            \"_name\": \"logged_featureset\",\n",
    "            \"featureset\": \"bbuy_main_featureset\",\n",
    "            \"store\": \"week2\",\n",
    "            \"params\": {\n",
    "              \"keywords\": \"xbox headset\"\n",
    "            }\n",
    "          }\n",
    "        }\n",
    "      ]\n",
    "    }\n",
    "  },\n",
    "  \"ext\": {\n",
    "    \"ltr_log\": {\n",
    "      \"log_specs\": {\n",
    "        \"name\": \"log_entry\",\n",
    "        \"named_query\": \"logged_featureset\"\n",
    "      }\n",
    "    }\n",
    "  }\n",
    "}\n",
    "```"
   ]
  },
  {
   "cell_type": "code",
   "execution_count": 21,
   "id": "183ed4d5-490f-40d9-970e-d37cdf1491f4",
   "metadata": {},
   "outputs": [],
   "source": [
    "import ltr_utils as lu\n",
    "import data_prepper as dp"
   ]
  },
  {
   "cell_type": "code",
   "execution_count": 22,
   "id": "5039e803-7ba0-4b91-820d-c7328bfc1344",
   "metadata": {},
   "outputs": [],
   "source": [
    "gb = df.groupby(\"query\")"
   ]
  },
  {
   "cell_type": "code",
   "execution_count": 23,
   "id": "1f839fe5-7c36-4a05-8cd6-bd6dd0af1d0b",
   "metadata": {},
   "outputs": [],
   "source": [
    "keys = [k for k in gb.groups.keys()]"
   ]
  },
  {
   "cell_type": "code",
   "execution_count": 24,
   "id": "222da72d-a604-4475-9728-616e94f5ac02",
   "metadata": {},
   "outputs": [],
   "source": [
    "g = gb.get_group('xbox headset')"
   ]
  },
  {
   "cell_type": "code",
   "execution_count": 25,
   "id": "f5d3a47c-6892-452c-971a-f2ef89ed626a",
   "metadata": {},
   "outputs": [
    {
     "data": {
      "text/html": [
       "<div>\n",
       "<style scoped>\n",
       "    .dataframe tbody tr th:only-of-type {\n",
       "        vertical-align: middle;\n",
       "    }\n",
       "\n",
       "    .dataframe tbody tr th {\n",
       "        vertical-align: top;\n",
       "    }\n",
       "\n",
       "    .dataframe thead th {\n",
       "        text-align: right;\n",
       "    }\n",
       "</style>\n",
       "<table border=\"1\" class=\"dataframe\">\n",
       "  <thead>\n",
       "    <tr style=\"text-align: right;\">\n",
       "      <th></th>\n",
       "      <th>query</th>\n",
       "      <th>sku</th>\n",
       "      <th>clicks</th>\n",
       "      <th>rank</th>\n",
       "      <th>num_impressions</th>\n",
       "      <th>doc_id</th>\n",
       "      <th>product_name</th>\n",
       "      <th>query_id</th>\n",
       "    </tr>\n",
       "  </thead>\n",
       "  <tbody>\n",
       "    <tr>\n",
       "      <th>8689</th>\n",
       "      <td>xbox headset</td>\n",
       "      <td>7457566</td>\n",
       "      <td>15</td>\n",
       "      <td>1.0</td>\n",
       "      <td>53</td>\n",
       "      <td>7457566</td>\n",
       "      <td>fake</td>\n",
       "      <td>3201</td>\n",
       "    </tr>\n",
       "    <tr>\n",
       "      <th>8690</th>\n",
       "      <td>xbox headset</td>\n",
       "      <td>9824298</td>\n",
       "      <td>10</td>\n",
       "      <td>2.0</td>\n",
       "      <td>53</td>\n",
       "      <td>9824298</td>\n",
       "      <td>fake</td>\n",
       "      <td>3201</td>\n",
       "    </tr>\n",
       "  </tbody>\n",
       "</table>\n",
       "</div>"
      ],
      "text/plain": [
       "             query      sku  clicks  rank  num_impressions   doc_id  \\\n",
       "8689  xbox headset  7457566      15   1.0               53  7457566   \n",
       "8690  xbox headset  9824298      10   2.0               53  9824298   \n",
       "\n",
       "     product_name  query_id  \n",
       "8689         fake      3201  \n",
       "8690         fake      3201  "
      ]
     },
     "execution_count": 25,
     "metadata": {},
     "output_type": "execute_result"
    }
   ],
   "source": [
    "g"
   ]
  },
  {
   "cell_type": "code",
   "execution_count": 26,
   "id": "70898618-bf20-44a3-967c-4d875945602d",
   "metadata": {},
   "outputs": [
    {
     "data": {
      "text/plain": [
       "array([7457566, 9824298])"
      ]
     },
     "execution_count": 26,
     "metadata": {},
     "output_type": "execute_result"
    }
   ],
   "source": [
    "g.doc_id.values"
   ]
  },
  {
   "cell_type": "code",
   "execution_count": 27,
   "id": "bb8091dc-cb4d-4990-bb91-06b59ac05e5f",
   "metadata": {},
   "outputs": [
    {
     "data": {
      "text/plain": [
       "8689    3201\n",
       "Name: query_id, dtype: int64"
      ]
     },
     "execution_count": 27,
     "metadata": {},
     "output_type": "execute_result"
    }
   ],
   "source": [
    "g[:1]['query_id']"
   ]
  },
  {
   "cell_type": "code",
   "execution_count": 28,
   "id": "2a309a70-fe02-4579-bb60-929e5a462019",
   "metadata": {},
   "outputs": [
    {
     "data": {
      "text/plain": [
       "array([7457566, 9824298])"
      ]
     },
     "execution_count": 28,
     "metadata": {},
     "output_type": "execute_result"
    }
   ],
   "source": [
    "g.doc_id.values"
   ]
  },
  {
   "cell_type": "code",
   "execution_count": 29,
   "id": "c3bdab2a-c4b3-4ee2-99e3-5d4e811bf528",
   "metadata": {},
   "outputs": [],
   "source": [
    "import query_utils as qu\n",
    "click_prior_query = qu.create_prior_queries_from_group(g)"
   ]
  },
  {
   "cell_type": "code",
   "execution_count": 30,
   "id": "d50f8813-9b6c-4518-9922-67f458d3f394",
   "metadata": {},
   "outputs": [
    {
     "data": {
      "text/plain": [
       "'7457566^15.000  9824298^10.000  '"
      ]
     },
     "execution_count": 30,
     "metadata": {},
     "output_type": "execute_result"
    }
   ],
   "source": [
    "click_prior_query"
   ]
  },
  {
   "cell_type": "code",
   "execution_count": null,
   "id": "79f9067d-9166-468b-a59e-cf6f2d3bf67e",
   "metadata": {},
   "outputs": [],
   "source": []
  },
  {
   "cell_type": "code",
   "execution_count": 31,
   "id": "c8b794d0-394b-421c-ab31-3c20fb70d564",
   "metadata": {
    "jupyter": {
     "source_hidden": true
    },
    "tags": []
   },
   "outputs": [],
   "source": [
    "def create_feature_log_query(query, doc_ids, click_prior_query, featureset_name, ltr_store_name, size=200, terms_field=\"_id\"):\n",
    "    feature_log_query = {\"size\": size,\n",
    "      \"query\": {\n",
    "        \"bool\": {\n",
    "          \"filter\": [\n",
    "            {\n",
    "              \"terms\": {\n",
    "                terms_field: doc_ids\n",
    "              }\n",
    "            },\n",
    "            {\n",
    "              \"sltr\": {\n",
    "                \"_name\": \"logged_featureset\",\n",
    "                \"featureset\": featureset_name,\n",
    "                \"store\": ltr_store_name,\n",
    "                \"params\": {\n",
    "                  \"keywords\": query\n",
    "                }\n",
    "              }\n",
    "            }\n",
    "          ]\n",
    "        }\n",
    "      },\n",
    "      \"ext\": {\n",
    "        \"ltr_log\": {\n",
    "          \"log_specs\": {\n",
    "            \"name\": \"log_entry\",\n",
    "            \"named_query\": \"logged_featureset\"\n",
    "          }\n",
    "        }\n",
    "      }\n",
    "    }\n",
    "\n",
    "    return feature_log_query"
   ]
  },
  {
   "cell_type": "code",
   "execution_count": 32,
   "id": "48902035-ff8f-480c-aebe-c3ccb6fa629e",
   "metadata": {},
   "outputs": [],
   "source": [
    "from pprint import pprint"
   ]
  },
  {
   "cell_type": "code",
   "execution_count": 33,
   "id": "75a6efd6-0101-4221-bd53-5804069682bd",
   "metadata": {},
   "outputs": [
    {
     "name": "stdout",
     "output_type": "stream",
     "text": [
      "{'ext': {'ltr_log': {'log_specs': {'name': 'log_entry',\n",
      "                                   'named_query': 'logged_featureset'}}},\n",
      " 'query': {'bool': {'filter': [{'terms': {'_id': ['7457566', '9824298']}},\n",
      "                               {'sltr': {'_name': 'logged_featureset',\n",
      "                                         'featureset': 'bbuy_main_featureset',\n",
      "                                         'params': {'keywords': 'xbox headset'},\n",
      "                                         'store': 'week2'}}]}},\n",
      " 'size': 200}\n"
     ]
    }
   ],
   "source": [
    "pprint(create_feature_log_query('xbox headset', ['7457566', '9824298'], None, 'bbuy_main_featureset', 'week2'))"
   ]
  },
  {
   "cell_type": "code",
   "execution_count": 34,
   "id": "95a090d3-9454-4498-9935-2a57a7f06a62",
   "metadata": {},
   "outputs": [],
   "source": [
    "sltr=create_feature_log_query('xbox headset', ['7457566', '9824298'], None, 'bbuy_main_featureset', 'week2')"
   ]
  },
  {
   "cell_type": "code",
   "execution_count": 35,
   "id": "0c875fad-0406-403b-9fb5-a95e712d617c",
   "metadata": {},
   "outputs": [],
   "source": [
    "index_name='bbuy_products'"
   ]
  },
  {
   "cell_type": "markdown",
   "id": "b188411e-20b5-4dee-bde2-9c9e918f1fe4",
   "metadata": {},
   "source": [
    "### Extract features out of the SLTR Query"
   ]
  },
  {
   "cell_type": "markdown",
   "id": "ffefe75d-7a1f-4b47-9333-628732e6d3e7",
   "metadata": {},
   "source": [
    "From the json, extract and load the features as list(dict)."
   ]
  },
  {
   "cell_type": "code",
   "execution_count": 36,
   "id": "617af416-d02b-41e9-9e7b-c43e8a5c28f3",
   "metadata": {
    "jupyter": {
     "source_hidden": true
    },
    "tags": []
   },
   "outputs": [],
   "source": [
    "from opensearchpy import OpenSearch\n",
    "\n",
    "# Create an OpenSearch client instance and put it into Flask shared space for use by the application\n",
    "def get_opensearch():\n",
    "    if 'opensearch' not in g:\n",
    "        # Load from config?\n",
    "        host = 'localhost'\n",
    "        port = 9200\n",
    "        auth = ('admin', 'admin')  # For testing only. Don't store credentials in code.\n",
    "\n",
    "        g.opensearch = OpenSearch(\n",
    "            hosts=[{'host': host, 'port': port}],\n",
    "            http_compress=True,  # enables gzip compression for request bodies\n",
    "            http_auth=auth,\n",
    "            # client_cert = client_cert_path,\n",
    "            # client_key = client_key_path,\n",
    "            use_ssl=True,\n",
    "            verify_certs=False, # set to true if you have certs\n",
    "            ssl_assert_hostname=False,\n",
    "            ssl_show_warn=False,\n",
    "\n",
    "        )\n",
    "\n",
    "    return g.opensearch"
   ]
  },
  {
   "cell_type": "code",
   "execution_count": 37,
   "id": "094e4505-76b7-4358-b398-51c72ae371a9",
   "metadata": {},
   "outputs": [],
   "source": [
    "cli=get_opensearch()"
   ]
  },
  {
   "cell_type": "code",
   "execution_count": 104,
   "id": "736c5e88-2142-4782-b6c8-c212881b35f7",
   "metadata": {},
   "outputs": [],
   "source": [
    "resp=cli.search(sltr, index_name)"
   ]
  },
  {
   "cell_type": "code",
   "execution_count": 154,
   "id": "14103cdc-2feb-4999-a95a-1d36db70b3ea",
   "metadata": {},
   "outputs": [
    {
     "data": {
      "text/plain": [
       "('7457566', '7457566')"
      ]
     },
     "execution_count": 154,
     "metadata": {},
     "output_type": "execute_result"
    }
   ],
   "source": [
    "hits=resp['hits']['hits'];hits[0]['_source']['sku'][0], hits[0]['_id']"
   ]
  },
  {
   "cell_type": "code",
   "execution_count": 148,
   "id": "3f52bb2a-c89f-48c0-9245-f6e514523f81",
   "metadata": {},
   "outputs": [
    {
     "name": "stdout",
     "output_type": "stream",
     "text": [
      "[{'name': 'name_match', 'value': 14.781552}, {'name': 'name_phrase_match'}, {'name': 'name_hyphens_min_df', 'value': 771.0}, {'name': 'salePrice', 'value': 19.99}, {'name': 'regularPrice', 'value': 19.99}]\n",
      "[{'name': 'name_match', 'value': 9.714259}, {'name': 'name_phrase_match'}, {'name': 'name_hyphens_min_df', 'value': 771.0}, {'name': 'salePrice', 'value': 49.99}, {'name': 'regularPrice', 'value': 49.99}]\n"
     ]
    }
   ],
   "source": [
    "features_list = []\n",
    "for hit in resp['hits']['hits']:\n",
    "    entry = hit['fields']['_ltrlog'][0]['log_entry']\n",
    "    print(entry)\n",
    "    d = {item['name']: item.get('value', None) for item in entry}\n",
    "    features_list.append(d)"
   ]
  },
  {
   "cell_type": "code",
   "execution_count": 144,
   "id": "ee29480d-7cd9-45d5-b457-672dcc744101",
   "metadata": {},
   "outputs": [
    {
     "data": {
      "text/plain": [
       "[{'name_match': 14.781552,\n",
       "  'name_phrase_match': None,\n",
       "  'name_hyphens_min_df': 771.0,\n",
       "  'salePrice': 19.99,\n",
       "  'regularPrice': 19.99},\n",
       " {'name_match': 9.714259,\n",
       "  'name_phrase_match': None,\n",
       "  'name_hyphens_min_df': 771.0,\n",
       "  'salePrice': 49.99,\n",
       "  'regularPrice': 49.99}]"
      ]
     },
     "execution_count": 144,
     "metadata": {},
     "output_type": "execute_result"
    }
   ],
   "source": [
    "features_list"
   ]
  },
  {
   "cell_type": "code",
   "execution_count": 146,
   "id": "b876f64c-5759-46a5-97aa-b96d7f91d8d4",
   "metadata": {},
   "outputs": [],
   "source": [
    "df = pd.DataFrame.from_records(features_list)"
   ]
  },
  {
   "cell_type": "code",
   "execution_count": 147,
   "id": "c09b9796-cddc-4e1f-abfd-69655eddbda7",
   "metadata": {},
   "outputs": [
    {
     "data": {
      "text/html": [
       "<div>\n",
       "<style scoped>\n",
       "    .dataframe tbody tr th:only-of-type {\n",
       "        vertical-align: middle;\n",
       "    }\n",
       "\n",
       "    .dataframe tbody tr th {\n",
       "        vertical-align: top;\n",
       "    }\n",
       "\n",
       "    .dataframe thead th {\n",
       "        text-align: right;\n",
       "    }\n",
       "</style>\n",
       "<table border=\"1\" class=\"dataframe\">\n",
       "  <thead>\n",
       "    <tr style=\"text-align: right;\">\n",
       "      <th></th>\n",
       "      <th>name_match</th>\n",
       "      <th>name_phrase_match</th>\n",
       "      <th>name_hyphens_min_df</th>\n",
       "      <th>salePrice</th>\n",
       "      <th>regularPrice</th>\n",
       "    </tr>\n",
       "  </thead>\n",
       "  <tbody>\n",
       "    <tr>\n",
       "      <th>0</th>\n",
       "      <td>14.781552</td>\n",
       "      <td>None</td>\n",
       "      <td>771.0</td>\n",
       "      <td>19.99</td>\n",
       "      <td>19.99</td>\n",
       "    </tr>\n",
       "    <tr>\n",
       "      <th>1</th>\n",
       "      <td>9.714259</td>\n",
       "      <td>None</td>\n",
       "      <td>771.0</td>\n",
       "      <td>49.99</td>\n",
       "      <td>49.99</td>\n",
       "    </tr>\n",
       "  </tbody>\n",
       "</table>\n",
       "</div>"
      ],
      "text/plain": [
       "   name_match name_phrase_match  name_hyphens_min_df  salePrice  regularPrice\n",
       "0   14.781552              None                771.0      19.99         19.99\n",
       "1    9.714259              None                771.0      49.99         49.99"
      ]
     },
     "execution_count": 147,
     "metadata": {},
     "output_type": "execute_result"
    }
   ],
   "source": [
    "df"
   ]
  },
  {
   "cell_type": "code",
   "execution_count": 124,
   "id": "2bb22f4e-95f5-40ae-9dfb-ba123fa962b6",
   "metadata": {},
   "outputs": [
    {
     "data": {
      "text/plain": [
       "[{'name': 'name_match', 'value': 14.781552},\n",
       " {'name': 'name_phrase_match'},\n",
       " {'name': 'name_hyphens_min_df', 'value': 771.0},\n",
       " {'name': 'salePrice', 'value': 19.99},\n",
       " {'name': 'regularPrice', 'value': 19.99}]"
      ]
     },
     "execution_count": 124,
     "metadata": {},
     "output_type": "execute_result"
    }
   ],
   "source": [
    "o = resp['hits']['hits'][0]['fields']['_ltrlog'][0]['log_entry'];o"
   ]
  },
  {
   "cell_type": "code",
   "execution_count": 130,
   "id": "6dd709eb-b13c-48fd-99e4-e6eaa21ad97b",
   "metadata": {},
   "outputs": [
    {
     "data": {
      "text/plain": [
       "[{'name': 'name_match', 'value': 9.714259},\n",
       " {'name': 'name_phrase_match'},\n",
       " {'name': 'name_hyphens_min_df', 'value': 771.0},\n",
       " {'name': 'salePrice', 'value': 49.99},\n",
       " {'name': 'regularPrice', 'value': 49.99}]"
      ]
     },
     "execution_count": 130,
     "metadata": {},
     "output_type": "execute_result"
    }
   ],
   "source": [
    "o1 = resp['hits']['hits'][1]['fields']['_ltrlog'][0]['log_entry'];o1"
   ]
  },
  {
   "cell_type": "code",
   "execution_count": 134,
   "id": "628bd2b4-cb10-438a-b182-ff00fef55684",
   "metadata": {},
   "outputs": [
    {
     "data": {
      "text/plain": [
       "{'name_match': [14.781552],\n",
       " 'name_phrase_match': [None],\n",
       " 'name_hyphens_min_df': [771.0],\n",
       " 'salePrice': [19.99],\n",
       " 'regularPrice': [19.99]}"
      ]
     },
     "execution_count": 134,
     "metadata": {},
     "output_type": "execute_result"
    }
   ],
   "source": [
    "d = {item['name']: [item.get('value', None)] for item in o }; d"
   ]
  },
  {
   "cell_type": "code",
   "execution_count": 136,
   "id": "7e42036e-e0ef-404e-9c4f-744fa7b91abb",
   "metadata": {},
   "outputs": [
    {
     "data": {
      "text/html": [
       "<div>\n",
       "<style scoped>\n",
       "    .dataframe tbody tr th:only-of-type {\n",
       "        vertical-align: middle;\n",
       "    }\n",
       "\n",
       "    .dataframe tbody tr th {\n",
       "        vertical-align: top;\n",
       "    }\n",
       "\n",
       "    .dataframe thead th {\n",
       "        text-align: right;\n",
       "    }\n",
       "</style>\n",
       "<table border=\"1\" class=\"dataframe\">\n",
       "  <thead>\n",
       "    <tr style=\"text-align: right;\">\n",
       "      <th></th>\n",
       "      <th>name_match</th>\n",
       "      <th>name_phrase_match</th>\n",
       "      <th>name_hyphens_min_df</th>\n",
       "      <th>salePrice</th>\n",
       "      <th>regularPrice</th>\n",
       "    </tr>\n",
       "  </thead>\n",
       "  <tbody>\n",
       "    <tr>\n",
       "      <th>0</th>\n",
       "      <td>14.781552</td>\n",
       "      <td>None</td>\n",
       "      <td>771.0</td>\n",
       "      <td>19.99</td>\n",
       "      <td>19.99</td>\n",
       "    </tr>\n",
       "  </tbody>\n",
       "</table>\n",
       "</div>"
      ],
      "text/plain": [
       "   name_match name_phrase_match  name_hyphens_min_df  salePrice  regularPrice\n",
       "0   14.781552              None                771.0      19.99         19.99"
      ]
     },
     "execution_count": 136,
     "metadata": {},
     "output_type": "execute_result"
    }
   ],
   "source": [
    "df = pd.DataFrame(d);df"
   ]
  },
  {
   "cell_type": "code",
   "execution_count": 116,
   "id": "74a93607-6478-4cf0-b47d-a17d7753ddfb",
   "metadata": {},
   "outputs": [],
   "source": [
    "from nbdev.showdoc import show_doc"
   ]
  },
  {
   "cell_type": "code",
   "execution_count": 84,
   "id": "0903ad39-7fb3-4f1c-add5-15ac6ffdc47a",
   "metadata": {},
   "outputs": [
    {
     "data": {
      "text/plain": [
       "(#2) [[- log_entry: \n",
       "  - \n",
       "    - name: name_match\n",
       "    - value: 14.781552\n",
       "  - \n",
       "    - name: name_phrase_match\n",
       "  - \n",
       "    - name: name_hyphens_min_df\n",
       "    - value: 771.0\n",
       "  - \n",
       "    - name: salePrice\n",
       "    - value: 19.99\n",
       "  - \n",
       "    - name: regularPrice\n",
       "    - value: 19.99],[- log_entry: \n",
       "  - \n",
       "    - name: name_match\n",
       "    - value: 9.714259\n",
       "  - \n",
       "    - name: name_phrase_match\n",
       "  - \n",
       "    - name: name_hyphens_min_df\n",
       "    - value: 771.0\n",
       "  - \n",
       "    - name: salePrice\n",
       "    - value: 49.99\n",
       "  - \n",
       "    - name: regularPrice\n",
       "    - value: 49.99]]"
      ]
     },
     "execution_count": 84,
     "metadata": {},
     "output_type": "execute_result"
    }
   ],
   "source": [
    "log_entries"
   ]
  },
  {
   "cell_type": "code",
   "execution_count": 81,
   "id": "3e2a5748-6d7b-4307-95c7-aae8f0d49a69",
   "metadata": {},
   "outputs": [
    {
     "data": {
      "text/plain": [
       "(#2) [[{'log_entry': [{'name': 'name_match', 'value': 14.781552}, {'name': 'name_phrase_match'}, {'name': 'name_hyphens_min_df', 'value': 771.0}, {'name': 'salePrice', 'value': 19.99}, {'name': 'regularPrice', 'value': 19.99}]}],[{'log_entry': [{'name': 'name_match', 'value': 9.714259}, {'name': 'name_phrase_match'}, {'name': 'name_hyphens_min_df', 'value': 771.0}, {'name': 'salePrice', 'value': 49.99}, {'name': 'regularPrice', 'value': 49.99}]}]]"
      ]
     },
     "execution_count": 81,
     "metadata": {},
     "output_type": "execute_result"
    }
   ],
   "source": [
    "feature_entry"
   ]
  },
  {
   "cell_type": "code",
   "execution_count": 39,
   "id": "825c83f3-018c-4b2e-9c2d-30c7597fb34d",
   "metadata": {},
   "outputs": [],
   "source": [
    "from fastcore.utils import dict2obj, obj2dict, AttrDict"
   ]
  },
  {
   "cell_type": "code",
   "execution_count": 40,
   "id": "adeadc6b-28bd-4053-ba2f-c1d476d948e7",
   "metadata": {},
   "outputs": [],
   "source": [
    "d = dict2obj(resp)"
   ]
  },
  {
   "cell_type": "code",
   "execution_count": 41,
   "id": "dbca262b-7620-4d9d-975b-6392b7bafd49",
   "metadata": {},
   "outputs": [],
   "source": [
    "o = d.hits.hits[0].fields._ltrlog[0].log_entry"
   ]
  },
  {
   "cell_type": "code",
   "execution_count": 42,
   "id": "7f89155f-b18d-4e6a-9805-8a4b0985d1a3",
   "metadata": {},
   "outputs": [
    {
     "data": {
      "text/plain": [
       "[{'name': 'name_match', 'value': 14.781552},\n",
       " {'name': 'name_phrase_match'},\n",
       " {'name': 'name_hyphens_min_df', 'value': 771.0},\n",
       " {'name': 'salePrice', 'value': 19.99},\n",
       " {'name': 'regularPrice', 'value': 19.99}]"
      ]
     },
     "execution_count": 42,
     "metadata": {},
     "output_type": "execute_result"
    }
   ],
   "source": [
    "obj2dict(o)"
   ]
  },
  {
   "cell_type": "code",
   "execution_count": 43,
   "id": "28e69364-9722-4ee2-a27d-b010130c5004",
   "metadata": {},
   "outputs": [],
   "source": [
    "import pandas as pd"
   ]
  },
  {
   "cell_type": "code",
   "execution_count": 44,
   "id": "4a9c13fc-cd7f-440c-8093-7de1135b3cfc",
   "metadata": {},
   "outputs": [
    {
     "data": {
      "text/html": [
       "<div>\n",
       "<style scoped>\n",
       "    .dataframe tbody tr th:only-of-type {\n",
       "        vertical-align: middle;\n",
       "    }\n",
       "\n",
       "    .dataframe tbody tr th {\n",
       "        vertical-align: top;\n",
       "    }\n",
       "\n",
       "    .dataframe thead th {\n",
       "        text-align: right;\n",
       "    }\n",
       "</style>\n",
       "<table border=\"1\" class=\"dataframe\">\n",
       "  <thead>\n",
       "    <tr style=\"text-align: right;\">\n",
       "      <th></th>\n",
       "    </tr>\n",
       "  </thead>\n",
       "  <tbody>\n",
       "  </tbody>\n",
       "</table>\n",
       "</div>"
      ],
      "text/plain": [
       "Empty DataFrame\n",
       "Columns: []\n",
       "Index: []"
      ]
     },
     "execution_count": 44,
     "metadata": {},
     "output_type": "execute_result"
    }
   ],
   "source": [
    "pd.DataFrame()"
   ]
  },
  {
   "cell_type": "code",
   "execution_count": 45,
   "id": "d46dc246-8357-4b24-abc8-99a32940eea6",
   "metadata": {},
   "outputs": [
    {
     "data": {
      "text/html": [
       "<div>\n",
       "<style scoped>\n",
       "    .dataframe tbody tr th:only-of-type {\n",
       "        vertical-align: middle;\n",
       "    }\n",
       "\n",
       "    .dataframe tbody tr th {\n",
       "        vertical-align: top;\n",
       "    }\n",
       "\n",
       "    .dataframe thead th {\n",
       "        text-align: right;\n",
       "    }\n",
       "</style>\n",
       "<table border=\"1\" class=\"dataframe\">\n",
       "  <thead>\n",
       "    <tr style=\"text-align: right;\">\n",
       "      <th></th>\n",
       "    </tr>\n",
       "  </thead>\n",
       "  <tbody>\n",
       "  </tbody>\n",
       "</table>\n",
       "</div>"
      ],
      "text/plain": [
       "Empty DataFrame\n",
       "Columns: []\n",
       "Index: []"
      ]
     },
     "execution_count": 45,
     "metadata": {},
     "output_type": "execute_result"
    }
   ],
   "source": [
    "pd.DataFrame()"
   ]
  },
  {
   "cell_type": "code",
   "execution_count": 46,
   "id": "a1fcabd2-6422-420f-9138-29c0356662ae",
   "metadata": {},
   "outputs": [
    {
     "ename": "AttributeError",
     "evalue": "'str' object has no attribute 'fields'",
     "output_type": "error",
     "traceback": [
      "\u001b[0;31m---------------------------------------------------------------------------\u001b[0m",
      "\u001b[0;31mAttributeError\u001b[0m                            Traceback (most recent call last)",
      "Input \u001b[0;32mIn [46]\u001b[0m, in \u001b[0;36m<module>\u001b[0;34m\u001b[0m\n\u001b[0;32m----> 1\u001b[0m entry \u001b[38;5;241m=\u001b[39m [hit\u001b[38;5;241m.\u001b[39mfields\u001b[38;5;241m.\u001b[39m_ltr_log\u001b[38;5;241m.\u001b[39mlog_entry \u001b[38;5;28;01mfor\u001b[39;00m hit \u001b[38;5;129;01min\u001b[39;00m d\u001b[38;5;241m.\u001b[39mhits]\n",
      "Input \u001b[0;32mIn [46]\u001b[0m, in \u001b[0;36m<listcomp>\u001b[0;34m(.0)\u001b[0m\n\u001b[0;32m----> 1\u001b[0m entry \u001b[38;5;241m=\u001b[39m [\u001b[43mhit\u001b[49m\u001b[38;5;241;43m.\u001b[39;49m\u001b[43mfields\u001b[49m\u001b[38;5;241m.\u001b[39m_ltr_log\u001b[38;5;241m.\u001b[39mlog_entry \u001b[38;5;28;01mfor\u001b[39;00m hit \u001b[38;5;129;01min\u001b[39;00m d\u001b[38;5;241m.\u001b[39mhits]\n",
      "\u001b[0;31mAttributeError\u001b[0m: 'str' object has no attribute 'fields'"
     ]
    }
   ],
   "source": [
    "entry = [hit.fields._ltr_log.log_entry for hit in d.hits]"
   ]
  },
  {
   "cell_type": "code",
   "execution_count": null,
   "id": "62289c60-9882-4661-9c8d-6845de667497",
   "metadata": {},
   "outputs": [],
   "source": []
  }
 ],
 "metadata": {
  "kernelspec": {
   "display_name": "Python 3 (ipykernel)",
   "language": "python",
   "name": "python3"
  },
  "language_info": {
   "codemirror_mode": {
    "name": "ipython",
    "version": 3
   },
   "file_extension": ".py",
   "mimetype": "text/x-python",
   "name": "python",
   "nbconvert_exporter": "python",
   "pygments_lexer": "ipython3",
   "version": "3.9.7"
  },
  "toc-autonumbering": false,
  "toc-showcode": false,
  "toc-showmarkdowntxt": false
 },
 "nbformat": 4,
 "nbformat_minor": 5
}
